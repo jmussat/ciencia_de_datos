{
  "nbformat": 4,
  "nbformat_minor": 0,
  "metadata": {
    "colab": {
      "provenance": [],
      "include_colab_link": true
    },
    "kernelspec": {
      "name": "python3",
      "display_name": "Python 3"
    },
    "language_info": {
      "name": "python"
    }
  },
  "cells": [
    {
      "cell_type": "markdown",
      "metadata": {
        "id": "view-in-github",
        "colab_type": "text"
      },
      "source": [
        "<a href=\"https://colab.research.google.com/github/mbalbi/ciencia_de_datos/blob/main/tps/trabajo_final.ipynb\" target=\"_parent\"><img src=\"https://colab.research.google.com/assets/colab-badge.svg\" alt=\"Open In Colab\"/></a>"
      ]
    },
    {
      "cell_type": "markdown",
      "source": [
        "#Trabajo Final: \"Ciencia de datos para Ingeniería Civil\"\n",
        "\n",
        "**Objetivos:** Este trabajo tiene como objetivo repasar e integrar los conceptos desarrollados a lo largo del curso de manera práctica. \n",
        "\n",
        "**Recomendaciones:** Para la elaboración del trabajo se puede utilizar el dataset seleccionado al principio del curso y/o uno nuevo, además del código elaborado para los propios trabajos anteriores y en las clases prácticas. \n",
        "\n",
        "No se espera de este trabajo final que los modelos desarrollados sean de aplicación real ni que al evaluarlos resulten de excelencia, sino que se espera un análisis crítico que demuestre lo aprendido en el curso. \n",
        "\n",
        "**Aclaraciones:** Vamos a estar disponibles en este tiempo para que realicen consultas respecto a lo que quieren hacer y ayudarlos a encararlo o acotar el trabajo para que puedan realizarlo en tiempo y forma.\n",
        "\n",
        "Mismo si tienen preguntas respecto a alguno de las implementaciones, conclusiones o aspectos específico de su dataset y objetivos no duden en escribirnos ya sea por mail o a través del campus."
      ],
      "metadata": {
        "id": "-WXtFwUXfZd1"
      }
    },
    {
      "cell_type": "markdown",
      "source": [
        "\n",
        "**Procedimiento:**\n",
        "\n",
        "- **Dataset:** Presentar el/los datasets a utilizar junto a una breve descripción y las variables que contiene. \n",
        "\n",
        "- **Análisis Exploratorio de Datos (EDA):** Profundizando en las variables a utilizar, caracterizarlas, realizar la limpieza que considere necesaria, etc. Graficar en caso de que facilite el entendimiento.\n",
        "\n",
        "- **Objetivos del modelo:** Presentar el objetivo del modelo que se desea desarrollar. Por ejemplo, si se trata de una regresión o clasificación. \n",
        "\n",
        "- **Modelos propuestos:** Presentar los distintos modelos para lograr el objetivo anterior. Estos pueden diferir por las variables utilizadas, las distribuciones propuestas y/o por el tipo de modelo. Por ejemplo, los modelos no condicionados (ver tp2), los lineales y los de proceso gaussanio.\n",
        "\n",
        "- **Selección:** Comparar y evaluar los modelos, explicando los criterios de evaluación. Seleccionar un modelo y justificar la selección. Si lo considera necesario, realizar gráficas.\n",
        "\n",
        "- **Análisis Post selección:** Dado el modelo seleccionado, realizar uno de los puntos siguientes o ambos: \n",
        "   - **Análisis de sensibilidad**. Una vez realizado un análisis de sensibilidad de los parámetros, en base a lo obtenido, ¿cambiaría el modelo? ¿Cuál sería el criterio?\n",
        "   - **Propagación de incertidumbre**. Analizar la propagación de incertidumbre si cuenta con los datos probabilísticos de entrada necesarios o los modelos para su problema, como puede ser un modelo de resistencia, riesgo, capacidad, seguridad, etc. \n",
        "  "
      ],
      "metadata": {
        "id": "82linKu7Uzay"
      }
    },
    {
      "cell_type": "markdown",
      "source": [
        "**Librerías:** para realizar este trabajo serán necesarias las siguientes librerías (Si requiere usar otras no incluidas aquí, no dude en importarlas).\n",
        "- Numpy: matemática básica y definición de matrices y vectores\n",
        "- Scipy.stats: repositorio de distribuciones de probabilidad y funciones de algebra\n",
        "- Pandas: manejo de datasets\n",
        "- Seaborn: visualización de datos\n",
        "- pymc: inferencia bayesiana\n",
        "- arviz:"
      ],
      "metadata": {
        "id": "S0ILXIhlBRnB"
      }
    },
    {
      "cell_type": "code",
      "source": [
        "import numpy as np\n",
        "import scipy.stats as st\n",
        "import pandas as pd\n",
        "import matplotlib.pyplot as plt\n",
        "import seaborn as sns\n",
        "import io\n",
        "# !pip install pymc\n",
        "import pymc as pm\n",
        "import arviz as az"
      ],
      "metadata": {
        "id": "VBe58PrKeQ_6"
      },
      "execution_count": null,
      "outputs": []
    },
    {
      "cell_type": "markdown",
      "source": [
        "## Dataset"
      ],
      "metadata": {
        "id": "Y-gesLYqdHcG"
      }
    },
    {
      "cell_type": "markdown",
      "source": [
        "## Análisis Exploratorio de Datos (EDA)"
      ],
      "metadata": {
        "id": "hMdePTFUUWBK"
      }
    },
    {
      "cell_type": "markdown",
      "source": [
        "## Objetivos del modelo"
      ],
      "metadata": {
        "id": "GWTtT3ECUWPd"
      }
    },
    {
      "cell_type": "markdown",
      "source": [
        "## Modelos propuestos"
      ],
      "metadata": {
        "id": "br48J263UWWv"
      }
    },
    {
      "cell_type": "markdown",
      "source": [
        "## Selección\n"
      ],
      "metadata": {
        "id": "xmxuRr5zUWds"
      }
    },
    {
      "cell_type": "markdown",
      "source": [
        "## Análisis Post selección\n"
      ],
      "metadata": {
        "id": "L5VXwiKCUnZq"
      }
    }
  ]
}