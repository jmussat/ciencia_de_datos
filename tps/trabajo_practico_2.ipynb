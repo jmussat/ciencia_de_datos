{
  "nbformat": 4,
  "nbformat_minor": 0,
  "metadata": {
    "colab": {
      "provenance": [],
      "collapsed_sections": [],
      "toc_visible": true,
      "include_colab_link": true
    },
    "kernelspec": {
      "name": "python3",
      "display_name": "Python 3"
    },
    "language_info": {
      "name": "python"
    }
  },
  "cells": [
    {
      "cell_type": "markdown",
      "metadata": {
        "id": "view-in-github",
        "colab_type": "text"
      },
      "source": [
        "<a href=\"https://colab.research.google.com/github/mbalbi/ciencia_de_datos/blob/main/tps/trabajo_practico_2.ipynb\" target=\"_parent\"><img src=\"https://colab.research.google.com/assets/colab-badge.svg\" alt=\"Open In Colab\"/></a>"
      ]
    },
    {
      "cell_type": "markdown",
      "source": [
        "# Trabajo Práctico 2: Ajuste de distribuciones de probabilidad\n",
        "\n",
        "**Objetivos:** Este trabajo tiene como objetivos familiarizar al alumno con los métodos numéricos para el ajuste de distribuciones de probabilidad con un framework Bayesiano, así como entender el efecto de la incertidumbre de los parametros estimados en las predicciones y el análisis de datos\n",
        "\n",
        "**Librerías:** para realizar este trabajo serán necesarias las siguientes librerías (Si requiere usar otras no incluidas aquí, no dude en importarlas)\n",
        "- Numpy: matemática básica y definición de matrices y vectores\n",
        "- Scipy.stats: repositorio de distribuciones de probabilidad y funciones de algebra\n",
        "- Pandas: manejo de datasets\n",
        "- Seaborn: visualización de datos\n",
        "- pymc: inferencia bayesiana"
      ],
      "metadata": {
        "id": "DJwdqsDeWICE"
      }
    },
    {
      "cell_type": "code",
      "execution_count": null,
      "metadata": {
        "id": "VUs528BgWBKx"
      },
      "outputs": [],
      "source": [
        "import numpy as np\n",
        "import scipy.stats as st\n",
        "import pandas as pd\n",
        "import matplotlib.pyplot as plt\n",
        "import seaborn as sns\n",
        "import io\n",
        "# !pip install pymc\n",
        "import pymc as pm\n",
        "import arviz as az"
      ]
    },
    {
      "cell_type": "code",
      "source": [
        "def qqplot(x,y):\n",
        "# FUNCION PARA GRAFICAR QQ-PLOTS\n",
        "# x es el vector con los datos obtenidos mediante simulacion\n",
        "# y es el vector con los datos muestras\n",
        "# La funcion asume que el vector x tiene más elementos que el vector y\n",
        "\n",
        "  from scipy.interpolate import interp1d\n",
        "  from statsmodels.distributions.empirical_distribution import ECDF\n",
        "  # Funciones acumuladas empíricas\n",
        "  CDFx = ECDF(x)\n",
        "  CDFy = ECDF(y)\n",
        "\n",
        "  # Factores de Correccion\n",
        "  Nx = len(CDFx.x)-1\n",
        "  CDFx.y = CDFx.y*Nx/(Nx+1)\n",
        "  Ny = len(CDFy.x)-1\n",
        "  CDFy.y = CDFy.y*Ny/(Ny+1)\n",
        "\n",
        "  # Interpolación lineal para CDFx\n",
        "  CDFx_interp = interp1d(CDFx.y[1:],CDFx.x[1:])\n",
        "\n",
        "  # Cuantiles de Y\n",
        "  Qy = CDFy.x[1:]\n",
        "  # Encontrar los cuantiles de de x asociados a los de y\n",
        "  Qx = np.zeros(len(Qy))\n",
        "  for i in range(len(Qy)):\n",
        "    Qx[i] = CDFx_interp(CDFy.y[i+1])\n",
        "\n",
        "  # Datos para el grafico\n",
        "  xmin = np.min([np.min(Qx),np.min(Qy)]) \n",
        "  xmax = np.max([np.max(Qx),np.max(Qy)])\n",
        "\n",
        "  # Plot\n",
        "  fig = plt.figure(figsize=(5,5))\n",
        "  plt.scatter(Qx,Qy)\n",
        "  plt.plot([xmin,xmax],[xmin,xmax],'k-')\n",
        "  plt.grid()\n",
        "  plt.xlabel('Cuantiles Simulación')\n",
        "  plt.ylabel('Cuantiles Muestras')\n",
        "  plt.show()"
      ],
      "metadata": {
        "id": "syElxqHToRaL"
      },
      "execution_count": null,
      "outputs": []
    },
    {
      "cell_type": "markdown",
      "source": [
        "## Ejercicio 1: Evaluación de un tratamiento para el hormigón\n",
        "\n",
        "Una empresa constructora quiere evaluar un nuevo proceso de curado y ver si tiene un efecto en la resistencia del hormigón. Para ello se tienen 7 pares de ensayos de probetas, con y sin tratamiento. Se considerará un efecto significativo si la resistencia del hormigón aumenta por encima de los 2MPa por sobre el hormigón sin tratamiento.\n",
        "\n",
        "El objetivo de este ejercicio es afirmar si esto es cierto a partir de un enfoque probabilístico."
      ],
      "metadata": {
        "id": "Sh2PWuf0WTtH"
      }
    },
    {
      "cell_type": "code",
      "source": [
        "#Abrimos un archivo local, es decir, que ha sido descargado en su computadora\n",
        "from google.colab import files\n",
        "uploaded = files.upload()"
      ],
      "metadata": {
        "colab": {
          "base_uri": "https://localhost:8080/",
          "height": 73
        },
        "id": "zexMlGB7g2DY",
        "outputId": "f1b86fac-facd-412f-ea50-1dfedbbe3fbe"
      },
      "execution_count": null,
      "outputs": [
        {
          "output_type": "display_data",
          "data": {
            "text/plain": [
              "<IPython.core.display.HTML object>"
            ],
            "text/html": [
              "\n",
              "     <input type=\"file\" id=\"files-e0b648b0-ee18-49ab-a781-e6ed6134badb\" name=\"files[]\" multiple disabled\n",
              "        style=\"border:none\" />\n",
              "     <output id=\"result-e0b648b0-ee18-49ab-a781-e6ed6134badb\">\n",
              "      Upload widget is only available when the cell has been executed in the\n",
              "      current browser session. Please rerun this cell to enable.\n",
              "      </output>\n",
              "      <script>// Copyright 2017 Google LLC\n",
              "//\n",
              "// Licensed under the Apache License, Version 2.0 (the \"License\");\n",
              "// you may not use this file except in compliance with the License.\n",
              "// You may obtain a copy of the License at\n",
              "//\n",
              "//      http://www.apache.org/licenses/LICENSE-2.0\n",
              "//\n",
              "// Unless required by applicable law or agreed to in writing, software\n",
              "// distributed under the License is distributed on an \"AS IS\" BASIS,\n",
              "// WITHOUT WARRANTIES OR CONDITIONS OF ANY KIND, either express or implied.\n",
              "// See the License for the specific language governing permissions and\n",
              "// limitations under the License.\n",
              "\n",
              "/**\n",
              " * @fileoverview Helpers for google.colab Python module.\n",
              " */\n",
              "(function(scope) {\n",
              "function span(text, styleAttributes = {}) {\n",
              "  const element = document.createElement('span');\n",
              "  element.textContent = text;\n",
              "  for (const key of Object.keys(styleAttributes)) {\n",
              "    element.style[key] = styleAttributes[key];\n",
              "  }\n",
              "  return element;\n",
              "}\n",
              "\n",
              "// Max number of bytes which will be uploaded at a time.\n",
              "const MAX_PAYLOAD_SIZE = 100 * 1024;\n",
              "\n",
              "function _uploadFiles(inputId, outputId) {\n",
              "  const steps = uploadFilesStep(inputId, outputId);\n",
              "  const outputElement = document.getElementById(outputId);\n",
              "  // Cache steps on the outputElement to make it available for the next call\n",
              "  // to uploadFilesContinue from Python.\n",
              "  outputElement.steps = steps;\n",
              "\n",
              "  return _uploadFilesContinue(outputId);\n",
              "}\n",
              "\n",
              "// This is roughly an async generator (not supported in the browser yet),\n",
              "// where there are multiple asynchronous steps and the Python side is going\n",
              "// to poll for completion of each step.\n",
              "// This uses a Promise to block the python side on completion of each step,\n",
              "// then passes the result of the previous step as the input to the next step.\n",
              "function _uploadFilesContinue(outputId) {\n",
              "  const outputElement = document.getElementById(outputId);\n",
              "  const steps = outputElement.steps;\n",
              "\n",
              "  const next = steps.next(outputElement.lastPromiseValue);\n",
              "  return Promise.resolve(next.value.promise).then((value) => {\n",
              "    // Cache the last promise value to make it available to the next\n",
              "    // step of the generator.\n",
              "    outputElement.lastPromiseValue = value;\n",
              "    return next.value.response;\n",
              "  });\n",
              "}\n",
              "\n",
              "/**\n",
              " * Generator function which is called between each async step of the upload\n",
              " * process.\n",
              " * @param {string} inputId Element ID of the input file picker element.\n",
              " * @param {string} outputId Element ID of the output display.\n",
              " * @return {!Iterable<!Object>} Iterable of next steps.\n",
              " */\n",
              "function* uploadFilesStep(inputId, outputId) {\n",
              "  const inputElement = document.getElementById(inputId);\n",
              "  inputElement.disabled = false;\n",
              "\n",
              "  const outputElement = document.getElementById(outputId);\n",
              "  outputElement.innerHTML = '';\n",
              "\n",
              "  const pickedPromise = new Promise((resolve) => {\n",
              "    inputElement.addEventListener('change', (e) => {\n",
              "      resolve(e.target.files);\n",
              "    });\n",
              "  });\n",
              "\n",
              "  const cancel = document.createElement('button');\n",
              "  inputElement.parentElement.appendChild(cancel);\n",
              "  cancel.textContent = 'Cancel upload';\n",
              "  const cancelPromise = new Promise((resolve) => {\n",
              "    cancel.onclick = () => {\n",
              "      resolve(null);\n",
              "    };\n",
              "  });\n",
              "\n",
              "  // Wait for the user to pick the files.\n",
              "  const files = yield {\n",
              "    promise: Promise.race([pickedPromise, cancelPromise]),\n",
              "    response: {\n",
              "      action: 'starting',\n",
              "    }\n",
              "  };\n",
              "\n",
              "  cancel.remove();\n",
              "\n",
              "  // Disable the input element since further picks are not allowed.\n",
              "  inputElement.disabled = true;\n",
              "\n",
              "  if (!files) {\n",
              "    return {\n",
              "      response: {\n",
              "        action: 'complete',\n",
              "      }\n",
              "    };\n",
              "  }\n",
              "\n",
              "  for (const file of files) {\n",
              "    const li = document.createElement('li');\n",
              "    li.append(span(file.name, {fontWeight: 'bold'}));\n",
              "    li.append(span(\n",
              "        `(${file.type || 'n/a'}) - ${file.size} bytes, ` +\n",
              "        `last modified: ${\n",
              "            file.lastModifiedDate ? file.lastModifiedDate.toLocaleDateString() :\n",
              "                                    'n/a'} - `));\n",
              "    const percent = span('0% done');\n",
              "    li.appendChild(percent);\n",
              "\n",
              "    outputElement.appendChild(li);\n",
              "\n",
              "    const fileDataPromise = new Promise((resolve) => {\n",
              "      const reader = new FileReader();\n",
              "      reader.onload = (e) => {\n",
              "        resolve(e.target.result);\n",
              "      };\n",
              "      reader.readAsArrayBuffer(file);\n",
              "    });\n",
              "    // Wait for the data to be ready.\n",
              "    let fileData = yield {\n",
              "      promise: fileDataPromise,\n",
              "      response: {\n",
              "        action: 'continue',\n",
              "      }\n",
              "    };\n",
              "\n",
              "    // Use a chunked sending to avoid message size limits. See b/62115660.\n",
              "    let position = 0;\n",
              "    do {\n",
              "      const length = Math.min(fileData.byteLength - position, MAX_PAYLOAD_SIZE);\n",
              "      const chunk = new Uint8Array(fileData, position, length);\n",
              "      position += length;\n",
              "\n",
              "      const base64 = btoa(String.fromCharCode.apply(null, chunk));\n",
              "      yield {\n",
              "        response: {\n",
              "          action: 'append',\n",
              "          file: file.name,\n",
              "          data: base64,\n",
              "        },\n",
              "      };\n",
              "\n",
              "      let percentDone = fileData.byteLength === 0 ?\n",
              "          100 :\n",
              "          Math.round((position / fileData.byteLength) * 100);\n",
              "      percent.textContent = `${percentDone}% done`;\n",
              "\n",
              "    } while (position < fileData.byteLength);\n",
              "  }\n",
              "\n",
              "  // All done.\n",
              "  yield {\n",
              "    response: {\n",
              "      action: 'complete',\n",
              "    }\n",
              "  };\n",
              "}\n",
              "\n",
              "scope.google = scope.google || {};\n",
              "scope.google.colab = scope.google.colab || {};\n",
              "scope.google.colab._files = {\n",
              "  _uploadFiles,\n",
              "  _uploadFilesContinue,\n",
              "};\n",
              "})(self);\n",
              "</script> "
            ]
          },
          "metadata": {}
        },
        {
          "output_type": "stream",
          "name": "stdout",
          "text": [
            "Saving hormigon_tratamiento_tp2.csv to hormigon_tratamiento_tp2 (1).csv\n"
          ]
        }
      ]
    },
    {
      "cell_type": "code",
      "source": [
        "#Se crea un DataFrame\n",
        "df = pd.read_csv(io.BytesIO(uploaded['hormigon_tratamiento_tp2.csv']))\n",
        "df.head()"
      ],
      "metadata": {
        "colab": {
          "base_uri": "https://localhost:8080/",
          "height": 206
        },
        "id": "3XHAbUoGg5uw",
        "outputId": "770381ba-b71b-4e4c-d408-217f80627e38"
      },
      "execution_count": null,
      "outputs": [
        {
          "output_type": "execute_result",
          "data": {
            "text/plain": [
              "   sin-tratamiento  con-tratamiento\n",
              "0             30.9             34.2\n",
              "1             33.3             37.1\n",
              "2             33.5             39.6\n",
              "3             36.2             40.3\n",
              "4             37.2             40.5"
            ],
            "text/html": [
              "\n",
              "  <div id=\"df-6dfc92f1-229f-444e-88ae-be656b8a8058\">\n",
              "    <div class=\"colab-df-container\">\n",
              "      <div>\n",
              "<style scoped>\n",
              "    .dataframe tbody tr th:only-of-type {\n",
              "        vertical-align: middle;\n",
              "    }\n",
              "\n",
              "    .dataframe tbody tr th {\n",
              "        vertical-align: top;\n",
              "    }\n",
              "\n",
              "    .dataframe thead th {\n",
              "        text-align: right;\n",
              "    }\n",
              "</style>\n",
              "<table border=\"1\" class=\"dataframe\">\n",
              "  <thead>\n",
              "    <tr style=\"text-align: right;\">\n",
              "      <th></th>\n",
              "      <th>sin-tratamiento</th>\n",
              "      <th>con-tratamiento</th>\n",
              "    </tr>\n",
              "  </thead>\n",
              "  <tbody>\n",
              "    <tr>\n",
              "      <th>0</th>\n",
              "      <td>30.9</td>\n",
              "      <td>34.2</td>\n",
              "    </tr>\n",
              "    <tr>\n",
              "      <th>1</th>\n",
              "      <td>33.3</td>\n",
              "      <td>37.1</td>\n",
              "    </tr>\n",
              "    <tr>\n",
              "      <th>2</th>\n",
              "      <td>33.5</td>\n",
              "      <td>39.6</td>\n",
              "    </tr>\n",
              "    <tr>\n",
              "      <th>3</th>\n",
              "      <td>36.2</td>\n",
              "      <td>40.3</td>\n",
              "    </tr>\n",
              "    <tr>\n",
              "      <th>4</th>\n",
              "      <td>37.2</td>\n",
              "      <td>40.5</td>\n",
              "    </tr>\n",
              "  </tbody>\n",
              "</table>\n",
              "</div>\n",
              "      <button class=\"colab-df-convert\" onclick=\"convertToInteractive('df-6dfc92f1-229f-444e-88ae-be656b8a8058')\"\n",
              "              title=\"Convert this dataframe to an interactive table.\"\n",
              "              style=\"display:none;\">\n",
              "        \n",
              "  <svg xmlns=\"http://www.w3.org/2000/svg\" height=\"24px\"viewBox=\"0 0 24 24\"\n",
              "       width=\"24px\">\n",
              "    <path d=\"M0 0h24v24H0V0z\" fill=\"none\"/>\n",
              "    <path d=\"M18.56 5.44l.94 2.06.94-2.06 2.06-.94-2.06-.94-.94-2.06-.94 2.06-2.06.94zm-11 1L8.5 8.5l.94-2.06 2.06-.94-2.06-.94L8.5 2.5l-.94 2.06-2.06.94zm10 10l.94 2.06.94-2.06 2.06-.94-2.06-.94-.94-2.06-.94 2.06-2.06.94z\"/><path d=\"M17.41 7.96l-1.37-1.37c-.4-.4-.92-.59-1.43-.59-.52 0-1.04.2-1.43.59L10.3 9.45l-7.72 7.72c-.78.78-.78 2.05 0 2.83L4 21.41c.39.39.9.59 1.41.59.51 0 1.02-.2 1.41-.59l7.78-7.78 2.81-2.81c.8-.78.8-2.07 0-2.86zM5.41 20L4 18.59l7.72-7.72 1.47 1.35L5.41 20z\"/>\n",
              "  </svg>\n",
              "      </button>\n",
              "      \n",
              "  <style>\n",
              "    .colab-df-container {\n",
              "      display:flex;\n",
              "      flex-wrap:wrap;\n",
              "      gap: 12px;\n",
              "    }\n",
              "\n",
              "    .colab-df-convert {\n",
              "      background-color: #E8F0FE;\n",
              "      border: none;\n",
              "      border-radius: 50%;\n",
              "      cursor: pointer;\n",
              "      display: none;\n",
              "      fill: #1967D2;\n",
              "      height: 32px;\n",
              "      padding: 0 0 0 0;\n",
              "      width: 32px;\n",
              "    }\n",
              "\n",
              "    .colab-df-convert:hover {\n",
              "      background-color: #E2EBFA;\n",
              "      box-shadow: 0px 1px 2px rgba(60, 64, 67, 0.3), 0px 1px 3px 1px rgba(60, 64, 67, 0.15);\n",
              "      fill: #174EA6;\n",
              "    }\n",
              "\n",
              "    [theme=dark] .colab-df-convert {\n",
              "      background-color: #3B4455;\n",
              "      fill: #D2E3FC;\n",
              "    }\n",
              "\n",
              "    [theme=dark] .colab-df-convert:hover {\n",
              "      background-color: #434B5C;\n",
              "      box-shadow: 0px 1px 3px 1px rgba(0, 0, 0, 0.15);\n",
              "      filter: drop-shadow(0px 1px 2px rgba(0, 0, 0, 0.3));\n",
              "      fill: #FFFFFF;\n",
              "    }\n",
              "  </style>\n",
              "\n",
              "      <script>\n",
              "        const buttonEl =\n",
              "          document.querySelector('#df-6dfc92f1-229f-444e-88ae-be656b8a8058 button.colab-df-convert');\n",
              "        buttonEl.style.display =\n",
              "          google.colab.kernel.accessAllowed ? 'block' : 'none';\n",
              "\n",
              "        async function convertToInteractive(key) {\n",
              "          const element = document.querySelector('#df-6dfc92f1-229f-444e-88ae-be656b8a8058');\n",
              "          const dataTable =\n",
              "            await google.colab.kernel.invokeFunction('convertToInteractive',\n",
              "                                                     [key], {});\n",
              "          if (!dataTable) return;\n",
              "\n",
              "          const docLinkHtml = 'Like what you see? Visit the ' +\n",
              "            '<a target=\"_blank\" href=https://colab.research.google.com/notebooks/data_table.ipynb>data table notebook</a>'\n",
              "            + ' to learn more about interactive tables.';\n",
              "          element.innerHTML = '';\n",
              "          dataTable['output_type'] = 'display_data';\n",
              "          await google.colab.output.renderOutput(dataTable, element);\n",
              "          const docLink = document.createElement('div');\n",
              "          docLink.innerHTML = docLinkHtml;\n",
              "          element.appendChild(docLink);\n",
              "        }\n",
              "      </script>\n",
              "    </div>\n",
              "  </div>\n",
              "  "
            ]
          },
          "metadata": {},
          "execution_count": 277
        }
      ]
    },
    {
      "cell_type": "markdown",
      "source": [
        "**ITEM**: Primero calcule el valor medio y el desvío estandar (muestral) de los hormigones con y sin tratamiento."
      ],
      "metadata": {
        "id": "F7I0s_yM4qOV"
      }
    },
    {
      "cell_type": "code",
      "source": [
        "# Cantidad de muestras\n",
        "N = len(df)\n",
        "print('Numero de muestras',N)\n",
        "\n",
        "# Hormigón sin tratar\n",
        "# CODIGO DEL ALUMNO ============================================================\n",
        "h0_mean = []\n",
        "h0_std = []\n",
        "# ==============================================================================\n",
        "\n",
        "# Hormigón con tratamiento\n",
        "# CODIGO DEL ALUMNO ============================================================\n",
        "h1_mean = []\n",
        "h1_std = []\n",
        "# ==============================================================================\n",
        "\n",
        "print('Sin Tramiento')\n",
        "print('Media',h0_mean,'desvio',h0_std)\n",
        "print('Con Tratamiento')\n",
        "print('Media',h1_mean,'desvio',h1_std)"
      ],
      "metadata": {
        "colab": {
          "base_uri": "https://localhost:8080/"
        },
        "id": "2oqglB-wWWBn",
        "outputId": "07869b20-4d87-4d5a-b05d-859d94ef2d51"
      },
      "execution_count": null,
      "outputs": [
        {
          "output_type": "stream",
          "name": "stdout",
          "text": [
            "Numero de muestras 7\n",
            "Sin Tramiento\n",
            "Media 35.271428571428565 desvio 2.7299049346783053\n",
            "Con Tratamiento\n",
            "Media 39.699999999999996 desvio 3.234192325759245\n"
          ]
        }
      ]
    },
    {
      "cell_type": "markdown",
      "source": [
        "Debiera ver una diferencia de más de $4MPa$ en el valor medio. ¿Eso alcanza para asegurar con cierto margen de confianza que la diferencia es mayor a $2MPa$?"
      ],
      "metadata": {
        "id": "ygRm1U9t50x3"
      }
    },
    {
      "cell_type": "markdown",
      "source": [
        "### Función predictiva para cada hormigón\n",
        "\n",
        "Para contestar esta pregunta, primero necesitamos un modelo de generación de datos para las resistencias del hormigón con y sin tratamiento.\n",
        "\n",
        "**ITEM**: Asumiendo una distribución a priori no informativa y un modelo de generación de datos Normal, escriba la distribución predictiva (usando la librería scipy.stats) `h0_pred` y `h1_pred` para el homigón sin y con tratamiento, respectivamente."
      ],
      "metadata": {
        "id": "YtAcImAM6FMU"
      }
    },
    {
      "cell_type": "code",
      "source": [
        "# Predictiva de las resistencias\n",
        "# CODIGO DEL ALUMNO ============================================================\n",
        "h0_pred = []\n",
        "h1_pred = []\n",
        "# ==============================================================================\n",
        "\n",
        "x = np.linspace(20,55,351)\n",
        "fig = plt.figure(figsize=(8,5))\n",
        "plt.plot(x,h0_pred.pdf(x),label='sin tratamiento')\n",
        "plt.plot(x,h1_pred.pdf(x),label='con tratamiento')\n",
        "plt.grid()\n",
        "plt.xlabel('Resistencia [MPa]')\n",
        "plt.ylabel('y_post')\n",
        "plt.legend()\n",
        "plt.show()"
      ],
      "metadata": {
        "colab": {
          "base_uri": "https://localhost:8080/",
          "height": 334
        },
        "id": "fVlaGNB1h21E",
        "outputId": "88647399-9a3e-46ff-e138-60c81214c076"
      },
      "execution_count": null,
      "outputs": [
        {
          "output_type": "display_data",
          "data": {
            "text/plain": [
              "<Figure size 576x360 with 1 Axes>"
            ],
            "image/png": "[encoded data removed]"
          },
          "metadata": {
            "needs_background": "light"
          }
        }
      ]
    },
    {
      "cell_type": "markdown",
      "source": [
        "###Comparación de Resistencias características:\n",
        "\n",
        "Usted podría ver el dato de valor medio y decir \"Claro, pero en realidad lo que hay que comparar son las resistencias características, no considerás el desvío sino\". Probemos:\n",
        "\n",
        "**ITEM**: Calcule las resistencias características de cada uno de los hormigones con el criterio de 90% de probabilidad de excedencia."
      ],
      "metadata": {
        "id": "GGueqZ5E_A0X"
      }
    },
    {
      "cell_type": "code",
      "source": [
        "# CODIGO DEL ALUMNO ============================================================\n",
        "fc0 = []\n",
        "fc1 = []\n",
        "# ==============================================================================\n",
        "\n",
        "print('Sin tratamiento:', fc0,'MPa')\n",
        "print('Con tratamiento:', fc1,'MPa')"
      ],
      "metadata": {
        "colab": {
          "base_uri": "https://localhost:8080/"
        },
        "id": "FOCx-TWi_HMP",
        "outputId": "a86cc13a-70eb-41e2-b321-f1632af3f53b"
      },
      "execution_count": null,
      "outputs": [
        {
          "output_type": "stream",
          "name": "stdout",
          "text": [
            "Sin tratamiento: 31.069658165550518 MPa\n",
            "Con tratamiento: 34.722048779550455 MPa\n"
          ]
        }
      ]
    },
    {
      "cell_type": "markdown",
      "source": [
        "La diferencia es también de prácticamente $4MPa$. Pero esto no necesariamente implica, con certeza, que la resistencia de cualquier hormigón con el tratamiento sea, por lo menos 2MPa, que cualquier hormigón sin tratamiento.\n",
        "\n",
        "Para esto necesito comparar toda la distribución de probabilidad de la resistencia de cada hormigón, y no simplemente sus valores medios o sus valores característicos.\n",
        "\n",
        "Veremos ahora que son cosas muy distintas."
      ],
      "metadata": {
        "id": "1AAqZlRk_gsE"
      }
    },
    {
      "cell_type": "markdown",
      "source": [
        "### Diferencia entre hormigones\n",
        "Lo que nos interesa saber es si se puede afirmar con una probabilidad suficientemente alta (digamos, 90%) que la resistencia del hormigón (de una probeta cualquiera) con tratamiento supera en $2MPa$ al caso sin tratamiento.\n",
        "\n",
        "Para ello necesitaríamos la función de distribución de la diferencia entre hormigones, para luego calcular la probabilidad de que la diferencia sea mayor a 2. Sin embargo, no hay una solución analítica para la resta de dos t-Student.\n",
        "\n",
        "Por eso, usted va a resolver este problema mediante simulación de montecarlo:\n",
        "\n",
        "**ITEM**: Los pasos son:\n",
        "1. Mediante simulación, simule valores de resistencia de los hormigones sin y con tratamiento, y guarde valores simulados de la diferencia en `rdiff`\n",
        "2. Calcule, mediante conteo, la probabilidad de que el hormigón con tratamiento sea $2MPa$ más resistente que el hormigón sin tratamiento.\n",
        "3. ¿Considera esa probabilidad suficiente para aceptar la información provista por el fabricante?"
      ],
      "metadata": {
        "id": "6KSivzgZ77_1"
      }
    },
    {
      "cell_type": "code",
      "source": [
        "# Distribución de la diferencia\n",
        "Nsim = 20000\n",
        "\n",
        "# Generar simulaciones de la diferencia\n",
        "\n",
        "# CODIGO DEL ALUMNO ============================================================\n",
        "r1_post = []\n",
        "r2_post = []\n",
        "rdiff = r2_post - r1_post\n",
        "# ==============================================================================\n",
        "\n",
        "# Probabilidad de que h2 - h1 > 2\n",
        "\n",
        "# CODIGO DEL ALUMNO ============================================================\n",
        "Pefecto = []\n",
        "# ==============================================================================\n",
        "\n",
        "print('La probabilidad de que el hormigón con tratamiento sea 2MPa más resistente es',Pefecto)\n",
        "\n",
        "fig, ax = plt.subplots()\n",
        "sns.kdeplot( rdiff, fill=True )\n",
        "ax.vlines( x=2, ymin=0, ymax=0.1, linestyle='--' )\n",
        "plt.show()"
      ],
      "metadata": {
        "colab": {
          "base_uri": "https://localhost:8080/",
          "height": 282
        },
        "id": "ELCUCQ4a7p0e",
        "outputId": "c589e73b-fbc0-4128-b714-b773445552a2"
      },
      "execution_count": null,
      "outputs": [
        {
          "output_type": "stream",
          "name": "stdout",
          "text": [
            "La probabilidad de que el hormigón con tratamiento sea 2MPa más resistente es 0.681\n"
          ]
        },
        {
          "output_type": "display_data",
          "data": {
            "text/plain": [
              "<Figure size 432x288 with 1 Axes>"
            ],
            "image/png": "[encoded data removed]"
          },
          "metadata": {
            "needs_background": "light"
          }
        }
      ]
    },
    {
      "cell_type": "markdown",
      "source": [
        "**Su respuesta**:"
      ],
      "metadata": {
        "id": "zdBgo1mu-BH5"
      }
    },
    {
      "cell_type": "markdown",
      "source": [
        "## Ejercicio 2: Período de retorno de lluvias en CABA\n",
        "\n",
        "En el segundo ejercicio queremos obtener el período de retorno de las precipitaciones en CABA. Es decir, \"cada cuántos años en promedio llueve $x\\ mm$ o más\" en un mes en la ciudad.\n",
        "\n",
        "Para ello tenemos un dataset de $mm$ de lluvia mensuales en la ciudad desde 1991. A lo largo del ejercicio usted hará el curado de la información y luego la inferencia para llegar al resultado final."
      ],
      "metadata": {
        "id": "ZPrlKtI_WYnc"
      }
    },
    {
      "cell_type": "markdown",
      "source": [
        "###Curado del dataset\n",
        "\n",
        "Primero, importe el archivo `historico_precipitaciones-CABA.csv` en Google Colab."
      ],
      "metadata": {
        "id": "WKkjJjKsf26-"
      }
    },
    {
      "cell_type": "code",
      "source": [
        "# Abrimos un archivo local, es decir, que ha sido descargado en su computadora\n",
        "from google.colab import files\n",
        "uploaded = files.upload()"
      ],
      "metadata": {
        "id": "8c_Qu-VpWbTf",
        "colab": {
          "base_uri": "https://localhost:8080/",
          "height": 73
        },
        "outputId": "66a10ede-4d03-40b4-c897-f4aad46de14e"
      },
      "execution_count": null,
      "outputs": [
        {
          "output_type": "display_data",
          "data": {
            "text/plain": [
              "<IPython.core.display.HTML object>"
            ],
            "text/html": [
              "\n",
              "     <input type=\"file\" id=\"files-e4bc370d-fc71-4cc3-b7eb-04c176f1c261\" name=\"files[]\" multiple disabled\n",
              "        style=\"border:none\" />\n",
              "     <output id=\"result-e4bc370d-fc71-4cc3-b7eb-04c176f1c261\">\n",
              "      Upload widget is only available when the cell has been executed in the\n",
              "      current browser session. Please rerun this cell to enable.\n",
              "      </output>\n",
              "      <script>// Copyright 2017 Google LLC\n",
              "//\n",
              "// Licensed under the Apache License, Version 2.0 (the \"License\");\n",
              "// you may not use this file except in compliance with the License.\n",
              "// You may obtain a copy of the License at\n",
              "//\n",
              "//      http://www.apache.org/licenses/LICENSE-2.0\n",
              "//\n",
              "// Unless required by applicable law or agreed to in writing, software\n",
              "// distributed under the License is distributed on an \"AS IS\" BASIS,\n",
              "// WITHOUT WARRANTIES OR CONDITIONS OF ANY KIND, either express or implied.\n",
              "// See the License for the specific language governing permissions and\n",
              "// limitations under the License.\n",
              "\n",
              "/**\n",
              " * @fileoverview Helpers for google.colab Python module.\n",
              " */\n",
              "(function(scope) {\n",
              "function span(text, styleAttributes = {}) {\n",
              "  const element = document.createElement('span');\n",
              "  element.textContent = text;\n",
              "  for (const key of Object.keys(styleAttributes)) {\n",
              "    element.style[key] = styleAttributes[key];\n",
              "  }\n",
              "  return element;\n",
              "}\n",
              "\n",
              "// Max number of bytes which will be uploaded at a time.\n",
              "const MAX_PAYLOAD_SIZE = 100 * 1024;\n",
              "\n",
              "function _uploadFiles(inputId, outputId) {\n",
              "  const steps = uploadFilesStep(inputId, outputId);\n",
              "  const outputElement = document.getElementById(outputId);\n",
              "  // Cache steps on the outputElement to make it available for the next call\n",
              "  // to uploadFilesContinue from Python.\n",
              "  outputElement.steps = steps;\n",
              "\n",
              "  return _uploadFilesContinue(outputId);\n",
              "}\n",
              "\n",
              "// This is roughly an async generator (not supported in the browser yet),\n",
              "// where there are multiple asynchronous steps and the Python side is going\n",
              "// to poll for completion of each step.\n",
              "// This uses a Promise to block the python side on completion of each step,\n",
              "// then passes the result of the previous step as the input to the next step.\n",
              "function _uploadFilesContinue(outputId) {\n",
              "  const outputElement = document.getElementById(outputId);\n",
              "  const steps = outputElement.steps;\n",
              "\n",
              "  const next = steps.next(outputElement.lastPromiseValue);\n",
              "  return Promise.resolve(next.value.promise).then((value) => {\n",
              "    // Cache the last promise value to make it available to the next\n",
              "    // step of the generator.\n",
              "    outputElement.lastPromiseValue = value;\n",
              "    return next.value.response;\n",
              "  });\n",
              "}\n",
              "\n",
              "/**\n",
              " * Generator function which is called between each async step of the upload\n",
              " * process.\n",
              " * @param {string} inputId Element ID of the input file picker element.\n",
              " * @param {string} outputId Element ID of the output display.\n",
              " * @return {!Iterable<!Object>} Iterable of next steps.\n",
              " */\n",
              "function* uploadFilesStep(inputId, outputId) {\n",
              "  const inputElement = document.getElementById(inputId);\n",
              "  inputElement.disabled = false;\n",
              "\n",
              "  const outputElement = document.getElementById(outputId);\n",
              "  outputElement.innerHTML = '';\n",
              "\n",
              "  const pickedPromise = new Promise((resolve) => {\n",
              "    inputElement.addEventListener('change', (e) => {\n",
              "      resolve(e.target.files);\n",
              "    });\n",
              "  });\n",
              "\n",
              "  const cancel = document.createElement('button');\n",
              "  inputElement.parentElement.appendChild(cancel);\n",
              "  cancel.textContent = 'Cancel upload';\n",
              "  const cancelPromise = new Promise((resolve) => {\n",
              "    cancel.onclick = () => {\n",
              "      resolve(null);\n",
              "    };\n",
              "  });\n",
              "\n",
              "  // Wait for the user to pick the files.\n",
              "  const files = yield {\n",
              "    promise: Promise.race([pickedPromise, cancelPromise]),\n",
              "    response: {\n",
              "      action: 'starting',\n",
              "    }\n",
              "  };\n",
              "\n",
              "  cancel.remove();\n",
              "\n",
              "  // Disable the input element since further picks are not allowed.\n",
              "  inputElement.disabled = true;\n",
              "\n",
              "  if (!files) {\n",
              "    return {\n",
              "      response: {\n",
              "        action: 'complete',\n",
              "      }\n",
              "    };\n",
              "  }\n",
              "\n",
              "  for (const file of files) {\n",
              "    const li = document.createElement('li');\n",
              "    li.append(span(file.name, {fontWeight: 'bold'}));\n",
              "    li.append(span(\n",
              "        `(${file.type || 'n/a'}) - ${file.size} bytes, ` +\n",
              "        `last modified: ${\n",
              "            file.lastModifiedDate ? file.lastModifiedDate.toLocaleDateString() :\n",
              "                                    'n/a'} - `));\n",
              "    const percent = span('0% done');\n",
              "    li.appendChild(percent);\n",
              "\n",
              "    outputElement.appendChild(li);\n",
              "\n",
              "    const fileDataPromise = new Promise((resolve) => {\n",
              "      const reader = new FileReader();\n",
              "      reader.onload = (e) => {\n",
              "        resolve(e.target.result);\n",
              "      };\n",
              "      reader.readAsArrayBuffer(file);\n",
              "    });\n",
              "    // Wait for the data to be ready.\n",
              "    let fileData = yield {\n",
              "      promise: fileDataPromise,\n",
              "      response: {\n",
              "        action: 'continue',\n",
              "      }\n",
              "    };\n",
              "\n",
              "    // Use a chunked sending to avoid message size limits. See b/62115660.\n",
              "    let position = 0;\n",
              "    do {\n",
              "      const length = Math.min(fileData.byteLength - position, MAX_PAYLOAD_SIZE);\n",
              "      const chunk = new Uint8Array(fileData, position, length);\n",
              "      position += length;\n",
              "\n",
              "      const base64 = btoa(String.fromCharCode.apply(null, chunk));\n",
              "      yield {\n",
              "        response: {\n",
              "          action: 'append',\n",
              "          file: file.name,\n",
              "          data: base64,\n",
              "        },\n",
              "      };\n",
              "\n",
              "      let percentDone = fileData.byteLength === 0 ?\n",
              "          100 :\n",
              "          Math.round((position / fileData.byteLength) * 100);\n",
              "      percent.textContent = `${percentDone}% done`;\n",
              "\n",
              "    } while (position < fileData.byteLength);\n",
              "  }\n",
              "\n",
              "  // All done.\n",
              "  yield {\n",
              "    response: {\n",
              "      action: 'complete',\n",
              "    }\n",
              "  };\n",
              "}\n",
              "\n",
              "scope.google = scope.google || {};\n",
              "scope.google.colab = scope.google.colab || {};\n",
              "scope.google.colab._files = {\n",
              "  _uploadFiles,\n",
              "  _uploadFilesContinue,\n",
              "};\n",
              "})(self);\n",
              "</script> "
            ]
          },
          "metadata": {}
        },
        {
          "output_type": "stream",
          "name": "stdout",
          "text": [
            "Saving historico_precipitaciones-CABA.csv to historico_precipitaciones-CABA.csv\n"
          ]
        }
      ]
    },
    {
      "cell_type": "code",
      "source": [
        "# Se crea un DataFrame\n",
        "df = pd.read_csv(io.BytesIO(uploaded['historico_precipitaciones-CABA.csv']))\n",
        "df.head()"
      ],
      "metadata": {
        "colab": {
          "base_uri": "https://localhost:8080/",
          "height": 206
        },
        "id": "uVfEpIwu9gRu",
        "outputId": "f4aff08a-b02a-459b-be36-4ad08e029299"
      },
      "execution_count": null,
      "outputs": [
        {
          "output_type": "execute_result",
          "data": {
            "text/plain": [
              "    ano      mes     mm  dias\n",
              "0  1991    Enero  190.0     7\n",
              "1  1991  Febrero   30.5     6\n",
              "2  1991    Marzo   55.0     8\n",
              "3  1991    Abril  125.6    12\n",
              "4  1991     Mayo   68.4     7"
            ],
            "text/html": [
              "\n",
              "  <div id=\"df-61de2bba-5b77-46d0-9e5f-09989c550b33\">\n",
              "    <div class=\"colab-df-container\">\n",
              "      <div>\n",
              "<style scoped>\n",
              "    .dataframe tbody tr th:only-of-type {\n",
              "        vertical-align: middle;\n",
              "    }\n",
              "\n",
              "    .dataframe tbody tr th {\n",
              "        vertical-align: top;\n",
              "    }\n",
              "\n",
              "    .dataframe thead th {\n",
              "        text-align: right;\n",
              "    }\n",
              "</style>\n",
              "<table border=\"1\" class=\"dataframe\">\n",
              "  <thead>\n",
              "    <tr style=\"text-align: right;\">\n",
              "      <th></th>\n",
              "      <th>ano</th>\n",
              "      <th>mes</th>\n",
              "      <th>mm</th>\n",
              "      <th>dias</th>\n",
              "    </tr>\n",
              "  </thead>\n",
              "  <tbody>\n",
              "    <tr>\n",
              "      <th>0</th>\n",
              "      <td>1991</td>\n",
              "      <td>Enero</td>\n",
              "      <td>190.0</td>\n",
              "      <td>7</td>\n",
              "    </tr>\n",
              "    <tr>\n",
              "      <th>1</th>\n",
              "      <td>1991</td>\n",
              "      <td>Febrero</td>\n",
              "      <td>30.5</td>\n",
              "      <td>6</td>\n",
              "    </tr>\n",
              "    <tr>\n",
              "      <th>2</th>\n",
              "      <td>1991</td>\n",
              "      <td>Marzo</td>\n",
              "      <td>55.0</td>\n",
              "      <td>8</td>\n",
              "    </tr>\n",
              "    <tr>\n",
              "      <th>3</th>\n",
              "      <td>1991</td>\n",
              "      <td>Abril</td>\n",
              "      <td>125.6</td>\n",
              "      <td>12</td>\n",
              "    </tr>\n",
              "    <tr>\n",
              "      <th>4</th>\n",
              "      <td>1991</td>\n",
              "      <td>Mayo</td>\n",
              "      <td>68.4</td>\n",
              "      <td>7</td>\n",
              "    </tr>\n",
              "  </tbody>\n",
              "</table>\n",
              "</div>\n",
              "      <button class=\"colab-df-convert\" onclick=\"convertToInteractive('df-61de2bba-5b77-46d0-9e5f-09989c550b33')\"\n",
              "              title=\"Convert this dataframe to an interactive table.\"\n",
              "              style=\"display:none;\">\n",
              "        \n",
              "  <svg xmlns=\"http://www.w3.org/2000/svg\" height=\"24px\"viewBox=\"0 0 24 24\"\n",
              "       width=\"24px\">\n",
              "    <path d=\"M0 0h24v24H0V0z\" fill=\"none\"/>\n",
              "    <path d=\"M18.56 5.44l.94 2.06.94-2.06 2.06-.94-2.06-.94-.94-2.06-.94 2.06-2.06.94zm-11 1L8.5 8.5l.94-2.06 2.06-.94-2.06-.94L8.5 2.5l-.94 2.06-2.06.94zm10 10l.94 2.06.94-2.06 2.06-.94-2.06-.94-.94-2.06-.94 2.06-2.06.94z\"/><path d=\"M17.41 7.96l-1.37-1.37c-.4-.4-.92-.59-1.43-.59-.52 0-1.04.2-1.43.59L10.3 9.45l-7.72 7.72c-.78.78-.78 2.05 0 2.83L4 21.41c.39.39.9.59 1.41.59.51 0 1.02-.2 1.41-.59l7.78-7.78 2.81-2.81c.8-.78.8-2.07 0-2.86zM5.41 20L4 18.59l7.72-7.72 1.47 1.35L5.41 20z\"/>\n",
              "  </svg>\n",
              "      </button>\n",
              "      \n",
              "  <style>\n",
              "    .colab-df-container {\n",
              "      display:flex;\n",
              "      flex-wrap:wrap;\n",
              "      gap: 12px;\n",
              "    }\n",
              "\n",
              "    .colab-df-convert {\n",
              "      background-color: #E8F0FE;\n",
              "      border: none;\n",
              "      border-radius: 50%;\n",
              "      cursor: pointer;\n",
              "      display: none;\n",
              "      fill: #1967D2;\n",
              "      height: 32px;\n",
              "      padding: 0 0 0 0;\n",
              "      width: 32px;\n",
              "    }\n",
              "\n",
              "    .colab-df-convert:hover {\n",
              "      background-color: #E2EBFA;\n",
              "      box-shadow: 0px 1px 2px rgba(60, 64, 67, 0.3), 0px 1px 3px 1px rgba(60, 64, 67, 0.15);\n",
              "      fill: #174EA6;\n",
              "    }\n",
              "\n",
              "    [theme=dark] .colab-df-convert {\n",
              "      background-color: #3B4455;\n",
              "      fill: #D2E3FC;\n",
              "    }\n",
              "\n",
              "    [theme=dark] .colab-df-convert:hover {\n",
              "      background-color: #434B5C;\n",
              "      box-shadow: 0px 1px 3px 1px rgba(0, 0, 0, 0.15);\n",
              "      filter: drop-shadow(0px 1px 2px rgba(0, 0, 0, 0.3));\n",
              "      fill: #FFFFFF;\n",
              "    }\n",
              "  </style>\n",
              "\n",
              "      <script>\n",
              "        const buttonEl =\n",
              "          document.querySelector('#df-61de2bba-5b77-46d0-9e5f-09989c550b33 button.colab-df-convert');\n",
              "        buttonEl.style.display =\n",
              "          google.colab.kernel.accessAllowed ? 'block' : 'none';\n",
              "\n",
              "        async function convertToInteractive(key) {\n",
              "          const element = document.querySelector('#df-61de2bba-5b77-46d0-9e5f-09989c550b33');\n",
              "          const dataTable =\n",
              "            await google.colab.kernel.invokeFunction('convertToInteractive',\n",
              "                                                     [key], {});\n",
              "          if (!dataTable) return;\n",
              "\n",
              "          const docLinkHtml = 'Like what you see? Visit the ' +\n",
              "            '<a target=\"_blank\" href=https://colab.research.google.com/notebooks/data_table.ipynb>data table notebook</a>'\n",
              "            + ' to learn more about interactive tables.';\n",
              "          element.innerHTML = '';\n",
              "          dataTable['output_type'] = 'display_data';\n",
              "          await google.colab.output.renderOutput(dataTable, element);\n",
              "          const docLink = document.createElement('div');\n",
              "          docLink.innerHTML = docLinkHtml;\n",
              "          element.appendChild(docLink);\n",
              "        }\n",
              "      </script>\n",
              "    </div>\n",
              "  </div>\n",
              "  "
            ]
          },
          "metadata": {},
          "execution_count": 9
        }
      ]
    },
    {
      "cell_type": "markdown",
      "source": [
        "Con los datos de arriba se puede generar una nueva columna que sea la fecha introducida en formato `datetime`."
      ],
      "metadata": {
        "id": "dOhZdVsffaPH"
      }
    },
    {
      "cell_type": "code",
      "source": [
        "# Crear columna con datetime\n",
        "lista_meses = df['mes'].unique()\n",
        "mes_num = df.apply (lambda row: np.where(row['mes']==lista_meses)[0][0]+1, axis=1)\n",
        "df['fecha'] = pd.to_datetime(df['ano'].astype(str) + mes_num.astype(str), format='%Y%m')\n",
        "df = df.set_index('fecha')\n",
        "df.head()"
      ],
      "metadata": {
        "colab": {
          "base_uri": "https://localhost:8080/",
          "height": 238
        },
        "id": "2s_Pc1zZ-GAI",
        "outputId": "f1d3a265-69c8-4525-e9ab-f43ca75d2986"
      },
      "execution_count": null,
      "outputs": [
        {
          "output_type": "execute_result",
          "data": {
            "text/plain": [
              "             ano      mes     mm  dias\n",
              "fecha                                 \n",
              "1991-01-01  1991    Enero  190.0     7\n",
              "1991-02-01  1991  Febrero   30.5     6\n",
              "1991-03-01  1991    Marzo   55.0     8\n",
              "1991-04-01  1991    Abril  125.6    12\n",
              "1991-05-01  1991     Mayo   68.4     7"
            ],
            "text/html": [
              "\n",
              "  <div id=\"df-dcccd5e5-b8eb-4a8d-88dd-2cf9676d113f\">\n",
              "    <div class=\"colab-df-container\">\n",
              "      <div>\n",
              "<style scoped>\n",
              "    .dataframe tbody tr th:only-of-type {\n",
              "        vertical-align: middle;\n",
              "    }\n",
              "\n",
              "    .dataframe tbody tr th {\n",
              "        vertical-align: top;\n",
              "    }\n",
              "\n",
              "    .dataframe thead th {\n",
              "        text-align: right;\n",
              "    }\n",
              "</style>\n",
              "<table border=\"1\" class=\"dataframe\">\n",
              "  <thead>\n",
              "    <tr style=\"text-align: right;\">\n",
              "      <th></th>\n",
              "      <th>ano</th>\n",
              "      <th>mes</th>\n",
              "      <th>mm</th>\n",
              "      <th>dias</th>\n",
              "    </tr>\n",
              "    <tr>\n",
              "      <th>fecha</th>\n",
              "      <th></th>\n",
              "      <th></th>\n",
              "      <th></th>\n",
              "      <th></th>\n",
              "    </tr>\n",
              "  </thead>\n",
              "  <tbody>\n",
              "    <tr>\n",
              "      <th>1991-01-01</th>\n",
              "      <td>1991</td>\n",
              "      <td>Enero</td>\n",
              "      <td>190.0</td>\n",
              "      <td>7</td>\n",
              "    </tr>\n",
              "    <tr>\n",
              "      <th>1991-02-01</th>\n",
              "      <td>1991</td>\n",
              "      <td>Febrero</td>\n",
              "      <td>30.5</td>\n",
              "      <td>6</td>\n",
              "    </tr>\n",
              "    <tr>\n",
              "      <th>1991-03-01</th>\n",
              "      <td>1991</td>\n",
              "      <td>Marzo</td>\n",
              "      <td>55.0</td>\n",
              "      <td>8</td>\n",
              "    </tr>\n",
              "    <tr>\n",
              "      <th>1991-04-01</th>\n",
              "      <td>1991</td>\n",
              "      <td>Abril</td>\n",
              "      <td>125.6</td>\n",
              "      <td>12</td>\n",
              "    </tr>\n",
              "    <tr>\n",
              "      <th>1991-05-01</th>\n",
              "      <td>1991</td>\n",
              "      <td>Mayo</td>\n",
              "      <td>68.4</td>\n",
              "      <td>7</td>\n",
              "    </tr>\n",
              "  </tbody>\n",
              "</table>\n",
              "</div>\n",
              "      <button class=\"colab-df-convert\" onclick=\"convertToInteractive('df-dcccd5e5-b8eb-4a8d-88dd-2cf9676d113f')\"\n",
              "              title=\"Convert this dataframe to an interactive table.\"\n",
              "              style=\"display:none;\">\n",
              "        \n",
              "  <svg xmlns=\"http://www.w3.org/2000/svg\" height=\"24px\"viewBox=\"0 0 24 24\"\n",
              "       width=\"24px\">\n",
              "    <path d=\"M0 0h24v24H0V0z\" fill=\"none\"/>\n",
              "    <path d=\"M18.56 5.44l.94 2.06.94-2.06 2.06-.94-2.06-.94-.94-2.06-.94 2.06-2.06.94zm-11 1L8.5 8.5l.94-2.06 2.06-.94-2.06-.94L8.5 2.5l-.94 2.06-2.06.94zm10 10l.94 2.06.94-2.06 2.06-.94-2.06-.94-.94-2.06-.94 2.06-2.06.94z\"/><path d=\"M17.41 7.96l-1.37-1.37c-.4-.4-.92-.59-1.43-.59-.52 0-1.04.2-1.43.59L10.3 9.45l-7.72 7.72c-.78.78-.78 2.05 0 2.83L4 21.41c.39.39.9.59 1.41.59.51 0 1.02-.2 1.41-.59l7.78-7.78 2.81-2.81c.8-.78.8-2.07 0-2.86zM5.41 20L4 18.59l7.72-7.72 1.47 1.35L5.41 20z\"/>\n",
              "  </svg>\n",
              "      </button>\n",
              "      \n",
              "  <style>\n",
              "    .colab-df-container {\n",
              "      display:flex;\n",
              "      flex-wrap:wrap;\n",
              "      gap: 12px;\n",
              "    }\n",
              "\n",
              "    .colab-df-convert {\n",
              "      background-color: #E8F0FE;\n",
              "      border: none;\n",
              "      border-radius: 50%;\n",
              "      cursor: pointer;\n",
              "      display: none;\n",
              "      fill: #1967D2;\n",
              "      height: 32px;\n",
              "      padding: 0 0 0 0;\n",
              "      width: 32px;\n",
              "    }\n",
              "\n",
              "    .colab-df-convert:hover {\n",
              "      background-color: #E2EBFA;\n",
              "      box-shadow: 0px 1px 2px rgba(60, 64, 67, 0.3), 0px 1px 3px 1px rgba(60, 64, 67, 0.15);\n",
              "      fill: #174EA6;\n",
              "    }\n",
              "\n",
              "    [theme=dark] .colab-df-convert {\n",
              "      background-color: #3B4455;\n",
              "      fill: #D2E3FC;\n",
              "    }\n",
              "\n",
              "    [theme=dark] .colab-df-convert:hover {\n",
              "      background-color: #434B5C;\n",
              "      box-shadow: 0px 1px 3px 1px rgba(0, 0, 0, 0.15);\n",
              "      filter: drop-shadow(0px 1px 2px rgba(0, 0, 0, 0.3));\n",
              "      fill: #FFFFFF;\n",
              "    }\n",
              "  </style>\n",
              "\n",
              "      <script>\n",
              "        const buttonEl =\n",
              "          document.querySelector('#df-dcccd5e5-b8eb-4a8d-88dd-2cf9676d113f button.colab-df-convert');\n",
              "        buttonEl.style.display =\n",
              "          google.colab.kernel.accessAllowed ? 'block' : 'none';\n",
              "\n",
              "        async function convertToInteractive(key) {\n",
              "          const element = document.querySelector('#df-dcccd5e5-b8eb-4a8d-88dd-2cf9676d113f');\n",
              "          const dataTable =\n",
              "            await google.colab.kernel.invokeFunction('convertToInteractive',\n",
              "                                                     [key], {});\n",
              "          if (!dataTable) return;\n",
              "\n",
              "          const docLinkHtml = 'Like what you see? Visit the ' +\n",
              "            '<a target=\"_blank\" href=https://colab.research.google.com/notebooks/data_table.ipynb>data table notebook</a>'\n",
              "            + ' to learn more about interactive tables.';\n",
              "          element.innerHTML = '';\n",
              "          dataTable['output_type'] = 'display_data';\n",
              "          await google.colab.output.renderOutput(dataTable, element);\n",
              "          const docLink = document.createElement('div');\n",
              "          docLink.innerHTML = docLinkHtml;\n",
              "          element.appendChild(docLink);\n",
              "        }\n",
              "      </script>\n",
              "    </div>\n",
              "  </div>\n",
              "  "
            ]
          },
          "metadata": {},
          "execution_count": 10
        }
      ]
    },
    {
      "cell_type": "code",
      "source": [
        "import matplotlib.dates as mdates\n",
        "# Grafico\n",
        "ax = df.plot( y='mm', figsize=(12,5), x_compat=True )\n",
        "ax.xaxis.set_major_locator(mdates.YearLocator()) # Poner labels solo en cada año\n",
        "ax.xaxis.set_major_formatter( mdates.DateFormatter(\"%Y\") ) # Formatear label\n",
        "plt.title('Lluvia [mm] por mes en CABA 1991-2020');"
      ],
      "metadata": {
        "colab": {
          "base_uri": "https://localhost:8080/",
          "height": 334
        },
        "id": "kXTj9JZfFFwi",
        "outputId": "dd3ce434-07e4-4894-e516-10222239c8e3"
      },
      "execution_count": null,
      "outputs": [
        {
          "output_type": "display_data",
          "data": {
            "text/plain": [
              "<Figure size 864x360 with 1 Axes>"
            ],
            "image/png": "[encoded data removed]"
          },
          "metadata": {
            "needs_background": "light"
          }
        }
      ]
    },
    {
      "cell_type": "markdown",
      "source": [
        "**ITEM**: Dado el dataframe `df`, defina un nuevo dataframe `yearly_max` que en vez de incluir las lluvias mensuales, agrupe por año calendario la máxima lluvia mensual registrada\n",
        "\n",
        "PISTA: Para los primeros 5 años debieran ver que el dataframe contiene los datos del mes de septiembre"
      ],
      "metadata": {
        "id": "dnedPYKEga9Z"
      }
    },
    {
      "cell_type": "code",
      "source": [
        "# Datafarme de maximos anuales\n",
        "\n",
        "# CODIGO DEL ALUMNO ============================================================\n",
        "yearly_max = []\n",
        "# ==============================================================================\n",
        "\n",
        "yearly_max.head()"
      ],
      "metadata": {
        "colab": {
          "base_uri": "https://localhost:8080/",
          "height": 238
        },
        "id": "1ukQwwmROuaT",
        "outputId": "b7c1df10-eed6-47ed-8174-5ba612bcad3c"
      },
      "execution_count": null,
      "outputs": [
        {
          "output_type": "execute_result",
          "data": {
            "text/plain": [
              "             ano         mes     mm  dias\n",
              "fecha                                    \n",
              "1991-12-31  1991  Septiembre  244.0    16\n",
              "1992-12-31  1992  Septiembre  189.5    16\n",
              "1993-12-31  1993  Septiembre  215.8    14\n",
              "1994-12-31  1994  Septiembre  209.9    17\n",
              "1995-12-31  1995  Septiembre  171.1    13"
            ],
            "text/html": [
              "\n",
              "  <div id=\"df-ed517738-3677-4762-ad4a-58e94e34fd65\">\n",
              "    <div class=\"colab-df-container\">\n",
              "      <div>\n",
              "<style scoped>\n",
              "    .dataframe tbody tr th:only-of-type {\n",
              "        vertical-align: middle;\n",
              "    }\n",
              "\n",
              "    .dataframe tbody tr th {\n",
              "        vertical-align: top;\n",
              "    }\n",
              "\n",
              "    .dataframe thead th {\n",
              "        text-align: right;\n",
              "    }\n",
              "</style>\n",
              "<table border=\"1\" class=\"dataframe\">\n",
              "  <thead>\n",
              "    <tr style=\"text-align: right;\">\n",
              "      <th></th>\n",
              "      <th>ano</th>\n",
              "      <th>mes</th>\n",
              "      <th>mm</th>\n",
              "      <th>dias</th>\n",
              "    </tr>\n",
              "    <tr>\n",
              "      <th>fecha</th>\n",
              "      <th></th>\n",
              "      <th></th>\n",
              "      <th></th>\n",
              "      <th></th>\n",
              "    </tr>\n",
              "  </thead>\n",
              "  <tbody>\n",
              "    <tr>\n",
              "      <th>1991-12-31</th>\n",
              "      <td>1991</td>\n",
              "      <td>Septiembre</td>\n",
              "      <td>244.0</td>\n",
              "      <td>16</td>\n",
              "    </tr>\n",
              "    <tr>\n",
              "      <th>1992-12-31</th>\n",
              "      <td>1992</td>\n",
              "      <td>Septiembre</td>\n",
              "      <td>189.5</td>\n",
              "      <td>16</td>\n",
              "    </tr>\n",
              "    <tr>\n",
              "      <th>1993-12-31</th>\n",
              "      <td>1993</td>\n",
              "      <td>Septiembre</td>\n",
              "      <td>215.8</td>\n",
              "      <td>14</td>\n",
              "    </tr>\n",
              "    <tr>\n",
              "      <th>1994-12-31</th>\n",
              "      <td>1994</td>\n",
              "      <td>Septiembre</td>\n",
              "      <td>209.9</td>\n",
              "      <td>17</td>\n",
              "    </tr>\n",
              "    <tr>\n",
              "      <th>1995-12-31</th>\n",
              "      <td>1995</td>\n",
              "      <td>Septiembre</td>\n",
              "      <td>171.1</td>\n",
              "      <td>13</td>\n",
              "    </tr>\n",
              "  </tbody>\n",
              "</table>\n",
              "</div>\n",
              "      <button class=\"colab-df-convert\" onclick=\"convertToInteractive('df-ed517738-3677-4762-ad4a-58e94e34fd65')\"\n",
              "              title=\"Convert this dataframe to an interactive table.\"\n",
              "              style=\"display:none;\">\n",
              "        \n",
              "  <svg xmlns=\"http://www.w3.org/2000/svg\" height=\"24px\"viewBox=\"0 0 24 24\"\n",
              "       width=\"24px\">\n",
              "    <path d=\"M0 0h24v24H0V0z\" fill=\"none\"/>\n",
              "    <path d=\"M18.56 5.44l.94 2.06.94-2.06 2.06-.94-2.06-.94-.94-2.06-.94 2.06-2.06.94zm-11 1L8.5 8.5l.94-2.06 2.06-.94-2.06-.94L8.5 2.5l-.94 2.06-2.06.94zm10 10l.94 2.06.94-2.06 2.06-.94-2.06-.94-.94-2.06-.94 2.06-2.06.94z\"/><path d=\"M17.41 7.96l-1.37-1.37c-.4-.4-.92-.59-1.43-.59-.52 0-1.04.2-1.43.59L10.3 9.45l-7.72 7.72c-.78.78-.78 2.05 0 2.83L4 21.41c.39.39.9.59 1.41.59.51 0 1.02-.2 1.41-.59l7.78-7.78 2.81-2.81c.8-.78.8-2.07 0-2.86zM5.41 20L4 18.59l7.72-7.72 1.47 1.35L5.41 20z\"/>\n",
              "  </svg>\n",
              "      </button>\n",
              "      \n",
              "  <style>\n",
              "    .colab-df-container {\n",
              "      display:flex;\n",
              "      flex-wrap:wrap;\n",
              "      gap: 12px;\n",
              "    }\n",
              "\n",
              "    .colab-df-convert {\n",
              "      background-color: #E8F0FE;\n",
              "      border: none;\n",
              "      border-radius: 50%;\n",
              "      cursor: pointer;\n",
              "      display: none;\n",
              "      fill: #1967D2;\n",
              "      height: 32px;\n",
              "      padding: 0 0 0 0;\n",
              "      width: 32px;\n",
              "    }\n",
              "\n",
              "    .colab-df-convert:hover {\n",
              "      background-color: #E2EBFA;\n",
              "      box-shadow: 0px 1px 2px rgba(60, 64, 67, 0.3), 0px 1px 3px 1px rgba(60, 64, 67, 0.15);\n",
              "      fill: #174EA6;\n",
              "    }\n",
              "\n",
              "    [theme=dark] .colab-df-convert {\n",
              "      background-color: #3B4455;\n",
              "      fill: #D2E3FC;\n",
              "    }\n",
              "\n",
              "    [theme=dark] .colab-df-convert:hover {\n",
              "      background-color: #434B5C;\n",
              "      box-shadow: 0px 1px 3px 1px rgba(0, 0, 0, 0.15);\n",
              "      filter: drop-shadow(0px 1px 2px rgba(0, 0, 0, 0.3));\n",
              "      fill: #FFFFFF;\n",
              "    }\n",
              "  </style>\n",
              "\n",
              "      <script>\n",
              "        const buttonEl =\n",
              "          document.querySelector('#df-ed517738-3677-4762-ad4a-58e94e34fd65 button.colab-df-convert');\n",
              "        buttonEl.style.display =\n",
              "          google.colab.kernel.accessAllowed ? 'block' : 'none';\n",
              "\n",
              "        async function convertToInteractive(key) {\n",
              "          const element = document.querySelector('#df-ed517738-3677-4762-ad4a-58e94e34fd65');\n",
              "          const dataTable =\n",
              "            await google.colab.kernel.invokeFunction('convertToInteractive',\n",
              "                                                     [key], {});\n",
              "          if (!dataTable) return;\n",
              "\n",
              "          const docLinkHtml = 'Like what you see? Visit the ' +\n",
              "            '<a target=\"_blank\" href=https://colab.research.google.com/notebooks/data_table.ipynb>data table notebook</a>'\n",
              "            + ' to learn more about interactive tables.';\n",
              "          element.innerHTML = '';\n",
              "          dataTable['output_type'] = 'display_data';\n",
              "          await google.colab.output.renderOutput(dataTable, element);\n",
              "          const docLink = document.createElement('div');\n",
              "          docLink.innerHTML = docLinkHtml;\n",
              "          element.appendChild(docLink);\n",
              "        }\n",
              "      </script>\n",
              "    </div>\n",
              "  </div>\n",
              "  "
            ]
          },
          "metadata": {},
          "execution_count": 12
        }
      ]
    },
    {
      "cell_type": "code",
      "source": [
        "# Grafico\n",
        "ax = yearly_max.plot( y='mm', legend=False, figsize=(10,5), x_compat=True )\n",
        "ax.xaxis.set_major_formatter( mdates.DateFormatter(\"%Y\") ) # Formatear label # Formatear labels\n",
        "plt.title('Máxima lluvia anual [mm] en CABA 1991-2020');"
      ],
      "metadata": {
        "colab": {
          "base_uri": "https://localhost:8080/",
          "height": 334
        },
        "id": "VTlKBEAEO3jr",
        "outputId": "a0d321cc-a664-47e1-d451-1033de5e7f91"
      },
      "execution_count": null,
      "outputs": [
        {
          "output_type": "display_data",
          "data": {
            "text/plain": [
              "<Figure size 720x360 with 1 Axes>"
            ],
            "image/png": "[encoded data removed]"
          },
          "metadata": {
            "needs_background": "light"
          }
        }
      ]
    },
    {
      "cell_type": "markdown",
      "source": [
        "**ITEM**: Haga un histograma para la lluvia máxima mensual en términos de probabilidad. Elija un numero de bins que considere apropriado."
      ],
      "metadata": {
        "id": "LeFgIKPqihIN"
      }
    },
    {
      "cell_type": "code",
      "source": [
        "# Histograma\n",
        "# CODIGO DEL ALUMNO ============================================================\n",
        "\n",
        "# ==============================================================================\n",
        "\n",
        "plt.show()\n",
        "print( yearly_max['mm'].mean(), yearly_max['mm'].std() )"
      ],
      "metadata": {
        "colab": {
          "base_uri": "https://localhost:8080/",
          "height": 312
        },
        "id": "TF2C8Jn4QzQ2",
        "outputId": "cd79015d-dd6f-4aaf-e3b7-768c1546a2b7"
      },
      "execution_count": null,
      "outputs": [
        {
          "output_type": "display_data",
          "data": {
            "text/plain": [
              "<Figure size 432x288 with 1 Axes>"
            ],
            "image/png": "[encoded data removed]"
          },
          "metadata": {
            "needs_background": "light"
          }
        },
        {
          "output_type": "stream",
          "name": "stdout",
          "text": [
            "245.07 75.53755015062787\n"
          ]
        }
      ]
    },
    {
      "cell_type": "markdown",
      "source": [
        "###Ajuste de una función de distribución para la máxima lluvia acumulada mensual por año\n",
        "\n",
        "En este paso usted ajustará una función de distribucón para la máxima lluvia mensual en un año. Dado que es un problema de extremos, y visto el histograma que usted generó, se considera apropiado tomar como modelo la distribución de máximo de Tipo I, conocida como distribución de Gumbel:\n",
        "\n",
        "$$p(y|\\mu,\\beta) = e^{-\\frac{x-\\mu}{\\beta}-e^{-\\left(\\frac{x-\\mu}{\\beta}\\right)}}$$\n",
        "\n",
        "A la cual le debemos ajustar los parámetros $\\mu$ y $\\beta$. La distribución de Gumbel **No** tiene una distribución conjugada, por lo que no hay una solución analítica para la distribución a posterior de los parámetros. Tampoco se puede plantear una distribución a priori no-informativa.\n",
        "\n",
        "En este problema, queda en usted elegir un método de solución numérica y proponer funciones de distribución a priori poco informativas (distribuciones que sean razonablemente planas dentro del rango de valores que puedan llegar a tener las variables). Queda en usted probar posibles funciones y asegurarse que su elección de distribución a priori no está afectando la inferencia*.\n",
        "\n",
        "*NOTA: Asumiendo que es lo que usted quiere. ¡Si tiene información que quiere introducir en el modelo es bienvenido!"
      ],
      "metadata": {
        "id": "4ERgy3j9jUXp"
      }
    },
    {
      "cell_type": "markdown",
      "source": [
        "Los datos observados vamos a ubicarlos en la variable `y`"
      ],
      "metadata": {
        "id": "FYn6awesl_a6"
      }
    },
    {
      "cell_type": "code",
      "source": [
        "# Observaciones\n",
        "y = yearly_max['mm']"
      ],
      "metadata": {
        "id": "paKP4FkbRIdk"
      },
      "execution_count": null,
      "outputs": []
    },
    {
      "cell_type": "markdown",
      "source": [
        "**ITEM**: Obtenga la distribución posterior de los parámetros $\\mu$ y $\\beta$ por el método que le guste. Grafíquelas, y calcule para cada una su valor medio y un intervalo de confianza que le parezca razonable."
      ],
      "metadata": {
        "id": "Ii15rU2jk3t0"
      }
    },
    {
      "cell_type": "code",
      "source": [
        "# CODIGO DEL ALUMNO ============================================================\n",
        "\n",
        "# =============================================================================="
      ],
      "metadata": {
        "id": "FhXfFs68lSPM"
      },
      "execution_count": null,
      "outputs": []
    },
    {
      "cell_type": "markdown",
      "source": [
        "**ITEM**: A partir de las distribuciones posteriores de los parámetros, realice simulaciones posteriores predictivas de nuevas observaciones $y$ y guardelas en la variable `y_post`"
      ],
      "metadata": {
        "id": "6ZcLUtbnleAn"
      }
    },
    {
      "cell_type": "code",
      "source": [
        "Npred = 5000\n",
        "\n",
        "# CODIGO DEL ALUMNO ===========================================================\n",
        "\n",
        "y_post = []\n",
        "# =============================================================================="
      ],
      "metadata": {
        "id": "na9V57LzlsCL"
      },
      "execution_count": null,
      "outputs": []
    },
    {
      "cell_type": "markdown",
      "source": [
        "###Evaluación\n",
        "Teniendo el vector `y_post` con las simulaciones del modelo ajustado, abajo puede ver el qq-plot."
      ],
      "metadata": {
        "id": "ze2v96cPr5Cj"
      }
    },
    {
      "cell_type": "code",
      "source": [
        "qqplot(y_post,y)"
      ],
      "metadata": {
        "colab": {
          "base_uri": "https://localhost:8080/",
          "height": 334
        },
        "id": "vxc6rBi5tg2o",
        "outputId": "8f4d58fe-087b-454e-ac0f-53f16ce5e431"
      },
      "execution_count": null,
      "outputs": [
        {
          "output_type": "display_data",
          "data": {
            "text/plain": [
              "<Figure size 360x360 with 1 Axes>"
            ],
            "image/png": "[encoded data removed]"
          },
          "metadata": {
            "needs_background": "light"
          }
        }
      ]
    },
    {
      "cell_type": "markdown",
      "source": [
        "**ITEM**: ¿El modelo elegido se ajusta a los datos observados?"
      ],
      "metadata": {
        "id": "fQJMROu3tpFZ"
      }
    },
    {
      "cell_type": "markdown",
      "source": [
        "**Su respuesta**: "
      ],
      "metadata": {
        "id": "4l2qCFhAtyiZ"
      }
    },
    {
      "cell_type": "markdown",
      "source": [
        "###Periodo de Retorno\n",
        "Ya con el vector `y_post`, para definir el período de retorno es necesario construir la función de probabilidad acumulada empírica."
      ],
      "metadata": {
        "id": "EAsGpkL6wH0O"
      }
    },
    {
      "cell_type": "code",
      "source": [
        "# CODIGO DEL ALUMNO ============================================================\n",
        "\n",
        "# abcisas\n",
        "xecdf = []\n",
        "# ordenadas\n",
        "yecdf = []\n",
        "# ==============================================================================\n",
        "\n",
        "plt.plot(xecdf,yecdf)\n",
        "plt.xlabel('maxima lluvia mensual en un año [mm]')\n",
        "plt.ylabel('ECDF')\n",
        "plt.show()"
      ],
      "metadata": {
        "colab": {
          "base_uri": "https://localhost:8080/",
          "height": 279
        },
        "id": "9Oclyd5BugDr",
        "outputId": "62015cfd-52dc-424f-e4db-f8ad3f25ef12"
      },
      "execution_count": null,
      "outputs": [
        {
          "output_type": "display_data",
          "data": {
            "text/plain": [
              "<Figure size 432x288 with 1 Axes>"
            ],
            "image/png": "[encoded data removed]"
          },
          "metadata": {
            "needs_background": "light"
          }
        }
      ]
    },
    {
      "cell_type": "markdown",
      "source": [
        "El período de retorno $T(x)$ es el tiempo promedio $T$ entre eventos que superan determinado valor de la variable $x$:\n",
        "\n",
        "$$T(x) = \\frac{1}{1-p(X\\leq x)}$$\n",
        "\n",
        "lo que considera que el tiempo promedio es la inversa de la probabilidad de excedencia.\n",
        "\n",
        "**ITEM**: En base a los datos, grafique el período de retorno para la máxima lluvia mensual en un año `Tr`:"
      ],
      "metadata": {
        "id": "r8Wq302gyNY3"
      }
    },
    {
      "cell_type": "code",
      "source": [
        "# Periodo de retorno\n",
        "\n",
        "# CODIGO DEL ALUMNO ============================================================\n",
        "Tr = []\n",
        "\n",
        "# ==============================================================================\n",
        "plt.show()"
      ],
      "metadata": {
        "colab": {
          "base_uri": "https://localhost:8080/",
          "height": 265
        },
        "id": "DC785gRr79zI",
        "outputId": "ec97c092-e223-4415-9a7c-de24b863ab1d"
      },
      "execution_count": null,
      "outputs": [
        {
          "output_type": "display_data",
          "data": {
            "text/plain": [
              "<Figure size 432x288 with 1 Axes>"
            ],
            "image/png": "[encoded data removed]"
          },
          "metadata": {
            "needs_background": "light"
          }
        }
      ]
    },
    {
      "cell_type": "markdown",
      "source": [
        "**ITEM**: ¿Cuál es la máxima lluvia mensual para un período de retorno de 100 años? (Sea conservador)"
      ],
      "metadata": {
        "id": "5qF_m4RB1l9H"
      }
    },
    {
      "cell_type": "code",
      "source": [
        "# CODIGO DEL ALUMNO ============================================================\n",
        "Tmax = []\n",
        "\n",
        "# ==============================================================================\n",
        "\n",
        "print('La máxima lluvia mensual con período de retorno 100 años es',Tmax,'mm')"
      ],
      "metadata": {
        "colab": {
          "base_uri": "https://localhost:8080/"
        },
        "id": "zIOHXIhI1lXT",
        "outputId": "87b46d9c-0996-4937-8e6c-96ac150e9045"
      },
      "execution_count": null,
      "outputs": [
        {
          "output_type": "stream",
          "name": "stdout",
          "text": [
            "La máxima lluvia mensual con período de retorno 100 años es 478.46407079410267 mm\n"
          ]
        }
      ]
    },
    {
      "cell_type": "markdown",
      "source": [
        "##Ejercicio 3: Inferencia sobre el dataset escogido en el TP1\n",
        "\n",
        "Vuelva al dataset que usted eligió para el TP1. Elija una de las variables del dataset y:\n",
        "\n",
        "*   Proponga un modelo posible de generación de datos según su Análisis Exploratorio de Datos,\n",
        "*   Ajuste su modelo mediante el método que prefiera,\n",
        "*   Evalue su ajuste a partir de simulación y comparando las ECDF y utilizando QQ-plots."
      ],
      "metadata": {
        "id": "Da_ZUsMUwI8t"
      }
    }
  ]
}