{
  "nbformat": 4,
  "nbformat_minor": 0,
  "metadata": {
    "colab": {
      "provenance": [],
      "include_colab_link": true
    },
    "kernelspec": {
      "name": "python3",
      "display_name": "Python 3"
    },
    "language_info": {
      "name": "python"
    }
  },
  "cells": [
    {
      "cell_type": "markdown",
      "metadata": {
        "id": "view-in-github",
        "colab_type": "text"
      },
      "source": [
        "<a href=\"https://colab.research.google.com/github/mbalbi/ciencia_de_datos/blob/main/tps/trabajo_practico_4.ipynb\" target=\"_parent\"><img src=\"https://colab.research.google.com/assets/colab-badge.svg\" alt=\"Open In Colab\"/></a>"
      ]
    },
    {
      "cell_type": "markdown",
      "source": [
        "#Trabajo Práctico 4: Modelos de regresión\n",
        "\n",
        "**Objetivos:** Este trabajo tiene como objetivos familiarizar al alumno con los métodos numéricos para el ajuste de ecuaciones de regresión con un framework Bayesiano, así como entender el efecto de la incertidumbre de los parametros estimados en las predicciones y el análisis de datos.\n",
        "\n",
        "**Librerías:** para realizar este trabajo serán necesarias las siguientes librerías (Si requiere usar otras no incluidas aquí, no dude en importarlas).\n",
        "- Numpy: matemática básica y definición de matrices y vectores\n",
        "- Scipy.stats: repositorio de distribuciones de probabilidad y funciones de algebra\n",
        "- Pandas: manejo de datasets\n",
        "- Seaborn: visualización de datos\n",
        "- pymc: inferencia bayesiana\n",
        "- arviz:"
      ],
      "metadata": {
        "id": "-WXtFwUXfZd1"
      }
    },
    {
      "cell_type": "code",
      "source": [
        "import numpy as np\n",
        "import scipy.stats as st\n",
        "import pandas as pd\n",
        "import matplotlib.pyplot as plt\n",
        "import seaborn as sns\n",
        "import io\n",
        "# !pip install pymc\n",
        "import pymc as pm\n",
        "import arviz as az"
      ],
      "metadata": {
        "id": "VBe58PrKeQ_6"
      },
      "execution_count": null,
      "outputs": []
    },
    {
      "cell_type": "markdown",
      "source": [
        "## Ejercicio 1: Inferencia de la distribución de probabilidad de distintos tipos de hormigón.\n",
        "\n",
        "Se analizarán los resultados de los ensayos de distintos hormigones a 28 días, cuya composición se encuentra indicada en el dataset.\n"
      ],
      "metadata": {
        "id": "Y-gesLYqdHcG"
      }
    },
    {
      "cell_type": "markdown",
      "source": [
        "###Curado del Dataset\n",
        "\n",
        "Primero, cargue el dataset **concrete_data_28days.csv**, en el que encontrará todas las variables necesarias para realizar la regresión:"
      ],
      "metadata": {
        "id": "f4qVBMd1t5g6"
      }
    },
    {
      "cell_type": "code",
      "source": [
        "#Abrimos un archivo local, es decir, que ha sido descargado en su computadora\n",
        "from google.colab import files\n",
        "uploaded = files.upload()"
      ],
      "metadata": {
        "id": "0n7ziq5JuxkL"
      },
      "execution_count": null,
      "outputs": []
    },
    {
      "cell_type": "code",
      "source": [
        "#Se crea un DataFrame\n",
        "df_hormigon = pd.read_csv(io.BytesIO(uploaded['concrete_data_28days.csv']))\n",
        "df_hormigon.head()"
      ],
      "metadata": {
        "id": "6Yo3Aepiu6Uc"
      },
      "execution_count": null,
      "outputs": []
    },
    {
      "cell_type": "markdown",
      "source": [
        "**Item**: Lo primero que debe hacer es crear una nueva columna, llamada  `strength_cat` equivalente a las variables ordinales categóricas de la columna `type` según:\n",
        "- baja: 1\n",
        "- media: 2\n",
        "- alta: 3"
      ],
      "metadata": {
        "id": "vc4x0kCUvRRc"
      }
    },
    {
      "cell_type": "code",
      "source": [
        "# CODIGO DEL ALUMNO ############################################################\n",
        "\n",
        "\n",
        "\n",
        "################################################################################\n",
        "\n",
        "df_hormigon.head()"
      ],
      "metadata": {
        "id": "UUxng9bnwRw7"
      },
      "execution_count": null,
      "outputs": []
    },
    {
      "cell_type": "markdown",
      "source": [
        "###Análisis Exploratorio de Datos\n",
        "\n",
        "A continuación, se grafica la matriz de correlación para identificar aquellas variables que podrían ser interesantes utilizar para modelar."
      ],
      "metadata": {
        "id": "zmQo2J2kwu8K"
      }
    },
    {
      "cell_type": "code",
      "source": [
        "# Gráfico de calor para la matriz de correlación\n",
        "sns.heatmap(df_hormigon.corr(), cmap='BuPu', fmt='.2f', annot=True, linewidths=.6)"
      ],
      "metadata": {
        "id": "p1W7I7Zs7IlW"
      },
      "execution_count": null,
      "outputs": []
    },
    {
      "cell_type": "markdown",
      "source": [
        "A continuación, se graficarán distintas relaciones.\n",
        "\n",
        "**Item**: ¿Observa alguna tendencia de cómo la cantidad de los materiales analizados afectan a la resistencia del hormigón?\n",
        "\n",
        "**Su respuesta**"
      ],
      "metadata": {
        "id": "5HsNgv2z7D_i"
      }
    },
    {
      "cell_type": "code",
      "source": [
        "sns.scatterplot(y=\"concrete_compressive_strength\", x=\"cement\", hue=\"water\", data=df_hormigon,sizes=(50, 300))\n",
        "plt.legend(bbox_to_anchor=(1.02, 1), loc='upper left', borderaxespad=0, title='water').set(title='agua')"
      ],
      "metadata": {
        "id": "2Iv_lIbV6ajo"
      },
      "execution_count": null,
      "outputs": []
    },
    {
      "cell_type": "code",
      "source": [
        "sns.scatterplot(y=\"concrete_compressive_strength\", x=\"cement\", hue=\"water\", size=\"superplasticizer\", data=df_hormigon,sizes=(50, 300)).set(title='Resistencia del hormigón')\n",
        "plt.legend(bbox_to_anchor=(1.02, 1), loc='upper left', borderaxespad=0)"
      ],
      "metadata": {
        "id": "rs8jABr16caW"
      },
      "execution_count": null,
      "outputs": []
    },
    {
      "cell_type": "code",
      "source": [
        "sns.scatterplot(y=\"concrete_compressive_strength\", x=\"cement\", hue=\"water\", size=\"fly_ash\", data=df_hormigon,sizes=(50, 300)).set(title='Resistencia del hormigón')\n",
        "plt.legend(bbox_to_anchor=(1.02, 1), loc='upper left', borderaxespad=0)"
      ],
      "metadata": {
        "id": "ZEpEcH5x6edm"
      },
      "execution_count": null,
      "outputs": []
    },
    {
      "cell_type": "markdown",
      "source": [
        "###Construcción de Modelos\n",
        "\n",
        "Siendo $strength$_$cat$ una variable categórica ordinal, se proponen distintos modelos para luego evaluar con cuál de ellos quedarse."
      ],
      "metadata": {
        "id": "Cmz_j2k1hkyC"
      }
    },
    {
      "cell_type": "code",
      "source": [
        "# Preparación de la data input\n",
        "y = df_hormigon['strength_cat'].to_numpy() \n",
        "x = df_hormigon[['cement', 'water', 'fly_ash', 'superplasticizer']]\n",
        "\n",
        "Nk = 3 # Número de categorias"
      ],
      "metadata": {
        "id": "lr3z63Oo87mF"
      },
      "execution_count": null,
      "outputs": []
    },
    {
      "cell_type": "markdown",
      "source": [
        "####Modelo 1\n",
        "\n",
        "Para empezar, el Modelo 1 será el más sencillo y tendrá a $cement$ como única variable. Le recomendamos ver detenidamente la sintaxis escrita por nosotros para que luego la repita en el siguiente modelo."
      ],
      "metadata": {
        "id": "Sr-otb69hHbW"
      }
    },
    {
      "cell_type": "code",
      "source": [
        "# Estandarización de las variables\n",
        "x_cement_std = x['cement']\n",
        "x_cement_std = (x_cement_std-x_cement_std.mean())/x_cement_std.std()"
      ],
      "metadata": {
        "id": "_p9WZcOB9i_k"
      },
      "execution_count": null,
      "outputs": []
    },
    {
      "cell_type": "code",
      "source": [
        "with pm.Model() as model_1:\n",
        "\n",
        "    X_cement = pm.MutableData( \"x_cement\", x_cement_std)\n",
        "\n",
        "    # Distribuciones a priori\n",
        "    kappa = pm.Normal( \"kappa\", mu=0.0, sigma=2,\n",
        "                       transform=pm.distributions.transforms.ordered,\n",
        "                       shape=Nk, initval=np.arange(Nk) - 2 )\n",
        "        \n",
        "    beta_cement = pm.Normal(\"beta_cement\", 0, 1)\n",
        "\n",
        "    # Probabilidades\n",
        "    phi = pm.Deterministic( \"phi\", beta_cement*X_cement)\n",
        "    \n",
        "    # Verosimilitud\n",
        "    Y = pm.OrderedLogistic(\"y\", eta=phi, cutpoints=kappa, observed=y-1)\n",
        "\n",
        "pm.model_to_graphviz(model_1)"
      ],
      "metadata": {
        "id": "sL9MORk09jCz"
      },
      "execution_count": null,
      "outputs": []
    },
    {
      "cell_type": "code",
      "source": [
        "with model_1:\n",
        "  trace_1 = pm.sample( 3000, tune=2000, cores=2, target_accept=0.9 )"
      ],
      "metadata": {
        "id": "RTBGPco3-Mha"
      },
      "execution_count": null,
      "outputs": []
    },
    {
      "cell_type": "markdown",
      "source": [
        "**Item**: Selecciona un intervalo para generar simulaciones posteriores predictivas para graficar xtest:"
      ],
      "metadata": {
        "id": "qcRHLq3Dl88-"
      }
    },
    {
      "cell_type": "code",
      "source": [
        "# CODIGO DEL ALUMNO ############################################################\n",
        "xtest =\n",
        "\n",
        "################################################################################\n",
        "\n",
        "with model_1:\n",
        "    pm.set_data({\"x_cement\":xtest})\n",
        "    ppc_1 = pm.sample_posterior_predictive( trace_1, var_names=['y','phi','y_probs'] )"
      ],
      "metadata": {
        "id": "J8L4V7Lnb2GF"
      },
      "execution_count": null,
      "outputs": []
    },
    {
      "cell_type": "markdown",
      "source": [
        "**Item**: Realiza el gráfico de distribuciones posteriores $P[DS>=dsi]$ para cada categoría, en función de la variable $cement$:"
      ],
      "metadata": {
        "id": "IUWz6rLAmvOO"
      }
    },
    {
      "cell_type": "code",
      "source": [
        "from matplotlib.ticker import MultipleLocator\n",
        "\n",
        "# CODIGO DEL ALUMNO ############################################################\n",
        "\n",
        "\n",
        "\n",
        "################################################################################"
      ],
      "metadata": {
        "id": "czW8n1xekfhI"
      },
      "execution_count": null,
      "outputs": []
    },
    {
      "cell_type": "markdown",
      "source": [
        "#### Modelo 2\n",
        "\n",
        "**Item**: De forma análoga al modelo 1, propone una nueva regresión con las variables analizadas en el EDA. "
      ],
      "metadata": {
        "id": "te56ODo8hVLP"
      }
    },
    {
      "cell_type": "code",
      "source": [
        "# Estandarización de las variables\n",
        "# CODIGO DEL ALUMNO ############################################################\n",
        "\n",
        "\n",
        "\n",
        "################################################################################"
      ],
      "metadata": {
        "id": "db8cNj5D_mtT"
      },
      "execution_count": null,
      "outputs": []
    },
    {
      "cell_type": "code",
      "source": [
        "# Modelo: model_2\n",
        "# CODIGO DEL ALUMNO ############################################################\n",
        "\n",
        "\n",
        "\n",
        "################################################################################\n",
        "\n",
        "pm.model_to_graphviz(model_2)"
      ],
      "metadata": {
        "id": "IdII9pY7ilxI"
      },
      "execution_count": null,
      "outputs": []
    },
    {
      "cell_type": "markdown",
      "source": [
        "### Selección del Modelo\n",
        "\n",
        "**Item**: A partir de la estimación del Leave-One-Out Cross-Validation (PSIS-LOO CV), haga un ranking de los modelos elaborados y seleccione el modelo que crea más adecuado"
      ],
      "metadata": {
        "id": "8LGBrU3SpORL"
      }
    },
    {
      "cell_type": "code",
      "source": [
        "# Comparamos los modelos polinómicos mediane PSIS-LOOCV\n",
        "models_list = {'1':trace_1,'2':trace_2}\n",
        "\n",
        "# CODIGO DEL ALUMNO ============================================================\n",
        "\n",
        "\n",
        "# ==============================================================================\n",
        "\n",
        "az_comp_loo"
      ],
      "metadata": {
        "id": "3O6CTrs3d0Mz"
      },
      "execution_count": null,
      "outputs": []
    },
    {
      "cell_type": "markdown",
      "source": [
        "**Item**: Muestre en forma gráfica los resultados"
      ],
      "metadata": {
        "id": "lHk3RzG5SX_o"
      }
    },
    {
      "cell_type": "code",
      "source": [
        "# CODIGO DEL ALUMNO ============================================================\n",
        "\n",
        "\n",
        "# =============================================================================="
      ],
      "metadata": {
        "id": "kgLHbyX1d0bC"
      },
      "execution_count": null,
      "outputs": []
    },
    {
      "cell_type": "markdown",
      "source": [
        "**Item**: Indique qué modelo seleccionó. Viendo el ordenamiento de los modelos, ¿incorporar más variables siempre mejora el modelo?"
      ],
      "metadata": {
        "id": "TXODdn5FeFzT"
      }
    },
    {
      "cell_type": "markdown",
      "source": [
        "**Su Respuesta**:"
      ],
      "metadata": {
        "id": "hY5Uj8IueTDe"
      }
    },
    {
      "cell_type": "markdown",
      "source": [
        "## Ejercicio 2: Regresión con procesos gaussianos \n",
        "\n",
        "El objetivo de este segundo ejercicio es que explore los distintos modelos de regresión para su dataset seleccionado. Para ello:\n",
        "- Construya **un** modelo con procesos graussianos\n"
      ],
      "metadata": {
        "id": "arc7QQJrrcTc"
      }
    }
  ]
}