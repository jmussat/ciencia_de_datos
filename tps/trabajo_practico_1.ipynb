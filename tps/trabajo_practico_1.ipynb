{
  "nbformat": 4,
  "nbformat_minor": 0,
  "metadata": {
    "colab": {
      "name": "trabajo_practico_1.ipynb",
      "provenance": [],
      "collapsed_sections": [],
      "authorship_tag": "ABX9TyOLX7ar/d3QEKLzwtNWIbBM",
      "include_colab_link": true
    },
    "kernelspec": {
      "name": "python3",
      "display_name": "Python 3"
    },
    "language_info": {
      "name": "python"
    }
  },
  "cells": [
    {
      "cell_type": "markdown",
      "metadata": {
        "id": "view-in-github",
        "colab_type": "text"
      },
      "source": [
        "<a href=\"https://colab.research.google.com/github/mbalbi/ciencia_de_datos/blob/tp1/tps/trabajo_practico_1.ipynb\" target=\"_parent\"><img src=\"https://colab.research.google.com/assets/colab-badge.svg\" alt=\"Open In Colab\"/></a>"
      ]
    },
    {
      "cell_type": "markdown",
      "source": [
        "# Trabajo Práctico 1: Análisis exploratorio de datos\n",
        "\n",
        "**Objetivos:** Este trabajo tiene como objetivos que el alumno se familiarize con las funciones y librerías básicas de Python, pueda escribir pedazos de código sencillo, y pueda realizar operaciones básicas de manejo, limpieza y visualización de datos. También servirá como punto de inicio para ir pensando el trabajo final que encarará cada alumno.\n",
        "\n",
        "**Librerías:** para realizar este trabajo serán necesarias las siguientes librerías (Si requiere usar otras no incluidas aquí, no dude en importarlas)\n",
        "- Numpy: matemática básica y definición de matrices y vectores\n",
        "- Scipy.stats: repositorio de distribuciones de probabilidad y funciones de algebra\n",
        "- Pandas: manejo de datasets\n",
        "- Seaborn: visualización de datos"
      ],
      "metadata": {
        "id": "7Mc_Q8b3jPda"
      }
    },
    {
      "cell_type": "code",
      "source": [
        "import numpy as np\n",
        "import scipy.stats as st\n",
        "import pandas as pd\n",
        "import matplotlib.pyplot as plt\n",
        "import seaborn as sns"
      ],
      "metadata": {
        "id": "tMMjUX6yj34C"
      },
      "execution_count": 1,
      "outputs": []
    },
    {
      "cell_type": "markdown",
      "source": [
        "## Ejercicio 1: El tablero de Galton\n",
        "\n",
        "El [tablero de Galton](https://en.wikipedia.org/wiki/Galton_board) (o quincunx) es un artefacto para demostrar físicamente el [Teorema Central del límite](https://en.wikipedia.org/wiki/Central_limit_theorem), que establece que la suma de muchas variables aleatorias independientes e idénticamente distribuidas tienden a una distribución Normal.\n",
        "\n",
        "![Alt Text](https://media.giphy.com/media/ySmSyTWaZPLVY4r3GA/giphy.gif)\n",
        "\n",
        "En el tablero, las bolitas van cayendo a través de una grilla de obstáculos equiespaciados. En cada sucesiva fila, la bolita que cae golpea en un obstáculo y sigue su recorrido a la izquierda o la derecha de este con igual probabilidad.\n",
        "\n",
        "Asumiendo que la bolita arranca desde la posición horizontal central del tablero $x_0=0$, y va cayendo dando saltos discretos cada vez que se encuentra con un obstáculo, podemos calcular la posición horizontal de la bolita en el escalón $i$ según,\n",
        "$$ \n",
        "x_{i+1} = x_{i} + \\Delta_i,\\ i=0,1,\\ldots \\\\\n",
        "\\Delta =\n",
        "\\begin{cases}\n",
        "1 & \\text{con probabilidad 0.5}\\\\\n",
        "-1 & \\text{con probabilidad 0.5}\n",
        "\\end{cases}\n",
        "$$"
      ],
      "metadata": {
        "id": "gW2BB08ghdJa"
      }
    },
    {
      "cell_type": "markdown",
      "source": [
        "Se requiere crear una función para calcular la posición de la bolita desde su posición inicial, a través de N obstáculos (pasos) hacia abajo.\n",
        "\n",
        "La función que figura abajo recibe tres argumentos: \n",
        "- p [0<float<1]: La probabilidad de la bolita de ir hacia la derecha (en nuestro tablero es 0.5)\n",
        "- Npasos [int]: La cantidad de pasos que va a tener la caída (el tamaño del tablero)\n",
        "- xinicial [int]: La posición inicial (preinicializada en 0)\n",
        "\n",
        "Complete la función donde se indica, para calcular la posición para cada paso $x_i$ según la fórmula de más arriba."
      ],
      "metadata": {
        "id": "oVDSFsAnnzjs"
      }
    },
    {
      "cell_type": "code",
      "source": [
        "def caminante( p, Npasos, xinicial=0 ):\n",
        "    # Inicializar un vector de 0s por cada paso de la bolita hacia abajo\n",
        "    x = np.zeros( Npasos ) \n",
        "    # Posición inicial\n",
        "    x[0] = xinicial\n",
        "    # Calcular la posición para cada paso\n",
        "    for i in range( Npasos-1 ):\n",
        "        # CÓDIGO DEL ALUMNO =============================\n",
        "        u = np.random.random()\n",
        "        x[i+1] = x[i] + ( u < p ) - ( u > p )\n",
        "        # ===============================================\n",
        "    return x"
      ],
      "metadata": {
        "id": "tZwg-zhCncRy"
      },
      "execution_count": 2,
      "outputs": []
    },
    {
      "cell_type": "markdown",
      "source": [
        "Realice un gráfico de 3 o 4 trayectorias de bolitas, con Npasos=30 para confirmar el correcto funcionamiento de la función 'caminante':"
      ],
      "metadata": {
        "id": "tMHfCOMRMddk"
      }
    },
    {
      "cell_type": "code",
      "source": [
        "p = 0.5 # Probabilidad de ir a derecha\n",
        "Npasos = 30 # Número de pasos de la trayectoria\n",
        "\n",
        "# CÓDIGO DEL ALUMNO ========================\n",
        "# Gráfico\n",
        "fig = plt.figure()\n",
        "for i in range( 3 ):\n",
        "  plt.plot( caminante( p, Npasos ), marker='*' )\n",
        "plt.xlabel('paso')\n",
        "plt.ylabel('posicion')\n",
        "# =========================================="
      ],
      "metadata": {
        "colab": {
          "base_uri": "https://localhost:8080/",
          "height": 296
        },
        "id": "WyErMvHOMvWt",
        "outputId": "3d2b314c-4ebe-44a8-c085-e63406af5672"
      },
      "execution_count": 14,
      "outputs": [
        {
          "output_type": "execute_result",
          "data": {
            "text/plain": [
              "Text(0, 0.5, 'posicion')"
            ]
          },
          "metadata": {},
          "execution_count": 14
        },
        {
          "output_type": "display_data",
          "data": {
            "text/plain": [
              "<Figure size 432x288 with 1 Axes>"
            ],
            "image/png": "[encoded data removed]"
          },
          "metadata": {
            "needs_background": "light"
          }
        }
      ]
    },
    {
      "cell_type": "markdown",
      "source": [
        "Luego de $N$ pasos, la posición de la bolita es el resultado de la suma de $N$ saltos $\\Delta$. Luego de una buena cantidad de pasos, el TCL indica que la posición incierta de la bolita, sigue una distribución de probabilidad Normal según,\n",
        "$$\n",
        "x_i \\sim N \\left( 0, N/\\sqrt{N} \\right)\n",
        "$$\n",
        "\n",
        "\n",
        "para un número grande de trayectorias de bolitas, grafique el histograma de las posiciones de las bolitas luego de $N=30$, y compare con la distribución Normal según el TCL."
      ],
      "metadata": {
        "id": "T8L9xjxMOCcy"
      }
    },
    {
      "cell_type": "code",
      "source": [
        "Nbolas = 2000 # Número de trayectorias a graficar\n",
        "x = np.zeros( [Nbolas, Npasos]) # Posición de la bola i, en el paso j\n",
        "\n",
        "# CÓDIGO DEL ALUMNO ==========================================\n",
        "for i in range( Nbolas ):\n",
        "    x[i] = caminante( 0.5, Npasos )\n",
        "\n",
        "# Plot histogram\n",
        "fig = plt.figure()\n",
        "xplot = np.arange(-20,20,0.1)\n",
        "s = np.sqrt(p*(1-p))\n",
        "plt.plot( xplot, st.norm.pdf(xplot,0,Npasos/np.sqrt(Npasos)) );\n",
        "#plt.hist( x, bins=28, density=True )\n",
        "sns.histplot( x[:,-1], fill=True, alpha=0.5, stat='density',\n",
        "              bins=aa, binwidth=2 )\n",
        "plt.xlabel('posicion')\n",
        "plt.ylabel('p(x)');\n",
        "# ============================================================"
      ],
      "metadata": {
        "colab": {
          "base_uri": "https://localhost:8080/",
          "height": 280
        },
        "id": "ANu05sqrOXG9",
        "outputId": "0eae258c-3d10-4260-911e-fd19aefa8fa5"
      },
      "execution_count": 19,
      "outputs": [
        {
          "output_type": "display_data",
          "data": {
            "text/plain": [
              "<Figure size 432x288 with 1 Axes>"
            ],
            "image/png": "[encoded data removed]"
          },
          "metadata": {
            "needs_background": "light"
          }
        }
      ]
    },
    {
      "cell_type": "markdown",
      "source": [
        "## Ejercicio 2: Procesamiento de señales\n",
        "\n"
      ],
      "metadata": {
        "id": "JjeP_iLRqZ5_"
      }
    },
    {
      "cell_type": "code",
      "source": [],
      "metadata": {
        "id": "_-DbELwPqlNK"
      },
      "execution_count": null,
      "outputs": []
    },
    {
      "cell_type": "markdown",
      "source": [
        "## Ejercicio 3: Explorando el dataset elegido\n",
        "\n",
        "Como puntapié inicial del trabajo final de la materia, elija un dataset (como mínimo 3 variables!) que le sea de su interés particular, y sobre el cuál iremos trabajando a lo largo de la materia. No hay restricción en el tipo de dataset y su área de aplicación, pero sí asegúrese que sea público o, en caso contrario, esté debidamente anonimizado o acreditado.\n",
        "\n",
        "Con el dataset elegido, le pediremos que conteste las siguientes preguntas:\n",
        "1. Explique su interés en ese dataset, y cómo se relaciona con su vida profesional, académica o personal.\n",
        "2. Cargue el dataset en python (se sugiere pandas!), describa cada variable contenida (significado y tipo de variable matemática),  y cómo fueron obtenidos los datos.\n",
        "3. Realice un análisis exploratorio de los datos, haciendo previamente la limpieza necesaria, que muestre:\n",
        "  1. Valores medios, dispersión e histogramas de las variables\n",
        "  2. Diagramas de correlación (scatter plots)\n",
        "  3. Diagramas de autocorrelación"
      ],
      "metadata": {
        "id": "FOHX48P6jxsw"
      }
    }
  ]
}