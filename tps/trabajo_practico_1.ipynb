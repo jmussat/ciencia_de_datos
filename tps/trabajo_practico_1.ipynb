{
  "cells": [
    {
      "cell_type": "markdown",
      "metadata": {
        "id": "view-in-github",
        "colab_type": "text"
      },
      "source": [
        "<a href=\"https://colab.research.google.com/github/mbalbi/ciencia_de_datos/blob/main/tps/trabajo_practico_1.ipynb\" target=\"_parent\"><img src=\"https://colab.research.google.com/assets/colab-badge.svg\" alt=\"Open In Colab\"/></a>"
      ]
    },
    {
      "cell_type": "markdown",
      "metadata": {
        "id": "7Mc_Q8b3jPda"
      },
      "source": [
        "# Trabajo Práctico 1: Análisis exploratorio de datos\n",
        "\n",
        "**Objetivos:** Este trabajo tiene como objetivos que el alumno se familiarize con las funciones y librerías básicas de Python, pueda escribir pedazos de código sencillo, y pueda realizar operaciones básicas de manejo, limpieza y visualización de datos. También servirá como punto de inicio para ir pensando el trabajo final que encarará cada alumno.\n",
        "\n",
        "**Librerías:** para realizar este trabajo serán necesarias las siguientes librerías (Si requiere usar otras no incluidas aquí, no dude en importarlas)\n",
        "- Numpy: matemática básica y definición de matrices y vectores\n",
        "- Matplotlib: Librería estándar para plotear\n",
        "- Scipy.stats: repositorio de distribuciones de probabilidad y funciones de algebra\n",
        "- Pandas: manejo de datasets\n",
        "- Seaborn: visualización de datos"
      ]
    },
    {
      "cell_type": "code",
      "execution_count": null,
      "metadata": {
        "id": "tMMjUX6yj34C"
      },
      "outputs": [],
      "source": [
        "import numpy as np\n",
        "import scipy.stats as st\n",
        "import pandas as pd\n",
        "import matplotlib.pyplot as plt\n",
        "import seaborn as sns"
      ]
    },
    {
      "cell_type": "markdown",
      "metadata": {
        "id": "gW2BB08ghdJa"
      },
      "source": [
        "## Ejercicio 1: El tablero de Galton\n",
        "\n",
        "El [tablero de Galton](https://en.wikipedia.org/wiki/Galton_board) (o quincunx) es un artefacto para demostrar físicamente el [Teorema Central del límite](https://en.wikipedia.org/wiki/Central_limit_theorem), que establece que la suma de muchas variables aleatorias independientes e idénticamente distribuidas tienden a una distribución Normal.\n",
        "\n",
        "En el tablero, las bolitas van cayendo a través de una grilla de obstáculos equiespaciados. En cada sucesiva fila, la bolita que cae golpea en un obstáculo y sigue su recorrido a la izquierda o la derecha de este con igual probabilidad.\n",
        "\n",
        "Asumiendo que la bolita arranca desde la posición horizontal central del tablero $x_0=0$, y va cayendo dando saltos discretos cada vez que se encuentra con un obstáculo, podemos calcular la posición horizontal de la bolita en el escalón $i$ según,\n",
        "$$ \n",
        "x_{i+1} = x_{i} + \\Delta_i,\\ i=0,1,\\ldots \\\\\n",
        "\\Delta =\n",
        "\\begin{cases}\n",
        "1 & \\text{con probabilidad 0.5}\\\\\n",
        "-1 & \\text{con probabilidad 0.5}\n",
        "\\end{cases}\n",
        "$$"
      ]
    },
    {
      "cell_type": "markdown",
      "metadata": {
        "id": "oVDSFsAnnzjs"
      },
      "source": [
        "Se requiere crear una función para calcular la posición de la bolita desde su posición inicial, a través de N obstáculos (pasos) hacia abajo.\n",
        "\n",
        "La función que figura abajo recibe tres argumentos: \n",
        "- p [0<float<1]: La probabilidad de la bolita de ir hacia la derecha (en nuestro tablero es 0.5)\n",
        "- Npasos [int]: La cantidad de pasos que va a tener la caída (el tamaño del tablero)\n",
        "- xinicial [int]: La posición inicial (preinicializada en 0)\n",
        "\n",
        "Complete la función donde se indica, para calcular la posición para cada paso $x_i$ según la fórmula de más arriba."
      ]
    },
    {
      "cell_type": "code",
      "execution_count": null,
      "metadata": {
        "id": "tZwg-zhCncRy"
      },
      "outputs": [],
      "source": [
        "def caminante( p, Npasos, xinicial=0 ):\n",
        "    # Inicializar un vector de 0s por cada paso de la bolita hacia abajo\n",
        "    x = np.zeros( Npasos ) \n",
        "    # Posición inicial\n",
        "    x[0] = xinicial\n",
        "    # Calcular la posición para cada paso\n",
        "    for i in range( Npasos-1 ):\n",
        "        # CÓDIGO DEL ALUMNO =============================\n",
        "        # ===============================================\n",
        "    return x"
      ]
    },
    {
      "cell_type": "markdown",
      "metadata": {
        "id": "tMHfCOMRMddk"
      },
      "source": [
        "Realice un gráfico de 3 o 4 trayectorias de bolitas, con Npasos=30 para confirmar el correcto funcionamiento de la función 'caminante':"
      ]
    },
    {
      "cell_type": "code",
      "execution_count": null,
      "metadata": {
        "id": "WyErMvHOMvWt"
      },
      "outputs": [],
      "source": [
        "p = 0.5 # Probabilidad de ir a derecha\n",
        "Npasos = 30 # Número de pasos de la trayectoria\n",
        "\n",
        "# CÓDIGO DEL ALUMNO ========================\n",
        "\n",
        "# =========================================="
      ]
    },
    {
      "cell_type": "markdown",
      "metadata": {
        "id": "T8L9xjxMOCcy"
      },
      "source": [
        "Luego de $N$ pasos, la posición de la bolita es el resultado de la suma de $N$ saltos $\\Delta$. Luego de una buena cantidad de pasos, el TCL indica que la posición incierta de la bolita, sigue una distribución de probabilidad Normal según,\n",
        "$$\n",
        "x_i \\sim N \\left( 0, N/\\sqrt{N} \\right)\n",
        "$$\n",
        "\n",
        "\n",
        "para un número grande de trayectorias de bolitas, grafique el histograma de las posiciones de las bolitas luego de $N=30$, y compare con la distribución Normal según el TCL."
      ]
    },
    {
      "cell_type": "code",
      "execution_count": null,
      "metadata": {
        "id": "ANu05sqrOXG9"
      },
      "outputs": [],
      "source": [
        "Nbolas = 2000 # Número de trayectorias a graficar\n",
        "x = np.zeros( [Nbolas, Npasos]) # Posición de la bola i, en el paso j\n",
        "\n",
        "# CÓDIGO DEL ALUMNO ==========================================\n",
        "\n",
        "# ============================================================"
      ]
    },
    {
      "cell_type": "markdown",
      "metadata": {
        "id": "JjeP_iLRqZ5_"
      },
      "source": [
        "## Ejercicio 2: Procesamiento de señales\n",
        "En Enero de 2020  se midieron las vibraciones en un hospital situado sobre una línea de subterráneo en Buenos Aires. La medición original es de casi 1 hr de duración. En este TP trabajaremos con una ventana reducida de tiempo (100 s). A continuación, usted hará alguno de los pasos previos de selección de eventos y evaluaciones preliminares del nivel de ruido.\n",
        "\n",
        "En primer lugar, importe el arhivo \"vibraciones_hospital.csv\". Es una tabla con 2 columnas, siendo estas el vector tiempo $t$ en segundos y las aceleraciones $a(t)$ en $m/s^{2}$.\n"
      ]
    },
    {
      "cell_type": "code",
      "execution_count": null,
      "metadata": {
        "id": "_-DbELwPqlNK"
      },
      "outputs": [],
      "source": [
        "#Abrimos un archivo local, es decir, que ha sido descargado en su computadora\n",
        "from google.colab import files\n",
        "uploaded = files.upload()"
      ]
    },
    {
      "cell_type": "code",
      "execution_count": null,
      "metadata": {
        "id": "_8176EmWgv-e"
      },
      "outputs": [],
      "source": [
        "import io\n",
        "\n",
        "#Se crea un DataFrame\n",
        "df_vibraciones = pd.read_csv(io.BytesIO(uploaded['vibraciones_hospital.csv']))\n",
        "df_vibraciones.head()"
      ]
    },
    {
      "cell_type": "code",
      "execution_count": null,
      "metadata": {
        "id": "iPgVx-Dfh-xf"
      },
      "outputs": [],
      "source": [
        "# Veremos el tamaño de la data y el nombre de la columnas\n",
        "print('Cantidad de Filas y columnas:', df_vibraciones.shape)\n",
        "print('Nombre columnas:', df_vibraciones.columns)"
      ]
    },
    {
      "cell_type": "code",
      "execution_count": null,
      "metadata": {
        "id": "XEo5miXwia-P"
      },
      "outputs": [],
      "source": [
        "# Registro de aceleraciones\n",
        "sns.lineplot(data=df_vibraciones, x='t [s]', y='a(t) [m/s^2]').set(title='Registro de vibraciones')"
      ]
    },
    {
      "cell_type": "markdown",
      "metadata": {
        "id": "34cYmwvPlPD5"
      },
      "source": [
        "El primero objetivo será el cálculo global de la aceleración $a_{rms}$, un parámetro muy usado no sólo a fines estadísticos (para modelar las vibraciones como un ruido blanco, por ej.), sino también para evaluar criterios de comfort en ambientes de trabajo.\n",
        "\n",
        "La aceleración $a_{rms}$ se define como el valor constante de la señal que resultaría en la misma potencia promedio:\n",
        "\n",
        "$$a_{rms} = \\sqrt{\\frac{\\sum_{i=1}^{N} \\left(a_{i}\\right)^{2}}{N}}$$\n",
        "\n",
        "En general esperamos que las vibraciones tengan valor medio $\\bar{a} \\approx 0$, por lo que el valor rms de la señal es su desvío estandar (de la población):\n",
        "\n",
        "$$\\sigma_{a} = \\sqrt{\\frac{\\sum_{i=1}^{N} \\left(a_{i}-\\bar{a}\\right)^{2}}{N}} \\approx a_{rms} $$\n",
        "\n",
        "De lo que se desprende que si se elimina la media del dataset (práctica habitual, ya que el valor esperado es 0, asignando la pequeña diferencia a un error de muestreo) entonces el desvío estandar y el valor rms son iguales."
      ]
    },
    {
      "cell_type": "markdown",
      "metadata": {
        "id": "_MzZJS25pLz6"
      },
      "source": [
        "Primero, elimine el valor medio del registro y guárdelo en una nueva columna de nombre \"a norm\""
      ]
    },
    {
      "cell_type": "code",
      "execution_count": null,
      "metadata": {
        "id": "bLTkU362lOo0"
      },
      "outputs": [],
      "source": [
        "# Inicializacion de la nueva columna\n",
        "df_vibraciones['a norm'] = df_vibraciones['a(t) [m/s^2]']\n",
        "\n",
        "\n",
        "# CODIGO DEL ALUMNO ==========================\n",
        "## Eliminación del valor medio\n",
        "\n",
        "# ============================================\n",
        "\n",
        "# Verificación\n",
        "mu = np.mean(df_vibraciones['a norm'])\n",
        "mu2 = np.mean(df_vibraciones['a(t) [m/s^2]'])\n",
        "print('El valor medio de la aceleración medida es {} m/s^2'.format(mu2))\n",
        "print('El valor medio de la aceleración normalizada es {} m/s^2'.format(mu))"
      ]
    },
    {
      "cell_type": "markdown",
      "metadata": {
        "id": "KqoOiHE9q7cW"
      },
      "source": [
        "Ahora, calcule el valor rms de ambas señales, utilizando tanto la formulación exacta (la primera ecuación de arriba), así como aproximando el valor con el desvío estándar."
      ]
    },
    {
      "cell_type": "code",
      "execution_count": null,
      "metadata": {
        "id": "8zkQHWYTq5_j"
      },
      "outputs": [],
      "source": [
        "# Valor exacto de RMS\n",
        "RMS_a_exact = []\n",
        "RMS_anorm_exact = []\n",
        "\n",
        "# CODIGO DEL ALUMNO ============================\n",
        "\n",
        "# ==============================================\n",
        "\n",
        "print('RMS exacto original:', RMS_a_exact)\n",
        "print('RMS exacto normalizado:', RMS_anorm_exact)"
      ]
    },
    {
      "cell_type": "code",
      "execution_count": null,
      "metadata": {
        "id": "PkDBfoTrs-1g"
      },
      "outputs": [],
      "source": [
        "# Aproximacion como Desvio Estandar\n",
        "RMS_a_std = []\n",
        "RMS_anorm_std = []\n",
        "\n",
        "# CODIGO DEL ALUMNO ============================\n",
        "\n",
        "# ==============================================\n",
        "\n",
        "print('RMS aprox. original:', RMS_a_std)\n",
        "print('RMS aprox. normalizado:', RMS_anorm_std)"
      ]
    },
    {
      "cell_type": "markdown",
      "metadata": {
        "id": "-7AkFhrBs-WQ"
      },
      "source": [
        "Visto lo anterior, indique si se justifica el cálculo aproximado a través del desvío estándar de la población"
      ]
    },
    {
      "cell_type": "markdown",
      "metadata": {
        "id": "6s9BbMHLwLIZ"
      },
      "source": [
        "**Su respuesta**:"
      ]
    },
    {
      "cell_type": "markdown",
      "metadata": {
        "id": "Vp3VS421wQ4L"
      },
      "source": [
        "Otra forma de visualizar el registro es a partir de la Transformada de Fourier, que permite pasar la señal al dominio de la frecuencia. En particular, la densidad de potencia espectral (PSD) informa para cada frecuencia la potencia por unidad de frecuencia de la señal (tiene unidades de, por ejemplo, $\\left( m/s^{2} \\right)^{2}/Hz$)."
      ]
    },
    {
      "cell_type": "code",
      "execution_count": null,
      "metadata": {
        "id": "TTsjezh5xSmj"
      },
      "outputs": [],
      "source": [
        "from scipy.fft import fft, fftfreq\n",
        "N = df_vibraciones.shape[0]\n",
        "DeltaT = df_vibraciones['t [s]'][1]-df_vibraciones['t [s]'][0]\n",
        "AFreq = fft(np.array(df_vibraciones['a norm']))\n",
        "\n",
        "# Vector de Frecuencias\n",
        "Ffreq = fftfreq(N, DeltaT)[:(N+1)//2]\n",
        "# Vector con la densidad de potencia espectral\n",
        "PSD = 2.0 * DeltaT / N * np.abs(AFreq[:(N+1)//2])**2\n",
        "PSD[0] = PSD[0]/2 # Corregir DC offset\n",
        "\n",
        "# Plot\n",
        "plt.plot(Ffreq,PSD)\n",
        "plt.grid()\n",
        "plt.xlabel('Frecuencia [Hz]')\n",
        "plt.ylabel('PSD')\n",
        "plt.title('Transformada de Fourier (Espectro)')"
      ]
    },
    {
      "cell_type": "markdown",
      "metadata": {
        "id": "juIfYrGv0z2G"
      },
      "source": [
        "Una de las propiedades de la transformada de Fourier es que el área bajo la curva devuelve la potencia promedio de la señal, por lo que se verifica que:\n",
        "\n",
        "$$\\int_{0}^{\\infty} PSD(f)\\ df \\approx \\Delta f \\sum_{i=0}^{M-1} PSD(f_{i}) = {a_{rms}}^{2} $$\n",
        "\n",
        "Compruebe lo anterior calculando el rms a partir del vector `PSD`, obtentiendo $\\Delta f$ del vector `Ffreq`."
      ]
    },
    {
      "cell_type": "code",
      "execution_count": null,
      "metadata": {
        "id": "WsXQnMe_0y7S"
      },
      "outputs": [],
      "source": [
        "rms_fft = []\n",
        "\n",
        "# CODIGO DEL ALUMNO =================================\n",
        "\n",
        "# ===================================================\n",
        "\n",
        "print('El rms a partir de Fourier es: ', rms_fft)"
      ]
    },
    {
      "cell_type": "markdown",
      "metadata": {
        "id": "tH3GVb6v_VgM"
      },
      "source": [
        "Ahora bien, los valores anteriores fueron evaluados para la señal en su conjunto. Sin embargo, en el gráfico se ve claramente que las aceleraciones aumentan sobre el final, cuando se capturó el paso de una formación de subte, respecto al inicio donde había únicamente vibración ambiente.\n",
        "\n",
        "Para evaluar donde empieza y termina el evento de interés, un método de identificación muy habitual es calcular el rms de la señal en ventanas móviles de tiempo y ver cuándo este supera un umbral definido por el usuario. Este análisis se puede hacer con la opción `rolling` de pandas."
      ]
    },
    {
      "cell_type": "code",
      "execution_count": null,
      "metadata": {
        "id": "C4q5eaQQVEVo"
      },
      "outputs": [],
      "source": [
        "# Calcular el rms movil\n",
        "vent = 5 # Longitud de ventana en segundos\n",
        "umb = 0.011 # Valor umbral\n",
        "idxvent = int(vent // DeltaT - 1)\n",
        "df_vibraciones['Rolling_rms'] = (df_vibraciones['a norm']**2).rolling(idxvent).mean() **0.5\n",
        "\n",
        "# Plotear\n",
        "plt.plot(df_vibraciones['t [s]'],df_vibraciones['a norm'],color=[0.5,0.5,0.5],label='registro')\n",
        "plt.plot(df_vibraciones['t [s]'],df_vibraciones['Rolling_rms'],'b-',linewidth=2,label='rms')\n",
        "plt.plot([0, 100],[umb, umb],'k-.',linewidth=1,label='Umbral')\n",
        "plt.xlabel('t [s]')\n",
        "plt.ylabel('[m/s^2]')\n",
        "plt.legend(loc=2)\n",
        "plt.grid()\n",
        "plt.show()"
      ]
    },
    {
      "cell_type": "markdown",
      "metadata": {
        "id": "VWFe6H6bbHP4"
      },
      "source": [
        "En el gráfico de arriba se ve que a partir de aproximadamente 82s el valor de rms supera el umbral, `umb`, de $0.011m/s^{2}$. Considerando que el calculo de media móvil introduce lag, esto quiere decir que el evento comenzó en realidad 5 segundos antes (la longitud de la ventana).\n",
        "\n",
        "Por lo tanto, en el siguiente paso separe el dataset en 2: Uno para el paso del subte y otro para la vibración ambiente. Para ello debe encontrar el valor de tiempo `t` a partir del cual el valor de rms movil (`df_vibraciones['Rolling_rms']`) supera el umbral definido `umb`, y luego restar el lag de 5s (`vent`) para definir `Tlim`. Finalmente, genere los vectores `Subte` y `Ambiente` haciendo uso de las funciones de slicing y operaciones lógicas.\n",
        "\n",
        "No es necesario encontrar el final del evento (asuma que termina al final del dataset)"
      ]
    },
    {
      "cell_type": "code",
      "execution_count": null,
      "metadata": {
        "id": "4secbRbDb4PB"
      },
      "outputs": [],
      "source": [
        "Subte = []\n",
        "Ambiente = []\n",
        "Tlim = []\n",
        "# CODIGO DEL ALUMNO ====================================\n",
        "\n",
        "# ======================================================\n",
        "\n",
        "print('El paso de subte comienza a los:',Tlim)\n",
        "\n",
        "plt.plot(Subte)\n",
        "plt.title('Paso Subte')\n",
        "plt.show()\n",
        "plt.plot(Ambiente)\n",
        "plt.title('Vibración Ambiente')\n",
        "plt.show()"
      ]
    },
    {
      "cell_type": "markdown",
      "metadata": {
        "id": "IKSLmdv0c4W6"
      },
      "source": [
        "Finalmente, calcule la relación señal-ruido. Es decir, cuánto se distingue la señal a ser estudiada (el paso de subte) del ruido inherente de la zona (la vibración ambiente). En general se buscan valores superiores a 5, caso contrario el ruido va a influir en el análisis notoriamente (no podríamos decir que estamos viendo sólo el subte). Esta se define (en decibeles) como:\n",
        "\n",
        "$$ SNR = 10 \\log_{10}\\left(\\frac{RMS_{subte}}{RMS_{ambiente}}\\right) $$\n",
        "\n",
        "Puede utilizar cualquiera de las formas de rms que vimos anteriormente."
      ]
    },
    {
      "cell_type": "code",
      "execution_count": null,
      "metadata": {
        "id": "K-jfhDk5d9XA"
      },
      "outputs": [],
      "source": [
        "SNR = []\n",
        "\n",
        "# CODIGO DEL ALUMNO ====================================\n",
        "\n",
        "# ======================================================\n",
        "\n",
        "print('La relación señal ruido es de',SNR)"
      ]
    },
    {
      "cell_type": "markdown",
      "metadata": {
        "id": "FOHX48P6jxsw"
      },
      "source": [
        "## Ejercicio 3: Explorando el dataset elegido\n",
        "\n",
        "Como puntapié inicial del trabajo final de la materia, elija un dataset (como mínimo 3 variables!) que le sea de su interés particular, y sobre el cuál iremos trabajando a lo largo de la materia. No hay restricción en el tipo de dataset y su área de aplicación, pero sí asegúrese que sea público o, en caso contrario, esté debidamente anonimizado o acreditado.\n",
        "\n",
        "Acá dejamos algunos links con sitios donde pueden llegar a encontrar datasets de interés:\n",
        "\n",
        "*   [BA Data](https://data.buenosaires.gob.ar/dataset/): Datos públicos sobre la Ciudad de Buenos Aires\n",
        "*   [SMN Argentina](https://www.smn.gob.ar/descarga-de-datos): Datos públicos del Servicio Meteorológico Nacional\n",
        "*   [Kaggle](https://www.kaggle.com/datasets): Datasets públicos de todo tipo\n",
        "*   [DesignSafe](https://www.designsafe-ci.org/data/browser/public/): Datasets públicos relacionados a ingeniería Civil y Ambiental del NHERI (EEUU)\n",
        "\n",
        "Con el dataset elegido, le pediremos que conteste las siguientes consignas:\n",
        "1. Explique su interés en ese dataset, y cómo se relaciona con su vida profesional, académica o personal.\n",
        "2. Cargue el dataset en python (se sugiere pandas!), describa cada variable contenida (significado y tipo de variable matemática),  y cómo fueron obtenidos los datos.\n",
        "3. Realice un análisis exploratorio de los datos, haciendo previamente la limpieza que crea necesaria, que muestre:\n",
        "  1. Valores medios, dispersión e histogramas de las variables\n",
        "  2. Diagramas de correlación (scatter plots)\n",
        "  3. Diagramas de autocorrelación"
      ]
    },
    {
      "cell_type": "markdown",
      "metadata": {
        "id": "OQvNkpgzEC1M"
      },
      "source": [
        "## Imprimir PDF\n",
        "\n",
        "Una vez que haya finalizado su TP, asegúrese de reiniciar el `runtime` y corra el código de una celda a la vez (o haga `runtime --> Restart before` para correr todo lo anterior a esta celda) para confirmar que el archivo corre sin errores y con los valores correctos. Al ir trabajando sobre el archivo es posible arrastrar variables y valores de un sector a otro sin intención afectando los resultados.\n",
        "\n",
        "Luego, corra la siguiente celda para imprimir el archivo en PDF. Algunas observaciones:\n",
        "1.   En la última línea de la celda, asegúrese que el nombre del archivo (nombre_del_archivo.ipynb) es el de este documento.\n",
        "2.   Cuando corra la celda, se le pedirá que conecte su cuenta de google drive. Conecte la misma cuenta que está usando para editar este archivo.\n",
        "3.   No modifique ninguna otra línea del código\n",
        "4.   El archivo PDF se guardará en la misma carpeta de su Drive donde está este archivo de Colab\n",
        "5.   Tarda un ratito en correr (hasta 1 minuto puede ser)"
      ]
    },
    {
      "cell_type": "code",
      "execution_count": null,
      "metadata": {
        "id": "tVTMKQ7qLRV5"
      },
      "outputs": [],
      "source": [
        "# Instalar librerías\n",
        "from google.colab import drive\n",
        "from IPython.display import clear_output\n",
        "drive.mount('/content/gdrive/')\n",
        "!apt-get install texlive texlive-xetex texlive-latex-extra pandoc\n",
        "!pip install pypandoc\n",
        "# Limpiar output\n",
        "clear_output()\n",
        "\n",
        "# Crear PDF\n",
        "# ASEGÚRESE QUE EL NOMBRE DEL ARCHIVO ES EL CORRECTO! ==========================\n",
        "!jupyter nbconvert --to PDF \"/content/gdrive/MyDrive/Colab Notebooks/trabajo_practico_1_0.ipynb\"\n",
        "# ============================================================================"
      ]
    }
  ],
  "metadata": {
    "colab": {
      "collapsed_sections": [],
      "name": "trabajo_practico_1.ipynb",
      "provenance": [],
      "toc_visible": true,
      "include_colab_link": true
    },
    "kernelspec": {
      "display_name": "Python 3.7.7 64-bit",
      "language": "python",
      "name": "python3"
    },
    "language_info": {
      "name": "python",
      "version": "3.7.7"
    },
    "vscode": {
      "interpreter": {
        "hash": "51fa0a07f6fd5e060b837a66c96d41582ff23df34b38f2e72cb4e3ebfbe13406"
      }
    }
  },
  "nbformat": 4,
  "nbformat_minor": 0
}