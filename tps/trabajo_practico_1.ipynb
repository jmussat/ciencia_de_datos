{
  "nbformat": 4,
  "nbformat_minor": 0,
  "metadata": {
    "colab": {
      "name": "trabajo_practico_1.ipynb",
      "provenance": [],
      "collapsed_sections": [],
      "toc_visible": true,
      "include_colab_link": true
    },
    "kernelspec": {
      "name": "python3",
      "display_name": "Python 3"
    },
    "language_info": {
      "name": "python"
    }
  },
  "cells": [
    {
      "cell_type": "markdown",
      "metadata": {
        "id": "view-in-github",
        "colab_type": "text"
      },
      "source": [
        "<a href=\"https://colab.research.google.com/github/mbalbi/ciencia_de_datos/blob/tp1/tps/trabajo_practico_1.ipynb\" target=\"_parent\"><img src=\"https://colab.research.google.com/assets/colab-badge.svg\" alt=\"Open In Colab\"/></a>"
      ]
    },
    {
      "cell_type": "markdown",
      "source": [
        "# Trabajo Práctico 1: Análisis exploratorio de datos\n",
        "\n",
        "**Objetivos:** Este trabajo tiene como objetivos que el alumno se familiarize con las funciones y librerías básicas de Python, pueda escribir pedazos de código sencillo, y pueda realizar operaciones básicas de manejo, limpieza y visualización de datos. También servirá como punto de inicio para ir pensando el trabajo final que encarará cada alumno.\n",
        "\n",
        "**Librerías:** para realizar este trabajo serán necesarias las siguientes librerías (Si requiere usar otras no incluidas aquí, no dude en importarlas)\n",
        "- Numpy: matemática básica y definición de matrices y vectores\n",
        "- Scipy.stats: repositorio de distribuciones de probabilidad y funciones de algebra\n",
        "- Pandas: manejo de datasets\n",
        "- Seaborn: visualización de datos"
      ],
      "metadata": {
        "id": "7Mc_Q8b3jPda"
      }
    },
    {
      "cell_type": "code",
      "source": [
        "import numpy as np\n",
        "import scipy.stats as st\n",
        "import pandas as pd\n",
        "import matplotlib.pyplot as plt\n",
        "import seaborn as sns"
      ],
      "metadata": {
        "id": "tMMjUX6yj34C"
      },
      "execution_count": 49,
      "outputs": []
    },
    {
      "cell_type": "markdown",
      "source": [
        "## Ejercicio 1: El tablero de Galton\n",
        "\n",
        "El [tablero de Galton](https://en.wikipedia.org/wiki/Galton_board) (o quincunx) es un artefacto para demostrar físicamente el [Teorema Central del límite](https://en.wikipedia.org/wiki/Central_limit_theorem), que establece que la suma de muchas variables aleatorias independientes e idénticamente distribuidas tienden a una distribución Normal.\n",
        "\n",
        "![Alt Text](https://media.giphy.com/media/ySmSyTWaZPLVY4r3GA/giphy.gif)\n",
        "\n",
        "En el tablero, las bolitas van cayendo a través de una grilla de obstáculos equiespaciados. En cada sucesiva fila, la bolita que cae golpea en un obstáculo y sigue su recorrido a la izquierda o la derecha de este con igual probabilidad.\n",
        "\n",
        "Asumiendo que la bolita arranca desde la posición horizontal central del tablero $x_0=0$, y va cayendo dando saltos discretos cada vez que se encuentra con un obstáculo, podemos calcular la posición horizontal de la bolita en el escalón $i$ según,\n",
        "$$ \n",
        "x_{i+1} = x_{i} + \\Delta_i,\\ i=0,1,\\ldots \\\\\n",
        "\\Delta =\n",
        "\\begin{cases}\n",
        "1 & \\text{con probabilidad 0.5}\\\\\n",
        "-1 & \\text{con probabilidad 0.5}\n",
        "\\end{cases}\n",
        "$$"
      ],
      "metadata": {
        "id": "gW2BB08ghdJa"
      }
    },
    {
      "cell_type": "markdown",
      "source": [
        "Se requiere crear una función para calcular la posición de la bolita desde su posición inicial, a través de N obstáculos (pasos) hacia abajo.\n",
        "\n",
        "La función que figura abajo recibe tres argumentos: \n",
        "- p [0<float<1]: La probabilidad de la bolita de ir hacia la derecha (en nuestro tablero es 0.5)\n",
        "- Npasos [int]: La cantidad de pasos que va a tener la caída (el tamaño del tablero)\n",
        "- xinicial [int]: La posición inicial (preinicializada en 0)\n",
        "\n",
        "Complete la función donde se indica, para calcular la posición para cada paso $x_i$ según la fórmula de más arriba."
      ],
      "metadata": {
        "id": "oVDSFsAnnzjs"
      }
    },
    {
      "cell_type": "code",
      "source": [
        "def caminante( p, Npasos, xinicial=0 ):\n",
        "    # Inicializar un vector de 0s por cada paso de la bolita hacia abajo\n",
        "    x = np.zeros( Npasos ) \n",
        "    # Posición inicial\n",
        "    x[0] = xinicial\n",
        "    # Calcular la posición para cada paso\n",
        "    for i in range( Npasos-1 ):\n",
        "        # CÓDIGO DEL ALUMNO =============================\n",
        "        u = np.random.random()\n",
        "        x[i+1] = x[i] + ( u < p ) - ( u > p )\n",
        "        # ===============================================\n",
        "    return x"
      ],
      "metadata": {
        "id": "tZwg-zhCncRy"
      },
      "execution_count": 50,
      "outputs": []
    },
    {
      "cell_type": "markdown",
      "source": [
        "Realice un gráfico de 3 o 4 trayectorias de bolitas, con Npasos=30 para confirmar el correcto funcionamiento de la función 'caminante':"
      ],
      "metadata": {
        "id": "tMHfCOMRMddk"
      }
    },
    {
      "cell_type": "code",
      "source": [
        "p = 0.5 # Probabilidad de ir a derecha\n",
        "Npasos = 30 # Número de pasos de la trayectoria\n",
        "\n",
        "# CÓDIGO DEL ALUMNO ========================\n",
        "# Gráfico\n",
        "fig = plt.figure()\n",
        "for i in range( 3 ):\n",
        "  plt.plot( caminante( p, Npasos ), marker='*' )\n",
        "plt.xlabel('paso')\n",
        "plt.ylabel('posicion')\n",
        "# =========================================="
      ],
      "metadata": {
        "colab": {
          "base_uri": "https://localhost:8080/",
          "height": 296
        },
        "id": "WyErMvHOMvWt",
        "outputId": "0e6cb351-83ec-4d3e-c8c5-919cd71a335b"
      },
      "execution_count": 51,
      "outputs": [
        {
          "output_type": "execute_result",
          "data": {
            "text/plain": [
              "Text(0, 0.5, 'posicion')"
            ]
          },
          "metadata": {},
          "execution_count": 51
        },
        {
          "output_type": "display_data",
          "data": {
            "text/plain": [
              "<Figure size 432x288 with 1 Axes>"
            ],
            "image/png": "[encoded data removed]"
          },
          "metadata": {
            "needs_background": "light"
          }
        }
      ]
    },
    {
      "cell_type": "markdown",
      "source": [
        "Luego de $N$ pasos, la posición de la bolita es el resultado de la suma de $N$ saltos $\\Delta$. Luego de una buena cantidad de pasos, el TCL indica que la posición incierta de la bolita, sigue una distribución de probabilidad Normal según,\n",
        "$$\n",
        "x_i \\sim N \\left( 0, N/\\sqrt{N} \\right)\n",
        "$$\n",
        "\n",
        "\n",
        "para un número grande de trayectorias de bolitas, grafique el histograma de las posiciones de las bolitas luego de $N=30$, y compare con la distribución Normal según el TCL."
      ],
      "metadata": {
        "id": "T8L9xjxMOCcy"
      }
    },
    {
      "cell_type": "code",
      "source": [
        "Nbolas = 2000 # Número de trayectorias a graficar\n",
        "x = np.zeros( [Nbolas, Npasos]) # Posición de la bola i, en el paso j\n",
        "\n",
        "# CÓDIGO DEL ALUMNO ==========================================\n",
        "for i in range( Nbolas ):\n",
        "    x[i] = caminante( 0.5, Npasos )\n",
        "\n",
        "# Plot histogram\n",
        "fig = plt.figure()\n",
        "xplot = np.arange(-20,20,0.1)\n",
        "s = np.sqrt(p*(1-p))\n",
        "plt.plot( xplot, st.norm.pdf(xplot,0,Npasos/np.sqrt(Npasos)) );\n",
        "sns.histplot( x[:,-1], fill=True, alpha=0.5, stat='density',\n",
        "              bins='sturges', binwidth=2 )\n",
        "plt.xlabel('posicion')\n",
        "plt.ylabel('p(x)');\n",
        "# ============================================================"
      ],
      "metadata": {
        "colab": {
          "base_uri": "https://localhost:8080/",
          "height": 279
        },
        "id": "ANu05sqrOXG9",
        "outputId": "1b5f034c-4dc9-409f-fe34-15c0932a9b4a"
      },
      "execution_count": 52,
      "outputs": [
        {
          "output_type": "display_data",
          "data": {
            "text/plain": [
              "<Figure size 432x288 with 1 Axes>"
            ],
            "image/png": "[encoded data removed]"
          },
          "metadata": {
            "needs_background": "light"
          }
        }
      ]
    },
    {
      "cell_type": "markdown",
      "source": [
        "## Ejercicio 2: Procesamiento de señales\n",
        "En Enero de 2020  se midieron las vibraciones en un hospital situado sobre una línea de subterráneo en Buenos Aires. La medición original es de casi 1 hr de duración. En este TP trabajaremos con una ventana reducida de tiempo (100 s). A continuación, usted hará alguno de los pasos previos de selección de eventos y evaluaciones preliminares del nivel de ruido.\n",
        "\n",
        "En primer lugar, importe el arhivo \"vibraciones_hospital.csv\". Es una tabla con 2 columnas, siendo estas el vector tiempo $t$ en segundos y las aceleraciones $a(t)$ en $m/s^{2}$.\n"
      ],
      "metadata": {
        "id": "JjeP_iLRqZ5_"
      }
    },
    {
      "cell_type": "code",
      "source": [
        "#Abrimos un archivo local, es decir, que ha sido descargado en su computadora\n",
        "from google.colab import files\n",
        "uploaded = files.upload()"
      ],
      "metadata": {
        "id": "_-DbELwPqlNK",
        "outputId": "708706c5-c662-4527-8f5a-7d358d0cb8bd",
        "colab": {
          "resources": {
            "http://localhost:8080/nbextensions/google.colab/files.js": {
              "data": "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",
              "ok": true,
              "headers": [
                [
                  "content-type",
                  "application/javascript"
                ]
              ],
              "status": 200,
              "status_text": ""
            }
          },
          "base_uri": "https://localhost:8080/",
          "height": 73
        }
      },
      "execution_count": 53,
      "outputs": [
        {
          "output_type": "display_data",
          "data": {
            "text/plain": [
              "<IPython.core.display.HTML object>"
            ],
            "text/html": [
              "\n",
              "     <input type=\"file\" id=\"files-28dfa748-ce12-4def-bea1-54ebd1525811\" name=\"files[]\" multiple disabled\n",
              "        style=\"border:none\" />\n",
              "     <output id=\"result-28dfa748-ce12-4def-bea1-54ebd1525811\">\n",
              "      Upload widget is only available when the cell has been executed in the\n",
              "      current browser session. Please rerun this cell to enable.\n",
              "      </output>\n",
              "      <script src=\"/nbextensions/google.colab/files.js\"></script> "
            ]
          },
          "metadata": {}
        },
        {
          "output_type": "stream",
          "name": "stdout",
          "text": [
            "Saving vibraciones_hospital.csv to vibraciones_hospital (1).csv\n"
          ]
        }
      ]
    },
    {
      "cell_type": "code",
      "source": [
        "import io\n",
        "\n",
        "#Se crea un DataFrame\n",
        "df_vibraciones = pd.read_csv(io.BytesIO(uploaded['vibraciones_hospital.csv']))\n",
        "\n",
        "df_vibraciones.head()"
      ],
      "metadata": {
        "id": "_8176EmWgv-e",
        "outputId": "b0afd5be-fbe9-4f30-e32f-24cf166b17e6",
        "colab": {
          "base_uri": "https://localhost:8080/",
          "height": 206
        }
      },
      "execution_count": 54,
      "outputs": [
        {
          "output_type": "execute_result",
          "data": {
            "text/plain": [
              "      t [s]  a(t) [m/s^2]\n",
              "0  0.000000      0.001912\n",
              "1  0.004202      0.014047\n",
              "2  0.008403      0.008226\n",
              "3  0.012605     -0.008920\n",
              "4  0.016807     -0.015808"
            ],
            "text/html": [
              "\n",
              "  <div id=\"df-8f394b95-70ff-4d56-9306-8487d1bba5e6\">\n",
              "    <div class=\"colab-df-container\">\n",
              "      <div>\n",
              "<style scoped>\n",
              "    .dataframe tbody tr th:only-of-type {\n",
              "        vertical-align: middle;\n",
              "    }\n",
              "\n",
              "    .dataframe tbody tr th {\n",
              "        vertical-align: top;\n",
              "    }\n",
              "\n",
              "    .dataframe thead th {\n",
              "        text-align: right;\n",
              "    }\n",
              "</style>\n",
              "<table border=\"1\" class=\"dataframe\">\n",
              "  <thead>\n",
              "    <tr style=\"text-align: right;\">\n",
              "      <th></th>\n",
              "      <th>t [s]</th>\n",
              "      <th>a(t) [m/s^2]</th>\n",
              "    </tr>\n",
              "  </thead>\n",
              "  <tbody>\n",
              "    <tr>\n",
              "      <th>0</th>\n",
              "      <td>0.000000</td>\n",
              "      <td>0.001912</td>\n",
              "    </tr>\n",
              "    <tr>\n",
              "      <th>1</th>\n",
              "      <td>0.004202</td>\n",
              "      <td>0.014047</td>\n",
              "    </tr>\n",
              "    <tr>\n",
              "      <th>2</th>\n",
              "      <td>0.008403</td>\n",
              "      <td>0.008226</td>\n",
              "    </tr>\n",
              "    <tr>\n",
              "      <th>3</th>\n",
              "      <td>0.012605</td>\n",
              "      <td>-0.008920</td>\n",
              "    </tr>\n",
              "    <tr>\n",
              "      <th>4</th>\n",
              "      <td>0.016807</td>\n",
              "      <td>-0.015808</td>\n",
              "    </tr>\n",
              "  </tbody>\n",
              "</table>\n",
              "</div>\n",
              "      <button class=\"colab-df-convert\" onclick=\"convertToInteractive('df-8f394b95-70ff-4d56-9306-8487d1bba5e6')\"\n",
              "              title=\"Convert this dataframe to an interactive table.\"\n",
              "              style=\"display:none;\">\n",
              "        \n",
              "  <svg xmlns=\"http://www.w3.org/2000/svg\" height=\"24px\"viewBox=\"0 0 24 24\"\n",
              "       width=\"24px\">\n",
              "    <path d=\"M0 0h24v24H0V0z\" fill=\"none\"/>\n",
              "    <path d=\"M18.56 5.44l.94 2.06.94-2.06 2.06-.94-2.06-.94-.94-2.06-.94 2.06-2.06.94zm-11 1L8.5 8.5l.94-2.06 2.06-.94-2.06-.94L8.5 2.5l-.94 2.06-2.06.94zm10 10l.94 2.06.94-2.06 2.06-.94-2.06-.94-.94-2.06-.94 2.06-2.06.94z\"/><path d=\"M17.41 7.96l-1.37-1.37c-.4-.4-.92-.59-1.43-.59-.52 0-1.04.2-1.43.59L10.3 9.45l-7.72 7.72c-.78.78-.78 2.05 0 2.83L4 21.41c.39.39.9.59 1.41.59.51 0 1.02-.2 1.41-.59l7.78-7.78 2.81-2.81c.8-.78.8-2.07 0-2.86zM5.41 20L4 18.59l7.72-7.72 1.47 1.35L5.41 20z\"/>\n",
              "  </svg>\n",
              "      </button>\n",
              "      \n",
              "  <style>\n",
              "    .colab-df-container {\n",
              "      display:flex;\n",
              "      flex-wrap:wrap;\n",
              "      gap: 12px;\n",
              "    }\n",
              "\n",
              "    .colab-df-convert {\n",
              "      background-color: #E8F0FE;\n",
              "      border: none;\n",
              "      border-radius: 50%;\n",
              "      cursor: pointer;\n",
              "      display: none;\n",
              "      fill: #1967D2;\n",
              "      height: 32px;\n",
              "      padding: 0 0 0 0;\n",
              "      width: 32px;\n",
              "    }\n",
              "\n",
              "    .colab-df-convert:hover {\n",
              "      background-color: #E2EBFA;\n",
              "      box-shadow: 0px 1px 2px rgba(60, 64, 67, 0.3), 0px 1px 3px 1px rgba(60, 64, 67, 0.15);\n",
              "      fill: #174EA6;\n",
              "    }\n",
              "\n",
              "    [theme=dark] .colab-df-convert {\n",
              "      background-color: #3B4455;\n",
              "      fill: #D2E3FC;\n",
              "    }\n",
              "\n",
              "    [theme=dark] .colab-df-convert:hover {\n",
              "      background-color: #434B5C;\n",
              "      box-shadow: 0px 1px 3px 1px rgba(0, 0, 0, 0.15);\n",
              "      filter: drop-shadow(0px 1px 2px rgba(0, 0, 0, 0.3));\n",
              "      fill: #FFFFFF;\n",
              "    }\n",
              "  </style>\n",
              "\n",
              "      <script>\n",
              "        const buttonEl =\n",
              "          document.querySelector('#df-8f394b95-70ff-4d56-9306-8487d1bba5e6 button.colab-df-convert');\n",
              "        buttonEl.style.display =\n",
              "          google.colab.kernel.accessAllowed ? 'block' : 'none';\n",
              "\n",
              "        async function convertToInteractive(key) {\n",
              "          const element = document.querySelector('#df-8f394b95-70ff-4d56-9306-8487d1bba5e6');\n",
              "          const dataTable =\n",
              "            await google.colab.kernel.invokeFunction('convertToInteractive',\n",
              "                                                     [key], {});\n",
              "          if (!dataTable) return;\n",
              "\n",
              "          const docLinkHtml = 'Like what you see? Visit the ' +\n",
              "            '<a target=\"_blank\" href=https://colab.research.google.com/notebooks/data_table.ipynb>data table notebook</a>'\n",
              "            + ' to learn more about interactive tables.';\n",
              "          element.innerHTML = '';\n",
              "          dataTable['output_type'] = 'display_data';\n",
              "          await google.colab.output.renderOutput(dataTable, element);\n",
              "          const docLink = document.createElement('div');\n",
              "          docLink.innerHTML = docLinkHtml;\n",
              "          element.appendChild(docLink);\n",
              "        }\n",
              "      </script>\n",
              "    </div>\n",
              "  </div>\n",
              "  "
            ]
          },
          "metadata": {},
          "execution_count": 54
        }
      ]
    },
    {
      "cell_type": "code",
      "source": [
        "# Veremos el tamaño de la data y el nombre de la columnas\n",
        "print('Cantidad de Filas y columnas:', df_vibraciones.shape)\n",
        "print('Nombre columnas:', df_vibraciones.columns)"
      ],
      "metadata": {
        "id": "iPgVx-Dfh-xf",
        "outputId": "dcbb9cc4-e895-4610-db62-5a26c3386dd6",
        "colab": {
          "base_uri": "https://localhost:8080/"
        }
      },
      "execution_count": 55,
      "outputs": [
        {
          "output_type": "stream",
          "name": "stdout",
          "text": [
            "Cantidad de Filas y columnas: (23801, 2)\n",
            "Nombre columnas: Index(['t [s]', 'a(t) [m/s^2]'], dtype='object')\n"
          ]
        }
      ]
    },
    {
      "cell_type": "code",
      "source": [
        "# Registro de aceleraciones\n",
        "sns.lineplot(data=df_vibraciones, x='t [s]', y='a(t) [m/s^2]').set(title='Registro de vibraciones')"
      ],
      "metadata": {
        "id": "XEo5miXwia-P",
        "outputId": "7b8592fc-c93c-4d30-af8d-cd91de40515f",
        "colab": {
          "base_uri": "https://localhost:8080/",
          "height": 312
        }
      },
      "execution_count": 56,
      "outputs": [
        {
          "output_type": "execute_result",
          "data": {
            "text/plain": [
              "[Text(0.5, 1.0, 'Registro de vibraciones')]"
            ]
          },
          "metadata": {},
          "execution_count": 56
        },
        {
          "output_type": "display_data",
          "data": {
            "text/plain": [
              "<Figure size 432x288 with 1 Axes>"
            ],
            "image/png": "[encoded data removed]"
          },
          "metadata": {
            "needs_background": "light"
          }
        }
      ]
    },
    {
      "cell_type": "markdown",
      "source": [
        "El primero objetivo será el cálculo global de la aceleración $a_{rms}$, un parámetro muy usado no sólo a fines estadísticos (para modelar las vibraciones como un ruido blanco, por ej.), sino también para evaluar criterios de comfort en ambientes de trabajo.\n",
        "\n",
        "La aceleración $a_{rms}$ se define como el valor constante de la señal que resultaría en la misma potencia promedio:\n",
        "\n",
        "$$a_{rms} = \\sqrt{\\frac{\\sum_{i=1}^{N} \\left(a_{i}\\right)^{2}}{N}}$$\n",
        "\n",
        "En general esperamos que las vibraciones tengan valor medio $\\bar{a} \\approx 0$, por lo que el valor rms de la señal es su desvío estandar (de la población):\n",
        "\n",
        "$$\\sigma_{a} = \\sqrt{\\frac{\\sum_{i=1}^{N} \\left(a_{i}-\\bar{a}\\right)^{2}}{N}} \\approx a_{rms} $$\n",
        "\n",
        "De lo que se desprende que si se elimina la media del dataset (práctica habitual, ya que el valor esperado es 0, asignando la pequeña diferencia a un error de muestreo) entonces el desvío estandar y el valor rms son iguales."
      ],
      "metadata": {
        "id": "34cYmwvPlPD5"
      }
    },
    {
      "cell_type": "markdown",
      "source": [
        "Primero, elimine el valor medio del registro y guárdelo en una nueva columna de nombre \"a norm\""
      ],
      "metadata": {
        "id": "_MzZJS25pLz6"
      }
    },
    {
      "cell_type": "code",
      "source": [
        "# Inicializacion de la nueva columna\n",
        "df_vibraciones['a norm'] = df_vibraciones['a(t) [m/s^2]']\n",
        "\n",
        "\n",
        "# CODIGO DEL ALUMNO ==========================\n",
        "## Eliminación del valor medio\n",
        "df_vibraciones['a norm'] = df_vibraciones['a(t) [m/s^2]'] - np.mean(df_vibraciones['a(t) [m/s^2]'])\n",
        "# ============================================\n",
        "\n",
        "# Verificación\n",
        "mu = np.mean(df_vibraciones['a norm'])\n",
        "mu2 = np.mean(df_vibraciones['a(t) [m/s^2]'])\n",
        "print('El valor medio de la aceleración medida es {} m/s^2'.format(mu2))\n",
        "print('El valor medio de la aceleración normalizada es {} m/s^2'.format(mu))"
      ],
      "metadata": {
        "id": "bLTkU362lOo0",
        "outputId": "0bd05570-07f4-4d00-f4ea-5d2312822178",
        "colab": {
          "base_uri": "https://localhost:8080/"
        }
      },
      "execution_count": 57,
      "outputs": [
        {
          "output_type": "stream",
          "name": "stdout",
          "text": [
            "El valor medio de la aceleración medida es -3.211072286458456e-07 m/s^2\n",
            "El valor medio de la aceleración normalizada es 1.4853856745686034e-19 m/s^2\n"
          ]
        }
      ]
    },
    {
      "cell_type": "markdown",
      "source": [
        "Ahora, calcule el valor rms de ambas señales, utilizando tanto la formulación exacta (la primera ecuación de arriba), así como aproximando el valor con el desvío estándar."
      ],
      "metadata": {
        "id": "KqoOiHE9q7cW"
      }
    },
    {
      "cell_type": "code",
      "source": [
        "# Valor exacto de RMS\n",
        "RMS_a_exact = []\n",
        "RMS_anorm_exact = []\n",
        "\n",
        "# CODIGO DEL ALUMNO ============================\n",
        "N = df_vibraciones.shape[0]\n",
        "RMS_a_exact = np.linalg.norm(df_vibraciones['a(t) [m/s^2]'])/np.sqrt(N)\n",
        "RMS_anorm_exact = np.linalg.norm(df_vibraciones['a norm'])/np.sqrt(N)\n",
        "# ==============================================\n",
        "\n",
        "print('RMS exacto original:', RMS_a_exact)\n",
        "print('RMS exacto normalizado:', RMS_anorm_exact)"
      ],
      "metadata": {
        "id": "8zkQHWYTq5_j",
        "outputId": "24e74f70-f498-4dc0-87eb-6028113ae0cc",
        "colab": {
          "base_uri": "https://localhost:8080/"
        }
      },
      "execution_count": 58,
      "outputs": [
        {
          "output_type": "stream",
          "name": "stdout",
          "text": [
            "RMS exacto original: 0.011196957749355438\n",
            "RMS exacto normalizado: 0.011196957744751072\n"
          ]
        }
      ]
    },
    {
      "cell_type": "code",
      "source": [
        "# Aproximacion como Desvio Estandar\n",
        "RMS_a_std = []\n",
        "RMS_anorm_std = []\n",
        "\n",
        "# CODIGO DEL ALUMNO ============================\n",
        "RMS_a_std = np.std(df_vibraciones['a(t) [m/s^2]'])\n",
        "RMS_anorm_std = np.std(df_vibraciones['a norm'])\n",
        "# ==============================================\n",
        "\n",
        "print('RMS aprox. original:', RMS_a_std)\n",
        "print('RMS aprox. normalizado:', RMS_anorm_std)"
      ],
      "metadata": {
        "id": "PkDBfoTrs-1g",
        "outputId": "17e258c9-3498-4093-9a6e-e7915122b9c0",
        "colab": {
          "base_uri": "https://localhost:8080/"
        }
      },
      "execution_count": 59,
      "outputs": [
        {
          "output_type": "stream",
          "name": "stdout",
          "text": [
            "RMS aprox. original: 0.011196957744751069\n",
            "RMS aprox. normalizado: 0.011196957744751069\n"
          ]
        }
      ]
    },
    {
      "cell_type": "markdown",
      "source": [
        "Visto lo anterior, indique si se justifica el cálculo aproximado a través del desvío estándar de la población"
      ],
      "metadata": {
        "id": "-7AkFhrBs-WQ"
      }
    },
    {
      "cell_type": "markdown",
      "source": [
        "**Su respuesta**:"
      ],
      "metadata": {
        "id": "6s9BbMHLwLIZ"
      }
    },
    {
      "cell_type": "markdown",
      "source": [
        "Otra forma de visualizar el registro es a partir de la Transformada de Fourier, que permite pasar la señal al dominio de la frecuencia. En particular, la densidad de potencia espectral (PSD) informa para cada frecuencia la potencia por unidad de frecuencia de la señal (tiene unidades de, por ejemplo, $\\left( m/s^{2} \\right)^{2}/Hz$)."
      ],
      "metadata": {
        "id": "Vp3VS421wQ4L"
      }
    },
    {
      "cell_type": "code",
      "source": [
        "from scipy.fft import fft, fftfreq\n",
        "N = df_vibraciones.shape[0]\n",
        "DeltaT = df_vibraciones['t [s]'][1]-df_vibraciones['t [s]'][0]\n",
        "AFreq = fft(np.array(df_vibraciones['a norm']))\n",
        "\n",
        "# Vector de Frecuencias\n",
        "Ffreq = fftfreq(N, DeltaT)[:(N+1)//2]\n",
        "# Vector con la densidad de potencia espectral\n",
        "PSD = 2.0 * DeltaT / N * np.abs(AFreq[:(N+1)//2])**2\n",
        "PSD[0] = PSD[0]/2 # Corregir DC offset\n",
        "\n",
        "# Plot\n",
        "plt.plot(Ffreq,PSD)\n",
        "plt.grid()\n",
        "plt.xlabel('Frecuencia [Hz]')\n",
        "plt.ylabel('PSD')\n",
        "plt.title('Transformada de Fourier (Espectro)')"
      ],
      "metadata": {
        "id": "TTsjezh5xSmj",
        "outputId": "beab6369-6f61-489a-f0f8-56a6e9b836d3",
        "colab": {
          "base_uri": "https://localhost:8080/",
          "height": 312
        }
      },
      "execution_count": 60,
      "outputs": [
        {
          "output_type": "execute_result",
          "data": {
            "text/plain": [
              "Text(0.5, 1.0, 'Transformada de Fourier (Espectro)')"
            ]
          },
          "metadata": {},
          "execution_count": 60
        },
        {
          "output_type": "display_data",
          "data": {
            "text/plain": [
              "<Figure size 432x288 with 1 Axes>"
            ],
            "image/png": "[encoded data removed]"
          },
          "metadata": {
            "needs_background": "light"
          }
        }
      ]
    },
    {
      "cell_type": "markdown",
      "source": [
        "Una de las propiedades de la transformada de Fourier es que el área bajo la curva devuelve la potencia promedio de la señal, por lo que se verifica que:\n",
        "\n",
        "$$\\int_{0}^{\\infty} PSD(f)\\ df \\approx \\Delta f \\sum_{i=0}^{M-1} PSD(f_{i}) = {a_{rms}}^{2} $$\n",
        "\n",
        "Compruebe lo anterior calculando el rms a partir del vector `PSD`, obtentiendo $\\Delta f$ del vector `Ffreq`."
      ],
      "metadata": {
        "id": "juIfYrGv0z2G"
      }
    },
    {
      "cell_type": "code",
      "source": [
        "rms_fft = []\n",
        "\n",
        "# CODIGO DEL ALUMNO =================================\n",
        "rms_fft = np.sqrt(np.sum(PSD)*Ffreq[1])\n",
        "# ===================================================\n",
        "\n",
        "print('El rms a partir de Fourier es: ', rms_fft)"
      ],
      "metadata": {
        "id": "WsXQnMe_0y7S",
        "outputId": "ce3b2893-3c3a-4586-d87b-b10a68514a3c",
        "colab": {
          "base_uri": "https://localhost:8080/"
        }
      },
      "execution_count": 61,
      "outputs": [
        {
          "output_type": "stream",
          "name": "stdout",
          "text": [
            "El rms a partir de Fourier es:  0.011196957744751063\n"
          ]
        }
      ]
    },
    {
      "cell_type": "markdown",
      "source": [
        "Ahora bien, los valores anteriores fueron evaluados para la señal en su conjunto. Sin embargo, en el gráfico se ve claramente que las aceleraciones aumentan sobre el final, cuando se capturó el paso de una formación de subte, respecto al inicio donde había únicamente vibración ambiente.\n",
        "\n",
        "Para evaluar donde empieza y termina el evento de interés, un método de identificación muy habitual es calcular el rms de la señal en ventanas móviles de tiempo y ver cuándo este supera un umbral definido por el usuario. Este análisis se puede hacer con la opción `rolling` de pandas."
      ],
      "metadata": {
        "id": "tH3GVb6v_VgM"
      }
    },
    {
      "cell_type": "code",
      "source": [
        "# Calcular el rms movil\n",
        "vent = 5 # Longitud de ventana en segundos\n",
        "umb = 0.011 # Valor umbral\n",
        "idxvent = int(vent // DeltaT - 1)\n",
        "df_vibraciones['Rolling_rms'] = (df_vibraciones['a norm']**2).rolling(idxvent).mean() **0.5\n",
        "\n",
        "# Plotear\n",
        "plt.plot(df_vibraciones['t [s]'],df_vibraciones['a norm'],color=[0.5,0.5,0.5],label='registro')\n",
        "plt.plot(df_vibraciones['t [s]'],df_vibraciones['Rolling_rms'],'b-',linewidth=2,label='rms')\n",
        "plt.plot([0, 100],[umb, umb],'k-.',linewidth=1,label='Umbral')\n",
        "plt.xlabel('t [s]')\n",
        "plt.ylabel('[m/s^2]')\n",
        "plt.legend(loc=2)\n",
        "plt.grid()\n",
        "plt.show()"
      ],
      "metadata": {
        "id": "C4q5eaQQVEVo",
        "outputId": "fb240259-8e46-4133-e2c6-a76e6cf4127c",
        "colab": {
          "base_uri": "https://localhost:8080/",
          "height": 279
        }
      },
      "execution_count": 62,
      "outputs": [
        {
          "output_type": "display_data",
          "data": {
            "text/plain": [
              "<Figure size 432x288 with 1 Axes>"
            ],
            "image/png": "[encoded data removed]"
          },
          "metadata": {
            "needs_background": "light"
          }
        }
      ]
    },
    {
      "cell_type": "markdown",
      "source": [
        "En el gráfico de arriba se ve que a partir de aproximadamente 82s el valor de rms supera el umbral, `umb`, de $0.011m/s^{2}$. Considerando que el calculo de media móvil introduce lag, esto quiere decir que el evento comenzó en realidad 5 segundos antes (la longitud de la ventana).\n",
        "\n",
        "Por lo tanto, en el siguiente paso separe el dataset en 2: Uno para el paso del subte y otro para la vibración ambiente. Para ello debe encontrar el valor de tiempo `t` a partir del cual el valor de rms movil (`df_vibraciones['Rolling_rms']`) supera el umbral definido `umb`, y luego restar el lag de 5s (`vent`) para definir `Tlim`. Finalmente, genere los vectores `Subte` y `Ambiente` haciendo uso de las funciones de slicing y operaciones lógicas.\n",
        "\n",
        "No es necesario encontrar el final del evento (asuma que termina al final del dataset)"
      ],
      "metadata": {
        "id": "VWFe6H6bbHP4"
      }
    },
    {
      "cell_type": "code",
      "source": [
        "Subte = []\n",
        "Ambiente = []\n",
        "Tlim = []\n",
        "# CODIGO DEL ALUMNO ====================================\n",
        "TSubte = df_vibraciones['t [s]'][df_vibraciones['Rolling_rms'] > umb]\n",
        "Tlim = np.min(TSubte) - vent\n",
        "Subte = df_vibraciones['a norm'][df_vibraciones['t [s]']>Tlim]\n",
        "Ambiente = df_vibraciones['a norm'][df_vibraciones['t [s]']<=Tlim]\n",
        "# ======================================================\n",
        "\n",
        "print('El paso de subte comienza a los:',Tlim)\n",
        "\n",
        "plt.plot(Subte)\n",
        "plt.title('Paso Subte')\n",
        "plt.show()\n",
        "plt.plot(Ambiente)\n",
        "plt.title('Vibración Ambiente')\n",
        "plt.show()"
      ],
      "metadata": {
        "id": "4secbRbDb4PB",
        "outputId": "deeffd89-27bd-41b7-8c14-79e9dd3200e0",
        "colab": {
          "base_uri": "https://localhost:8080/",
          "height": 562
        }
      },
      "execution_count": 63,
      "outputs": [
        {
          "output_type": "stream",
          "name": "stdout",
          "text": [
            "El paso de subte comienza a los: 77.55462185\n"
          ]
        },
        {
          "output_type": "display_data",
          "data": {
            "text/plain": [
              "<Figure size 432x288 with 1 Axes>"
            ],
            "image/png": "[encoded data removed]"
          },
          "metadata": {
            "needs_background": "light"
          }
        },
        {
          "output_type": "display_data",
          "data": {
            "text/plain": [
              "<Figure size 432x288 with 1 Axes>"
            ],
            "image/png": "[encoded data removed]"
          },
          "metadata": {
            "needs_background": "light"
          }
        }
      ]
    },
    {
      "cell_type": "markdown",
      "source": [
        "Finalmente, calcule la relación señal-ruido. Es decir, cuánto se distingue la señal a ser estudiada (el paso de subte) del ruido inherente de la zona (la vibración ambiente). En general se buscan valores superiores a 5, caso contrario el ruido va a influir en el análisis notoriamente (no podríamos decir que estamos viendo sólo el subte). Esta se define (en decibeles) como:\n",
        "\n",
        "$$ SNR = 10 \\log_{10}\\left(\\frac{RMS_{subte}}{RMS_{ambiente}}\\right) $$\n",
        "\n",
        "Puede utilizar cualquiera de las formas de rms que vimos anteriormente."
      ],
      "metadata": {
        "id": "IKSLmdv0c4W6"
      }
    },
    {
      "cell_type": "code",
      "source": [
        "SNR = []\n",
        "\n",
        "# CODIGO DEL ALUMNO ====================================\n",
        "rms_subte = np.std(Subte-np.mean(Subte))\n",
        "rms_ambiente = np.std(Ambiente-np.mean(Ambiente))\n",
        "SNR = 10*np.log10(rms_subte/rms_ambiente)\n",
        "# ======================================================\n",
        "\n",
        "print('La relación señal ruido es de',SNR)"
      ],
      "metadata": {
        "id": "K-jfhDk5d9XA",
        "outputId": "359b7d82-ebdf-46f9-ee30-2898bb958c60",
        "colab": {
          "base_uri": "https://localhost:8080/"
        }
      },
      "execution_count": 64,
      "outputs": [
        {
          "output_type": "stream",
          "name": "stdout",
          "text": [
            "La relación señal ruido es de 3.3410920204776176\n"
          ]
        }
      ]
    },
    {
      "cell_type": "markdown",
      "source": [
        "## Ejercicio 3: Explorando el dataset elegido\n",
        "\n",
        "Como puntapié inicial del trabajo final de la materia, elija un dataset (como mínimo 3 variables!) que le sea de su interés particular, y sobre el cuál iremos trabajando a lo largo de la materia. No hay restricción en el tipo de dataset y su área de aplicación, pero sí asegúrese que sea público o, en caso contrario, esté debidamente anonimizado o acreditado.\n",
        "\n",
        "Acá dejamos algunos links con sitios donde pueden llegar a encontrar datasets de interés:\n",
        "\n",
        "*   [BA Data](https://data.buenosaires.gob.ar/dataset/): Datos públicos sobre la Ciudad de Buenos Aires\n",
        "*   [Kaggle](https://www.kaggle.com/datasets): Datasets públicos de todo tipo\n",
        "*   \n",
        "\n",
        "\n",
        "\n",
        "Con el dataset elegido, le pediremos que conteste las siguientes preguntas:\n",
        "1. Explique su interés en ese dataset, y cómo se relaciona con su vida profesional, académica o personal.\n",
        "2. Cargue el dataset en python (se sugiere pandas!), describa cada variable contenida (significado y tipo de variable matemática),  y cómo fueron obtenidos los datos.\n",
        "3. Realice un análisis exploratorio de los datos, haciendo previamente la limpieza que crea necesaria, que muestre:\n",
        "  1. Valores medios, dispersión e histogramas de las variables\n",
        "  2. Diagramas de correlación (scatter plots)\n",
        "  3. Diagramas de autocorrelación"
      ],
      "metadata": {
        "id": "FOHX48P6jxsw"
      }
    }
  ]
}