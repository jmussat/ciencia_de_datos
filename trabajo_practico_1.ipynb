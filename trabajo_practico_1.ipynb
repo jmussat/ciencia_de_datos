{
  "nbformat": 4,
  "nbformat_minor": 0,
  "metadata": {
    "colab": {
      "name": "Untitled1.ipynb",
      "provenance": [],
      "toc_visible": true,
      "authorship_tag": "ABX9TyNgSTa1qhOc0/zbkSipW/8q",
      "include_colab_link": true
    },
    "kernelspec": {
      "name": "python3",
      "display_name": "Python 3"
    },
    "language_info": {
      "name": "python"
    }
  },
  "cells": [
    {
      "cell_type": "markdown",
      "metadata": {
        "id": "view-in-github",
        "colab_type": "text"
      },
      "source": [
        "<a href=\"https://colab.research.google.com/github/mbalbi/ciencia_de_datos/blob/tp1/trabajo_practico_1.ipynb\" target=\"_parent\"><img src=\"https://colab.research.google.com/assets/colab-badge.svg\" alt=\"Open In Colab\"/></a>"
      ]
    },
    {
      "cell_type": "markdown",
      "source": [
        "# Trabajo Práctico 1: Análisis exploratorio de datos\n",
        "\n",
        "**Objetivos:** Este trabajo tiene como objetivos que el alumno se familiarize con las funciones básicas de Python, y pueda realizar operaciones básicas de manejo, limpieza y visualización de datos.\n",
        "\n",
        "**Librerías:** para realizar este trabajo serán necesarias las siguientes librerías.\n",
        "- Numpy: matemática básica y definición de matrices y vectores\n",
        "- Scipy.stats: repositorio de distribuciones de probabilidad y funciones de algebra\n",
        "- Pandas: manejo de datasets\n",
        "- Seaborn: visualización de datos\n",
        "\n",
        "Si requiere usar otras no incluidas aquí, no dude en importarlas."
      ],
      "metadata": {
        "id": "7Mc_Q8b3jPda"
      }
    },
    {
      "cell_type": "code",
      "source": [
        "import numpy as np\n",
        "import scipy.stats as st\n",
        "import pandas as pd\n",
        "import matplotlib.pyplot as plt\n",
        "import seaborn as sns"
      ],
      "metadata": {
        "id": "tMMjUX6yj34C"
      },
      "execution_count": 2,
      "outputs": []
    },
    {
      "cell_type": "markdown",
      "source": [
        "## Ejercicio 1"
      ],
      "metadata": {
        "id": "bwl7oXGqjvTf"
      }
    },
    {
      "cell_type": "markdown",
      "source": [
        "## Ejercicio 2"
      ],
      "metadata": {
        "id": "FOHX48P6jxsw"
      }
    }
  ]
}