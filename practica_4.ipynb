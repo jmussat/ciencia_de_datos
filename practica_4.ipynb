{
  "nbformat": 4,
  "nbformat_minor": 0,
  "metadata": {
    "colab": {
      "provenance": [],
      "collapsed_sections": [],
      "toc_visible": true,
      "include_colab_link": true
    },
    "kernelspec": {
      "name": "python3",
      "display_name": "Python 3"
    },
    "language_info": {
      "name": "python"
    },
    "gpuClass": "standard"
  },
  "cells": [
    {
      "cell_type": "markdown",
      "metadata": {
        "id": "view-in-github",
        "colab_type": "text"
      },
      "source": [
        "<a href=\"https://colab.research.google.com/github/mbalbi/ciencia_de_datos/blob/Clases-4-5/practica_4.ipynb\" target=\"_parent\"><img src=\"https://colab.research.google.com/assets/colab-badge.svg\" alt=\"Open In Colab\"/></a>"
      ]
    },
    {
      "cell_type": "markdown",
      "source": [
        "#Clase 4: Ajuste de funciones de distribución"
      ],
      "metadata": {
        "id": "jK6_hRlmxwwK"
      }
    },
    {
      "cell_type": "markdown",
      "source": [
        "## Introducción: Soluciones analíticas\n",
        "\n",
        "En la clase de hoy vamos a ver cómo ajustar funciones de distribución. Es decir, encontrar la función de distribución a posteriori de los parámetros de un modelo de generación de datos, y luego hacer predicciones considerando la incertidumbre en los parámetros del modelo.\n",
        "\n",
        "En la clase de hoy trabajaremos con soluciones analíticos de la función a posteriori y la predictiva, para lo cual tendremos que seleccionar distribuciones a priori de los parámetros específicas.\n",
        "\n",
        "En la clase siguiente veremos la solución numérica del mismo problema, que permitirá resolver mayor número de problemas y dará más flexibilidad a su vez."
      ],
      "metadata": {
        "id": "RhtqSr63heSz"
      }
    },
    {
      "cell_type": "markdown",
      "source": [
        "##Ejemplo 1: Resistencia característica del hormigón elaborado en planta\n",
        "\n",
        "Una planta hormigonera quiere realizar un control de calidad del hormigón, el cual vende como H-30 siguiendo los lineamientos del reglamento CIRSOC 201-2005 (${f^{\\prime}}_{c}=30MPa$). El reglamento define a la resistencia característica como aquella que tiene una probablildad del 90% de ser superada.\n",
        "\n",
        "En total se tienen 42 ensayos de probetas moldeadas con la misma dosificación. A partir de los datos, defina la resistencia característica del hormigón."
      ],
      "metadata": {
        "id": "Wlk6PoCVst25"
      }
    },
    {
      "cell_type": "markdown",
      "source": [
        "###PASO 1: Análisis Exploratorio de Datos\n",
        "\n",
        "Primero, veamos que distribución parece gobernar la resistencia del hormigón (para la dosificación estudiada). Empecemos con la carga de datos y la elaboración de un histograma para ver qué modelo podríamos proponer."
      ],
      "metadata": {
        "id": "8CMiXfC6xvPR"
      }
    },
    {
      "cell_type": "code",
      "source": [
        "import numpy as np\n",
        "import scipy.stats as st\n",
        "import pandas as pd\n",
        "import matplotlib.pyplot as plt\n",
        "import seaborn as sns\n",
        "import io"
      ],
      "metadata": {
        "id": "LU1B4qbexuOX"
      },
      "execution_count": null,
      "outputs": []
    },
    {
      "cell_type": "code",
      "source": [
        "#Abrimos un archivo local, es decir, que ha sido descargado en su computadora\n",
        "from google.colab import files\n",
        "uploaded = files.upload()"
      ],
      "metadata": {
        "colab": {
          "resources": {
            "http://localhost:8080/nbextensions/google.colab/files.js": {
              "data": "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",
              "ok": true,
              "headers": [
                [
                  "content-type",
                  "application/javascript"
                ]
              ],
              "status": 200,
              "status_text": ""
            }
          },
          "base_uri": "https://localhost:8080/",
          "height": 73
        },
        "id": "PQD-GmFkzRYL",
        "outputId": "f0544d39-4cb6-4829-ed87-1e66c676c294"
      },
      "execution_count": null,
      "outputs": [
        {
          "output_type": "display_data",
          "data": {
            "text/plain": [
              "<IPython.core.display.HTML object>"
            ],
            "text/html": [
              "\n",
              "     <input type=\"file\" id=\"files-637b9b73-b98f-4f51-bd41-a5e7b15c49f6\" name=\"files[]\" multiple disabled\n",
              "        style=\"border:none\" />\n",
              "     <output id=\"result-637b9b73-b98f-4f51-bd41-a5e7b15c49f6\">\n",
              "      Upload widget is only available when the cell has been executed in the\n",
              "      current browser session. Please rerun this cell to enable.\n",
              "      </output>\n",
              "      <script src=\"/nbextensions/google.colab/files.js\"></script> "
            ]
          },
          "metadata": {}
        },
        {
          "output_type": "stream",
          "name": "stdout",
          "text": [
            "Saving ProbetasHormigon.csv to ProbetasHormigon (2).csv\n"
          ]
        }
      ]
    },
    {
      "cell_type": "code",
      "source": [
        "#Se crea un DataFrame\n",
        "df_probetas = pd.read_csv(io.BytesIO(uploaded['ProbetasHormigon.csv']))\n",
        "df_probetas.head()"
      ],
      "metadata": {
        "id": "LxnZNsyozU29",
        "colab": {
          "base_uri": "https://localhost:8080/",
          "height": 206
        },
        "outputId": "e302461f-6c75-4feb-ac7a-2968028ab59f"
      },
      "execution_count": null,
      "outputs": [
        {
          "output_type": "execute_result",
          "data": {
            "text/plain": [
              "   Ensayo  Resistencia (MPa)  Unnamed: 2  Unnamed: 3  Unnamed: 4  Unnamed: 5\n",
              "0       1               33.3         NaN         NaN         NaN         NaN\n",
              "1       2               37.4         NaN         NaN         NaN         NaN\n",
              "2       3               36.5         NaN         NaN         NaN         NaN\n",
              "3       4               32.3         NaN         NaN         NaN         NaN\n",
              "4       5               37.4         NaN         NaN         NaN         NaN"
            ],
            "text/html": [
              "\n",
              "  <div id=\"df-1ed26f5f-0889-40c6-b7b4-e30fb055fb73\">\n",
              "    <div class=\"colab-df-container\">\n",
              "      <div>\n",
              "<style scoped>\n",
              "    .dataframe tbody tr th:only-of-type {\n",
              "        vertical-align: middle;\n",
              "    }\n",
              "\n",
              "    .dataframe tbody tr th {\n",
              "        vertical-align: top;\n",
              "    }\n",
              "\n",
              "    .dataframe thead th {\n",
              "        text-align: right;\n",
              "    }\n",
              "</style>\n",
              "<table border=\"1\" class=\"dataframe\">\n",
              "  <thead>\n",
              "    <tr style=\"text-align: right;\">\n",
              "      <th></th>\n",
              "      <th>Ensayo</th>\n",
              "      <th>Resistencia (MPa)</th>\n",
              "      <th>Unnamed: 2</th>\n",
              "      <th>Unnamed: 3</th>\n",
              "      <th>Unnamed: 4</th>\n",
              "      <th>Unnamed: 5</th>\n",
              "    </tr>\n",
              "  </thead>\n",
              "  <tbody>\n",
              "    <tr>\n",
              "      <th>0</th>\n",
              "      <td>1</td>\n",
              "      <td>33.3</td>\n",
              "      <td>NaN</td>\n",
              "      <td>NaN</td>\n",
              "      <td>NaN</td>\n",
              "      <td>NaN</td>\n",
              "    </tr>\n",
              "    <tr>\n",
              "      <th>1</th>\n",
              "      <td>2</td>\n",
              "      <td>37.4</td>\n",
              "      <td>NaN</td>\n",
              "      <td>NaN</td>\n",
              "      <td>NaN</td>\n",
              "      <td>NaN</td>\n",
              "    </tr>\n",
              "    <tr>\n",
              "      <th>2</th>\n",
              "      <td>3</td>\n",
              "      <td>36.5</td>\n",
              "      <td>NaN</td>\n",
              "      <td>NaN</td>\n",
              "      <td>NaN</td>\n",
              "      <td>NaN</td>\n",
              "    </tr>\n",
              "    <tr>\n",
              "      <th>3</th>\n",
              "      <td>4</td>\n",
              "      <td>32.3</td>\n",
              "      <td>NaN</td>\n",
              "      <td>NaN</td>\n",
              "      <td>NaN</td>\n",
              "      <td>NaN</td>\n",
              "    </tr>\n",
              "    <tr>\n",
              "      <th>4</th>\n",
              "      <td>5</td>\n",
              "      <td>37.4</td>\n",
              "      <td>NaN</td>\n",
              "      <td>NaN</td>\n",
              "      <td>NaN</td>\n",
              "      <td>NaN</td>\n",
              "    </tr>\n",
              "  </tbody>\n",
              "</table>\n",
              "</div>\n",
              "      <button class=\"colab-df-convert\" onclick=\"convertToInteractive('df-1ed26f5f-0889-40c6-b7b4-e30fb055fb73')\"\n",
              "              title=\"Convert this dataframe to an interactive table.\"\n",
              "              style=\"display:none;\">\n",
              "        \n",
              "  <svg xmlns=\"http://www.w3.org/2000/svg\" height=\"24px\"viewBox=\"0 0 24 24\"\n",
              "       width=\"24px\">\n",
              "    <path d=\"M0 0h24v24H0V0z\" fill=\"none\"/>\n",
              "    <path d=\"M18.56 5.44l.94 2.06.94-2.06 2.06-.94-2.06-.94-.94-2.06-.94 2.06-2.06.94zm-11 1L8.5 8.5l.94-2.06 2.06-.94-2.06-.94L8.5 2.5l-.94 2.06-2.06.94zm10 10l.94 2.06.94-2.06 2.06-.94-2.06-.94-.94-2.06-.94 2.06-2.06.94z\"/><path d=\"M17.41 7.96l-1.37-1.37c-.4-.4-.92-.59-1.43-.59-.52 0-1.04.2-1.43.59L10.3 9.45l-7.72 7.72c-.78.78-.78 2.05 0 2.83L4 21.41c.39.39.9.59 1.41.59.51 0 1.02-.2 1.41-.59l7.78-7.78 2.81-2.81c.8-.78.8-2.07 0-2.86zM5.41 20L4 18.59l7.72-7.72 1.47 1.35L5.41 20z\"/>\n",
              "  </svg>\n",
              "      </button>\n",
              "      \n",
              "  <style>\n",
              "    .colab-df-container {\n",
              "      display:flex;\n",
              "      flex-wrap:wrap;\n",
              "      gap: 12px;\n",
              "    }\n",
              "\n",
              "    .colab-df-convert {\n",
              "      background-color: #E8F0FE;\n",
              "      border: none;\n",
              "      border-radius: 50%;\n",
              "      cursor: pointer;\n",
              "      display: none;\n",
              "      fill: #1967D2;\n",
              "      height: 32px;\n",
              "      padding: 0 0 0 0;\n",
              "      width: 32px;\n",
              "    }\n",
              "\n",
              "    .colab-df-convert:hover {\n",
              "      background-color: #E2EBFA;\n",
              "      box-shadow: 0px 1px 2px rgba(60, 64, 67, 0.3), 0px 1px 3px 1px rgba(60, 64, 67, 0.15);\n",
              "      fill: #174EA6;\n",
              "    }\n",
              "\n",
              "    [theme=dark] .colab-df-convert {\n",
              "      background-color: #3B4455;\n",
              "      fill: #D2E3FC;\n",
              "    }\n",
              "\n",
              "    [theme=dark] .colab-df-convert:hover {\n",
              "      background-color: #434B5C;\n",
              "      box-shadow: 0px 1px 3px 1px rgba(0, 0, 0, 0.15);\n",
              "      filter: drop-shadow(0px 1px 2px rgba(0, 0, 0, 0.3));\n",
              "      fill: #FFFFFF;\n",
              "    }\n",
              "  </style>\n",
              "\n",
              "      <script>\n",
              "        const buttonEl =\n",
              "          document.querySelector('#df-1ed26f5f-0889-40c6-b7b4-e30fb055fb73 button.colab-df-convert');\n",
              "        buttonEl.style.display =\n",
              "          google.colab.kernel.accessAllowed ? 'block' : 'none';\n",
              "\n",
              "        async function convertToInteractive(key) {\n",
              "          const element = document.querySelector('#df-1ed26f5f-0889-40c6-b7b4-e30fb055fb73');\n",
              "          const dataTable =\n",
              "            await google.colab.kernel.invokeFunction('convertToInteractive',\n",
              "                                                     [key], {});\n",
              "          if (!dataTable) return;\n",
              "\n",
              "          const docLinkHtml = 'Like what you see? Visit the ' +\n",
              "            '<a target=\"_blank\" href=https://colab.research.google.com/notebooks/data_table.ipynb>data table notebook</a>'\n",
              "            + ' to learn more about interactive tables.';\n",
              "          element.innerHTML = '';\n",
              "          dataTable['output_type'] = 'display_data';\n",
              "          await google.colab.output.renderOutput(dataTable, element);\n",
              "          const docLink = document.createElement('div');\n",
              "          docLink.innerHTML = docLinkHtml;\n",
              "          element.appendChild(docLink);\n",
              "        }\n",
              "      </script>\n",
              "    </div>\n",
              "  </div>\n",
              "  "
            ]
          },
          "metadata": {},
          "execution_count": 3
        }
      ]
    },
    {
      "cell_type": "code",
      "source": [
        "# Histograma con Seaborn\n",
        "sns.histplot(data = df_probetas, x='Resistencia (MPa)', bins='sturges', stat='probability').set(title='Histograma de Ensayos')\n",
        "plt.show()"
      ],
      "metadata": {
        "id": "r-o6bBTB0Gs5",
        "colab": {
          "base_uri": "https://localhost:8080/",
          "height": 295
        },
        "outputId": "efde84bd-4c16-4330-96dd-bf89650b8a09"
      },
      "execution_count": null,
      "outputs": [
        {
          "output_type": "display_data",
          "data": {
            "text/plain": [
              "<Figure size 432x288 with 1 Axes>"
            ],
            "image/png": "[encoded data removed]"
          },
          "metadata": {
            "needs_background": "light"
          }
        }
      ]
    },
    {
      "cell_type": "markdown",
      "source": [
        "A falta de mejores ideas (les recomiendo jugar con el gráfico anterior, la forma es muy sensible al número de bins seleccionados) asumamos que la resistencia del hormigón sigue una distribución normal con parámetros $\\mu$, $\\sigma$ desconocidos:\n",
        "\n",
        "$$f_{c} \\sim N\\left(\\mu,\\sigma^{2}\\right)$$\n",
        "\n",
        "Una mejor forma de chequear de los datos se parecen a una distribución normal es a través de un gráfico qqplot. En este caso para explorar los datos vamos a normalizarlos y compararlos contra la distribución normal normalizada:"
      ],
      "metadata": {
        "id": "fLCxPwwR0opZ"
      }
    },
    {
      "cell_type": "code",
      "source": [
        "mean = df_probetas['Resistencia (MPa)'].mean()\n",
        "std = df_probetas['Resistencia (MPa)'].std()\n",
        "\n",
        "import statsmodels.api as sm\n",
        "fig = sm.qqplot((df_probetas['Resistencia (MPa)']-mean)/std, line ='45')"
      ],
      "metadata": {
        "id": "QT5Dfe9Jg8Yi",
        "colab": {
          "base_uri": "https://localhost:8080/",
          "height": 283
        },
        "outputId": "0fdb4527-20fd-48b8-a203-e18ec32096b2"
      },
      "execution_count": null,
      "outputs": [
        {
          "output_type": "display_data",
          "data": {
            "text/plain": [
              "<Figure size 432x288 with 1 Axes>"
            ],
            "image/png": "[encoded data removed]"
          },
          "metadata": {
            "needs_background": "light"
          }
        }
      ]
    },
    {
      "cell_type": "markdown",
      "source": [
        "Bueno... bastante bien. La forma de S en los extremos indica que los datos tienen una una cola más pronunciada que una distribución normal. Pero con los datos disponibles da bien, asumir que es normal es correcto."
      ],
      "metadata": {
        "id": "5ZkH1ZvNgphv"
      }
    },
    {
      "cell_type": "markdown",
      "source": [
        "###PASO 2: Selección de la distribución a priori\n",
        "\n",
        "El paso siguiente es definir la función de distribución a priori de los parámetros. Una opción que nos permite obtener una solución analítica es el modelo Normal-Gamma Inversa.\n",
        "\n",
        "$$\\mu,\\sigma^{2} \\sim N\\left(\\mu_{0},\\frac{\\sigma^{2}}{\\kappa_{0}}\\right)Inv-Gamma \\left(\\nu_{0},{\\sigma_{0}}^{2}\\right)$$\n",
        "\n",
        "Si adoptamos la versión no-informativa ($\\mu_{0}\\rightarrow 0$, $\\kappa_{0}\\rightarrow 0$, $\\nu_{0}\\rightarrow -1$, $\\sigma_{0}\\rightarrow 0$) entonces sabemos que la función a posteriori de los parámetros va a ser:\n",
        "\n",
        "$$\\mu | \\mathbf{y} \\sim t_{N-1}\\left(\\bar{y},s\\sqrt{\\frac{1}{N}}\\right)$$\n",
        "\n",
        "$$\\sigma^{2} | \\mathbf{y} \\sim Inv-Gamma\\left(\\frac{N-1}{2},\\frac{\\left(N-1\\right)s^{2}}{2}\\right)$$\n",
        "\n",
        "donde $\\bar{y}$ es la media de las observaciones, $N$ el número de muestras y $s$ el desvío muestral."
      ],
      "metadata": {
        "id": "hvW5Fdgl1doE"
      }
    },
    {
      "cell_type": "markdown",
      "source": [
        "###PASO 3: Inferencia estadística\n",
        "\n",
        "Dada la sección anterior, ya tenemos todos los ingredientes para calcular la distribución a posterior de los parámetros:"
      ],
      "metadata": {
        "id": "ouSK9fiCvodV"
      }
    },
    {
      "cell_type": "code",
      "source": [
        "# Numero de datos\n",
        "N = len(df_probetas['Resistencia (MPa)'])\n",
        "print('Numero de datos:',N)\n",
        "\n",
        "# Valor medio\n",
        "fmean = mean\n",
        "print('Valor medio:',fmean,'MPa')\n",
        "\n",
        "# Desvio (agregar ddof=1 para que sea el estimador del desvio)\n",
        "fstd = std\n",
        "print('Desvio estandar:',fstd, 'MPa')"
      ],
      "metadata": {
        "id": "em66ZyG30oGk",
        "colab": {
          "base_uri": "https://localhost:8080/"
        },
        "outputId": "4a1268d2-da4a-4648-fda3-36ac9f34b7ec"
      },
      "execution_count": null,
      "outputs": [
        {
          "output_type": "stream",
          "name": "stdout",
          "text": [
            "Numero de datos: 42\n",
            "Valor medio: 35.94761904761905 MPa\n",
            "Desvio estandar: 3.364610519643638 MPa\n"
          ]
        }
      ]
    },
    {
      "cell_type": "markdown",
      "source": [
        "Y ya con esto se pueden calcular las distribuciones de $\\mu|\\mathbf{y}$ y $\\sigma^{2}|\\mathbf{y}$. Presten atención a cómo incluir los parámetros de las distribuciones descriptas arriba."
      ],
      "metadata": {
        "id": "BMmhAsfw0kng"
      }
    },
    {
      "cell_type": "code",
      "source": [
        "# Posterior marginal de mu\n",
        "mu_post = st.t( N-1, loc=fmean, scale=fstd*np.sqrt(1/N))\n",
        "\n",
        "# Posterior marginal de sigma2\n",
        "s2_post = st.invgamma( (N-1)/2, loc=0, scale=(N-1)*fstd**2/2 )"
      ],
      "metadata": {
        "id": "NWaMEDiH0AMg"
      },
      "execution_count": null,
      "outputs": []
    },
    {
      "cell_type": "markdown",
      "source": [
        "Grafiquemos los resultados!"
      ],
      "metadata": {
        "id": "mj_mJzJC1Yoi"
      }
    },
    {
      "cell_type": "code",
      "source": [
        "x=np.linspace(0,40,4001)\n",
        "\n",
        "# Plot\n",
        "fig, ax = plt.subplots( figsize=(9,3), nrows=1, ncols=2 )\n",
        "ax[0].plot(x, mu_post.pdf(x), color='r')\n",
        "ax[0].set_xlabel(r'$\\mu$', fontsize=14)\n",
        "ax[0].set_ylabel('posterior', fontsize=14)\n",
        "ax[0].set_xlim([32,40])\n",
        "ax[0].grid()\n",
        "\n",
        "ax[1].plot(x**2, s2_post.pdf(x**2), color='r')\n",
        "ax[1].set_xlabel(r'$\\sigma^{2}$', fontsize=14)\n",
        "#ax[1].set_ylabel('posterior', fontsize=14)\n",
        "ax[1].set_xlim([0,36])\n",
        "ax[1].grid()\n",
        "\n",
        "fig.tight_layout()\n",
        "plt.show()\n",
        "\n",
        "# Plot\n",
        "fig, ax = plt.subplots( figsize=(9,3), nrows=1, ncols=2 )\n",
        "ax[0].plot(x, mu_post.pdf(x), color='r')\n",
        "ax[0].set_xlabel(r'$\\mu$', fontsize=14)\n",
        "ax[0].set_ylabel('posterior', fontsize=14)\n",
        "ax[0].set_xlim([32,40])\n",
        "ax[0].grid()\n",
        "\n",
        "ax[1].plot(x, 2*x*s2_post.pdf(x**2), color='r')\n",
        "ax[1].set_xlabel(r'$\\sigma$', fontsize=14)\n",
        "#ax[1].set_ylabel('posterior', fontsize=14)\n",
        "ax[1].set_xlim([0,6])\n",
        "ax[1].grid()\n",
        "\n",
        "fig.tight_layout()\n",
        "plt.show()"
      ],
      "metadata": {
        "id": "DqE61jBe2UOD",
        "colab": {
          "base_uri": "https://localhost:8080/",
          "height": 433
        },
        "outputId": "aaef564b-82d7-4575-bb62-3ce7196909af"
      },
      "execution_count": null,
      "outputs": [
        {
          "output_type": "display_data",
          "data": {
            "text/plain": [
              "<Figure size 648x216 with 2 Axes>"
            ],
            "image/png": "[encoded data removed]"
          },
          "metadata": {
            "needs_background": "light"
          }
        },
        {
          "output_type": "display_data",
          "data": {
            "text/plain": [
              "<Figure size 648x216 with 2 Axes>"
            ],
            "image/png": "[encoded data removed]"
          },
          "metadata": {
            "needs_background": "light"
          }
        }
      ]
    },
    {
      "cell_type": "markdown",
      "source": [
        "Los valores más probables del valor medio y el desvío son:"
      ],
      "metadata": {
        "id": "1oflGGP95a4j"
      }
    },
    {
      "cell_type": "code",
      "source": [
        "# El valor más probable de mu es la moda de la distribucion, que es igual a la\n",
        "# media al ser una distribución simétrica\n",
        "mode_mu = mu_post.mean()\n",
        "print('Valor más probable de la media:',mode_mu,'MPa')\n",
        "\n",
        "# El valor más probable de sigma es la moda de la distribución que se puede\n",
        "# obtener como\n",
        "b = (N-1)*fstd**2/2\n",
        "a = (N-1)/2\n",
        "mode_s2 = b/(a+1)\n",
        "print('Valor más probable del desvío:', np.sqrt(mode_s2),'MPa')\n"
      ],
      "metadata": {
        "id": "6kU0dcNV5gbM",
        "colab": {
          "base_uri": "https://localhost:8080/"
        },
        "outputId": "3a48d939-f739-421b-d7ce-281db6eb6a92"
      },
      "execution_count": null,
      "outputs": [
        {
          "output_type": "stream",
          "name": "stdout",
          "text": [
            "Valor más probable de la media: 35.94761904761905 MPa\n",
            "Valor más probable del desvío: 3.2854321223156173 MPa\n"
          ]
        }
      ]
    },
    {
      "cell_type": "markdown",
      "source": [
        "Mientras el valor más probable de la media es el la media de la muestra, el valor más probable del desvío no es exactamente el desvío de la muestra (ni la poblacional), aunque todas convergen cuando $N\\rightarrow \\infty$."
      ],
      "metadata": {
        "id": "pheog8-oBOmE"
      }
    },
    {
      "cell_type": "markdown",
      "source": [
        "Del mismo modo, si queremos hacer predicciones acerca de futuras muestras, debemos utilizar la función predictiva. En este caso su solución analítica es:\n",
        "\n",
        "$$\\tilde{y}| \\mathbf{y} \\sim t_{N-1}\\left(\\bar{f_{c}},s\\sqrt{1+\\frac{1}{N}}\\right)$$"
      ],
      "metadata": {
        "id": "PjbA6lXCImMs"
      }
    },
    {
      "cell_type": "code",
      "source": [
        "# Posterior de nuevas observaciones\n",
        "y_post = st.t( N-1, loc=fmean, scale=fstd*np.sqrt(1+1/N))"
      ],
      "metadata": {
        "id": "Q0yMQY8f2Q92"
      },
      "execution_count": null,
      "outputs": []
    },
    {
      "cell_type": "code",
      "source": [
        "x = np.linspace(25,45,4001)\n",
        "\n",
        "# Solucion frecuentista\n",
        "Freq = st.norm(fmean,fstd)\n",
        "\n",
        "# Plot\n",
        "fig = plt.figure( figsize=(6,4))\n",
        "plt.plot(x, y_post.pdf(x), color='r',label='Bayes')\n",
        "plt.xlabel(r'$f_{c}$', fontsize=14)\n",
        "plt.grid()\n",
        "\n",
        "plt.plot(x, Freq.pdf(x), color='b',label='Frecuentista')\n",
        "plt.legend()\n",
        "\n",
        "plt.title('Función Predictora')\n",
        "\n",
        "fig.tight_layout()\n",
        "plt.show()"
      ],
      "metadata": {
        "id": "l3gYceHSm4s5",
        "colab": {
          "base_uri": "https://localhost:8080/",
          "height": 297
        },
        "outputId": "5a6a344a-6f26-4f52-cf92-e4e04d63238c"
      },
      "execution_count": null,
      "outputs": [
        {
          "output_type": "display_data",
          "data": {
            "text/plain": [
              "<Figure size 432x288 with 1 Axes>"
            ],
            "image/png": "[encoded data removed]"
          },
          "metadata": {
            "needs_background": "light"
          }
        }
      ]
    },
    {
      "cell_type": "markdown",
      "source": [
        "La solución que obtuvimos por Bayes es esencialmente la misma a utilizar como predictor una distribución normal con la media y el desvío de la muestra como parámetros. La solución bayesiana (un t-student) le asigna más probabilidad a las colas de la distribución ya que considera la incertidumbre de $\\mu$ y $\\sigma$ en vez de tomarlos en forma \"determinística\"."
      ],
      "metadata": {
        "id": "C2KVTENFKqJY"
      }
    },
    {
      "cell_type": "markdown",
      "source": [
        "###PASO 4: Evaluación del modelo\n",
        "\n",
        "Aunque con un único modelo no es posible decir si el modelo es el mejor (no tenemos nada para comparar), como a futuro nos va a interesar hacer comparaciones veamos una de las formas de evaluar distribuciones. Al igual que antes, un qq plot nos permite ver si dos funciones de distribución se parecen. Esta vez comparemos los datos contra la distribución de la función predictiva:"
      ],
      "metadata": {
        "id": "QTpIn_bOr3Eg"
      }
    },
    {
      "cell_type": "code",
      "source": [
        "fig = sm.qqplot(df_probetas['Resistencia (MPa)'], dist = y_post, line ='45')"
      ],
      "metadata": {
        "id": "dvKpR3PXs7cv",
        "colab": {
          "base_uri": "https://localhost:8080/",
          "height": 279
        },
        "outputId": "b8175554-f9d8-4ac1-f7c7-82fdf17e52b2"
      },
      "execution_count": null,
      "outputs": [
        {
          "output_type": "display_data",
          "data": {
            "text/plain": [
              "<Figure size 432x288 with 1 Axes>"
            ],
            "image/png": "[encoded data removed]"
          },
          "metadata": {
            "needs_background": "light"
          }
        }
      ]
    },
    {
      "cell_type": "markdown",
      "source": [
        "No tenemos mucho para comparar, pero los resultados se ven bien! En clases futuras veremos como evaluar en forma objetiva estos graficos y la bondad del ajuste."
      ],
      "metadata": {
        "id": "4bi9Dt8lxr2H"
      }
    },
    {
      "cell_type": "markdown",
      "source": [
        "###PASO 5: Aplicaciones\n",
        "\n",
        "Con la distribución a posterori de los parámetros que describen la resistencia característica del hormigón de la planta podemos ya definir la resistencia característica, aquella que tiene un 90% de probabilidad de ser superada.\n",
        "\n",
        "Cómo traducir este término depende de cuál es nuestro modelo. Si asumimos que valor medio es un valor cierto y que el desvío estandar es el producto de error en la medición, entonces la resistencia característica sería el valor medio tal que la probabilidad de que el valor medio real sea mayor sea del 90%:\n",
        "\n",
        "$${f^{\\prime}}_{c}: x\\, /\\, P(\\mu | \\mathbf{y}>x)=0.9$$\n",
        "\n",
        "Es decir, estamos asumiendo que existe un valor real de la resistencia."
      ],
      "metadata": {
        "id": "G1ceWay5DbCE"
      }
    },
    {
      "cell_type": "code",
      "source": [
        "# Resistencia Caracteristica\n",
        "fprime = mu_post.ppf(0.1)\n",
        "print('La resistencia característica es', fprime,'MPa')"
      ],
      "metadata": {
        "id": "QJ2hmh_oGUDO",
        "colab": {
          "base_uri": "https://localhost:8080/"
        },
        "outputId": "a9a3792a-6791-4fa3-8fe1-434796976611"
      },
      "execution_count": null,
      "outputs": [
        {
          "output_type": "stream",
          "name": "stdout",
          "text": [
            "La resistencia característica es 35.27137673369124 MPa\n"
          ]
        }
      ]
    },
    {
      "cell_type": "markdown",
      "source": [
        "Para el hormigón elaborado, generalmente que los datos de los ensayos son correctos (NOTA: En relidad 1 ensayo es el promedio de 2/3 probetas) y que no existe UN valor del hormigón ya que no podemos realmente ensayar el mismo hormigón. Lo que nos importa es el ensayo porque asumimos que ese valor es representativo de la resistencia del elemento estructural.\n",
        "\n",
        "Bajo este último paradigma, entonces la resistencia característica es aquella que **en un futuro ensayo** tiene una probabilidad de 90% de ser superada. Es decir:\n",
        "\n",
        "$${f^{\\prime}}_{c}: x\\, /\\, P(y | \\mathbf{y}>x)=0.9$$\n",
        "\n",
        "Fijense la diferencia con el caso anterior. No analizo un valor intrínseco del hormigón, sino el resultado que obtengo al ensayarlo. Haciendo esto obtenemos"
      ],
      "metadata": {
        "id": "tGRB1fCLo-iG"
      }
    },
    {
      "cell_type": "code",
      "source": [
        "# Resistencia Caracteristica\n",
        "fprime2 = y_post.ppf(0.1)\n",
        "print('La resistencia característica es', fprime2,'MPa')\n",
        "\n",
        "print('Antes nos dio', fprime,'MPa')"
      ],
      "metadata": {
        "id": "YNh3Fkdeo94v",
        "colab": {
          "base_uri": "https://localhost:8080/"
        },
        "outputId": "60719200-e0cb-4d82-a492-46ad7548fd51"
      },
      "execution_count": null,
      "outputs": [
        {
          "output_type": "stream",
          "name": "stdout",
          "text": [
            "La resistencia característica es 31.513201646505706 MPa\n",
            "Antes nos dio 35.27137673369124 MPa\n"
          ]
        }
      ]
    },
    {
      "cell_type": "markdown",
      "source": [
        "La diferencia es bien grande. Por eso es importante tener bien en claro que se está modelando y cuál es el criterio de aceptación. El primer caso se parece más a un Test de Hipótesis (¿puedo decir que el valor medio es mayor a tanto?)\n",
        "\n",
        "Si utilizamos el CIRSOC 201 (que está basado en considerar una distribución normal) obtenemos:"
      ],
      "metadata": {
        "id": "6q1FdI2wqY9Z"
      }
    },
    {
      "cell_type": "code",
      "source": [
        "CIRSOC = fmean - 1.28*fstd\n",
        "print('Resitencia segun CIRSOC es',CIRSOC,'MPa')"
      ],
      "metadata": {
        "id": "rJ_p46phq1D-",
        "colab": {
          "base_uri": "https://localhost:8080/"
        },
        "outputId": "e54bc1f5-da13-46a0-cf13-c52aa968deaf"
      },
      "execution_count": null,
      "outputs": [
        {
          "output_type": "stream",
          "name": "stdout",
          "text": [
            "Resitencia segun CIRSOC es 31.640917582475193 MPa\n"
          ]
        }
      ]
    },
    {
      "cell_type": "markdown",
      "source": [
        "Que es virtualmente idéntico a nuestro segundo paradigma. El valor de 1.28 utilizado arriba es el valor que toma una distribución normal normalizada con probabilidad 0.1:"
      ],
      "metadata": {
        "id": "cznpfqmfrFl0"
      }
    },
    {
      "cell_type": "code",
      "source": [
        "nor = st.norm(0,1)\n",
        "k = nor.ppf(0.1)\n",
        "print(k)"
      ],
      "metadata": {
        "id": "KTdhGcZZrFFq",
        "colab": {
          "base_uri": "https://localhost:8080/"
        },
        "outputId": "c7fc73c5-9082-4ba1-8b1f-fb861a4cf5d3"
      },
      "execution_count": null,
      "outputs": [
        {
          "output_type": "stream",
          "name": "stdout",
          "text": [
            "-1.2815515655446004\n"
          ]
        }
      ]
    },
    {
      "cell_type": "markdown",
      "source": [
        "##Ejemplo 2: Ocurrencia de sismos en la Provincia de San Juan\n",
        "\n",
        "En el siguiente ejemplo vamos a desarrollar un modelo que explique la ocurrencia de terremetos en San Juan en base a los datos disponibles desde 1941 en USGS."
      ],
      "metadata": {
        "id": "BfOHRzQQ1HkX"
      }
    },
    {
      "cell_type": "markdown",
      "source": [
        "###PASO 1: Análisis Exploratorio de Datos\n",
        "\n",
        "Primero, carguemos el archivo tal y como fue extraído de USGS para la provincia de San Juan (para ser precisos, se tomo un rectángulo que aproximademente cubre toda la provincia).\n",
        "\n",
        "En general se asume que la ocurrencia de sismos sigue una distribución de Poisson. Veamos que obtenemos."
      ],
      "metadata": {
        "id": "oe2wDgXdjVtA"
      }
    },
    {
      "cell_type": "code",
      "source": [
        "#Abrimos un archivo local, es decir, que ha sido descargado en su computadora\n",
        "uploaded = files.upload()"
      ],
      "metadata": {
        "id": "VqG_bMGq3SQN",
        "colab": {
          "resources": {
            "http://localhost:8080/nbextensions/google.colab/files.js": {
              "data": "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",
              "ok": true,
              "headers": [
                [
                  "content-type",
                  "application/javascript"
                ]
              ],
              "status": 200,
              "status_text": ""
            }
          },
          "base_uri": "https://localhost:8080/",
          "height": 73
        },
        "outputId": "a473d4e1-d4ad-435d-8879-9869c3491a98"
      },
      "execution_count": null,
      "outputs": [
        {
          "output_type": "display_data",
          "data": {
            "text/plain": [
              "<IPython.core.display.HTML object>"
            ],
            "text/html": [
              "\n",
              "     <input type=\"file\" id=\"files-e82f42ac-14f5-4623-97cc-257308795692\" name=\"files[]\" multiple disabled\n",
              "        style=\"border:none\" />\n",
              "     <output id=\"result-e82f42ac-14f5-4623-97cc-257308795692\">\n",
              "      Upload widget is only available when the cell has been executed in the\n",
              "      current browser session. Please rerun this cell to enable.\n",
              "      </output>\n",
              "      <script src=\"/nbextensions/google.colab/files.js\"></script> "
            ]
          },
          "metadata": {}
        },
        {
          "output_type": "stream",
          "name": "stdout",
          "text": [
            "Saving query.csv to query (2).csv\n"
          ]
        }
      ]
    },
    {
      "cell_type": "code",
      "source": [
        "#Se crea un DataFrame\n",
        "df_sismos = pd.read_csv(io.BytesIO(uploaded['Sismos_SanJuan.csv']))\n",
        "df_sismos.head()"
      ],
      "metadata": {
        "id": "0RasaHox3Ik3",
        "colab": {
          "base_uri": "https://localhost:8080/",
          "height": 560
        },
        "outputId": "a03276fb-704a-4ff8-d208-d854d9315db2"
      },
      "execution_count": null,
      "outputs": [
        {
          "output_type": "execute_result",
          "data": {
            "text/plain": [
              "                       time  latitude  longitude   depth  mag magType  nst  \\\n",
              "0  2021-12-27T13:01:04.080Z  -31.2940   -69.3336  109.05  4.5      mb  NaN   \n",
              "1  2021-12-08T23:36:02.742Z  -31.8741   -68.3598  112.11  4.0      mb  NaN   \n",
              "2  2021-11-25T03:18:30.863Z  -32.7200   -70.1864  112.84  4.0      mb  NaN   \n",
              "3  2021-11-18T01:09:40.958Z  -31.2685   -69.0364  106.72  4.5      mb  NaN   \n",
              "4  2021-11-03T03:17:48.635Z  -32.6971   -70.0638  100.25  5.7     mww  NaN   \n",
              "\n",
              "     gap   dmin   rms  ...                   updated  \\\n",
              "0   66.0  0.609  0.77  ...  2022-03-05T23:10:45.040Z   \n",
              "1  115.0  0.288  1.04  ...  2022-02-12T23:07:04.040Z   \n",
              "2  109.0  0.310  0.43  ...  2022-01-29T22:55:53.040Z   \n",
              "3   47.0  0.408  0.65  ...  2022-01-22T20:52:00.040Z   \n",
              "4   18.0  0.415  0.77  ...  2022-01-14T17:58:56.040Z   \n",
              "\n",
              "                                  place        type horizontalError  \\\n",
              "0     9 km ENE of Calingasta, Argentina  earthquake             4.6   \n",
              "1  22 km S of Nueve de Julio, Argentina  earthquake             8.2   \n",
              "2         40 km ENE of Los Andes, Chile  earthquake             2.7   \n",
              "3    37 km ENE of Calingasta, Argentina  earthquake             5.8   \n",
              "4         Chile-Argentina border region  earthquake             4.6   \n",
              "\n",
              "  depthError  magError  magNst    status  locationSource magSource  \n",
              "0        5.8     0.314     3.0  reviewed              us        us  \n",
              "1        4.3     0.184     8.0  reviewed              us        us  \n",
              "2        8.1     0.298     3.0  reviewed              us        us  \n",
              "3        5.4     0.140    15.0  reviewed              us        us  \n",
              "4        1.3     0.041    58.0  reviewed              us        us  \n",
              "\n",
              "[5 rows x 22 columns]"
            ],
            "text/html": [
              "\n",
              "  <div id=\"df-812e7cb5-5a77-4a8c-a0ec-506dda5d7a49\">\n",
              "    <div class=\"colab-df-container\">\n",
              "      <div>\n",
              "<style scoped>\n",
              "    .dataframe tbody tr th:only-of-type {\n",
              "        vertical-align: middle;\n",
              "    }\n",
              "\n",
              "    .dataframe tbody tr th {\n",
              "        vertical-align: top;\n",
              "    }\n",
              "\n",
              "    .dataframe thead th {\n",
              "        text-align: right;\n",
              "    }\n",
              "</style>\n",
              "<table border=\"1\" class=\"dataframe\">\n",
              "  <thead>\n",
              "    <tr style=\"text-align: right;\">\n",
              "      <th></th>\n",
              "      <th>time</th>\n",
              "      <th>latitude</th>\n",
              "      <th>longitude</th>\n",
              "      <th>depth</th>\n",
              "      <th>mag</th>\n",
              "      <th>magType</th>\n",
              "      <th>nst</th>\n",
              "      <th>gap</th>\n",
              "      <th>dmin</th>\n",
              "      <th>rms</th>\n",
              "      <th>...</th>\n",
              "      <th>updated</th>\n",
              "      <th>place</th>\n",
              "      <th>type</th>\n",
              "      <th>horizontalError</th>\n",
              "      <th>depthError</th>\n",
              "      <th>magError</th>\n",
              "      <th>magNst</th>\n",
              "      <th>status</th>\n",
              "      <th>locationSource</th>\n",
              "      <th>magSource</th>\n",
              "    </tr>\n",
              "  </thead>\n",
              "  <tbody>\n",
              "    <tr>\n",
              "      <th>0</th>\n",
              "      <td>2021-12-27T13:01:04.080Z</td>\n",
              "      <td>-31.2940</td>\n",
              "      <td>-69.3336</td>\n",
              "      <td>109.05</td>\n",
              "      <td>4.5</td>\n",
              "      <td>mb</td>\n",
              "      <td>NaN</td>\n",
              "      <td>66.0</td>\n",
              "      <td>0.609</td>\n",
              "      <td>0.77</td>\n",
              "      <td>...</td>\n",
              "      <td>2022-03-05T23:10:45.040Z</td>\n",
              "      <td>9 km ENE of Calingasta, Argentina</td>\n",
              "      <td>earthquake</td>\n",
              "      <td>4.6</td>\n",
              "      <td>5.8</td>\n",
              "      <td>0.314</td>\n",
              "      <td>3.0</td>\n",
              "      <td>reviewed</td>\n",
              "      <td>us</td>\n",
              "      <td>us</td>\n",
              "    </tr>\n",
              "    <tr>\n",
              "      <th>1</th>\n",
              "      <td>2021-12-08T23:36:02.742Z</td>\n",
              "      <td>-31.8741</td>\n",
              "      <td>-68.3598</td>\n",
              "      <td>112.11</td>\n",
              "      <td>4.0</td>\n",
              "      <td>mb</td>\n",
              "      <td>NaN</td>\n",
              "      <td>115.0</td>\n",
              "      <td>0.288</td>\n",
              "      <td>1.04</td>\n",
              "      <td>...</td>\n",
              "      <td>2022-02-12T23:07:04.040Z</td>\n",
              "      <td>22 km S of Nueve de Julio, Argentina</td>\n",
              "      <td>earthquake</td>\n",
              "      <td>8.2</td>\n",
              "      <td>4.3</td>\n",
              "      <td>0.184</td>\n",
              "      <td>8.0</td>\n",
              "      <td>reviewed</td>\n",
              "      <td>us</td>\n",
              "      <td>us</td>\n",
              "    </tr>\n",
              "    <tr>\n",
              "      <th>2</th>\n",
              "      <td>2021-11-25T03:18:30.863Z</td>\n",
              "      <td>-32.7200</td>\n",
              "      <td>-70.1864</td>\n",
              "      <td>112.84</td>\n",
              "      <td>4.0</td>\n",
              "      <td>mb</td>\n",
              "      <td>NaN</td>\n",
              "      <td>109.0</td>\n",
              "      <td>0.310</td>\n",
              "      <td>0.43</td>\n",
              "      <td>...</td>\n",
              "      <td>2022-01-29T22:55:53.040Z</td>\n",
              "      <td>40 km ENE of Los Andes, Chile</td>\n",
              "      <td>earthquake</td>\n",
              "      <td>2.7</td>\n",
              "      <td>8.1</td>\n",
              "      <td>0.298</td>\n",
              "      <td>3.0</td>\n",
              "      <td>reviewed</td>\n",
              "      <td>us</td>\n",
              "      <td>us</td>\n",
              "    </tr>\n",
              "    <tr>\n",
              "      <th>3</th>\n",
              "      <td>2021-11-18T01:09:40.958Z</td>\n",
              "      <td>-31.2685</td>\n",
              "      <td>-69.0364</td>\n",
              "      <td>106.72</td>\n",
              "      <td>4.5</td>\n",
              "      <td>mb</td>\n",
              "      <td>NaN</td>\n",
              "      <td>47.0</td>\n",
              "      <td>0.408</td>\n",
              "      <td>0.65</td>\n",
              "      <td>...</td>\n",
              "      <td>2022-01-22T20:52:00.040Z</td>\n",
              "      <td>37 km ENE of Calingasta, Argentina</td>\n",
              "      <td>earthquake</td>\n",
              "      <td>5.8</td>\n",
              "      <td>5.4</td>\n",
              "      <td>0.140</td>\n",
              "      <td>15.0</td>\n",
              "      <td>reviewed</td>\n",
              "      <td>us</td>\n",
              "      <td>us</td>\n",
              "    </tr>\n",
              "    <tr>\n",
              "      <th>4</th>\n",
              "      <td>2021-11-03T03:17:48.635Z</td>\n",
              "      <td>-32.6971</td>\n",
              "      <td>-70.0638</td>\n",
              "      <td>100.25</td>\n",
              "      <td>5.7</td>\n",
              "      <td>mww</td>\n",
              "      <td>NaN</td>\n",
              "      <td>18.0</td>\n",
              "      <td>0.415</td>\n",
              "      <td>0.77</td>\n",
              "      <td>...</td>\n",
              "      <td>2022-01-14T17:58:56.040Z</td>\n",
              "      <td>Chile-Argentina border region</td>\n",
              "      <td>earthquake</td>\n",
              "      <td>4.6</td>\n",
              "      <td>1.3</td>\n",
              "      <td>0.041</td>\n",
              "      <td>58.0</td>\n",
              "      <td>reviewed</td>\n",
              "      <td>us</td>\n",
              "      <td>us</td>\n",
              "    </tr>\n",
              "  </tbody>\n",
              "</table>\n",
              "<p>5 rows × 22 columns</p>\n",
              "</div>\n",
              "      <button class=\"colab-df-convert\" onclick=\"convertToInteractive('df-812e7cb5-5a77-4a8c-a0ec-506dda5d7a49')\"\n",
              "              title=\"Convert this dataframe to an interactive table.\"\n",
              "              style=\"display:none;\">\n",
              "        \n",
              "  <svg xmlns=\"http://www.w3.org/2000/svg\" height=\"24px\"viewBox=\"0 0 24 24\"\n",
              "       width=\"24px\">\n",
              "    <path d=\"M0 0h24v24H0V0z\" fill=\"none\"/>\n",
              "    <path d=\"M18.56 5.44l.94 2.06.94-2.06 2.06-.94-2.06-.94-.94-2.06-.94 2.06-2.06.94zm-11 1L8.5 8.5l.94-2.06 2.06-.94-2.06-.94L8.5 2.5l-.94 2.06-2.06.94zm10 10l.94 2.06.94-2.06 2.06-.94-2.06-.94-.94-2.06-.94 2.06-2.06.94z\"/><path d=\"M17.41 7.96l-1.37-1.37c-.4-.4-.92-.59-1.43-.59-.52 0-1.04.2-1.43.59L10.3 9.45l-7.72 7.72c-.78.78-.78 2.05 0 2.83L4 21.41c.39.39.9.59 1.41.59.51 0 1.02-.2 1.41-.59l7.78-7.78 2.81-2.81c.8-.78.8-2.07 0-2.86zM5.41 20L4 18.59l7.72-7.72 1.47 1.35L5.41 20z\"/>\n",
              "  </svg>\n",
              "      </button>\n",
              "      \n",
              "  <style>\n",
              "    .colab-df-container {\n",
              "      display:flex;\n",
              "      flex-wrap:wrap;\n",
              "      gap: 12px;\n",
              "    }\n",
              "\n",
              "    .colab-df-convert {\n",
              "      background-color: #E8F0FE;\n",
              "      border: none;\n",
              "      border-radius: 50%;\n",
              "      cursor: pointer;\n",
              "      display: none;\n",
              "      fill: #1967D2;\n",
              "      height: 32px;\n",
              "      padding: 0 0 0 0;\n",
              "      width: 32px;\n",
              "    }\n",
              "\n",
              "    .colab-df-convert:hover {\n",
              "      background-color: #E2EBFA;\n",
              "      box-shadow: 0px 1px 2px rgba(60, 64, 67, 0.3), 0px 1px 3px 1px rgba(60, 64, 67, 0.15);\n",
              "      fill: #174EA6;\n",
              "    }\n",
              "\n",
              "    [theme=dark] .colab-df-convert {\n",
              "      background-color: #3B4455;\n",
              "      fill: #D2E3FC;\n",
              "    }\n",
              "\n",
              "    [theme=dark] .colab-df-convert:hover {\n",
              "      background-color: #434B5C;\n",
              "      box-shadow: 0px 1px 3px 1px rgba(0, 0, 0, 0.15);\n",
              "      filter: drop-shadow(0px 1px 2px rgba(0, 0, 0, 0.3));\n",
              "      fill: #FFFFFF;\n",
              "    }\n",
              "  </style>\n",
              "\n",
              "      <script>\n",
              "        const buttonEl =\n",
              "          document.querySelector('#df-812e7cb5-5a77-4a8c-a0ec-506dda5d7a49 button.colab-df-convert');\n",
              "        buttonEl.style.display =\n",
              "          google.colab.kernel.accessAllowed ? 'block' : 'none';\n",
              "\n",
              "        async function convertToInteractive(key) {\n",
              "          const element = document.querySelector('#df-812e7cb5-5a77-4a8c-a0ec-506dda5d7a49');\n",
              "          const dataTable =\n",
              "            await google.colab.kernel.invokeFunction('convertToInteractive',\n",
              "                                                     [key], {});\n",
              "          if (!dataTable) return;\n",
              "\n",
              "          const docLinkHtml = 'Like what you see? Visit the ' +\n",
              "            '<a target=\"_blank\" href=https://colab.research.google.com/notebooks/data_table.ipynb>data table notebook</a>'\n",
              "            + ' to learn more about interactive tables.';\n",
              "          element.innerHTML = '';\n",
              "          dataTable['output_type'] = 'display_data';\n",
              "          await google.colab.output.renderOutput(dataTable, element);\n",
              "          const docLink = document.createElement('div');\n",
              "          docLink.innerHTML = docLinkHtml;\n",
              "          element.appendChild(docLink);\n",
              "        }\n",
              "      </script>\n",
              "    </div>\n",
              "  </div>\n",
              "  "
            ]
          },
          "metadata": {},
          "execution_count": 18
        }
      ]
    },
    {
      "cell_type": "markdown",
      "source": [
        "Para poder agrupar y comparar por año, tenemos que covertir a tipo `datetime` la columna con las fechas de los eventos:"
      ],
      "metadata": {
        "id": "0NAIwvLf33Vi"
      }
    },
    {
      "cell_type": "code",
      "source": [
        "# Convertir a datetime\n",
        "df_sismos['time'] = pd.to_datetime(df_sismos['time'])\n",
        "\n",
        "# Conteo por año\n",
        "df_sismos['time'].groupby(df_sismos[\"time\"].dt.year).count().plot(kind=\"bar\",fontsize=7)\n",
        "plt.show()"
      ],
      "metadata": {
        "id": "jX72GhzW_qZG",
        "colab": {
          "base_uri": "https://localhost:8080/",
          "height": 287
        },
        "outputId": "5cca559a-4292-42bb-d67b-baa40a942c95"
      },
      "execution_count": null,
      "outputs": [
        {
          "output_type": "display_data",
          "data": {
            "text/plain": [
              "<Figure size 432x288 with 1 Axes>"
            ],
            "image/png": "[encoded data removed]"
          },
          "metadata": {
            "needs_background": "light"
          }
        }
      ]
    },
    {
      "cell_type": "markdown",
      "source": [
        "Acá es donde entra en juego el conocmiento del fenómeno físico. Uno ve los datos de arriba y se ven claramente cuatro grandes regiones: Una hasta el 73, otra hasta el 92 y un último quiebre en la información en 2008.\n",
        "\n",
        "Esto no es porque la sismicidad de San Juan haya cambiado significativamente en estos 50 años, sino que es una consecuencia de los cambios en la instrumentación de la región y los sismos que se informan y recolecta USGS.\n",
        "\n",
        "Una forma fácil de chequear que el dataset así como está no sigue una distribución de poisson es si $\\mu\\not=\\sigma^2$"
      ],
      "metadata": {
        "id": "VuXKrb0DAz8y"
      }
    },
    {
      "cell_type": "code",
      "source": [
        "# Chequear media y varianza\n",
        "mu1 = df_sismos['time'].groupby(df_sismos[\"time\"].dt.year).count().mean()\n",
        "s1 = df_sismos['time'].groupby(df_sismos[\"time\"].dt.year).count().var()\n",
        "print('media',mu1)\n",
        "print('varianza',s1)"
      ],
      "metadata": {
        "colab": {
          "base_uri": "https://localhost:8080/"
        },
        "id": "ZT3Au_jykdiW",
        "outputId": "8d5928c1-591f-4739-c3aa-6161ece8f906"
      },
      "execution_count": null,
      "outputs": [
        {
          "output_type": "stream",
          "name": "stdout",
          "text": [
            "media 83.10169491525424\n",
            "varianza 12497.851548801871\n"
          ]
        }
      ]
    },
    {
      "cell_type": "markdown",
      "source": [
        "No da ni cerca. Entonces, en primer lugar debiéramos filtrar el dataset y quedarnos únicamente con los sismos a partir de 1973 y de magnitud considerable (por ej. mayor a 5.0)"
      ],
      "metadata": {
        "id": "Rh3QNS0klecB"
      }
    },
    {
      "cell_type": "code",
      "source": [
        "## Filtrar datos anteriores a 1973 y con M < 5\n",
        "Filter = (df_sismos['time']>pd.Timestamp('1973-01-01',tz='GMT+0'))*(df_sismos['mag']>5.)\n",
        "df_sismosF = df_sismos[Filter]\n",
        "\n",
        "# Conteo por año\n",
        "df_sismosF['time'].groupby(df_sismosF[\"time\"].dt.year).count().plot(kind=\"bar\")\n",
        "plt.show()\n",
        "\n",
        "# Chequear media y varianza\n",
        "mu1 = df_sismosF['time'].groupby(df_sismosF[\"time\"].dt.year).count().mean()\n",
        "s1 = df_sismosF['time'].groupby(df_sismosF[\"time\"].dt.year).count().var()\n",
        "print('media',mu1)\n",
        "print('varianza',s1)"
      ],
      "metadata": {
        "id": "eKGGEu8t8PAP",
        "colab": {
          "base_uri": "https://localhost:8080/",
          "height": 330
        },
        "outputId": "7ce3bc88-0611-418c-9304-2906999f70d4"
      },
      "execution_count": null,
      "outputs": [
        {
          "output_type": "display_data",
          "data": {
            "text/plain": [
              "<Figure size 432x288 with 1 Axes>"
            ],
            "image/png": "[encoded data removed]"
          },
          "metadata": {
            "needs_background": "light"
          }
        },
        {
          "output_type": "stream",
          "name": "stdout",
          "text": [
            "media 3.717948717948718\n",
            "varianza 52.6288798920378\n"
          ]
        }
      ]
    },
    {
      "cell_type": "markdown",
      "source": [
        "Los datos ahora son mucho más razonables! Sin embargo hay 1 (o 2) outliers muy claros que rompen con lo que sería un modelo de Poisson. En Noviembre de 1977 ocurrió el sismo de Caucete, uno de los terremotos más destructivos de la historia argentina. Lo que vemos ahí es la enorme cantidad de sismos precedentes y réplicas del sismo de Caucete.\n",
        "\n",
        "A la hora de modelar la ocurrencia de sismos, estas réplicas deben eliminarse del dataset, ya que los que sigue una distribución de poisson es el cluster de sismos, no con sus réplicas. Como este no es un curso de análisis sísmico, no entraremos al detalle de como filtrar el dataset, pero pueden encontrarse en Gardner and Knopoff (1974). En resumen, se mira un ventana espacio-temporal que es función de la magnitud para generar un cluster de sismos, y aquel de mayor magnitud es el evento principal y resto son réplicas, eliminandose del dataset.\n",
        "\n",
        "**Gardner, J. K., & Knopoff, L. (1974). Is the sequence of earthquakes in Southern California, with aftershocks removed, Poissonian?. Bulletin of the seismological society of America, 64(5), 1363-1367.*"
      ],
      "metadata": {
        "id": "9VaAkjjVByev"
      }
    },
    {
      "cell_type": "code",
      "source": [
        "# Gardner Knopoff (1974)\n",
        "\n",
        "# Distancia en base a latitud y longitud de 2 puntos\n",
        "def distance_d(LaA, LaB, LoA, LoB):\n",
        "  # Pasar a Radianes \n",
        "  LoA = np.radians(LoA)  \n",
        "  LoB = np.radians(LoB)  \n",
        "  LaA= np.radians(LaA)  \n",
        "  LaB = np.radians(LaB) \n",
        "  # \"Haversine formula\"\n",
        "  D_Lo = LoB - LoA \n",
        "  D_La = LaB - LaA \n",
        "  P = np.sin(D_La / 2)**2 + np.cos(LaA) * np.cos(LaB) * np.sin(D_Lo / 2)**2   \n",
        "  Q = 2 * np.arcsin(np.sqrt(P))   \n",
        "  # Radio de la tierra en km\n",
        "  R_km = 6371  \n",
        "\n",
        "  # Distancia en km\n",
        "  return(Q * R_km)\n",
        "\n",
        "# Valores de distancia y tiempo limites para chequear eventos\n",
        "from scipy.interpolate import interp1d\n",
        "M = np.linspace(2.5,8.0,12)\n",
        "Tval = np.array([6,11.5,22,42,83,155,290,510,790,915,960,985])\n",
        "Rval = np.array([19.5,22.5,26,30,35,40,47,54,61,70,81,94])\n",
        "\n",
        "# Interpolacion lineal para otras magnitudes\n",
        "Tthre = interp1d(M,Tval)\n",
        "Rthre = interp1d(M,Rval)\n",
        "\n",
        "# Inicializar una nueva columna que indique si es Main Shock (1) o no (2)\n",
        "df_sismos['Main'] = np.zeros(df_sismos.shape[0])\n",
        "# Iterar sobre los sismos\n",
        "for i in range(df_sismos.shape[0]):\n",
        "  # Chequear que no haya sido descartado por otra ventana\n",
        "  if df_sismos['Main'][i] != 2:\n",
        "    Mi = df_sismos['mag'][i] # Magnitud del sismo\n",
        "    Ti = Tthre(Mi) # Ventana de tiempo\n",
        "    Ri = Rthre(Mi) # Radio a considerar\n",
        "\n",
        "    # Encontrar todos los sismos dentro de la ventana espacio-temporal\n",
        "    Time = df_sismos['time'][i] # Dia del sismo i\n",
        "    DeltaT = df_sismos['time'] - Time # Tiempo entre sismos\n",
        "    DeltaT = DeltaT.dt.days # Tiempo en dias\n",
        "    \n",
        "    # Latitudes y Longitudes\n",
        "    LaA = df_sismos['latitude'][i]\n",
        "    LaB = df_sismos['latitude']\n",
        "    LoA = df_sismos['longitude'][i]\n",
        "    LoB = df_sismos['longitude']\n",
        "\n",
        "    # Distancia entre epicentros\n",
        "    Dist = distance_d(LaA,LaB,LoA,LoB)\n",
        "\n",
        "    # Sismos a chequear\n",
        "    FiltCheck = (np.abs(DeltaT)<Ti)*(Dist<Ri)\n",
        "\n",
        "    # Verificar que califica como Main Shock\n",
        "    if (Mi>=df_sismos['mag'][FiltCheck]).all() == True:\n",
        "      # Descartar Cluster\n",
        "      df_sismos['Main'][FiltCheck] = 2*np.ones(FiltCheck.shape)\n",
        "      # Definir Main Shock\n",
        "      df_sismos['Main'][i] = 1"
      ],
      "metadata": {
        "colab": {
          "base_uri": "https://localhost:8080/"
        },
        "id": "DeEKsTKFEuaD",
        "outputId": "7356ce99-ca3f-462e-b4f5-a010feeecae3"
      },
      "execution_count": null,
      "outputs": [
        {
          "output_type": "stream",
          "name": "stderr",
          "text": [
            "/usr/local/lib/python3.7/dist-packages/ipykernel_launcher.py:61: SettingWithCopyWarning: \n",
            "A value is trying to be set on a copy of a slice from a DataFrame\n",
            "\n",
            "See the caveats in the documentation: https://pandas.pydata.org/pandas-docs/stable/user_guide/indexing.html#returning-a-view-versus-a-copy\n",
            "/usr/local/lib/python3.7/dist-packages/ipykernel_launcher.py:63: SettingWithCopyWarning: \n",
            "A value is trying to be set on a copy of a slice from a DataFrame\n",
            "\n",
            "See the caveats in the documentation: https://pandas.pydata.org/pandas-docs/stable/user_guide/indexing.html#returning-a-view-versus-a-copy\n"
          ]
        }
      ]
    },
    {
      "cell_type": "code",
      "source": [
        "# Definir Dataset filtrado final\n",
        "FinalF = (df_sismos['Main'] == 1)*(df_sismos['mag']>5)*(df_sismos['time']>pd.Timestamp('1973-01-01',tz='GMT+0'))\n",
        "df_sismosFinal = df_sismos[FinalF]\n",
        "\n",
        "# Conteo por año\n",
        "Data = df_sismosFinal.groupby(pd.Grouper(key='time', freq='Y')).count()\n",
        "Data.plot(y='mag',kind='bar',yticks=[0,1,2,3,4],legend=False)\n",
        "plt.show()\n",
        "\n",
        "# Chequear media y varianza\n",
        "mu1 = Data['mag'].mean()\n",
        "s2 = Data['mag'].var()\n",
        "print('media',mu1)\n",
        "print('varianza',s2)"
      ],
      "metadata": {
        "colab": {
          "base_uri": "https://localhost:8080/",
          "height": 446
        },
        "id": "kV0fPPkjZ7dq",
        "outputId": "f783053e-69ee-483d-dc5b-2d4d86a22570"
      },
      "execution_count": null,
      "outputs": [
        {
          "output_type": "display_data",
          "data": {
            "text/plain": [
              "<Figure size 432x288 with 1 Axes>"
            ],
            "image/png": "[encoded data removed]"
          },
          "metadata": {
            "needs_background": "light"
          }
        },
        {
          "output_type": "stream",
          "name": "stdout",
          "text": [
            "media 1.3125\n",
            "varianza 1.2832446808510638\n"
          ]
        }
      ]
    },
    {
      "cell_type": "markdown",
      "source": [
        "Ahora da muchísimo mejor! Ya tenemos un dataset depurado que contiene únicamente los eventos sísmicos principales con magnitud mayor a 5, y la relación media-varianza nos da un buen indicio de que podría seguir una distribución de Poisson"
      ],
      "metadata": {
        "id": "Qrexb-8uoHqF"
      }
    },
    {
      "cell_type": "code",
      "source": [
        "# QQ plot REVISAR\n",
        "fig = sm.qqplot(Data['mag'],dist = st.poisson(mu1), line ='45')\n",
        "plt.title('qq-poisson')\n",
        "plt.show()\n",
        "fig = sm.qqplot(Data['mag'], line ='45')\n",
        "plt.title('qq-norm')\n",
        "plt.show()\n",
        "\n",
        "# Poisson Frecuentista\n",
        "x = range(6)\n",
        "NY = 2021-1974+1\n",
        "pois = st.poisson(mu1)\n",
        "\n",
        "# Comparacion Grafica\n",
        "plt.figure()\n",
        "Data['mag'].value_counts().sort_index().plot(kind='bar')\n",
        "plt.plot(x,pois.pmf(x)*NY,'r-o',label='Frecuentista')\n",
        "plt.xlim([0,5])\n",
        "plt.legend(loc=1)\n",
        "plt.xlabel('Número de sismos')\n",
        "plt.yticks(np.linspace(0,20,21))\n",
        "plt.grid(linestyle=':')\n",
        "plt.ylabel('Años')\n",
        "plt.title('Histograma')\n",
        "plt.show()"
      ],
      "metadata": {
        "colab": {
          "base_uri": "https://localhost:8080/",
          "height": 848
        },
        "id": "KWhx265Zo3Jf",
        "outputId": "02490b53-f037-489a-8ef2-516bd7e87bde"
      },
      "execution_count": null,
      "outputs": [
        {
          "output_type": "display_data",
          "data": {
            "text/plain": [
              "<Figure size 432x288 with 1 Axes>"
            ],
            "image/png": "[encoded data removed]"
          },
          "metadata": {
            "needs_background": "light"
          }
        },
        {
          "output_type": "display_data",
          "data": {
            "text/plain": [
              "<Figure size 432x288 with 1 Axes>"
            ],
            "image/png": "[encoded data removed]"
          },
          "metadata": {
            "needs_background": "light"
          }
        },
        {
          "output_type": "display_data",
          "data": {
            "text/plain": [
              "<Figure size 432x288 with 1 Axes>"
            ],
            "image/png": "[encoded data removed]"
          },
          "metadata": {
            "needs_background": "light"
          }
        }
      ]
    },
    {
      "cell_type": "markdown",
      "source": [
        "### PASO 2: Modelo de generación de datos\n",
        "\n",
        "En vista de los resultados anteriores, vamos a decir que la cantidad de sismos $y$ en un intervalo $\\Delta T$ sigue una distribución de Poisson\n",
        "\n",
        "$$y \\sim Poisson\\left(\\Delta T\\, \\lambda\\right)$$"
      ],
      "metadata": {
        "id": "lIYDPZ3npZHA"
      }
    },
    {
      "cell_type": "markdown",
      "source": [
        "### PASO 3: Inferencia estadística\n",
        "\n",
        "Como distribución a priori del parámetro $\\lambda$ vamos a asumir una distribución gamma:\n",
        "\n",
        "$$\\lambda \\sim gamma(\\alpha,\\beta)$$\n",
        "\n",
        "Si $\\alpha, \\beta \\rightarrow 0$ se tiene una distribución no informativa. Como no tenemos conocimiento previo de la sismicidad de la región, en el ejericio no será una mala idea usar ese resultado.\n",
        "\n",
        "Considerando esto, la disitrbución a posteriori del parámetro será:\n",
        "\n",
        "$$\\lambda | \\mathbf{y} \\sim gamma\\left(\\sum{y_{i}}+\\alpha,\\frac{1}{\\sum{{\\Delta T}_{i}}+\\beta}\\right)$$\n",
        "\n",
        "Donde $\\sum{{\\Delta T}_{i}}$ es la suma de todas las ventanas de tiempo de los datos y $\\sum{y_{i}}$ es la cantidad de eventos registrados.\n",
        "\n",
        "Finalemente, la función predictiva será\n",
        "\n",
        "$$\\tilde{y} | \\mathbf{y} \\sim nbinom\\left(\\Delta T\\left(\\sum{y_{i}}+\\alpha\\right),\\frac{1}{\\sum{{\\Delta T}_{i}}+\\beta}\\right)$$"
      ],
      "metadata": {
        "id": "ubmPVB4Uqnzr"
      }
    },
    {
      "cell_type": "markdown",
      "source": [
        "Resolvamos entonces de dos formas. Primero veamos el ajuste de la distribución de sismos por año ($\\Delta T = 1$)."
      ],
      "metadata": {
        "id": "y1PKAbh77lpl"
      }
    },
    {
      "cell_type": "code",
      "source": [
        "# Numero total de sismos entre 1974 y 2021 con M>5\n",
        "sumy = Data['mag'].sum()\n",
        "print('Hubo en total',sumy,'Sismos con M>5')\n",
        "\n",
        "# Cantidad de años estudiados\n",
        "sumDT = 2021 - 1974 +1\n",
        "print('periodo evaluado:',sumDT,'años')\n",
        " \n",
        "# Cantidad de años a considerar\n",
        "DeltaT = 1\n",
        "print('ventana:',DeltaT,'años')\n",
        "\n",
        "# Sismos por año (promedio)\n",
        "ybar = sumy/sumDT\n",
        "print('sismos por año:',ybar)"
      ],
      "metadata": {
        "colab": {
          "base_uri": "https://localhost:8080/"
        },
        "id": "6Caqqk19kNNw",
        "outputId": "ebb49346-d2dd-49c1-b87e-120f5fedbf83"
      },
      "execution_count": null,
      "outputs": [
        {
          "output_type": "stream",
          "name": "stdout",
          "text": [
            "Hubo en total 63 Sismos con M>5\n",
            "periodo evaluado: 48 años\n",
            "ventana: 1 años\n",
            "sismos por año: 1.3125\n"
          ]
        }
      ]
    },
    {
      "cell_type": "code",
      "source": [
        "# Inferencia Bayesiana\n",
        "alpha = 0\n",
        "beta = 0\n",
        "\n",
        "# Distribucion a posteriori\n",
        "aprime = sumy+alpha\n",
        "bprime = sumDT+beta\n",
        "lam_post = st.gamma(aprime,scale = 1/bprime)\n",
        "\n",
        "x = np.linspace(0,6,1001)\n",
        "\n",
        "# Lambda total\n",
        "plt.plot(x,lam_post.pdf(x))\n",
        "plt.xlabel(r'$\\lambda$',fontsize=14)\n",
        "plt.ylabel('a posteriori')\n",
        "plt.grid()\n",
        "plt.show()\n",
        "\n",
        "# Frecuentista\n",
        "pois = st.poisson(DeltaT*ybar)\n",
        "\n",
        "# Función predictiva\n",
        "y_post = st.nbinom(aprime,(bprime/DeltaT)/((bprime/DeltaT)+1))\n",
        "\n",
        "x2 = np.linspace(0,5,6)\n",
        "plt.plot(x2,y_post.pmf(x2),'b-o',label='Predictiva')\n",
        "plt.plot(x2,pois.pmf(x2),'r-o',label='Frecuentista')\n",
        "plt.grid()\n",
        "plt.legend(loc=1)\n",
        "plt.xlabel('y')\n",
        "plt.ylabel('P(Y=y)')\n",
        "plt.title('DT = {} años'.format(DeltaT))\n",
        "plt.show()"
      ],
      "metadata": {
        "colab": {
          "base_uri": "https://localhost:8080/",
          "height": 562
        },
        "id": "u2RU76Kx-C4y",
        "outputId": "5f45bf4d-b85d-4189-ae0e-b82a0240f980"
      },
      "execution_count": null,
      "outputs": [
        {
          "output_type": "display_data",
          "data": {
            "text/plain": [
              "<Figure size 432x288 with 1 Axes>"
            ],
            "image/png": "[encoded data removed]"
          },
          "metadata": {
            "needs_background": "light"
          }
        },
        {
          "output_type": "display_data",
          "data": {
            "text/plain": [
              "<Figure size 432x288 with 1 Axes>"
            ],
            "image/png": "[encoded data removed]"
          },
          "metadata": {
            "needs_background": "light"
          }
        }
      ]
    },
    {
      "cell_type": "markdown",
      "source": [
        "Ahora repitamos esto pero si quiero evaluar los resultados en 48 años. Es decir $\\Delta T = 48$"
      ],
      "metadata": {
        "id": "hw0hrSw60-G5"
      }
    },
    {
      "cell_type": "code",
      "source": [
        "DeltaT = 48\n",
        "\n",
        "# Inferencia Bayesiana\n",
        "alpha = 0\n",
        "beta = 0\n",
        "\n",
        "# Distribucion a posteriori\n",
        "aprime = sumy+alpha\n",
        "bprime = sumDT+beta\n",
        "lam_post2 = st.gamma(aprime,scale = 1/bprime)\n",
        "\n",
        "x = np.linspace(0,6,1001)\n",
        "\n",
        "# Lambda total\n",
        "plt.plot(x,lam_post.pdf(x))\n",
        "plt.xlabel(r'$\\lambda$',fontsize=14)\n",
        "plt.ylabel('a posteriori')\n",
        "plt.grid()\n",
        "plt.show()\n",
        "\n",
        "# Frecuentista\n",
        "pois = st.poisson(DeltaT*ybar)\n",
        "\n",
        "# Función predictiva\n",
        "y_post2 = st.nbinom(aprime*DeltaT,(bprime)/((bprime+1)))\n",
        "\n",
        "x2 = np.linspace(0,100,101)\n",
        "plt.plot(x2,y_post2.pmf(x2),'b-',label='Predictiva')\n",
        "plt.plot(x2,pois.pmf(x2),'r-',label='Frecuentista')\n",
        "plt.grid()\n",
        "plt.legend(loc=1)\n",
        "plt.xlabel('y')\n",
        "plt.ylabel('P(Y=y)')\n",
        "plt.title('DT = {} años'.format(DeltaT))\n",
        "plt.show()"
      ],
      "metadata": {
        "colab": {
          "base_uri": "https://localhost:8080/",
          "height": 562
        },
        "id": "1Vtw_gSKsaSD",
        "outputId": "96189f63-b9be-4c77-dcbb-3c28c492b3e1"
      },
      "execution_count": null,
      "outputs": [
        {
          "output_type": "display_data",
          "data": {
            "text/plain": [
              "<Figure size 432x288 with 1 Axes>"
            ],
            "image/png": "[encoded data removed]"
          },
          "metadata": {
            "needs_background": "light"
          }
        },
        {
          "output_type": "display_data",
          "data": {
            "text/plain": [
              "<Figure size 432x288 with 1 Axes>"
            ],
            "image/png": "[encoded data removed]"
          },
          "metadata": {
            "needs_background": "light"
          }
        }
      ]
    },
    {
      "cell_type": "markdown",
      "source": [
        "Fijense que la distribución a posteriori de $\\lambda$ no depende de $\\Delta T$, solo importa el número de sismos medidos y el tamaño de la ventana en los que fueron medidos.\n",
        "\n",
        "En general, a su vez, los resultados coinciden con la solución clásica, con un poco más de peso en las colas al considerar la incertibumbre en el valor de $\\lambda$."
      ],
      "metadata": {
        "id": "r15X9Ep9Pxl1"
      }
    },
    {
      "cell_type": "markdown",
      "source": [
        "###PASO 4: Evaluación\n",
        "\n",
        "Para variables discretas, la forma más facil de evaluar la aptitud de la función predictiva es comparando el histograma con lo que arroja la función de distribución ajustada, como vimos antes para decir que los datos fueron generados por una distribución de poisson."
      ],
      "metadata": {
        "id": "IwMCdW9TRzUV"
      }
    },
    {
      "cell_type": "code",
      "source": [
        "# Comparacion Grafica\n",
        "x = np.linspace(0,5,6)\n",
        "plt.figure()\n",
        "Data['mag'].value_counts().sort_index().plot(kind='bar')\n",
        "plt.plot(x,y_post.pmf(x)*NY,'r-o',label='Predictiva')\n",
        "plt.xlim([0,5])\n",
        "plt.legend(loc=1)\n",
        "plt.xlabel('Número de sismos')\n",
        "plt.yticks(np.linspace(0,20,21))\n",
        "plt.grid(linestyle=':')\n",
        "plt.ylabel('Años')\n",
        "plt.title('Histograma')\n",
        "plt.show()"
      ],
      "metadata": {
        "colab": {
          "base_uri": "https://localhost:8080/",
          "height": 292
        },
        "id": "vAqjQnpYTNg3",
        "outputId": "a0349979-9275-4876-eb4e-d9bb66539ab8"
      },
      "execution_count": null,
      "outputs": [
        {
          "output_type": "display_data",
          "data": {
            "text/plain": [
              "<Figure size 432x288 with 1 Axes>"
            ],
            "image/png": "[encoded data removed]"
          },
          "metadata": {
            "needs_background": "light"
          }
        }
      ]
    },
    {
      "cell_type": "markdown",
      "source": [
        "Se ve claramente que la predictiva se ajusta muy bien a los datos observados.\n"
      ],
      "metadata": {
        "id": "uSIUk3axfRa8"
      }
    }
  ]
}