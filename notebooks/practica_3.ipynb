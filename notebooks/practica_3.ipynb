{
  "nbformat": 4,
  "nbformat_minor": 0,
  "metadata": {
    "colab": {
      "name": "Clase-3-EDA.ipynb",
      "provenance": [],
      "include_colab_link": true
    },
    "kernelspec": {
      "name": "python3",
      "display_name": "Python 3"
    },
    "language_info": {
      "name": "python"
    },
    "gpuClass": "standard"
  },
  "cells": [
    {
      "cell_type": "markdown",
      "metadata": {
        "id": "view-in-github",
        "colab_type": "text"
      },
      "source": [
        "<a href=\"https://colab.research.google.com/github/mbalbi/ciencia_de_datos/blob/main/notebooks/practica_3.ipynb\" target=\"_parent\"><img src=\"https://colab.research.google.com/assets/colab-badge.svg\" alt=\"Open In Colab\"/></a>"
      ]
    },
    {
      "cell_type": "markdown",
      "source": [
        "#Clase 3: Adquisición y procesamiento de datos\n",
        "\n",
        "##EDA: Análisis exploratorio de datos\n",
        "\n",
        "El análisis exploratorio de datos, EDA, es una etapa crítica en la ciencia de datos y es la base de cualquier uso posterior que se le dé a los mismos.\n",
        "\n",
        "Permite:\n",
        "- Comprender el problema y la calidad de la información\n",
        "- Limpiar los datos\n",
        "- Comprobar supuestos\n",
        "\n",
        "**Haremos uso de una nueva librería: pandas.** \n",
        "Esta permite leer facilmente archivos en distintos formatos y en bases de datos SQL, se basa en los arrays de NumPy y permite acceder a los datos mediante un índice, o nombre de filas y columnas.\n",
        "\n",
        "Tipos de datos de Pandas:\n",
        "- Series: una dimensión\n",
        "- DataFrame: dos dimensiones (tablas)\n",
        "- Panel: tres dimensiones (cubos)"
      ],
      "metadata": {
        "id": "jK6_hRlmxwwK"
      }
    },
    {
      "cell_type": "markdown",
      "source": [
        "### Carga de los datos: Dataset siniestros\n",
        "\n",
        "Se desea tomar acciones para reducir los accidentes de tránsito con heridos graves y mortales que ocurren en la ciudad de Buenos Aires, por lo que se analizarán los registros (año 2015-2018) que se encuentran en el siguiente link: \n",
        "https://data.buenosaires.gob.ar/dataset/victimas-siniestros-viales"
      ],
      "metadata": {
        "id": "lPzh2m3efgW3"
      }
    },
    {
      "cell_type": "code",
      "source": [
        "#Se importan las librerías:\n",
        "import numpy as np\n",
        "import pandas as pd\n",
        "\n",
        "import matplotlib.pyplot as plt\n",
        "import seaborn as sns"
      ],
      "metadata": {
        "id": "YgYE330zyACs"
      },
      "execution_count": null,
      "outputs": []
    },
    {
      "cell_type": "code",
      "source": [
        "#Abrimos un archivo local, es decir, que ha sido descargado en su computadora\n",
        "from google.colab import files\n",
        "uploaded = files.upload()"
      ],
      "metadata": {
        "id": "D66OE-AcfnPy"
      },
      "execution_count": null,
      "outputs": []
    },
    {
      "cell_type": "code",
      "source": [
        "import io\n",
        "\n",
        "#Se crea un DataFrame\n",
        "df_siniestros = pd.read_csv(io.BytesIO(uploaded['Victimas_siniestros_2015-2018.csv']))\n",
        "\n",
        "df_siniestros.head()"
      ],
      "metadata": {
        "id": "tB0XPUbKgDLh"
      },
      "execution_count": null,
      "outputs": []
    },
    {
      "cell_type": "code",
      "source": [
        "# Veremos el tamaño de la data y el nombre de la columnas\n",
        "print('Cantidad de Filas y columnas:', df_siniestros.shape)\n",
        "print('Nombre columnas:', df_siniestros.columns)"
      ],
      "metadata": {
        "id": "rTe6bhxjhn-G"
      },
      "execution_count": null,
      "outputs": []
    },
    {
      "cell_type": "code",
      "source": [
        "# Podemos ver, por columna, cuantos valores no nulos hay y el tipo de dato que contiene\n",
        "df_siniestros.info()"
      ],
      "metadata": {
        "id": "J5qU1K9slIHl"
      },
      "execution_count": null,
      "outputs": []
    },
    {
      "cell_type": "code",
      "source": [
        "#Modificar el tipo de dato:\n",
        "df_siniestros['fecha'] = pd.to_datetime(df_siniestros['fecha']) # astype() es otra forma\n",
        "df_siniestros.dtypes"
      ],
      "metadata": {
        "id": "bIVD90MdlKI8"
      },
      "execution_count": null,
      "outputs": []
    },
    {
      "cell_type": "code",
      "source": [
        "df_siniestros['sexo'].unique()"
      ],
      "metadata": {
        "id": "Uu8D9Rqr5Bb3"
      },
      "execution_count": null,
      "outputs": []
    },
    {
      "cell_type": "markdown",
      "source": [
        "##### **NaN = 'Not a Number'**: Indica un valor faltante o nulo de tipo float"
      ],
      "metadata": {
        "id": "zFPgs7VA57VB"
      }
    },
    {
      "cell_type": "code",
      "source": [
        "a = np.nan\n",
        "print(type(a))"
      ],
      "metadata": {
        "id": "-5gL2Pl46PTk"
      },
      "execution_count": null,
      "outputs": []
    },
    {
      "cell_type": "markdown",
      "source": [
        "Si queremos convertir estos valores, existen varios métodos útiles para detectar, eliminar y reemplazar valores nulos en las estructuras de datos de Pandas. Están:\n",
        "\n",
        "- `isnull()`: genera un booleano (`True` - `False`) indicando los valores faltantes\n",
        "- `notnull()`: lo opuesto a `isnull()`\n",
        "- `dropna()`: descarta los valores faltantes.\n",
        "- `fillna()`: devuelve una copia de los datos con los valores faltantes reemplazados por un valor válido. \n",
        "\n",
        "En una breve exploración, mostraremos estos métodos:"
      ],
      "metadata": {
        "id": "T9wTrMSt_AAF"
      }
    },
    {
      "cell_type": "code",
      "source": [
        "data = pd.Series([15, np.nan, 'hello'])\n",
        "\n",
        "data.isnull()"
      ],
      "metadata": {
        "id": "S3uwxSGF75pY"
      },
      "execution_count": null,
      "outputs": []
    },
    {
      "cell_type": "code",
      "source": [
        "data.notnull()"
      ],
      "metadata": {
        "id": "Mp68tRhV75uq"
      },
      "execution_count": null,
      "outputs": []
    },
    {
      "cell_type": "code",
      "source": [
        "data_without_NaN = data.dropna()\n",
        "data_without_NaN"
      ],
      "metadata": {
        "id": "kPmQeNesCO8_"
      },
      "execution_count": null,
      "outputs": []
    },
    {
      "cell_type": "code",
      "source": [
        "data_replace_NaN = data.fillna(0)\n",
        "data_replace_NaN"
      ],
      "metadata": {
        "id": "gUFMBAJW75yv"
      },
      "execution_count": null,
      "outputs": []
    },
    {
      "cell_type": "markdown",
      "source": [
        "##### Descripción estadística y duplicados"
      ],
      "metadata": {
        "id": "SztZw1_RGdqW"
      }
    },
    {
      "cell_type": "code",
      "source": [
        "# Descripción estadística de los datos numéricos: cantidad, media, desvío estándar, percentiles, valores máximo y mínimo.\n",
        "df_siniestros.describe()\n",
        "\n",
        "# ¡OJO! ¿Qué significa count?"
      ],
      "metadata": {
        "id": "aHdbTtAxlMJD"
      },
      "execution_count": null,
      "outputs": []
    },
    {
      "cell_type": "code",
      "source": [
        "#Encontrar filas duplicadas\n",
        "df_siniestros.duplicated().sum()"
      ],
      "metadata": {
        "id": "qZCXxcQVlOCK"
      },
      "execution_count": null,
      "outputs": []
    },
    {
      "cell_type": "code",
      "source": [
        "#Elimino las filas duplicadas\n",
        "df_siniestros.drop_duplicates()"
      ],
      "metadata": {
        "id": "GTUlepsClP0o"
      },
      "execution_count": null,
      "outputs": []
    },
    {
      "cell_type": "code",
      "source": [
        "#Analicemos con mayor profundidad, qué ocurre en las filas 33230 y 33232:\n",
        "#pd.options.display.max_columns = 29 #para ver todas las columnas \n",
        "df_siniestros.iloc[33230:33232]"
      ],
      "metadata": {
        "id": "D_jx_3uBlQMd"
      },
      "execution_count": null,
      "outputs": []
    },
    {
      "cell_type": "code",
      "source": [
        "#Podemos especificar qué columnas no deben repetirse, antes de droppear\n",
        "df_unique = df_siniestros.drop_duplicates(\n",
        "    subset=['causa', 'mes', 'periodo', 'fecha', 'hora', 'lugar_hecho', 'direccion_normalizada', 'tipo_calle',\n",
        "            'direccion_normalizada_arcgis', 'calle1', 'altura', 'calle2', 'codigo_calle', 'codigo_cruce', 'geocodificacion', \n",
        "            'semestre', 'x', 'y', 'geom', 'cantidad_victimas', 'comuna', 'geom_3857', 'tipo_colision1', \n",
        "            'participantes_victimas', 'participantes_acusados'])\n",
        "\n",
        "df_unique.shape"
      ],
      "metadata": {
        "id": "fU8LcNuglQUE"
      },
      "execution_count": null,
      "outputs": []
    },
    {
      "cell_type": "markdown",
      "source": [
        "## Análisis de variables:\n",
        "Los datos pueden ser de dos tipos:\n",
        "\n",
        "- Cuantitativos: se representan por números discretos (cantidad de personas) o continuos (coordenadas geográficas).\n",
        "\n",
        "- Categóricos: datos cualitativos que pueden ser ordinales (bajo, medio, alto) o no ordinal (sexo, estado civil, ciudad natal)"
      ],
      "metadata": {
        "id": "_cEyZh5JlXc6"
      }
    },
    {
      "cell_type": "markdown",
      "source": [
        "### Correlación"
      ],
      "metadata": {
        "id": "QpoJUmuU5uc5"
      }
    },
    {
      "cell_type": "code",
      "source": [
        "# Matriz de correlación\n",
        "df_siniestros.corr()"
      ],
      "metadata": {
        "id": "KAjQNS6ElcUz"
      },
      "execution_count": null,
      "outputs": []
    },
    {
      "cell_type": "code",
      "source": [
        "# Hacer un heatmap fácil de leer con matplotlib, requiere de un código largo que puede evitarse con otras librerías.\n",
        "plt.imshow(df_siniestros.corr(), cmap='BuPu')\n",
        "plt.title('Correlación')\n",
        "plt.colorbar()  \n",
        "plt.show()"
      ],
      "metadata": {
        "id": "VLIWg8r_tPdX"
      },
      "execution_count": null,
      "outputs": []
    },
    {
      "cell_type": "code",
      "source": [
        "# Gráfico de calor para la matriz de correlación\n",
        "sns.heatmap(df_siniestros.corr(), cmap='BuPu', fmt='.2f', annot=True, linewidths=.6)"
      ],
      "metadata": {
        "id": "QUXd82oXldoc"
      },
      "execution_count": null,
      "outputs": []
    },
    {
      "cell_type": "markdown",
      "source": [
        "### Auto-correlación\n",
        "\n",
        "Los gráficos de autocorrelación permiten verificar la aleatoriedad en un conjunto de datos, midiendo si se correlacionan los valores actuales contra los pasados:\n",
        "\n",
        "$$\\rho _{XX}(t_{1},t_{2}) = \\tfrac{E\\left[ ( X_{t1}-\\mu_{t1} )\\cdot \\left( X_{t2}-\\mu _{t2}\\right) \\right]}{\\sigma_{t1}\\sigma_{t2}}\n",
        "$$\n",
        "\n",
        "Es decir, se calcula la correlación entre un valor y la versión desplazada en el tiempo. Ese desplazamiento temporal, se conoce como desfase o lag.\n"
      ],
      "metadata": {
        "id": "c1d-np9c9P5d"
      }
    },
    {
      "cell_type": "code",
      "source": [
        "altura = df_siniestros['altura'].dropna()\n",
        "\n",
        "# Gráfito de Autocorrelación\n",
        "plt.acorr(altura, normed=True, maxlags=10)"
      ],
      "metadata": {
        "id": "trXmY8Pp9Tbh"
      },
      "execution_count": null,
      "outputs": []
    },
    {
      "cell_type": "markdown",
      "source": [
        "### **Histogramas** de variables numéricas"
      ],
      "metadata": {
        "id": "qLf-FRWnlgGY"
      }
    },
    {
      "cell_type": "code",
      "source": [
        "# Histograma con Seaborn\n",
        "sns.histplot(data = df_siniestros, x='edad', bins='sturges', stat='probability').set(title='Histograma de edad')"
      ],
      "metadata": {
        "id": "zy-FHaEXldw5"
      },
      "execution_count": null,
      "outputs": []
    },
    {
      "cell_type": "code",
      "source": [
        "# Histograma con Seaborn\n",
        "sns.histplot(data=df_siniestros, x='edad', hue='sexo', bins='sturges', multiple='stack', stat='probability').set(title='Histograma de edad por sexo')"
      ],
      "metadata": {
        "id": "TKu7DN4JyQvK"
      },
      "execution_count": null,
      "outputs": []
    },
    {
      "cell_type": "code",
      "source": [
        "# Histograma suavizado (densidad) con Seaborn\n",
        "sns.kdeplot(data=df_siniestros, x='edad', hue='sexo', fill=True).set(title='Histograma de edad por sexo')"
      ],
      "metadata": {
        "id": "-TEtJVLc81av"
      },
      "execution_count": null,
      "outputs": []
    },
    {
      "cell_type": "markdown",
      "source": [
        "### Pair plots\n",
        "\n",
        "Genera una matriz de gráficos donde la diagonal está compuesta por histogramas y el resto muestra la relación entre pares de variables"
      ],
      "metadata": {
        "id": "c_uOxlvq7AGE"
      }
    },
    {
      "cell_type": "code",
      "source": [
        "vars = ['edad', 'altura', 'codigo_calle', 'cantidad_victimas']\n",
        "\n",
        "sns.pairplot(df_siniestros, x_vars=vars, y_vars=vars, hue='sexo')"
      ],
      "metadata": {
        "id": "aqTN3jwr519I"
      },
      "execution_count": null,
      "outputs": []
    },
    {
      "cell_type": "markdown",
      "source": [
        "### **Boxplots**\n",
        "\n",
        "Un boxplot muestra la distribución de datos cuantitativos de una manera que facilita las comparaciones entre variables o entre niveles de una variable categórica. Está constituído por:\n",
        "\n",
        "  * **La caja**: es un rectángulo que abarca el rango intercuartílico (RIC) de la distribución, es decir, el tramo de la escala que va desde el primer cuartil (C1: 25%) al tercer cuartil (C3=75%), abarcando el 50% de las observaciones centrales.\n",
        "\n",
        "  * **La Mediana**: Se dibuja mediante una línea dentro de la caja.\n",
        "\n",
        "  * **Los Bigotes**: Son líneas que salen a los costados de la caja hasta el valor mínimo o máximo, según corresponda.\n",
        "  \n",
        "  * **Los valores atípicos o outliers**: punto que se encuentran más allá del mínimo/máximo, por l que no se lo incluye como parte de la distribución.\n",
        "\n",
        "  "
      ],
      "metadata": {
        "id": "DKVzVbHb2voS"
      }
    },
    {
      "cell_type": "markdown",
      "source": [
        "Seaborn para calcular los outliers, utiliza el método llamado **múltiplo del rango intercuartílico**:\n",
        "\n",
        "$$ Mínimo = C1 – 1.5 * RIC $$\n",
        "\n",
        "$$ Máximo = C3 + 1.5 * RIC $$\n",
        "\n",
        "modificando el parámetro `whis = 1.5` podemos cambiar el valor por default"
      ],
      "metadata": {
        "id": "Z2mbWSV9-ani"
      }
    },
    {
      "cell_type": "code",
      "source": [
        "# Boxplots con Seaborn\n",
        "sns.boxplot(data=df_siniestros, x='edad').set(title='Bloxplot de edad')"
      ],
      "metadata": {
        "id": "cIxPdxEFldzR"
      },
      "execution_count": null,
      "outputs": []
    },
    {
      "cell_type": "code",
      "source": [
        "sns.boxplot(data=df_siniestros, x='edad', y='sexo').set(title='Bloxplot de edad por sexo')"
      ],
      "metadata": {
        "id": "lEswHJw0V5UG"
      },
      "execution_count": null,
      "outputs": []
    },
    {
      "cell_type": "code",
      "source": [
        "#Veamos los valores únicos para las edades:\n",
        "df_siniestros['edad'].unique()"
      ],
      "metadata": {
        "id": "qkp6hCm-Re9o"
      },
      "execution_count": null,
      "outputs": []
    },
    {
      "cell_type": "code",
      "source": [
        "# Filtramos las filas para edad > 99\n",
        "df_siniestros[df_siniestros['edad'] > 99]"
      ],
      "metadata": {
        "id": "XoNxWLQ9RfEv"
      },
      "execution_count": null,
      "outputs": []
    },
    {
      "cell_type": "markdown",
      "source": [
        "### **Histogramas** de variables categóricas"
      ],
      "metadata": {
        "id": "xYHvTVeNln4B"
      }
    },
    {
      "cell_type": "code",
      "source": [
        "df_siniestros['causa'].value_counts()"
      ],
      "metadata": {
        "id": "4LsBkPP_lmP-"
      },
      "execution_count": null,
      "outputs": []
    },
    {
      "cell_type": "code",
      "source": [
        "# Histograma con Seaborn\n",
        "sns.histplot(data = df_siniestros, x='causa', bins='sturges', stat='count').set(title='Histograma de causas')"
      ],
      "metadata": {
        "id": "ZqUgLomflrmF"
      },
      "execution_count": null,
      "outputs": []
    },
    {
      "cell_type": "code",
      "source": [
        "# Gráfico de barras con Seaborn\n",
        "sns.countplot(data = df_siniestros, x='causa').set(title='Número de accidente por Causas')"
      ],
      "metadata": {
        "id": "owE2FQkhlsAp"
      },
      "execution_count": null,
      "outputs": []
    },
    {
      "cell_type": "markdown",
      "source": [
        "## Limpieza:"
      ],
      "metadata": {
        "id": "_bbsnHj2lyDQ"
      }
    },
    {
      "cell_type": "markdown",
      "source": [
        "* Observe la columna **tipo** de valores categóricos. ¿Es necesaria alguna corrección en los datos?"
      ],
      "metadata": {
        "id": "q1xU7YqH19P5"
      }
    },
    {
      "cell_type": "code",
      "source": [
        "#Contabilizar la frecuenta por valor único\n",
        "df_siniestros['tipo'].value_counts()"
      ],
      "metadata": {
        "id": "gqOHjCEsl9vr"
      },
      "execution_count": null,
      "outputs": []
    },
    {
      "cell_type": "code",
      "source": [
        "# Reemplazaremos ciertos valores\n",
        "df_siniestros['tipo'] = df_siniestros['tipo'].replace('tren / subte', 'tren / subte / tranvia')\n",
        "df_siniestros['tipo'] = df_siniestros['tipo'].replace('auto pfa / movil / gendarmeria / metropolitana / moto movil', 'fuerza seguridad')"
      ],
      "metadata": {
        "id": "c3_8hX_wl_X5"
      },
      "execution_count": null,
      "outputs": []
    },
    {
      "cell_type": "code",
      "source": [
        "df_siniestros['tipo'].value_counts()"
      ],
      "metadata": {
        "id": "dIZPP3MemBde"
      },
      "execution_count": null,
      "outputs": []
    },
    {
      "cell_type": "markdown",
      "source": [
        "* Analizar, por **sexo** y **rol**, las personas que participaron en los accidentes"
      ],
      "metadata": {
        "id": "BIIYSvOBmCa7"
      }
    },
    {
      "cell_type": "code",
      "source": [
        "df_siniestros['rol'].unique()"
      ],
      "metadata": {
        "id": "W3880Hq9YzTS"
      },
      "execution_count": null,
      "outputs": []
    },
    {
      "cell_type": "code",
      "source": [
        "# Tabla de contingencia\n",
        "pd.crosstab(index=df_siniestros['sexo'], columns=df_siniestros['rol'], margins=True)"
      ],
      "metadata": {
        "id": "88BK--mNmEJA"
      },
      "execution_count": null,
      "outputs": []
    },
    {
      "cell_type": "markdown",
      "source": [
        "* Crear un DataFrame que analice, por **sexo**, **rol**, **tipo_calle**, las personas que participaron en los accidentes."
      ],
      "metadata": {
        "id": "OFAi2ClqmQ1g"
      }
    },
    {
      "cell_type": "code",
      "source": [
        "# Con la función de groupby generamos un nuevo DataFrame\n",
        "df_causa = df_siniestros.groupby(['sexo', 'tipo_calle', 'rol']).agg('size')\n",
        "df_causa = pd.DataFrame(df_causa).rename(columns={0:'number'})\n",
        "df_causa"
      ],
      "metadata": {
        "id": "9o7rnaykmT3C"
      },
      "execution_count": null,
      "outputs": []
    },
    {
      "cell_type": "markdown",
      "source": [
        "* Realizar un análisis temporal por **año** y **semestre**:"
      ],
      "metadata": {
        "id": "bpZm7pbwmWc7"
      }
    },
    {
      "cell_type": "code",
      "source": [
        "sns.countplot(data=df_siniestros, x='periodo', hue='semestre').set(title='Número de accidentados por año y semestre')"
      ],
      "metadata": {
        "id": "EEdaUxCMEEJZ"
      },
      "execution_count": null,
      "outputs": []
    },
    {
      "cell_type": "markdown",
      "source": [
        "* Realizar un análisis temporal por **año** y **semestre**, dividido según el **tipo de calle**"
      ],
      "metadata": {
        "id": "sMourIljE25g"
      }
    },
    {
      "cell_type": "code",
      "source": [
        "sns.catplot(data=df_siniestros, x='periodo', hue='semestre', col='tipo_calle', kind='count')"
      ],
      "metadata": {
        "id": "j3bE2qKMaYwo"
      },
      "execution_count": null,
      "outputs": []
    },
    {
      "cell_type": "markdown",
      "source": [
        "* Realizar un gráfico de línea que muestre el porcentaje de accidentes a lo largo de cada año. \n",
        "Crear un DataFrame que calcule el porcentaje de los accidentados, siendo la filas: **año** y las columnas:  **mes**."
      ],
      "metadata": {
        "id": "gLwiF3GFFJ-G"
      }
    },
    {
      "cell_type": "code",
      "source": [
        "df_periodo = df_siniestros.groupby(['periodo', 'mes']).agg('size')\n",
        "#df_periodo = pd.DataFrame(df_periodo).rename(columns={0:'number'})\n",
        "#df_periodo['percent'] = df_periodo.groupby(level=0).apply(lambda x: 100*(x/x.sum()))\n",
        "#df_periodo = df_periodo.reset_index()\n",
        "df_periodo"
      ],
      "metadata": {
        "id": "hDDbkaV8mcXY"
      },
      "execution_count": null,
      "outputs": []
    },
    {
      "cell_type": "code",
      "source": [
        "#Grafico los accidentados a lo largo del año\n",
        "sns.lineplot(data=df_periodo, x='mes', y='percent', hue='periodo').set(title='Porcentaje de accidentados a lo largo del año')"
      ],
      "metadata": {
        "id": "Kv7-hVofJeiN"
      },
      "execution_count": null,
      "outputs": []
    },
    {
      "cell_type": "code",
      "source": [
        "#Filtramos el dataframe:\n",
        "df_periodo = df_periodo[df_periodo['periodo'] != 2018]\n",
        "\n",
        "sns.lineplot(data=df_periodo, x='mes', y='percent', hue='periodo').set(title='Porcentaje de accidentados a lo largo del año')"
      ],
      "metadata": {
        "id": "QOarbIPbP1Q2"
      },
      "execution_count": null,
      "outputs": []
    },
    {
      "cell_type": "code",
      "source": [
        "#Reorganizo el DataFrame como fue solicitado\n",
        "df_periodo = df_periodo.pivot(index='periodo', columns='mes', values='number')"
      ],
      "metadata": {
        "id": "cGKJEK7BmhWL"
      },
      "execution_count": null,
      "outputs": []
    },
    {
      "cell_type": "markdown",
      "source": [
        "  *   Agregar la columna **grupo_etario** en el DataFrame, que agrupe los accidentados según su edad en:\n",
        "*   Menor: menores de 17 años\n",
        "*   Joven adulto: entre 17 y 35 años inclusive\n",
        "*   Adulto: entre 35 y 65 años inclusive\n",
        "*   Adulto mayor: mayores de 65 años"
      ],
      "metadata": {
        "id": "kwLYGWf9Q3sK"
      }
    },
    {
      "cell_type": "code",
      "source": [
        "df_siniestros['edad'].unique()"
      ],
      "metadata": {
        "id": "35hTf3cKmrfe"
      },
      "execution_count": null,
      "outputs": []
    },
    {
      "cell_type": "code",
      "source": [
        "# crear lista de las condiciones\n",
        "conditions = [\n",
        "    (df_siniestros['edad'] <= 17),\n",
        "    (df_siniestros['edad'] > 17) & (df_siniestros['edad'] <= 35),\n",
        "    (df_siniestros['edad'] > 35) & (df_siniestros['edad'] <= 65),\n",
        "    (df_siniestros['edad'] > 65)\n",
        "    ]\n",
        "\n",
        "# crear lista de los valores que se quieren asignar a cada condición\n",
        "values = ['menor', 'joven_adulto', 'adulto', 'adulto_mayor']\n",
        "\n",
        "# crear columna nueva y usar np.select() para asignarle valores usando las listas como argumentos\n",
        "df_siniestros['grupo_etario'] = np.select(conditions, values)\n",
        "\n",
        "# mostrar el DataFrame actualizado\n",
        "df_siniestros"
      ],
      "metadata": {
        "id": "V5Xg9Dqlm9M-"
      },
      "execution_count": null,
      "outputs": []
    },
    {
      "cell_type": "code",
      "source": [
        "#No tenemos la edad de todos, entonces si aparece NaN, quedó 0:\n",
        "df_siniestros['grupo_etario'].unique()"
      ],
      "metadata": {
        "id": "Ky_Zrfycm_wk"
      },
      "execution_count": null,
      "outputs": []
    },
    {
      "cell_type": "markdown",
      "source": [
        "  *   Agregar la columna **barrios** según la comuna donde ocurrió el accidente:\n",
        "\n",
        "  Para ello, se debió descargar la información. https://es.wikipedia.org/wiki/Comunas_de_la_ciudad_de_Buenos_Aires"
      ],
      "metadata": {
        "id": "zLQ1ICpxm5AN"
      }
    },
    {
      "cell_type": "code",
      "source": [
        "#Abrimos un archivo local, es decir, que ha sido descargado en su computadora\n",
        "from google.colab import files\n",
        "uploaded = files.upload()"
      ],
      "metadata": {
        "id": "ALKXof0qWvY4"
      },
      "execution_count": null,
      "outputs": []
    },
    {
      "cell_type": "code",
      "source": [
        "#Se crea un DataFrame\n",
        "list_comuna = pd.read_html(io.BytesIO(uploaded[\"Comunas de la ciudad de Buenos Aires - Wikipedia, la enciclopedia libre.html\"]))\n",
        "df_comuna = list_comuna[0]\n",
        "\n",
        "df_comuna"
      ],
      "metadata": {
        "id": "IZWy2PUonP3X"
      },
      "execution_count": null,
      "outputs": []
    },
    {
      "cell_type": "code",
      "source": [
        "df_comuna.columns"
      ],
      "metadata": {
        "id": "yat3knkenSy5"
      },
      "execution_count": null,
      "outputs": []
    },
    {
      "cell_type": "code",
      "source": [
        "#Me quedo sólo con algunas columnas del DataFrame\n",
        "df_comuna = df_comuna[['Comuna', 'Población (2010) [4]​', 'Superficie (km²)[5]​', 'Barrios[2]​']]\n",
        "\n",
        "#Renombro las columnas\n",
        "df_comuna = df_comuna.rename(columns={'Comuna': 'comuna',\n",
        "                                'Población (2010) [4]​': 'Población', \n",
        "                                'Superficie (km²)[5]​': 'Superficie', \n",
        "                                'Barrios[2]​': 'Barrios'})\n",
        "\n",
        "#Sólo me quedo con el número de la comuna en la columna comuna.\n",
        "df_comuna['comuna'] = df_comuna['comuna'].str.split().str[-1].astype(int)\n",
        "df_comuna"
      ],
      "metadata": {
        "id": "uzVwd9yRnUc1"
      },
      "execution_count": null,
      "outputs": []
    },
    {
      "cell_type": "markdown",
      "source": [
        "Para unir los DataFrames, utilizo .merge(), cuyo parámetro how puede ser:\n",
        "\n"
      ],
      "metadata": {
        "id": "Y2ewO4EfYX8h"
      }
    },
    {
      "cell_type": "code",
      "source": [
        "from matplotlib_venn import venn2, venn2_circles\n",
        "from matplotlib import pyplot as plt\n",
        "\n",
        "figure, (ax1, ax2, ax3, ax4) = plt.subplots(1, 4, figsize=(10,10))\n",
        "\n",
        "# Left Join\n",
        "v1 = venn2(subsets=(3, 3, 1), ax=ax1)\n",
        "c1 = venn2_circles(subsets=(3, 3, 1), ax=ax1)\n",
        "\n",
        "for area in ['01', '10', '11']:\n",
        "    color = 'skyblue' if area != '01' else 'white'\n",
        "    v1.get_patch_by_id(area).set_color(color)\n",
        "    v1.get_patch_by_id(area).set_alpha(1)\n",
        "    txt = v1.get_label_by_id(area)\n",
        "    if txt: txt.set_text('')\n",
        "\n",
        "ax1.set_facecolor('white')\n",
        "ax1.set_title('Left Join')\n",
        "\n",
        "# Right Join\n",
        "v2 = venn2(subsets=(3, 3, 1), ax=ax2)\n",
        "c2 = venn2_circles(subsets=(3, 3, 1), ax=ax2)\n",
        "\n",
        "for area in ['01', '10', '11']:\n",
        "    color = 'skyblue' if area != '10' else 'white'\n",
        "    v2.get_patch_by_id(area).set_color(color)\n",
        "    v2.get_patch_by_id(area).set_alpha(1)\n",
        "    txt = v2.get_label_by_id(area)\n",
        "    if txt: txt.set_text('')\n",
        "\n",
        "ax2.set_facecolor('white')\n",
        "ax2.set_title('Right Join')\n",
        "\n",
        "# Inner Join\n",
        "v3 = venn2(subsets=(3, 3, 1), ax=ax3)\n",
        "c3 = venn2_circles(subsets=(3, 3, 1), ax=ax3)\n",
        "\n",
        "for area in ['01', '10', '11']:\n",
        "    color = 'skyblue' if area == '11' else 'white'\n",
        "    v3.get_patch_by_id(area).set_color(color)\n",
        "    v3.get_patch_by_id(area).set_alpha(1)\n",
        "    txt = v3.get_label_by_id(area)\n",
        "    if txt: txt.set_text('')\n",
        "\n",
        "ax3.set_facecolor('white')\n",
        "ax3.set_title(\"Inner Join\")\n",
        "\n",
        "# Inner Join\n",
        "v4 = venn2(subsets=(3, 3, 1), ax=ax4)\n",
        "c4 = venn2_circles(subsets=(3, 3, 1), ax=ax4)\n",
        "\n",
        "for area in ['01', '10', '11']:\n",
        "    v4.get_patch_by_id(area).set_color('skyblue')\n",
        "    v4.get_patch_by_id(area).set_alpha(1)\n",
        "    txt = v4.get_label_by_id(area)\n",
        "    if txt: txt.set_text('')\n",
        "\n",
        "ax4.set_facecolor('white')\n",
        "ax4.set_title(\"Outer Join\")\n",
        "\n",
        "plt.show()"
      ],
      "metadata": {
        "id": "2Vu362iDcO8H"
      },
      "execution_count": null,
      "outputs": []
    },
    {
      "cell_type": "code",
      "source": [
        "#Uno los dos Dataframes\n",
        "df_siniestros_nuevo = df_siniestros.merge(df_comuna, how='left', on='comuna')\n",
        "df_siniestros_nuevo"
      ],
      "metadata": {
        "id": "eBj2TcdKnV_u"
      },
      "execution_count": null,
      "outputs": []
    },
    {
      "cell_type": "code",
      "source": [
        "#Filtro por los barrios que me interesan\n",
        "df_siniestros_nuevo.where(df_siniestros_nuevo['Barrios'].str.contains('Boca', regex=False)).dropna(how='all')"
      ],
      "metadata": {
        "id": "ikuFn-zFnWth"
      },
      "execution_count": null,
      "outputs": []
    },
    {
      "cell_type": "code",
      "source": [],
      "metadata": {
        "id": "RHIH_u_GhLTs"
      },
      "execution_count": null,
      "outputs": []
    }
  ]
}