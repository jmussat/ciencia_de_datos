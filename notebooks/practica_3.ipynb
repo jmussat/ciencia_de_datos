{
  "cells": [
    {
      "cell_type": "markdown",
      "metadata": {
        "colab_type": "text",
        "id": "view-in-github"
      },
      "source": [
        "<a href=\"https://colab.research.google.com/github/mbalbi/ciencia_de_datos/blob/main/notebooks/practica_3.ipynb\" target=\"_parent\"><img src=\"https://colab.research.google.com/assets/colab-badge.svg\" alt=\"Open In Colab\"/></a>"
      ]
    },
    {
      "cell_type": "markdown",
      "metadata": {
        "id": "o3WsaHn5lo7C"
      },
      "source": [
        "<!--NAVIGATION-->\n",
        "< [Probabilidad y variables aleatorias](practica_2.ipynb) | [Tabla de contenidos](../README.md) | [Introducción a la inferencia estadística](practica_4.ipynb) >"
      ]
    },
    {
      "cell_type": "markdown",
      "metadata": {
        "id": "Vq2xMeGP_81f"
      },
      "source": [
        "# Exploración de datos\n",
        "\n",
        "En esta clase se verán distintos estimadores estadísticos para determinar características importantes de un conjunto de datos...\n",
        "\n",
        "Referencias:\n",
        "- Bolstad, W. & Curran, J. (2013), Introduction to Bayesian Statistics, Wiley.\n",
        "\n",
        "En este notebook se usarán las siguientes librerías:"
      ]
    },
    {
      "cell_type": "code",
      "execution_count": null,
      "metadata": {
        "id": "KenAbopVFKIQ"
      },
      "outputs": [],
      "source": [
        "import numpy as np\n",
        "import matplotlib.pyplot as plt"
      ]
    },
    {
      "cell_type": "markdown",
      "metadata": {
        "id": "fuQLTWfLFUp1"
      },
      "source": [
        "Se usará el siguiente dataset:"
      ]
    },
    {
      "cell_type": "code",
      "execution_count": null,
      "metadata": {
        "id": "JT4RACXaFZW5"
      },
      "outputs": [],
      "source": [
        "N = 75\n",
        "y = np.random.normal( size=N, loc=3, scale=0.6 )"
      ]
    },
    {
      "cell_type": "markdown",
      "metadata": {
        "id": "DFBkGMc1A3z1"
      },
      "source": [
        "# Estimadores poblacionales\n",
        "\n",
        "Los estimadores poblacionales son funciones de los valores de una población (dataset)..."
      ]
    },
    {
      "cell_type": "markdown",
      "metadata": {
        "id": "A8njoMpnA8VU"
      },
      "source": [
        "## Media\n",
        "\n",
        "Esperanza matemática...\n",
        "\n",
        "$$\n",
        "\\overline{y} = \\frac{1}{n} \\sum_{i=1}^n y_i \n",
        "$$\n",
        "\n",
        "1. Buenas propiedades matemáticas\n",
        "2. Muy sensible a los outliers"
      ]
    },
    {
      "cell_type": "code",
      "execution_count": null,
      "metadata": {
        "colab": {
          "base_uri": "https://localhost:8080/"
        },
        "id": "2DEp9S8K_78t",
        "outputId": "32fb5242-1c3e-41c2-b5fa-3e8b33cb4d2c"
      },
      "outputs": [
        {
          "name": "stdout",
          "output_type": "stream",
          "text": [
            "3.0966901363192427\n"
          ]
        }
      ],
      "source": [
        "y_hat = y.mean()\n",
        "print(y_hat)"
      ]
    },
    {
      "cell_type": "markdown",
      "metadata": {
        "id": "mN61DUGeF0SJ"
      },
      "source": [
        "## Mediana\n",
        "\n",
        "Valor de la población que deja el 50% de los valores por encima (y opr debajo)"
      ]
    },
    {
      "cell_type": "code",
      "execution_count": null,
      "metadata": {
        "colab": {
          "base_uri": "https://localhost:8080/"
        },
        "id": "-4ewnDjJF-P8",
        "outputId": "32fcbc74-3640-4f67-f30b-b0581eff8435"
      },
      "outputs": [
        {
          "name": "stdout",
          "output_type": "stream",
          "text": [
            "3.167016837439241\n"
          ]
        }
      ],
      "source": [
        "y_sort = y.sort()\n",
        "y_mediana = y[ int((N+1)/2) ]\n",
        "\n",
        "print(y_mediana)"
      ]
    },
    {
      "cell_type": "markdown",
      "metadata": {},
      "source": [
        "## CDF empírica\n",
        "\n",
        "La función de distribución acumulada $F \\left( x \\right)$"
      ]
    },
    {
      "cell_type": "markdown",
      "metadata": {
        "id": "1ITu7UKNG_iM"
      },
      "source": [
        "# Visualización de datos\n",
        "\n",
        "En este...."
      ]
    },
    {
      "cell_type": "markdown",
      "metadata": {
        "id": "qcw18Cj9HEhO"
      },
      "source": [
        "## Histograma\n",
        "\n",
        "El histograma...."
      ]
    },
    {
      "cell_type": "code",
      "execution_count": null,
      "metadata": {
        "colab": {
          "base_uri": "https://localhost:8080/",
          "height": 265
        },
        "id": "HKGw3tEHHPF0",
        "outputId": "f944b5bf-b705-4337-cbae-e4f410d14ff7"
      },
      "outputs": [
        {
          "data": {
            "image/png": "[encoded data removed]",
            "text/plain": [
              "<Figure size 432x288 with 1 Axes>"
            ]
          },
          "metadata": {
            "needs_background": "light"
          },
          "output_type": "display_data"
        }
      ],
      "source": [
        "plt.hist(y, bins=10);"
      ]
    }
  ],
  "metadata": {
    "colab": {
      "include_colab_link": true,
      "name": "practica_2.ipynb",
      "provenance": []
    },
    "kernelspec": {
      "display_name": "Python 3.7.7 64-bit",
      "language": "python",
      "name": "python3"
    },
    "language_info": {
      "name": "python",
      "version": "3.7.7"
    },
    "vscode": {
      "interpreter": {
        "hash": "51fa0a07f6fd5e060b837a66c96d41582ff23df34b38f2e72cb4e3ebfbe13406"
      }
    }
  },
  "nbformat": 4,
  "nbformat_minor": 0
}
