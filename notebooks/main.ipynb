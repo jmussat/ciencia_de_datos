{
  "nbformat": 4,
  "nbformat_minor": 0,
  "metadata": {
    "colab": {
      "name": "Copia de main.ipynb",
      "provenance": [],
      "toc_visible": true,
      "include_colab_link": true
    },
    "kernelspec": {
      "name": "python3",
      "display_name": "Python 3"
    },
    "language_info": {
      "name": "python"
    }
  },
  "cells": [
    {
      "cell_type": "markdown",
      "metadata": {
        "id": "view-in-github",
        "colab_type": "text"
      },
      "source": [
        "<a href=\"https://colab.research.google.com/github/mbalbi/ciencia_de_datos/blob/main/notebooks/main.ipynb\" target=\"_parent\"><img src=\"https://colab.research.google.com/assets/colab-badge.svg\" alt=\"Open In Colab\"/></a>"
      ]
    },
    {
      "cell_type": "markdown",
      "source": [
        "# Ciencia de Datos en Ingeniería Civil\n",
        "\n",
        "Departamento de Estabilidad, FIUBA\n",
        "\n"
      ],
      "metadata": {
        "id": "_CwoVyNflXKy"
      }
    },
    {
      "cell_type": "markdown",
      "source": [
        "## Tabla de contenidos\n",
        "\n",
        "### Clases prácticas\n",
        "\n",
        "1. [Intro a Python y Colab](01.01-Help-And-Documentation.ipynb)\n",
        "2. [Probabilidad y variables aleatorias](01.01-Help-And-Documentation.ipynb)\n",
        "3. [Exploración de datos](https://colab.research.google.com/drive/17ugw9Fo23u37V4Z8c5F4Uu5Qzexv7G5f?authuser=2&hl=es)\n",
        "\n",
        "### Material accesorio\n",
        "\n",
        "- [Python basics](https://colab.research.google.com/github/data-psl/lectures2020/blob/master/notebooks/01_python_basics.ipynb#scrollTo=UhcbBQUiStHG)\n",
        "- [Pandas data manipulation](https://colab.research.google.com/github/jakevdp/PythonDataScienceHandbook/blob/master/notebooks/03.00-Introduction-to-Pandas.ipynb)\n",
        "- [Visualization with seaborn](https://colab.research.google.com/github/jakevdp/PythonDataScienceHandbook/blob/master/notebooks/04.14-Visualization-With-Seaborn.ipynb#scrollTo=V7X4ApAMkJ0t)\n",
        "\n",
        "### Trabajos Prácticos\n",
        "\n",
        "1. [TP1: XXXX]()"
      ],
      "metadata": {
        "id": "eQoJcGMDmR1P"
      }
    }
  ]
}