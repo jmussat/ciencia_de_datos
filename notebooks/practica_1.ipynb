{
  "cells": [
    {
      "cell_type": "markdown",
      "metadata": {
        "colab_type": "text",
        "id": "view-in-github"
      },
      "source": [
        "<a href=\"https://colab.research.google.com/github/mbalbi/ciencia_de_datos/blob/main/notebooks/practica_1.ipynb\" target=\"_parent\"><img src=\"https://colab.research.google.com/assets/colab-badge.svg\" alt=\"Open In Colab\"/></a>"
      ]
    },
    {
      "cell_type": "markdown",
      "metadata": {
        "id": "XfJ1dOxFMB55"
      },
      "source": [
        "<!--NAVIGATION-->\n",
        "| [Tabla de contenidos](../README.md) | [Probabilidad y Variables Aleatorias](practica_2.ipynb) >"
      ]
    },
    {
      "cell_type": "markdown",
      "metadata": {
        "id": "RWEpm8Ac5As4"
      },
      "source": [
        "# Clase 1: Introducción a Python\n",
        "\n",
        "El objetivo de la clase de hoy es amigarnos un poco con Python como lenguage de programación y cubrir ciertas operaciones básicas a partir de las cuales iremos construyendo a lo largo del cuatrimestre.\n",
        "\n",
        "Usamos Google Colab nos permite programar y correr códigos de Python sin tener que preocuparnos por la instalación de python mismo o de programas específicos. A su vez, nos permite utilizar recursos de Google en la nube para el procesamiento, evitando así la necesidad de una computadora particularmente capaz.\n",
        "\n",
        "Google Colab, como se ve, permite combinar texto y código de forma tal de generar reportes o documentos, y aprovecharemos esto para el desarrollo de los trabajos prácticos."
      ]
    },
    {
      "cell_type": "markdown",
      "metadata": {
        "id": "0h0mpnim5K4p"
      },
      "source": [
        "## Versión de Python\n",
        "\n",
        "Una de las grandes ventajas de python es el número de librerías (por decirlo de alguna manera, paquetes de funciones) disponibles en forma libre que se ajustan a la medida del problema que tengamos que resolver. La contracara de esto es que se debe tener cuidado con la compatibilidad de estas librerías con la versión de python que se está corriendo.\n",
        "\n",
        "En Google Colab se puede elegir la versión de python yendo a `Runtime --> Change Runtime Type`. Para verificar la misma, se puede hacer:"
      ]
    },
    {
      "cell_type": "code",
      "execution_count": null,
      "metadata": {
        "colab": {
          "base_uri": "https://localhost:8080/"
        },
        "id": "2ICvwqk646Ap",
        "outputId": "deab8b6f-0827-4ae7-9afc-7e35c39590da"
      },
      "outputs": [
        {
          "name": "stdout",
          "output_type": "stream",
          "text": [
            "Python 3.7.13\n"
          ]
        }
      ],
      "source": [
        "!python --version"
      ]
    },
    {
      "cell_type": "markdown",
      "metadata": {
        "id": "PNN7PwXC8tX3"
      },
      "source": [
        "No esperamos que a lo largo del curso nos encontremos con problemas de compatibilidad, pero sepan que puede ocurrir y tengan la costumbre de verificarlo."
      ]
    },
    {
      "cell_type": "markdown",
      "metadata": {
        "id": "CohllwOm89q0"
      },
      "source": [
        "## Introducción a Python"
      ]
    },
    {
      "cell_type": "markdown",
      "metadata": {
        "id": "hJ4WSRCA9d2C"
      },
      "source": [
        "### Tipos de datos\n",
        "Lo primero que tenemos que reconocer son los tipos de datos que podemos encontrarnos en Python."
      ]
    },
    {
      "cell_type": "markdown",
      "metadata": {
        "id": "8NjsP216G8me"
      },
      "source": [
        "#### Números\n",
        "\n",
        "Por un lado tenemos los números: Números naturales (`integer`) y números reales (`float`). A diferencia de otros lenguages, la diferencia entre ambos es explicita en Python:**bold text**"
      ]
    },
    {
      "cell_type": "code",
      "execution_count": null,
      "metadata": {
        "id": "mIbRbDWN-JpS"
      },
      "outputs": [],
      "source": [
        "a = 4 # a es un integer\n",
        "b = 7. # b es un float"
      ]
    },
    {
      "cell_type": "markdown",
      "metadata": {
        "id": "6sCBBD5T-UGN"
      },
      "source": [
        "Podemos chequear el datatype de una variable con la función `tye()`. Para ver el resultado que entrega la función, usaremos la función `print()`."
      ]
    },
    {
      "cell_type": "code",
      "execution_count": null,
      "metadata": {
        "colab": {
          "base_uri": "https://localhost:8080/"
        },
        "id": "ObI4uMQs-bSt",
        "outputId": "6a8f03c5-3d2e-411d-fd9b-ba358ea4fc01"
      },
      "outputs": [
        {
          "name": "stdout",
          "output_type": "stream",
          "text": [
            "<class 'int'>\n",
            "<class 'float'>\n"
          ]
        }
      ],
      "source": [
        "print(type(a)) # Imprime el type de a\n",
        "print(type(b)) # Imprime el type de b"
      ]
    },
    {
      "cell_type": "markdown",
      "metadata": {
        "id": "xmB9-7Wx_nOI"
      },
      "source": [
        "Con los números se pueden realizar las operaciones matemáticas típicas (sumas, restas, multiplicaciones y divisiones)."
      ]
    },
    {
      "cell_type": "code",
      "execution_count": null,
      "metadata": {
        "colab": {
          "base_uri": "https://localhost:8080/"
        },
        "id": "N2RixMSG_vwm",
        "outputId": "6ae335ac-ac7f-49d1-89d6-0cef4a05d631"
      },
      "outputs": [
        {
          "name": "stdout",
          "output_type": "stream",
          "text": [
            "5\n",
            "3\n",
            "8\n",
            "16\n",
            "2.0\n",
            "8.0\n",
            "6.0\n",
            "14.0\n",
            "49.0\n",
            "3.5\n"
          ]
        }
      ],
      "source": [
        "print(a + 1)   # Suma\n",
        "print(a - 1)   # Resta\n",
        "print(a * 2)   # Multiplicación\n",
        "print(a ** 2)  # Potencia\n",
        "print(a / 2)   # División\n",
        "\n",
        "print(b + 1)   # Suma\n",
        "print(b - 1)   # Resta\n",
        "print(b * 2)   # Multiplicación\n",
        "print(b ** 2)  # Potencia\n",
        "print(b / 2)   # División"
      ]
    },
    {
      "cell_type": "markdown",
      "metadata": {
        "id": "4kBi5ub1AbFN"
      },
      "source": [
        "Noten que las operaciones aplican tanto para `integers` como `floats`. Sin embargo, la division de un `integer` da como resultado un `float`. Se debe tener cuidado con esto cuando este valor necesita ser un número natural (por ejemplo, para referirse a la columna de una matriz). Para convertir el valor, se puede usar la función `int()`, que trunca la variable al número entero."
      ]
    },
    {
      "cell_type": "code",
      "execution_count": null,
      "metadata": {
        "colab": {
          "base_uri": "https://localhost:8080/"
        },
        "id": "mF9ZX_YIBF3I",
        "outputId": "f505cc1b-056e-4752-f3eb-80a21b249036"
      },
      "outputs": [
        {
          "name": "stdout",
          "output_type": "stream",
          "text": [
            "2\n",
            "3\n"
          ]
        }
      ],
      "source": [
        "print(int(a/2))\n",
        "print(int(b/2))"
      ]
    },
    {
      "cell_type": "markdown",
      "metadata": {
        "id": "Ykg5CaYlEDHx"
      },
      "source": [
        "Otra opción es usar el operador `//`, que devuelve el mismo resultado que `int(x/y)` pero respeta el tipo de variable original."
      ]
    },
    {
      "cell_type": "code",
      "execution_count": null,
      "metadata": {
        "colab": {
          "base_uri": "https://localhost:8080/"
        },
        "id": "DnCIkzXKECfN",
        "outputId": "1c2f793c-4a11-4205-8680-91cfcaf4fcf5"
      },
      "outputs": [
        {
          "name": "stdout",
          "output_type": "stream",
          "text": [
            "2\n",
            "2.0\n",
            "1.0\n",
            "1.0\n"
          ]
        }
      ],
      "source": [
        "print(a // 2)\n",
        "print(a // 2.0)\n",
        "print(b // 5)\n",
        "print(b // 5.0)"
      ]
    },
    {
      "cell_type": "markdown",
      "metadata": {
        "id": "Kd_7DWg9B5v_"
      },
      "source": [
        "Los resultados de las operaciones vistas arriba podemos guardarlas ya sea en nuevas variables como sobreescribiendo una ya existente. Para esto último existen formatos más compactos como se muestra a continuación."
      ]
    },
    {
      "cell_type": "code",
      "execution_count": null,
      "metadata": {
        "colab": {
          "base_uri": "https://localhost:8080/"
        },
        "id": "mCmag23zCNhR",
        "outputId": "c5dcb17b-1bd3-4c59-a0d5-a456d95a6422"
      },
      "outputs": [
        {
          "name": "stdout",
          "output_type": "stream",
          "text": [
            "6\n",
            "5\n",
            "8.0\n",
            "16.0\n"
          ]
        }
      ],
      "source": [
        "c = a + 2 # Suma 2 en una nueva variable 'c'\n",
        "print(c)\n",
        "\n",
        "a = a + 1 # Suma 1 y reemplaza a 'a'\n",
        "print(a)\n",
        "\n",
        "b += 1 # Suma 1 y reemplaza a 'b'\n",
        "print(b)\n",
        "\n",
        "b *= 2 # Multiplica por 2 y reemplaza a 'b'\n",
        "print(b)"
      ]
    },
    {
      "cell_type": "markdown",
      "metadata": {
        "id": "1U4XWQo-K8x1"
      },
      "source": [
        "#### Texto\n",
        "\n",
        "El otro tipo de variable que nos encontramos seguido es el Texto (`string`). Si bien no solemos realizar muchas operaciones con variables de texto propiamente dichas, la suma de las mismas resulta en un concatenamiento."
      ]
    },
    {
      "cell_type": "code",
      "execution_count": null,
      "metadata": {
        "colab": {
          "base_uri": "https://localhost:8080/"
        },
        "id": "AyjCiHuxLl3Y",
        "outputId": "b24be653-c20a-4462-f95b-3e25a71959e1"
      },
      "outputs": [
        {
          "name": "stdout",
          "output_type": "stream",
          "text": [
            "hello world!\n"
          ]
        }
      ],
      "source": [
        "hello = 'hello' # ''\n",
        "world = \"world\" # \"\" es lo mismo, no importa\n",
        "Oracion = hello + ' ' + world + '!'\n",
        "print(Oracion)"
      ]
    },
    {
      "cell_type": "markdown",
      "metadata": {
        "id": "zvU3r-yQGooU"
      },
      "source": [
        "#### Variables lógicas\n",
        "Python permite a su vez trabajar con variables booleanas (`True` y `False`) para verificar si se cumplen ciertas condiciones:"
      ]
    },
    {
      "cell_type": "code",
      "execution_count": null,
      "metadata": {
        "colab": {
          "base_uri": "https://localhost:8080/"
        },
        "id": "pRv-QJQiIVMe",
        "outputId": "4fde3f3d-d98f-4d5a-8fdb-1ac36fa2e0cd"
      },
      "outputs": [
        {
          "name": "stdout",
          "output_type": "stream",
          "text": [
            "<class 'bool'>\n"
          ]
        }
      ],
      "source": [
        "t, f = True, False\n",
        "print(type(t))"
      ]
    },
    {
      "cell_type": "markdown",
      "metadata": {
        "id": "QJWj46gZIbmi"
      },
      "source": [
        "Las distintas operaciones booleanas (AND, OR, NOT, XOR) se encuentran todas definidas. Como recordartorio, AND es `True` cuando ambas variables son `True`, OR es `True` si alguna de las variables es `True`, NOT es `True` cuando una variable es `False`, y XOR es `True` cuando dos variables son distintas."
      ]
    },
    {
      "cell_type": "code",
      "execution_count": null,
      "metadata": {
        "colab": {
          "base_uri": "https://localhost:8080/"
        },
        "id": "hNJVtYigJEqt",
        "outputId": "74a0c3f2-d58f-40d8-da67-8ded0907a207"
      },
      "outputs": [
        {
          "name": "stdout",
          "output_type": "stream",
          "text": [
            "False\n",
            "True\n",
            "False\n",
            "False\n",
            "True\n"
          ]
        }
      ],
      "source": [
        "print(t and f) # AND\n",
        "print(t or f) # OR\n",
        "print(not t) # NOT\n",
        "print(t == f)\n",
        "print(t != f) # XOR"
      ]
    },
    {
      "cell_type": "markdown",
      "metadata": {
        "id": "rqJyHZ-iJpHY"
      },
      "source": [
        "Las variables lógicas se obienen también como resultado de comparaciones de otro tipos de datos. por ejemplo, números, y son muy útiles para explorar datos y generar filtros."
      ]
    },
    {
      "cell_type": "code",
      "execution_count": null,
      "metadata": {
        "colab": {
          "base_uri": "https://localhost:8080/"
        },
        "id": "W7t-UhNhJggg",
        "outputId": "ffeb3a5c-f3fe-4c62-db5b-231b043333f0"
      },
      "outputs": [
        {
          "name": "stdout",
          "output_type": "stream",
          "text": [
            "False\n",
            "True\n",
            "True\n",
            "True\n",
            "False\n",
            "False\n"
          ]
        }
      ],
      "source": [
        "print(3 > 3)\n",
        "print(3 >= 3)\n",
        "print(5 != 3)\n",
        "print('hola' == 'hola')\n",
        "print('hola' == 'chau')\n",
        "print(5 > 3 and 2 < 1)"
      ]
    },
    {
      "cell_type": "markdown",
      "metadata": {
        "id": "rxU41SzwnnhH"
      },
      "source": [
        "### Listas\n",
        "\n",
        "Una lista es un conjunto arreglado de items, los cuales pueden ser cualquiera de los tipos de datos vistos anteriormente (incluso combinaciones)"
      ]
    },
    {
      "cell_type": "code",
      "execution_count": null,
      "metadata": {
        "colab": {
          "base_uri": "https://localhost:8080/"
        },
        "id": "bmjn8wS8o_Va",
        "outputId": "0e5569bf-27bc-4974-e637-0edd11627bac"
      },
      "outputs": [
        {
          "name": "stdout",
          "output_type": "stream",
          "text": [
            "[1, 2, 3, 4]\n",
            "[True, 'Perro', 5, 4.0]\n",
            "[[1, 2], [3, 4]]\n"
          ]
        }
      ],
      "source": [
        "a = [1, 2, 3, 4]\n",
        "b = [True, 'Perro', 5, 4.0]\n",
        "c = [[1, 2],[3, 4]]\n",
        "\n",
        "print(a)\n",
        "print(b)\n",
        "print(c)"
      ]
    },
    {
      "cell_type": "markdown",
      "metadata": {
        "id": "0CH_jXgkpauQ"
      },
      "source": [
        "Los valores de una lista están indexados de 0 a la longitud de la lista. Esta última puede ser encontrada con la función `len()`. Noten que la longitud de c es dos ya que tiene dos listas dentro de la lista."
      ]
    },
    {
      "cell_type": "code",
      "execution_count": null,
      "metadata": {
        "colab": {
          "base_uri": "https://localhost:8080/"
        },
        "id": "q_35dyJRpZa9",
        "outputId": "8043e8b6-0caf-4ac3-8c0d-9e4da532e9ff"
      },
      "outputs": [
        {
          "name": "stdout",
          "output_type": "stream",
          "text": [
            "4\n",
            "4\n",
            "2\n"
          ]
        }
      ],
      "source": [
        "print(len(a))\n",
        "print(len(b))\n",
        "print(len(c))"
      ]
    },
    {
      "cell_type": "markdown",
      "metadata": {
        "id": "gu_TaipSqH1P"
      },
      "source": [
        "Valores específicos de la lista pueden ser extraídos refiriendose al índice requerido. Una ventaja de python es que números negativos comienzan el conteo desde el final (por ejemplo, -1 es el último lugar de la lista), lo que simplifica el código en algunas situaciones, y evita calcular la longitud de la lista."
      ]
    },
    {
      "cell_type": "code",
      "execution_count": null,
      "metadata": {
        "colab": {
          "base_uri": "https://localhost:8080/"
        },
        "id": "eJw-oajBqGMG",
        "outputId": "917f2b0f-b871-4576-fd82-2752e8afaec8"
      },
      "outputs": [
        {
          "name": "stdout",
          "output_type": "stream",
          "text": [
            "4\n",
            "Perro\n",
            "[1, 2]\n",
            "2\n"
          ]
        }
      ],
      "source": [
        "print(a[-1]) # último lugar\n",
        "print(b[1])  # segundo lugar\n",
        "print(c[0])  # primer lugar\n",
        "print(c[0][1]) # toma el segundo valor de la primer lista"
      ]
    },
    {
      "cell_type": "markdown",
      "metadata": {
        "id": "vMN1AMR9q_ZZ"
      },
      "source": [
        "También puede tomarse un slice (un conjunto de la lista) de las siguientes formas:"
      ]
    },
    {
      "cell_type": "code",
      "execution_count": null,
      "metadata": {
        "colab": {
          "base_uri": "https://localhost:8080/"
        },
        "id": "0OpuHeGfrN3P",
        "outputId": "0eb54721-f0a7-43d8-dc61-779352bc3cef"
      },
      "outputs": [
        {
          "name": "stdout",
          "output_type": "stream",
          "text": [
            "[2, 3, 4]\n",
            "[True, 'Perro']\n"
          ]
        }
      ],
      "source": [
        "print(a[1:]) # toma todos los valores a partir del segundo\n",
        "print(b[0:2]) # toma los dos primeros valores (el tercero excluido)"
      ]
    },
    {
      "cell_type": "markdown",
      "metadata": {
        "id": "SHMLsXRMr5Z4"
      },
      "source": [
        "La indexación puede utilizarse cambiar valores de la lista:"
      ]
    },
    {
      "cell_type": "code",
      "execution_count": null,
      "metadata": {
        "colab": {
          "base_uri": "https://localhost:8080/"
        },
        "id": "ZjtVnMPesO9M",
        "outputId": "d9852d36-0776-439f-c272-a4a7000cc2ec"
      },
      "outputs": [
        {
          "name": "stdout",
          "output_type": "stream",
          "text": [
            "[1, 2, 3, '40']\n",
            "['Hello', 57, 5, 4.0]\n"
          ]
        }
      ],
      "source": [
        "a[3] = '40'\n",
        "print(a)\n",
        "\n",
        "b[:2] = ['Hello', 57]\n",
        "print(b)"
      ]
    },
    {
      "cell_type": "markdown",
      "metadata": {
        "id": "okgKfeo6txCu"
      },
      "source": [
        "Se debe tener cuidado en Python ya que las listas ocupan un mismo espacio en la memoria. Por ejemplo `a = b`hace que ambas variables se refieran al mismo lugar: si cambio una de ellas, ambas lo harán. Veamos el siguiente ejemplo, donde aprenderemos también a agregar items a una lista."
      ]
    },
    {
      "cell_type": "code",
      "execution_count": null,
      "metadata": {
        "colab": {
          "base_uri": "https://localhost:8080/"
        },
        "id": "yrtRwifSt5C9",
        "outputId": "d7efd727-0ddc-4d68-afc3-edaf96fa800c"
      },
      "outputs": [
        {
          "name": "stdout",
          "output_type": "stream",
          "text": [
            "[1, 2, 3, 4, 5]\n",
            "[1, 2, 3, 4, 5, 6]\n"
          ]
        }
      ],
      "source": [
        "a = [1, 2, 3, 4] # Defino a\n",
        "b = a            # b es igual a a\n",
        "a.append(5)      # Modifico a, agrego 5 al final\n",
        "print(b)         # b cambia!\n",
        "b.append(6)      # Modifico b, agrego 6 al final\n",
        "print(a)         # a cambia!"
      ]
    },
    {
      "cell_type": "markdown",
      "metadata": {
        "id": "5YEz1cZBt4g-"
      },
      "source": [
        "Si esto no es deseable, se debe usar la función `copy()`, que genera una copia de los valores en otro lugar de la memoria:"
      ]
    },
    {
      "cell_type": "code",
      "execution_count": null,
      "metadata": {
        "colab": {
          "base_uri": "https://localhost:8080/"
        },
        "id": "tyDyD-73vDS5",
        "outputId": "829f57cd-e2e5-4baf-f37e-932234ea73e1"
      },
      "outputs": [
        {
          "name": "stdout",
          "output_type": "stream",
          "text": [
            "[1, 2, 3, 4]\n",
            "[1, 2, 3, 4, 5]\n"
          ]
        }
      ],
      "source": [
        "a = [1, 2, 3, 4] # Defino a\n",
        "b = a.copy()     # b es una copia de a\n",
        "a.append(5)      # Modifico a, agrego 5 al final\n",
        "print(b)         # b sigue igual!\n",
        "b.append(6)      # Modifico b, agrego 6 al final\n",
        "print(a)         # a sigue igual!"
      ]
    },
    {
      "cell_type": "markdown",
      "metadata": {
        "id": "NiyBlOp5vvFg"
      },
      "source": [
        "### Diccionarios\n",
        "\n",
        "Un diccionario es también un arreglo de items pero que, en vez de trabajar con indices, utiliza palabras clave (llaves/keys) y valores. Por ejemplo, si mi diccionario es un dataset de lluvias, podría tener información acerca de la latitud y longitud de la estación, su nombre, un registro de lluvias diarias, y un indicador de las unidades de trabajo:"
      ]
    },
    {
      "cell_type": "code",
      "execution_count": null,
      "metadata": {
        "id": "UiaBurdvwNJT"
      },
      "outputs": [],
      "source": [
        "Lluvias = {'estacion':[7.52, -14.4],'ID':'San Rafael', 'data':[3, 4, 0, 0, 5], \n",
        "           'unidades':'mm/dia'}"
      ]
    },
    {
      "cell_type": "markdown",
      "metadata": {
        "id": "7AtrFWAXxHPG"
      },
      "source": [
        "Se puede acceder a los datos del dicionario de varias formas:"
      ]
    },
    {
      "cell_type": "code",
      "execution_count": null,
      "metadata": {
        "colab": {
          "base_uri": "https://localhost:8080/"
        },
        "id": "joMCGpAWxU16",
        "outputId": "964bd77c-3c1e-43b4-bc39-81a2fa26482b"
      },
      "outputs": [
        {
          "name": "stdout",
          "output_type": "stream",
          "text": [
            "San Rafael\n",
            "[3, 4, 0, 0, 5]\n"
          ]
        }
      ],
      "source": [
        "print(Lluvias['ID'])\n",
        "print(Lluvias.get('data'))"
      ]
    },
    {
      "cell_type": "markdown",
      "metadata": {
        "id": "dNhp9VtFxPD6"
      },
      "source": [
        "Imaginemos que tenemos un nuevo dato de lluvia y queremos agregarlo, y además queremos agregar un listado de temperaturas. Para ello podemos hacer"
      ]
    },
    {
      "cell_type": "code",
      "execution_count": null,
      "metadata": {
        "colab": {
          "base_uri": "https://localhost:8080/"
        },
        "id": "7I3NwU5yyFJm",
        "outputId": "17e837ae-012c-4417-c0da-b7f66f9c4817"
      },
      "outputs": [
        {
          "name": "stdout",
          "output_type": "stream",
          "text": [
            "[3, 4, 0, 0, 5, 0, 1]\n",
            "[30, 20, 25, 10, 0]\n"
          ]
        }
      ],
      "source": [
        "Lluvias['data'] += [0, 1]\n",
        "print(Lluvias['data'])\n",
        "\n",
        "Lluvias['Temp'] = [30, 20, 25, 10, 0]\n",
        "print(Lluvias['Temp'])"
      ]
    },
    {
      "cell_type": "markdown",
      "metadata": {
        "id": "NWwEekiG1Pqp"
      },
      "source": [
        "### Condicionales e iteraciones\n",
        "\n",
        "En ejemplo anterior incorporamos valores o creamos una nueva entrada en el diccionario asumiendo que ya sabíamos que existía o no lo que necesitabamos. En el caso general, sería necesario revisar esto para no generar problemas. Podemos usar entonces `if` statements con ese fin, con el código realizando la operación conveniente en cada caso:"
      ]
    },
    {
      "cell_type": "code",
      "execution_count": null,
      "metadata": {
        "colab": {
          "base_uri": "https://localhost:8080/"
        },
        "id": "ZaxIP0gb16mh",
        "outputId": "4939a62d-316f-498f-8291-b1bf155870ed"
      },
      "outputs": [
        {
          "name": "stdout",
          "output_type": "stream",
          "text": [
            "[3, 4, 0, 0, 5, 0, 1]\n",
            "[30, 20, 25, 10, 0]\n"
          ]
        }
      ],
      "source": [
        "Lluvias = {'estacion':[7.52, -14.4],'ID':'San Rafael', 'data':[3, 4, 0, 0, 5], \n",
        "           'unidades':'mm/dia'}\n",
        "\n",
        "if 'data' in Lluvias:       # Chequea si existe una llave data\n",
        "  Lluvias['data'] += [0, 1]  # Agrega valores\n",
        "else:                       # Caso contrario\n",
        "  Lluvias['data'] = [0, 1]   # Crea una nueva entrada\n",
        "\n",
        "print(Lluvias['data'])\n",
        "\n",
        "if 'temp' in Lluvias:       # Chequea si existe una llave data\n",
        "  Lluvias['temp'] += [30, 20, 25, 10, 0]  # Agrega valores\n",
        "else:                       # Caso contrario\n",
        "  Lluvias['temp'] = [30, 20, 25, 10, 0]   # Crea una nueva entrada\n",
        "\n",
        "print(Lluvias['temp'])"
      ]
    },
    {
      "cell_type": "markdown",
      "metadata": {
        "id": "luJou9ff2xFk"
      },
      "source": [
        "Es importante notar que Python trabaja con indentaciones. Es decir, luego de colocar el statement `if` este se debe terminar con dos puntos, y luego TODO lo que se encuentre indentado (con la misma indentación) se lo considera dentro de ese bloque if. El final de bloque no se indica explicitiamente, sino simplemente terminando la indentación.\n",
        "\n",
        "Si quisieramos iterar a traves de los valores de una lista, podemos utilizar distintas estrategias, mostradas a continuación que muestran la eficiencia de Python para tomar valores y simplificar la notación:"
      ]
    },
    {
      "cell_type": "code",
      "execution_count": null,
      "metadata": {
        "colab": {
          "base_uri": "https://localhost:8080/"
        },
        "id": "XyQXrs-H2-LO",
        "outputId": "eeb0832f-446b-45d5-bc7d-377c10746ee2"
      },
      "outputs": [
        {
          "name": "stdout",
          "output_type": "stream",
          "text": [
            "0 1\n",
            "1 3\n",
            "2 5\n",
            "3 7\n",
            " \n",
            "0 1\n",
            "1 3\n",
            "2 5\n",
            "3 7\n",
            " \n",
            "0 1\n",
            "1 3\n",
            "2 5\n",
            "3 7\n"
          ]
        }
      ],
      "source": [
        "a = [1, 3, 5, 7]\n",
        "\n",
        "i = 0 # Definir una variable para recorrer los indices\n",
        "while i < len(a): # Mientras la variable este dentro del rango\n",
        "  print(i, a[i]) # Imprimir indice y valor de la lista\n",
        "  i += 1\n",
        "\n",
        "print(' ')\n",
        "for i in range(len(a)): # Generar una iteracion entre los indices de la lista\n",
        "  print(i, a[i]) # Imprimir indice y valor\n",
        "\n",
        "print(' ')\n",
        "for idx,ai in enumerate(a): # Extraer los indices y valores de la lista\n",
        "  print(idx, ai) # Imprimir indice y valor"
      ]
    },
    {
      "cell_type": "markdown",
      "metadata": {
        "id": "5bIl5P0L5T7D"
      },
      "source": [
        "El último método mostrado es particularmente potente, y muy útil para diccionarios. Compare el código en estos dos ejemplos:"
      ]
    },
    {
      "cell_type": "code",
      "execution_count": null,
      "metadata": {
        "colab": {
          "base_uri": "https://localhost:8080/"
        },
        "id": "uDsLADYt5TnR",
        "outputId": "ffa75cb3-289f-4b33-de69-eb1cd5d28e64"
      },
      "outputs": [
        {
          "name": "stdout",
          "output_type": "stream",
          "text": [
            "estacion [7.52, -14.4]\n",
            "ID San Rafael\n",
            "data [3, 4, 0, 0, 5]\n",
            "unidades mm/dia\n",
            " \n",
            "estacion [7.52, -14.4]\n",
            "ID San Rafael\n",
            "data [3, 4, 0, 0, 5]\n",
            "unidades mm/dia\n"
          ]
        }
      ],
      "source": [
        "Lluvias = {'estacion':[7.52, -14.4],'ID':'San Rafael', 'data':[3, 4, 0, 0, 5], \n",
        "           'unidades':'mm/dia'}\n",
        "\n",
        "for i in range(len(Lluvias)):\n",
        "  print(list(Lluvias.keys())[i], Lluvias[list(Lluvias.keys())[i]])\n",
        "\n",
        "print(' ')\n",
        "for keys in Lluvias:\n",
        "  print(keys, Lluvias[keys])"
      ]
    },
    {
      "cell_type": "markdown",
      "metadata": {
        "id": "eb2T6G367zpg"
      },
      "source": [
        "Esto solía ser más importante en versiones anteriores de Python cuando los diccionarios eran \"no ordenados\". En las últimas versiones los diccionarios son ordenados igual que las listas, por los que la indexación funciona."
      ]
    },
    {
      "cell_type": "markdown",
      "metadata": {
        "id": "VlEUIyb78I3c"
      },
      "source": [
        "### Numpy\n",
        "\n",
        "Mencionamos antes que existen varias librerías de Python que incorporan funcionalides clave para la solución de problemas. La principal es Numpy, que incopora un nuevo tipo de data (`arrays`) y muchas herramientas de operación matricial. Para agregar una librería en su conjunto, se hace lo siguiente."
      ]
    },
    {
      "cell_type": "code",
      "execution_count": null,
      "metadata": {
        "id": "udmfRgmc-PSY"
      },
      "outputs": [],
      "source": [
        "import numpy as np"
      ]
    },
    {
      "cell_type": "markdown",
      "metadata": {
        "id": "4DZfAnD2-T0u"
      },
      "source": [
        "Un array se crea a partir de una lista de Python, y es a fin de cuentas una matriz. La principal diferencia con otros lenguajes es que, en python, los arrays 1-D no differencian entre vectores columna y vectores filas. Si se quiere especificar, se debe crear un array 2-D donde una de esas dimensiones es 1.\n",
        "\n",
        "Por ejemplo:"
      ]
    },
    {
      "cell_type": "code",
      "execution_count": null,
      "metadata": {
        "colab": {
          "base_uri": "https://localhost:8080/"
        },
        "id": "mFSaUtav-uae",
        "outputId": "f551cec8-f028-4316-a373-fc767dc08a20"
      },
      "outputs": [
        {
          "name": "stdout",
          "output_type": "stream",
          "text": [
            "[1 2]\n",
            "[[1 2]]\n",
            "[[1]\n",
            " [2]]\n",
            "[[1 2]\n",
            " [3 4]]\n",
            "<class 'list'>\n",
            "<class 'numpy.ndarray'>\n"
          ]
        }
      ],
      "source": [
        "a = [1, 2] # lista 1-D\n",
        "b = [[1, 2]] # Lista de 1 item con una lista de 4 items contenida\n",
        "c = [[1], [2]] # Lista de 4 items, cada uno una lista de 1 item\n",
        "d = [[1,2],[3,4]] # Lista de 2 items, cada uno una lista de 2 items\n",
        "\n",
        "#Crear arrays\n",
        "A = np.array(a)\n",
        "B = np.array(b)\n",
        "C = np.array(c)\n",
        "D = np.array(d)\n",
        "\n",
        "print(A)\n",
        "print(B)\n",
        "print(C)\n",
        "print(D)\n",
        "\n",
        "# Comparar el tipo de a y A\n",
        "print(type(a))\n",
        "print(type(A))"
      ]
    },
    {
      "cell_type": "markdown",
      "metadata": {
        "id": "MjvRe7c9AB0f"
      },
      "source": [
        "Las dimensiones de los arrays se pueden verificar de la siguiente forma. Noten la diferencia entre un array 1-D contra uno 2-D. A su vez, vean que las dimensiones las da en forma de array, por lo que uno puede obtener el numero de filas y columnas por separado:"
      ]
    },
    {
      "cell_type": "code",
      "execution_count": null,
      "metadata": {
        "colab": {
          "base_uri": "https://localhost:8080/"
        },
        "id": "kvDPYQtyAGgg",
        "outputId": "61a1048d-3267-4c2f-d462-1da11f259a34"
      },
      "outputs": [
        {
          "name": "stdout",
          "output_type": "stream",
          "text": [
            "(2,)\n",
            "(1, 2)\n",
            "(2, 1)\n",
            "(2, 2)\n",
            "numero de columnas  1\n"
          ]
        }
      ],
      "source": [
        "# Dimensiones\n",
        "print(A.shape)\n",
        "print(B.shape)\n",
        "print(C.shape)\n",
        "print(D.shape)\n",
        "\n",
        "# Chequear una dimensión específica\n",
        "print('numero de columnas ', C.shape[1])"
      ]
    },
    {
      "cell_type": "markdown",
      "metadata": {
        "id": "b-FKMmpHA36C"
      },
      "source": [
        "Numpy incluye todas las operaciones de matrices típicas, incluyendo producto matricial, prodctos elemento a elemeno, transpuesta, inversa y demás.\n",
        "\n",
        "Noten que la transpuesta de un elemento 1-D no existe, devuelve el mismo array."
      ]
    },
    {
      "cell_type": "code",
      "execution_count": null,
      "metadata": {
        "colab": {
          "base_uri": "https://localhost:8080/"
        },
        "id": "2FNyUIBxBU8e",
        "outputId": "f79e5f48-8d59-466c-872a-4ebce1ad846f"
      },
      "outputs": [
        {
          "name": "stdout",
          "output_type": "stream",
          "text": [
            "[1 2]\n",
            "[[1]\n",
            " [2]]\n",
            "[[1 2]]\n",
            "[[1 3]\n",
            " [2 4]]\n",
            " \n",
            "[[1]\n",
            " [4]]\n",
            "[[ 1  4]\n",
            " [ 9 16]]\n",
            " \n",
            "[[5]]\n",
            "[[ 5]\n",
            " [11]]\n",
            "[[ 7 10]\n",
            " [15 22]]\n",
            "[[27]]\n"
          ]
        }
      ],
      "source": [
        "# Transpuesta\n",
        "print(A.T)\n",
        "print(B.T)\n",
        "print(C.T)\n",
        "print(D.T)\n",
        "\n",
        "print(' ')\n",
        "# Producto elemento a elemento\n",
        "print(B.T*C)\n",
        "print(D*D)\n",
        "\n",
        "print(' ')\n",
        "# Producto Matricial\n",
        "print(B@C)\n",
        "print(D@C)\n",
        "print(D@D)\n",
        "print(B@D@C)"
      ]
    },
    {
      "cell_type": "markdown",
      "metadata": {
        "id": "TZmtWm2qD85z"
      },
      "source": [
        "La conversión de un array 1-D a uno 2-D (o cualquier cambio de dimensiones), puede realizarse mediante la función `reshape`"
      ]
    },
    {
      "cell_type": "code",
      "execution_count": null,
      "metadata": {
        "colab": {
          "base_uri": "https://localhost:8080/"
        },
        "id": "lNh8G0hLEFaP",
        "outputId": "fc7bdc1a-a807-471f-caff-804a6235b6d6"
      },
      "outputs": [
        {
          "name": "stdout",
          "output_type": "stream",
          "text": [
            "[[1]\n",
            " [2]]\n",
            " \n",
            "[[1 2]]\n"
          ]
        }
      ],
      "source": [
        "# convertir a vector columna\n",
        "Aprime = np.reshape(A,(-1,1)) # el -1 indica que queda libre (s/ necesario)\n",
        "print(Aprime)\n",
        "\n",
        "print(' ')\n",
        "# Convertir a vector fila\n",
        "Bprime = np.reshape(A,(1,-1)) # el -1 indica que queda libre (s/ necesario)\n",
        "print(Bprime)"
      ]
    },
    {
      "cell_type": "markdown",
      "metadata": {
        "id": "CT6ZnQrbCRPj"
      },
      "source": [
        "Numpy contiene además preseteadas ciertas matrices elementales, como la matriz constante, la matriz identidad y matrices de ceros:"
      ]
    },
    {
      "cell_type": "code",
      "execution_count": null,
      "metadata": {
        "colab": {
          "base_uri": "https://localhost:8080/"
        },
        "id": "UGJsF6lkCdIq",
        "outputId": "a1b38b87-591f-4658-f9cd-c439eae9d47f"
      },
      "outputs": [
        {
          "name": "stdout",
          "output_type": "stream",
          "text": [
            "[[0. 0. 0.]\n",
            " [0. 0. 0.]]\n",
            "\n",
            "[[1. 0.]\n",
            " [0. 1.]]\n",
            " \n",
            "[[1.]\n",
            " [1.]\n",
            " [1.]\n",
            " [1.]]\n",
            " \n",
            "[ 0.   0.5  1.   1.5  2.   2.5  3.   3.5  4.   4.5  5.   5.5  6.   6.5\n",
            "  7.   7.5  8.   8.5  9.   9.5 10. ]\n",
            " \n",
            "[[0.99838845 0.83140517 0.81187714 0.0072142  0.8925101 ]\n",
            " [0.93325017 0.16308131 0.96179529 0.3438364  0.70027367]\n",
            " [0.94650473 0.14539425 0.61976853 0.20110258 0.76496206]]\n"
          ]
        }
      ],
      "source": [
        "# Matriz de 0's\n",
        "ZERO = np.zeros((2,3))\n",
        "print(ZERO)\n",
        "\n",
        "print('')\n",
        "# Matriz identidad\n",
        "EYE = np.eye(2)\n",
        "print(EYE)\n",
        "\n",
        "print(' ')\n",
        "# Matriz constante\n",
        "CTE = np.ones((4,1))\n",
        "print(CTE)\n",
        "\n",
        "print(' ')\n",
        "# Secuencia de numeros\n",
        "print(np.linspace(0,10,21)) # 21 numeros de 0 a 10\n",
        "\n",
        "print(' ')\n",
        "# Números random entre 0 y 1 (uniforme)\n",
        "print(np.random.random((3,5)))"
      ]
    },
    {
      "cell_type": "markdown",
      "metadata": {
        "id": "gj9xtZhBF42Y"
      },
      "source": [
        "Una ventaja de trabajar con arrays es que es muy simple filtrar datos. La indexación es igual que para listas, pero se pueden aplicar criterios booleanos para la depuración.\n",
        "\n",
        "Por ejemplo, tomemos el siguiente array y quedemosnos con todos los números menores a 0.5:"
      ]
    },
    {
      "cell_type": "code",
      "execution_count": null,
      "metadata": {
        "colab": {
          "base_uri": "https://localhost:8080/"
        },
        "id": "FkFIIIQiGGyn",
        "outputId": "887ed379-6e83-4e51-aaa3-9b7d37e99655"
      },
      "outputs": [
        {
          "name": "stdout",
          "output_type": "stream",
          "text": [
            "[[0.05687784 0.86368256 0.05743397 0.40196829 0.89181021 0.80511387\n",
            "  0.93096241 0.62645192 0.46687479 0.84695195]]\n",
            "[0.05687784 0.05743397 0.40196829 0.46687479]\n"
          ]
        }
      ],
      "source": [
        "array = np.random.random((1,10))\n",
        "print(array)\n",
        "\n",
        "subset = array[array < 0.5]\n",
        "print(subset)"
      ]
    },
    {
      "cell_type": "markdown",
      "metadata": {
        "id": "waE5DK2EHMu_"
      },
      "source": [
        "#### Broadcasting\n",
        "\n",
        "Una de las grandes funcionalidades de Numpy es la capacidad de extender y generalizar operaciones sin necesidad de desarrollar loops o asegurar que todos los elementos tengan las mismas dimensiones, lo que ahorra tiempo y memoria.\n",
        "\n",
        "Por ejemplo, si a todos los elementos de un vector se les quiere sumar una constante, simplemente se puede escribir:"
      ]
    },
    {
      "cell_type": "code",
      "execution_count": null,
      "metadata": {
        "colab": {
          "base_uri": "https://localhost:8080/"
        },
        "id": "MX_SKIhPHMas",
        "outputId": "94447ea3-0278-4f44-d554-daa7f9dd3fb8"
      },
      "outputs": [
        {
          "name": "stdout",
          "output_type": "stream",
          "text": [
            "[2 3 4 5]\n",
            "[[ 2  4  6  8]\n",
            " [ 6  8 10 12]\n",
            " [10 12 14 16]]\n"
          ]
        }
      ],
      "source": [
        "a = np.array([1,2,3,4])\n",
        "b = np.array([[1, 2, 3, 4],[5, 6, 7, 8], [9, 10, 11, 12]])\n",
        "\n",
        "print(a+1) # Sumar una constante a un vector\n",
        "\n",
        "print(b+a) # Sumar un vector a cada fila de una matriz"
      ]
    },
    {
      "cell_type": "markdown",
      "metadata": {
        "id": "cjzIZRSzHzz0"
      },
      "source": [
        "Esta capacidad se puede utilizar para reducir enormemente el costo computacional de ciertas operaciones, como veremos más adelante"
      ]
    },
    {
      "cell_type": "markdown",
      "metadata": {
        "id": "DHLmY5-xIhqV"
      },
      "source": [
        "### Funciones\n",
        "\n",
        "A veces hay ciertas líneas de código que usamos repetidamente. En esos casos es conveniente generar un bloque función que puede ser llamado cuando sea necesario. Por ejemplo, podemos crear nuestra propia función para calcular la norma de un vector:"
      ]
    },
    {
      "cell_type": "code",
      "execution_count": null,
      "metadata": {
        "colab": {
          "base_uri": "https://localhost:8080/"
        },
        "id": "92DZvHU9I1Sd",
        "outputId": "aa7516a1-5b6e-4ffa-df4d-7fbca48b7dc7"
      },
      "outputs": [
        {
          "name": "stdout",
          "output_type": "stream",
          "text": [
            "5.477225575051661 5.477225575051661\n"
          ]
        }
      ],
      "source": [
        "def norma(x):\n",
        "  temp = 0\n",
        "  for vals in x:\n",
        "    temp += vals**2\n",
        "  return np.sqrt(temp)\n",
        "\n",
        "a = np.array([1, 2, 3, 4])\n",
        "# Comparación entre nuestra función y la disponible en numpy\n",
        "print(norma(a), np.linalg.norm(a))"
      ]
    },
    {
      "cell_type": "markdown",
      "metadata": {
        "id": "NRPxLEluKmnG"
      },
      "source": [
        "## Ejercicio\n",
        "\n",
        "A modo de cierre, vamos a desarrollar 2 funciones para calcular las distancias entre todos los puntos de un grilla. Este dato es importante, por ejemplo, para el desarrollo de modelos digitales de un terreno, ya que la interpolación de la elevación depende de las distancias del punto de análisis a todos los puntos con datos concretos."
      ]
    },
    {
      "cell_type": "markdown",
      "metadata": {
        "id": "L1INfKakLEuV"
      },
      "source": [
        "### Datos\n",
        "\n",
        "Los puntos a estudiar son imagenes de 32x32 pixeles RGB (3 valores de intensidad), que a fin de cuenta podemos pensarlo como 3072 datos distintos que definen a una imagen. En total tenemos 50000 imagenes conocidas y 10000 imagenes desconocidas. Para estas 1000, hay que calcular las distancias con las otras 50000.\n",
        "\n",
        "Primero, descarguemos el Dataset y las funciones que capturan la data"
      ]
    },
    {
      "cell_type": "code",
      "execution_count": null,
      "metadata": {
        "colab": {
          "base_uri": "https://localhost:8080/"
        },
        "id": "OQdXmMMaMKpg",
        "outputId": "58785701-32cd-4360-b88c-a908f1bb040c"
      },
      "outputs": [
        {
          "name": "stdout",
          "output_type": "stream",
          "text": [
            "--2022-08-17 14:57:00--  http://www.cs.toronto.edu/~kriz/cifar-10-python.tar.gz\n",
            "Resolving www.cs.toronto.edu (www.cs.toronto.edu)... 128.100.3.30\n",
            "Connecting to www.cs.toronto.edu (www.cs.toronto.edu)|128.100.3.30|:80... connected.\n",
            "HTTP request sent, awaiting response... 200 OK\n",
            "Length: 170498071 (163M) [application/x-gzip]\n",
            "Saving to: ‘cifar-10-python.tar.gz’\n",
            "\n",
            "cifar-10-python.tar 100%[===================>] 162.60M  56.3MB/s    in 2.9s    \n",
            "\n",
            "2022-08-17 14:57:05 (56.3 MB/s) - ‘cifar-10-python.tar.gz’ saved [170498071/170498071]\n",
            "\n",
            "cifar-10-batches-py/\n",
            "cifar-10-batches-py/data_batch_4\n",
            "cifar-10-batches-py/readme.html\n",
            "cifar-10-batches-py/test_batch\n",
            "cifar-10-batches-py/data_batch_3\n",
            "cifar-10-batches-py/batches.meta\n",
            "cifar-10-batches-py/data_batch_2\n",
            "cifar-10-batches-py/data_batch_5\n",
            "cifar-10-batches-py/data_batch_1\n"
          ]
        }
      ],
      "source": [
        "from six.moves import cPickle as pickle\n",
        "import numpy as np\n",
        "import os\n",
        "import platform\n",
        "\n",
        "def load_pickle(f):\n",
        "    version = platform.python_version_tuple()\n",
        "    if version[0] == '2':\n",
        "        return  pickle.load(f)\n",
        "    elif version[0] == '3':\n",
        "        return  pickle.load(f, encoding='latin1')\n",
        "    raise ValueError(\"invalid python version: {}\".format(version))\n",
        "\n",
        "def load_CIFAR_batch(filename):\n",
        "  \"\"\" load single batch of cifar \"\"\"\n",
        "  with open(filename, 'rb') as f:\n",
        "    datadict = load_pickle(f)\n",
        "    X = datadict['data']\n",
        "    Y = datadict['labels']\n",
        "    X = X.reshape(10000, 3, 32, 32).transpose(0,2,3,1).astype(\"float\")\n",
        "    Y = np.array(Y)\n",
        "    return X, Y\n",
        "\n",
        "def load_CIFAR10(ROOT):\n",
        "  \"\"\" load all of cifar \"\"\"\n",
        "  xs = []\n",
        "  ys = []\n",
        "  for b in range(1,6):\n",
        "    f = os.path.join(ROOT, 'data_batch_%d' % (b, ))\n",
        "    X, Y = load_CIFAR_batch(f)\n",
        "    xs.append(X)\n",
        "    ys.append(Y)    \n",
        "  Xtr = np.concatenate(xs)\n",
        "  Ytr = np.concatenate(ys)\n",
        "  del X, Y\n",
        "  Xte, Yte = load_CIFAR_batch(os.path.join(ROOT, 'test_batch'))\n",
        "  return Xtr, Ytr, Xte, Yte\n",
        "\n",
        "# Descargar CIFAR10\n",
        "!wget http://www.cs.toronto.edu/~kriz/cifar-10-python.tar.gz\n",
        "!tar -xzvf cifar-10-python.tar.gz\n",
        "!rm cifar-10-python.tar.gz "
      ]
    },
    {
      "cell_type": "code",
      "execution_count": null,
      "metadata": {
        "colab": {
          "base_uri": "https://localhost:8080/"
        },
        "id": "CTTh_lxNMwOu",
        "outputId": "4f30dcf3-c5a6-4e17-9772-ddaae9d946dd"
      },
      "outputs": [
        {
          "name": "stdout",
          "output_type": "stream",
          "text": [
            "Training data shape:  (50000, 32, 32, 3)\n",
            "Test data shape:  (10000, 32, 32, 3)\n"
          ]
        }
      ],
      "source": [
        "# Cargar la data CIFAR-10 como viene.\n",
        "cifar10_dir = 'cifar-10-batches-py'\n",
        "\n",
        "# Borrar valores anteriores para evitar problemas de memoria\n",
        "try:\n",
        "   del X_train, y_train\n",
        "   del X_test, y_test\n",
        "   print('Clear previously loaded data.')\n",
        "except:\n",
        "   pass\n",
        "\n",
        "X_train, y_train, X_test, y_test = load_CIFAR10(cifar10_dir)\n",
        "\n",
        "# Veamos el tamaño de los datos.\n",
        "print('Training data shape: ', X_train.shape)\n",
        "print('Test data shape: ', X_test.shape)\n"
      ]
    },
    {
      "cell_type": "markdown",
      "metadata": {
        "id": "oVHCTjh8OhMM"
      },
      "source": [
        "### Manejo de datos\n",
        "\n",
        "Lo primero que hay que hacer es reformular la data a forma de matriz, con cada fila representado una imagen y cada columna representando un valor de un pixel:"
      ]
    },
    {
      "cell_type": "code",
      "execution_count": null,
      "metadata": {
        "colab": {
          "base_uri": "https://localhost:8080/"
        },
        "id": "rFaMBRb4OryC",
        "outputId": "db974959-c410-4853-d337-41759da8feb3"
      },
      "outputs": [
        {
          "name": "stdout",
          "output_type": "stream",
          "text": [
            "(50000, 3072) (10000, 3072)\n"
          ]
        }
      ],
      "source": [
        "# Reorganizar la data en filas\n",
        "X_train = np.reshape(X_train, (X_train.shape[0], -1))\n",
        "X_test = np.reshape(X_test, (X_test.shape[0], -1))\n",
        "print(X_train.shape, X_test.shape)"
      ]
    },
    {
      "cell_type": "markdown",
      "metadata": {
        "id": "vnok1bywRB05"
      },
      "source": [
        "Como no nos va a dar la memoria RAM, reduzcamos la cantidad de datos a 5000 datos conocidos y 500 desconocidos."
      ]
    },
    {
      "cell_type": "code",
      "execution_count": null,
      "metadata": {
        "id": "PBdRmoOWRKXs"
      },
      "outputs": [],
      "source": [
        "X_train = X_train[:5000,:]\n",
        "X_test = X_test[:500,:]"
      ]
    },
    {
      "cell_type": "markdown",
      "metadata": {
        "id": "zQ8bHYRLO-Pw"
      },
      "source": [
        "### Desarrollo de funciones\n",
        "\n",
        "Ahora vamos a crear 2 funciones para calcular las distancias. Una utilizando 2 for loops (iterando entre todos los puntos), y otra aprovechando las capacidades de broadcasting de numpy. ¡Veamos cuanto tarda en correr cada una!"
      ]
    },
    {
      "cell_type": "code",
      "execution_count": null,
      "metadata": {
        "id": "M3wy9xvtPOkb"
      },
      "outputs": [],
      "source": [
        "def distancias2loops(Xtrain,Xtest):\n",
        "    num_test = Xtest.shape[0]\n",
        "    num_train = Xtrain.shape[0]\n",
        "    dists = np.zeros((num_test, num_train))\n",
        "    for i in range(num_test):\n",
        "      for j in range(num_train):\n",
        "        d_vec = Xtest[i,:]-Xtrain[j,:]\n",
        "        dists[i,j] = np.sqrt(np.sum(d_vec**2))\n",
        "    return dists\n",
        "\n",
        "def distanciasnoloops(Xtrain,Xtest):\n",
        "    num_test = Xtest.shape[0]\n",
        "    num_train = Xtrain.shape[0]\n",
        "    dists = np.zeros((num_test, num_train)) \n",
        "    d_x = Xtest\n",
        "    d_y = np.transpose(Xtrain)\n",
        "    dists = (np.sqrt(np.transpose(np.sum(d_x**2,1)+\n",
        "                                  np.transpose(np.transpose(np.sum(d_y**2,0))\n",
        "                                  -2*np.matmul(d_x,d_y)))))\n",
        "    return dists"
      ]
    },
    {
      "cell_type": "code",
      "execution_count": null,
      "metadata": {
        "id": "GpraFI26QM2H"
      },
      "outputs": [],
      "source": [
        "def time_function(f, *args):\n",
        "    \"\"\"\n",
        "    Call a function f with args and return the time (in seconds) that it took to execute.\n",
        "    \"\"\"\n",
        "    import time\n",
        "    tic = time.time()\n",
        "    f(*args)\n",
        "    toc = time.time()\n",
        "    return toc - tic"
      ]
    },
    {
      "cell_type": "code",
      "execution_count": null,
      "metadata": {
        "colab": {
          "base_uri": "https://localhost:8080/"
        },
        "id": "iVSxb8EBQeK6",
        "outputId": "50de18ca-d3ef-4245-dd3c-7e7e5b327635"
      },
      "outputs": [
        {
          "name": "stdout",
          "output_type": "stream",
          "text": [
            "2 loops tarda 41.849501 seconds\n",
            "Sin loops tarda 0.581736 seconds\n"
          ]
        }
      ],
      "source": [
        "two_loop_time = time_function(distancias2loops, X_train,X_test)\n",
        "print('2 loops tarda %f seconds' % two_loop_time)\n",
        "\n",
        "no_loop_time = time_function(distanciasnoloops, X_train,X_test)\n",
        "print('Sin loops tarda %f seconds' % no_loop_time)\n"
      ]
    },
    {
      "cell_type": "markdown",
      "metadata": {
        "id": "OlbH27jSS8mU"
      },
      "source": [
        "Miren la diferencia!"
      ]
    },
    {
      "cell_type": "markdown",
      "metadata": {
        "id": "3BY0Ad4gUFX1"
      },
      "source": [
        "### Verificación\n",
        "\n",
        "Por último, asegurémosnos que las matrices sean iguales y que está todo OK."
      ]
    },
    {
      "cell_type": "code",
      "execution_count": null,
      "metadata": {
        "colab": {
          "base_uri": "https://localhost:8080/"
        },
        "id": "6nugs-_YTC2H",
        "outputId": "1c235f86-5b02-41ca-db92-1597ade2cb09"
      },
      "outputs": [
        {
          "name": "stdout",
          "output_type": "stream",
          "text": [
            "Difference was: 0.000000\n",
            "TODO OK!\n"
          ]
        }
      ],
      "source": [
        "dists = distanciasnoloops(X_train,X_test)\n",
        "dists_two = distancias2loops(X_train,X_test)\n",
        "\n",
        "# Norma de orden 2\n",
        "diferencia = np.linalg.norm(dists - dists_two, ord='fro')\n",
        "print('Difference was: %f' % (diferencia, ))\n",
        "if diferencia < 0.001:\n",
        "    print('TODO OK!')\n",
        "else:\n",
        "    print('OOF, ¿Dónde me equivoqué?')"
      ]
    }
  ],
  "metadata": {
    "colab": {
      "include_colab_link": true,
      "name": "practica_0.ipynb",
      "provenance": [],
      "toc_visible": true
    },
    "kernelspec": {
      "display_name": "Python 3.7.7 64-bit",
      "language": "python",
      "name": "python3"
    },
    "language_info": {
      "name": "python",
      "version": "3.7.7"
    },
    "vscode": {
      "interpreter": {
        "hash": "51fa0a07f6fd5e060b837a66c96d41582ff23df34b38f2e72cb4e3ebfbe13406"
      }
    }
  },
  "nbformat": 4,
  "nbformat_minor": 0
}
