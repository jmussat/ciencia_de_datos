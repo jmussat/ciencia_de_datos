{
  "nbformat": 4,
  "nbformat_minor": 0,
  "metadata": {
    "colab": {
      "name": "practica_1.ipynb",
      "provenance": [],
      "authorship_tag": "ABX9TyMPK7X4OvuApVOvwPGGpzgF",
      "include_colab_link": true
    },
    "kernelspec": {
      "name": "python3",
      "display_name": "Python 3"
    },
    "language_info": {
      "name": "python"
    }
  },
  "cells": [
    {
      "cell_type": "markdown",
      "metadata": {
        "id": "view-in-github",
        "colab_type": "text"
      },
      "source": [
        "<a href=\"https://colab.research.google.com/github/mbalbi/ciencia_de_datos/blob/main/notebooks/practica_1.ipynb\" target=\"_parent\"><img src=\"https://colab.research.google.com/assets/colab-badge.svg\" alt=\"Open In Colab\"/></a>"
      ]
    },
    {
      "cell_type": "markdown",
      "source": [
        "<!--NAVIGATION-->\n",
        "< [Intro a Python y Google Colab](../practica_0.ipynb) | [Tabla de contenidos](../README.md) | [Probabilidad y Variables Aleatorias](practica_1.ipynb) >"
      ],
      "metadata": {
        "id": "3Mthz2wgMWM8"
      }
    },
    {
      "cell_type": "markdown",
      "source": [
        "# Probabilidad y Variables Aleatorias\n",
        "\n",
        "En este notebook...\n",
        "\n",
        "En este notebook se usarán las siguientes librerías:"
      ],
      "metadata": {
        "id": "VVEKzPeDMhIk"
      }
    },
    {
      "cell_type": "code",
      "execution_count": 1,
      "metadata": {
        "id": "KhdXynPrMVnb"
      },
      "outputs": [],
      "source": [
        "import numpy as np\n",
        "import matplotlib.pyplot as plt"
      ]
    }
  ]
}