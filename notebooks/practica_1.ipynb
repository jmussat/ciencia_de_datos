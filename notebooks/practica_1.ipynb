{
  "cells": [
    {
      "cell_type": "markdown",
      "metadata": {
        "id": "view-in-github",
        "colab_type": "text"
      },
      "source": [
        "<a href=\"https://colab.research.google.com/github/mbalbi/ciencia_de_datos/blob/main/notebooks/practica_1.ipynb\" target=\"_parent\"><img src=\"https://colab.research.google.com/assets/colab-badge.svg\" alt=\"Open In Colab\"/></a>"
      ]
    },
    {
      "cell_type": "markdown",
      "metadata": {
        "id": "XfJ1dOxFMB55"
      },
      "source": [
        "<!--NAVIGATION-->\n",
        "| [Tabla de contenidos](../README.md) | [Probabilidad y Variables Aleatorias](practica_1.ipynb) >"
      ]
    },
    {
      "cell_type": "markdown",
      "metadata": {
        "id": "RWEpm8Ac5As4"
      },
      "source": [
        "# Clase 1: Introducción a Python\n",
        "\n",
        "El objetivo de la clase de hoy es amigarnos un poco con Python como lenguage de programación y cubrir ciertas operaciones básicas a partir de las cuales iremos construyendo a lo largo del cuatrimestre.\n",
        "\n",
        "Usamos Google Colab nos permite programar y correr códigos de Python sin tener que preocuparnos por la instalación de python mismo o de programas específicos. A su vez, nos permite utilizar recursos de Google en la nube para el procesamiento, evitando así la necesidad de una computadora particularmente capaz.\n",
        "\n",
        "Google Colab, como se ve, permite combinar texto y código de forma tal de generar reportes o documentos, y aprovecharemos esto para el desarrollo de los trabajos prácticos."
      ]
    },
    {
      "cell_type": "markdown",
      "metadata": {
        "id": "0h0mpnim5K4p"
      },
      "source": [
        "## Versión de Python\n",
        "\n",
        "Una de las grandes ventajas de python es el número de librerías (por decirlo de alguna manera, paquetes de funciones) disponibles en forma libre que se ajustan a la medida del problema que tengamos que resolver. La contracara de esto es que se debe tener cuidado con la compatibilidad de estas librerías con la versión de python que se está corriendo.\n",
        "\n",
        "En Google Colab se puede elegir la versión de python yendo a `Runtime --> Change Runtime Type`. Para verificar la misma, se puede hacer:"
      ]
    },
    {
      "cell_type": "code",
      "execution_count": 1,
      "metadata": {
        "colab": {
          "base_uri": "https://localhost:8080/"
        },
        "id": "2ICvwqk646Ap",
        "outputId": "4b606df4-d175-4023-81a9-ee4c4d2ce0e7"
      },
      "outputs": [
        {
          "output_type": "stream",
          "name": "stdout",
          "text": [
            "Python 3.7.13\n"
          ]
        }
      ],
      "source": [
        "!python --version"
      ]
    },
    {
      "cell_type": "markdown",
      "metadata": {
        "id": "PNN7PwXC8tX3"
      },
      "source": [
        "No esperamos que a lo largo del curso nos encontremos con problemas de compatibilidad, pero sepan que puede ocurrir y tengan la costumbre de verificarlo."
      ]
    },
    {
      "cell_type": "markdown",
      "metadata": {
        "id": "CohllwOm89q0"
      },
      "source": [
        "## Introducción a Python"
      ]
    },
    {
      "cell_type": "markdown",
      "metadata": {
        "id": "hJ4WSRCA9d2C"
      },
      "source": [
        "### Tipos de datos\n",
        "Lo primero que tenemos que reconocer son los tipos de datos que podemos encontrarnos en Python."
      ]
    },
    {
      "cell_type": "markdown",
      "metadata": {
        "id": "8NjsP216G8me"
      },
      "source": [
        "#### Números\n",
        "\n",
        "Por un lado tenemos los números: Números naturales (`integer`) y números reales (`float`). A diferencia de otros lenguages, la diferencia entre ambos es explícita en Python:"
      ]
    },
    {
      "cell_type": "code",
      "execution_count": 2,
      "metadata": {
        "id": "mIbRbDWN-JpS",
        "outputId": "fe412d80-b00a-407b-a5d1-175a429a2287",
        "colab": {
          "base_uri": "https://localhost:8080/"
        }
      },
      "outputs": [
        {
          "output_type": "stream",
          "name": "stdout",
          "text": [
            "7.0\n"
          ]
        }
      ],
      "source": [
        "a = 4 # a es un integer\n",
        "b = 7. # b es un float\n",
        "\n",
        "print(b)"
      ]
    },
    {
      "cell_type": "markdown",
      "metadata": {
        "id": "6sCBBD5T-UGN"
      },
      "source": [
        "Podemos chequear el datatype de una variable con la función `type()`. Para ver el resultado que entrega la función, usaremos la función `print()`."
      ]
    },
    {
      "cell_type": "code",
      "execution_count": 3,
      "metadata": {
        "colab": {
          "base_uri": "https://localhost:8080/"
        },
        "id": "ObI4uMQs-bSt",
        "outputId": "6a3a789a-0bbc-4620-9ff2-c25a63244559"
      },
      "outputs": [
        {
          "output_type": "stream",
          "name": "stdout",
          "text": [
            "<class 'int'>\n",
            "<class 'float'>\n"
          ]
        }
      ],
      "source": [
        "print(type(a)) # Imprime el type de a\n",
        "print(type(b)) # Imprime el type de b"
      ]
    },
    {
      "cell_type": "markdown",
      "metadata": {
        "id": "xmB9-7Wx_nOI"
      },
      "source": [
        "Con los números se pueden realizar las operaciones matemáticas típicas (sumas, restas, multiplicaciones y divisiones)."
      ]
    },
    {
      "cell_type": "code",
      "execution_count": 4,
      "metadata": {
        "colab": {
          "base_uri": "https://localhost:8080/"
        },
        "id": "N2RixMSG_vwm",
        "outputId": "74b0b1d6-5ddb-4b25-c9b1-363d98b2c864"
      },
      "outputs": [
        {
          "output_type": "stream",
          "name": "stdout",
          "text": [
            "5\n",
            "3\n",
            "8\n",
            "16\n",
            "2.0\n",
            "<class 'float'>\n",
            "8.0\n",
            "6.0\n",
            "14.0\n",
            "49.0\n",
            "3.5\n"
          ]
        }
      ],
      "source": [
        "print(a + 1)   # Suma\n",
        "print(a - 1)   # Resta\n",
        "print(a * 2)   # Multiplicación\n",
        "print(a ** 2)  # Potencia\n",
        "#print(a ^ 2)   # Tira error\n",
        "print(a / 2)   # División\n",
        "print(type(a/2))\n",
        "\n",
        "print(b + 1)   # Suma\n",
        "print(b - 1)   # Resta\n",
        "print(b * 2)   # Multiplicación\n",
        "print(b ** 2)  # Potencia\n",
        "print(b / 2)   # División"
      ]
    },
    {
      "cell_type": "markdown",
      "metadata": {
        "id": "4kBi5ub1AbFN"
      },
      "source": [
        "Noten que las operaciones aplican tanto para `integers` como `floats`. Sin embargo, la division de un `integer` da como resultado un `float`. Se debe tener cuidado con esto cuando este valor necesita ser un número natural (por ejemplo, para referirse a la columna de una matriz). Para convertir el valor, se puede usar la función `int()`, que trunca la variable al número entero."
      ]
    },
    {
      "cell_type": "code",
      "execution_count": 5,
      "metadata": {
        "colab": {
          "base_uri": "https://localhost:8080/"
        },
        "id": "mF9ZX_YIBF3I",
        "outputId": "8aad5d96-8d0a-40eb-b904-cb044993e72c"
      },
      "outputs": [
        {
          "output_type": "stream",
          "name": "stdout",
          "text": [
            "2\n",
            "3\n"
          ]
        }
      ],
      "source": [
        "print(int(a/2))\n",
        "print(int(b/2))"
      ]
    },
    {
      "cell_type": "markdown",
      "metadata": {
        "id": "Ykg5CaYlEDHx"
      },
      "source": [
        "Otra opción es usar el operador `//`, que devuelve el mismo resultado que `int(x/y)` pero respeta el tipo de variable original."
      ]
    },
    {
      "cell_type": "code",
      "execution_count": 6,
      "metadata": {
        "colab": {
          "base_uri": "https://localhost:8080/"
        },
        "id": "DnCIkzXKECfN",
        "outputId": "3792f4c4-a40f-4171-e96e-23bd5a8ca0e9"
      },
      "outputs": [
        {
          "output_type": "stream",
          "name": "stdout",
          "text": [
            "2\n",
            "2.0\n",
            "1.0\n",
            "1.0\n",
            "0.3999999999999999\n",
            "2.0\n"
          ]
        }
      ],
      "source": [
        "print(a // 2)\n",
        "print(a // 2.0)\n",
        "print(b // 5)\n",
        "print(b // 5.0)\n",
        "print((b/5)-(b//5)) #Quedarse con los decimales\n",
        "print(b % 5)"
      ]
    },
    {
      "cell_type": "markdown",
      "metadata": {
        "id": "Kd_7DWg9B5v_"
      },
      "source": [
        "Los resultados de las operaciones vistas arriba podemos guardarlos ya sea en nuevas variables como sobreescribiendo una ya existente. Para esto último existen formatos más compactos como se muestra a continuación."
      ]
    },
    {
      "cell_type": "code",
      "execution_count": 7,
      "metadata": {
        "colab": {
          "base_uri": "https://localhost:8080/"
        },
        "id": "mCmag23zCNhR",
        "outputId": "846dc325-a418-44b7-8625-62e6e47b26ac"
      },
      "outputs": [
        {
          "output_type": "stream",
          "name": "stdout",
          "text": [
            "6\n",
            "5\n",
            "8.0\n",
            "16.0\n"
          ]
        }
      ],
      "source": [
        "c = a + 2 # Suma 2 en una nueva variable 'c'\n",
        "print(c)\n",
        "\n",
        "a = a + 1 # Suma 1 y reemplaza a 'a'\n",
        "print(a)\n",
        "\n",
        "b += 1 # Suma 1 y reemplaza a 'b'\n",
        "print(b)\n",
        "\n",
        "b *= 2 # Multiplica por 2 y reemplaza a 'b'\n",
        "print(b)"
      ]
    },
    {
      "cell_type": "markdown",
      "metadata": {
        "id": "1U4XWQo-K8x1"
      },
      "source": [
        "#### Texto\n",
        "\n",
        "El otro tipo de variable que nos encontramos seguido es el Texto (`string`). Si bien no solemos realizar muchas operaciones con variables de texto propiamente dichas, la suma de las mismas resulta en un concatenamiento."
      ]
    },
    {
      "cell_type": "code",
      "execution_count": 8,
      "metadata": {
        "colab": {
          "base_uri": "https://localhost:8080/"
        },
        "id": "AyjCiHuxLl3Y",
        "outputId": "f1550a26-131e-45ad-8252-3d4fa90f48a0"
      },
      "outputs": [
        {
          "output_type": "stream",
          "name": "stdout",
          "text": [
            "hello world!\n"
          ]
        }
      ],
      "source": [
        "hello = 'hello' # ''\n",
        "world = \"world\" # \"\" es lo mismo, no importa\n",
        "Oracion = hello + ' ' + world + '!'\n",
        "print(Oracion)"
      ]
    },
    {
      "cell_type": "markdown",
      "metadata": {
        "id": "zvU3r-yQGooU"
      },
      "source": [
        "#### Variables lógicas\n",
        "Python permite a su vez trabajar con variables booleanas (`True` y `False`) para verificar si se cumplen ciertas condiciones:"
      ]
    },
    {
      "cell_type": "code",
      "execution_count": 9,
      "metadata": {
        "colab": {
          "base_uri": "https://localhost:8080/"
        },
        "id": "pRv-QJQiIVMe",
        "outputId": "cd8d26cb-bc4a-4c5b-a58c-be9ab4944294"
      },
      "outputs": [
        {
          "output_type": "stream",
          "name": "stdout",
          "text": [
            "<class 'bool'>\n"
          ]
        }
      ],
      "source": [
        "t, f = True, False\n",
        "print(type(t))"
      ]
    },
    {
      "cell_type": "markdown",
      "metadata": {
        "id": "QJWj46gZIbmi"
      },
      "source": [
        "Las distintas operaciones booleanas (AND, OR, NOT, XOR) se encuentran todas definidas. Como recordartorio, AND es `True` cuando ambas variables son `True`, OR es `True` si alguna de las variables es `True`, NOT es `True` cuando una variable es `False`, y XOR es `True` cuando dos variables son distintas."
      ]
    },
    {
      "cell_type": "code",
      "execution_count": 10,
      "metadata": {
        "colab": {
          "base_uri": "https://localhost:8080/"
        },
        "id": "hNJVtYigJEqt",
        "outputId": "d5c38d04-5a4a-41de-c6ec-bfd64a968635"
      },
      "outputs": [
        {
          "output_type": "stream",
          "name": "stdout",
          "text": [
            "False\n",
            "True\n",
            "False\n",
            "False\n",
            "True\n"
          ]
        }
      ],
      "source": [
        "print(t and f) # AND\n",
        "print(t or f) # OR\n",
        "print(not t) # NOT\n",
        "print(t == f)\n",
        "print(t != f) # XOR"
      ]
    },
    {
      "cell_type": "markdown",
      "metadata": {
        "id": "rqJyHZ-iJpHY"
      },
      "source": [
        "Las variables lógicas se obienen también como resultado de comparaciones de otro tipos de datos. por ejemplo, números, y son muy útiles para explorar datos y generar filtros."
      ]
    },
    {
      "cell_type": "code",
      "execution_count": 11,
      "metadata": {
        "colab": {
          "base_uri": "https://localhost:8080/"
        },
        "id": "W7t-UhNhJggg",
        "outputId": "1f35a9d3-7494-4938-bc6d-5fcf1b6bd1df"
      },
      "outputs": [
        {
          "output_type": "stream",
          "name": "stdout",
          "text": [
            "False\n",
            "True\n",
            "True\n",
            "True\n",
            "False\n",
            "False\n"
          ]
        }
      ],
      "source": [
        "print(3 > 3)\n",
        "print(3 >= 3)\n",
        "print(5 != 3)\n",
        "print('hola' == 'hola')\n",
        "print('hola' == 'chau')\n",
        "print(5 > 3 and 3 < 1)"
      ]
    },
    {
      "cell_type": "markdown",
      "metadata": {
        "id": "rxU41SzwnnhH"
      },
      "source": [
        "### Listas\n",
        "\n",
        "Una lista es un conjunto arreglado de items, los cuales pueden ser cualquiera de los tipos de datos vistos anteriormente (incluso combinaciones)"
      ]
    },
    {
      "cell_type": "code",
      "execution_count": 12,
      "metadata": {
        "colab": {
          "base_uri": "https://localhost:8080/"
        },
        "id": "bmjn8wS8o_Va",
        "outputId": "93b9a8b3-1564-4ea4-b780-9a559a0be89e"
      },
      "outputs": [
        {
          "output_type": "stream",
          "name": "stdout",
          "text": [
            "[1, 2, 3, 4]\n",
            "[True, 'Perro', 5, 4.0]\n",
            "[[1, 2], [3, 4]]\n"
          ]
        }
      ],
      "source": [
        "a = [1, 2, 3, 4]\n",
        "b = [True, 'Perro', 5, 4.0]\n",
        "c = [[1, 2],[3, 4]]\n",
        "\n",
        "print(a)\n",
        "print(b)\n",
        "print(c)\n",
        "\n",
        "# a = [1, 3, 4, 5] #Me alcanza? Separen con coma"
      ]
    },
    {
      "cell_type": "markdown",
      "metadata": {
        "id": "0CH_jXgkpauQ"
      },
      "source": [
        "Los valores de una lista están indexados de 0 a la longitud de la lista. Esta última puede ser encontrada con la función `len()`. Noten que la longitud de c es dos ya que tiene dos listas dentro de la lista."
      ]
    },
    {
      "cell_type": "code",
      "execution_count": 13,
      "metadata": {
        "colab": {
          "base_uri": "https://localhost:8080/"
        },
        "id": "q_35dyJRpZa9",
        "outputId": "2904c20f-a708-417e-d92c-bb8eaecc9f58"
      },
      "outputs": [
        {
          "output_type": "stream",
          "name": "stdout",
          "text": [
            "4\n",
            "4\n",
            "2\n"
          ]
        }
      ],
      "source": [
        "print(len(a))\n",
        "print(len(b))\n",
        "print(len(c))"
      ]
    },
    {
      "cell_type": "markdown",
      "metadata": {
        "id": "gu_TaipSqH1P"
      },
      "source": [
        "Valores específicos de la lista pueden ser extraídos refiriendose al índice requerido. Una ventaja de python es que números negativos comienzan el conteo desde el final (por ejemplo, -1 es el último lugar de la lista), lo que simplifica el código en algunas situaciones, y evita calcular la longitud de la lista."
      ]
    },
    {
      "cell_type": "code",
      "source": [
        "print(a[len(a)-1]) #El ultimo\n",
        "print(a[-2]) # el anteultimo"
      ],
      "metadata": {
        "id": "WzDnitDvWOUa",
        "outputId": "a44b13b1-cdbd-4d91-a551-c428e3d77af7",
        "colab": {
          "base_uri": "https://localhost:8080/"
        }
      },
      "execution_count": 14,
      "outputs": [
        {
          "output_type": "stream",
          "name": "stdout",
          "text": [
            "4\n",
            "3\n"
          ]
        }
      ]
    },
    {
      "cell_type": "code",
      "execution_count": 15,
      "metadata": {
        "colab": {
          "base_uri": "https://localhost:8080/"
        },
        "id": "eJw-oajBqGMG",
        "outputId": "5152a900-333b-4fb0-f83b-1ee089966f40"
      },
      "outputs": [
        {
          "output_type": "stream",
          "name": "stdout",
          "text": [
            "4\n",
            "Perro\n",
            "[1, 2]\n",
            "2\n"
          ]
        }
      ],
      "source": [
        "print(a[-1]) # último lugar\n",
        "print(b[1])  # segundo lugar\n",
        "print(c[0])  # primer lugar\n",
        "print(c[0][1]) # toma el segundo valor de la primer lista"
      ]
    },
    {
      "cell_type": "markdown",
      "metadata": {
        "id": "vMN1AMR9q_ZZ"
      },
      "source": [
        "También puede tomarse un slice (un conjunto de la lista) de las siguientes formas:"
      ]
    },
    {
      "cell_type": "code",
      "execution_count": 16,
      "metadata": {
        "colab": {
          "base_uri": "https://localhost:8080/"
        },
        "id": "0OpuHeGfrN3P",
        "outputId": "1a6fd725-4f65-4cba-d34a-07a0b664f97c"
      },
      "outputs": [
        {
          "output_type": "stream",
          "name": "stdout",
          "text": [
            "[2, 3, 4]\n",
            "[True, 'Perro']\n"
          ]
        }
      ],
      "source": [
        "print(a[1:]) # toma todos los valores a partir del segundo\n",
        "print(b[0:2]) # toma los dos primeros valores (el tercero excluido)"
      ]
    },
    {
      "cell_type": "markdown",
      "metadata": {
        "id": "SHMLsXRMr5Z4"
      },
      "source": [
        "La indexación puede utilizarse cambiar valores de la lista:"
      ]
    },
    {
      "cell_type": "code",
      "execution_count": 17,
      "metadata": {
        "colab": {
          "base_uri": "https://localhost:8080/"
        },
        "id": "ZjtVnMPesO9M",
        "outputId": "06f174c5-63bb-437b-ea0e-4f3d9c4d59a6"
      },
      "outputs": [
        {
          "output_type": "stream",
          "name": "stdout",
          "text": [
            "[1, 2, 3, '40']\n",
            "['Hello', 57, 5, 4.0]\n"
          ]
        }
      ],
      "source": [
        "a[3] = '40'\n",
        "print(a)\n",
        "\n",
        "b[:2] = ['Hello', 57] #tengan mucho cuidado con la compatibilidad de dimensiones\n",
        "# Prueben correr varias veces\n",
        "print(b)"
      ]
    },
    {
      "cell_type": "markdown",
      "metadata": {
        "id": "okgKfeo6txCu"
      },
      "source": [
        "Se debe tener cuidado en Python ya que las listas ocupan un mismo espacio en la memoria. Por ejemplo `a = b`hace que ambas variables se refieran al mismo lugar: si cambio una de ellas, ambas lo harán. Veamos el siguiente ejemplo, donde aprenderemos también a agregar items a una lista."
      ]
    },
    {
      "cell_type": "markdown",
      "source": [
        "CON NUMEROS"
      ],
      "metadata": {
        "id": "jKlh5DaEX1qx"
      }
    },
    {
      "cell_type": "code",
      "source": [
        "a = 5\n",
        "b = a\n",
        "\n",
        "a = 6\n",
        "print(b) # me va a dar 5, no cambio b"
      ],
      "metadata": {
        "id": "JFv5vAYUX3Fn",
        "outputId": "fc426b7e-2aca-4c53-b619-148978a4022d",
        "colab": {
          "base_uri": "https://localhost:8080/"
        }
      },
      "execution_count": 18,
      "outputs": [
        {
          "output_type": "stream",
          "name": "stdout",
          "text": [
            "5\n"
          ]
        }
      ]
    },
    {
      "cell_type": "markdown",
      "source": [
        "CON LISTAS (son dos formas distintas de referir a la misma variable)"
      ],
      "metadata": {
        "id": "_OwOgE7iYA2g"
      }
    },
    {
      "cell_type": "code",
      "execution_count": 19,
      "metadata": {
        "colab": {
          "base_uri": "https://localhost:8080/"
        },
        "id": "yrtRwifSt5C9",
        "outputId": "ee270806-dcd0-4676-9dbb-e8d1abd4c2e1"
      },
      "outputs": [
        {
          "output_type": "stream",
          "name": "stdout",
          "text": [
            "[1, 2, 3, 4, 5]\n",
            "[1, 2, 3, 4, 5, 6]\n"
          ]
        }
      ],
      "source": [
        "a = [1, 2, 3, 4] # Defino a\n",
        "b = a            # b es igual a a\n",
        "a.append(5)      # Modifico a, agrego 5 al final\n",
        "print(b)         # b cambia!\n",
        "b.append(6)      # Modifico b, agrego 6 al final\n",
        "print(a)         # a cambia!"
      ]
    },
    {
      "cell_type": "markdown",
      "metadata": {
        "id": "5YEz1cZBt4g-"
      },
      "source": [
        "Si esto no es deseable, se debe usar la función `copy()`, que genera una copia de los valores en otro lugar de la memoria:"
      ]
    },
    {
      "cell_type": "code",
      "execution_count": 20,
      "metadata": {
        "colab": {
          "base_uri": "https://localhost:8080/"
        },
        "id": "tyDyD-73vDS5",
        "outputId": "004c24d7-f9ed-4aee-890f-7b454e2f7220"
      },
      "outputs": [
        {
          "output_type": "stream",
          "name": "stdout",
          "text": [
            "[1, 2, 3, 4]\n",
            "[1, 2, 3, 4, 5]\n",
            "[1, 2, 3, 4, 5, 1, 2, 3, 4, 6]\n"
          ]
        }
      ],
      "source": [
        "a = [1, 2, 3, 4] # Defino a\n",
        "b = a.copy()     # b es una copia de a\n",
        "a.append(5)      # Modifico a, agrego 5 al final\n",
        "print(b)         # b sigue igual!\n",
        "b.append(6)      # Modifico b, agrego 6 al final\n",
        "print(a)         # a sigue igual!\n",
        "\n",
        "# UNA LISTA NO ES MATRIZ\n",
        "print(a+b) # es una concatenacion"
      ]
    },
    {
      "cell_type": "markdown",
      "metadata": {
        "id": "NiyBlOp5vvFg"
      },
      "source": [
        "### Diccionarios\n",
        "\n",
        "Un diccionario es también un arreglo de items pero que, en vez de trabajar con indices, utiliza palabras clave (llaves/keys) y valores. Por ejemplo, si mi diccionario es un dataset de lluvias, podría tener información acerca de la latitud y longitud de la estación, su nombre, un registro de lluvias diarias, y un indicador de las unidades de trabajo:"
      ]
    },
    {
      "cell_type": "code",
      "execution_count": 21,
      "metadata": {
        "id": "UiaBurdvwNJT"
      },
      "outputs": [],
      "source": [
        "Lluvias = {'estacion':[7.52, -14.4],'ID':'San Rafael', 'data':[3, 4, 0, 0, 5], \n",
        "           'unidades':'mm/dia'}"
      ]
    },
    {
      "cell_type": "markdown",
      "metadata": {
        "id": "7AtrFWAXxHPG"
      },
      "source": [
        "Se puede acceder a los datos del dicionario de varias formas:"
      ]
    },
    {
      "cell_type": "code",
      "execution_count": 22,
      "metadata": {
        "colab": {
          "base_uri": "https://localhost:8080/"
        },
        "id": "joMCGpAWxU16",
        "outputId": "f0059f2e-9555-4825-f1db-ed91012e2f07"
      },
      "outputs": [
        {
          "output_type": "stream",
          "name": "stdout",
          "text": [
            "San Rafael\n",
            "[3, 4, 0, 0, 5]\n"
          ]
        }
      ],
      "source": [
        "print(Lluvias['ID'])\n",
        "print(Lluvias.get('data'))"
      ]
    },
    {
      "cell_type": "markdown",
      "metadata": {
        "id": "dNhp9VtFxPD6"
      },
      "source": [
        "Imaginemos que tenemos un nuevo dato de lluvia y queremos agregarlo, y además queremos agregar un listado de temperaturas. Para ello podemos hacer"
      ]
    },
    {
      "cell_type": "code",
      "execution_count": 23,
      "metadata": {
        "colab": {
          "base_uri": "https://localhost:8080/"
        },
        "id": "7I3NwU5yyFJm",
        "outputId": "b8a553a5-aacf-4485-a734-ec0b1e34e282"
      },
      "outputs": [
        {
          "output_type": "stream",
          "name": "stdout",
          "text": [
            "[3, 4, 0, 0, 5, 0, 1]\n",
            "[30, 20, 25, 10, 0]\n"
          ]
        }
      ],
      "source": [
        "Lluvias['data'] += [0, 1]\n",
        "print(Lluvias['data'])\n",
        "\n",
        "# crea nueva palabra clave en el diccionario\n",
        "Lluvias['Temp'] = [30, 20, 25, 10, 0]\n",
        "print(Lluvias['Temp'])"
      ]
    },
    {
      "cell_type": "markdown",
      "metadata": {
        "id": "NWwEekiG1Pqp"
      },
      "source": [
        "### Condicionales e iteraciones\n",
        "\n",
        "En ejemplo anterior incorporamos valores o creamos una nueva entrada en el diccionario asumiendo que ya sabíamos que existía o no lo que necesitabamos. En el caso general, sería necesario revisar esto para no generar problemas. Podemos usar entonces `if` statements con ese fin, con el código realizando la operación conveniente en cada caso:"
      ]
    },
    {
      "cell_type": "code",
      "source": [
        "print('Amor' in Lluvias)\n",
        "print(5 in [1, 5, 3, 4])"
      ],
      "metadata": {
        "id": "sf1mHm_CaZ2F",
        "outputId": "069f7c86-344d-4c72-d6f8-14ad6c30ae2d",
        "colab": {
          "base_uri": "https://localhost:8080/"
        }
      },
      "execution_count": 24,
      "outputs": [
        {
          "output_type": "stream",
          "name": "stdout",
          "text": [
            "False\n",
            "True\n"
          ]
        }
      ]
    },
    {
      "cell_type": "code",
      "execution_count": 25,
      "metadata": {
        "colab": {
          "base_uri": "https://localhost:8080/"
        },
        "id": "ZaxIP0gb16mh",
        "outputId": "8a9fa25a-9649-40fe-e14f-51d846d75770"
      },
      "outputs": [
        {
          "output_type": "stream",
          "name": "stdout",
          "text": [
            "[3, 4, 0, 0, 5, 0, 1]\n",
            "[30, 20, 25, 10, 0]\n",
            "es cierto\n",
            "se imprime igual\n"
          ]
        }
      ],
      "source": [
        "Lluvias = {'estacion':[7.52, -14.4],'ID':'San Rafael', 'data':[3, 4, 0, 0, 5], \n",
        "           'unidades':'mm/dia'}\n",
        "\n",
        "\n",
        "if 'data' in Lluvias:       # Chequea si existe una llave data\n",
        "  Lluvias['data'] += [0, 1]  # Agrega valores\n",
        "else:                       # Caso contrario\n",
        "  Lluvias['data'] = [0, 1]   # Crea una nueva entrada\n",
        "\n",
        "print(Lluvias['data'])\n",
        "\n",
        "if 'temp' in Lluvias:       # Chequea si existe una llave data\n",
        "  Lluvias['temp'] += [30, 20, 25, 10, 0]  # Agrega valores\n",
        "else:                       # Caso contrario\n",
        "\n",
        "  Lluvias['temp'] = [30, 20, 25, 10, 0]   # Crea una nueva entrada\n",
        "\n",
        "print(Lluvias['temp'])\n",
        "\n",
        "if 'temp' in Lluvias:\n",
        "  print('es cierto')\n",
        "else:\n",
        "  print('no es cierto')\n",
        "print('se imprime igual') # distintas indentaciones"
      ]
    },
    {
      "cell_type": "markdown",
      "metadata": {
        "id": "luJou9ff2xFk"
      },
      "source": [
        "Es importante notar que Python trabaja con indentaciones. Es decir, luego de colocar el statement `if` este se debe terminar con dos puntos, y luego TODO lo que se encuentre indentado (con la misma indentación) se lo considera dentro de ese bloque if. El final de bloque no se indica explicitiamente, sino simplemente terminando la indentación.\n",
        "\n",
        "Si quisieramos iterar a traves de los valores de una lista, podemos utilizar distintas estrategias, mostradas a continuación que muestran la eficiencia de Python para tomar valores y simplificar la notación:"
      ]
    },
    {
      "cell_type": "code",
      "execution_count": 26,
      "metadata": {
        "colab": {
          "base_uri": "https://localhost:8080/"
        },
        "id": "XyQXrs-H2-LO",
        "outputId": "41ea2019-498f-4112-904b-3a41e72be5c0"
      },
      "outputs": [
        {
          "output_type": "stream",
          "name": "stdout",
          "text": [
            "0 1\n",
            "1 3\n",
            "2 5\n",
            "3 7\n",
            " \n",
            "0 1\n",
            "1 3\n",
            "2 5\n",
            "3 7\n",
            " \n",
            "0 1\n",
            "1 3\n",
            "2 5\n",
            "3 7\n"
          ]
        }
      ],
      "source": [
        "a = [1, 3, 5, 7]\n",
        "\n",
        "i = 0 # Definir una variable para recorrer los indices\n",
        "while i < len(a): # Mientras la variable este dentro del rango\n",
        "  print(i, a[i]) # Imprimir indice y valor de la lista\n",
        "  i += 1\n",
        "\n",
        "print(' ')\n",
        "for i in range(len(a)): # Generar una iteracion entre los indices de la lista\n",
        "  print(i, a[i]) # Imprimir indice y valor\n",
        "\n",
        "print(' ')\n",
        "for idx,ai in enumerate(a): # Extraer los indices y valores de la lista\n",
        "  print(idx, ai) # Imprimir indice y valor"
      ]
    },
    {
      "cell_type": "markdown",
      "metadata": {
        "id": "5bIl5P0L5T7D"
      },
      "source": [
        "El último método mostrado es particularmente potente, y muy útil para diccionarios. Compare el código en estos dos ejemplos:"
      ]
    },
    {
      "cell_type": "code",
      "execution_count": 27,
      "metadata": {
        "colab": {
          "base_uri": "https://localhost:8080/"
        },
        "id": "uDsLADYt5TnR",
        "outputId": "a49e8571-fb16-4cee-ff5f-880574bdee72"
      },
      "outputs": [
        {
          "output_type": "stream",
          "name": "stdout",
          "text": [
            "estacion [7.52, -14.4]\n",
            "ID San Rafael\n",
            "data [3, 4, 0, 0, 5]\n",
            "unidades mm/dia\n",
            " \n",
            "estacion [7.52, -14.4]\n",
            "ID San Rafael\n",
            "data [3, 4, 0, 0, 5]\n",
            "unidades mm/dia\n"
          ]
        }
      ],
      "source": [
        "Lluvias = {'estacion':[7.52, -14.4],'ID':'San Rafael', 'data':[3, 4, 0, 0, 5], \n",
        "           'unidades':'mm/dia'}\n",
        "\n",
        "for i in range(len(Lluvias)):\n",
        "  print(list(Lluvias.keys())[i], Lluvias[list(Lluvias.keys())[i]])\n",
        "\n",
        "print(' ')\n",
        "# ASI SE HACE BIEN Y FACIL\n",
        "for keys in Lluvias:\n",
        "  print(keys, Lluvias[keys])"
      ]
    },
    {
      "cell_type": "markdown",
      "metadata": {
        "id": "eb2T6G367zpg"
      },
      "source": [
        "Esto solía ser más importante en versiones anteriores de Python cuando los diccionarios eran \"no ordenados\". En las últimas versiones los diccionarios son ordenados igual que las listas, por lo que la indexación funciona."
      ]
    },
    {
      "cell_type": "markdown",
      "metadata": {
        "id": "VlEUIyb78I3c"
      },
      "source": [
        "### Numpy\n",
        "\n",
        "Mencionamos antes que existen varias librerías de Python que incorporan funcionalides clave para la solución de problemas. La principal es Numpy, que incopora un nuevo tipo de data (`arrays`) y muchas herramientas de operación matricial. Para agregar una librería en su conjunto, se hace lo siguiente."
      ]
    },
    {
      "cell_type": "code",
      "execution_count": 28,
      "metadata": {
        "id": "udmfRgmc-PSY"
      },
      "outputs": [],
      "source": [
        "import numpy as np"
      ]
    },
    {
      "cell_type": "markdown",
      "metadata": {
        "id": "4DZfAnD2-T0u"
      },
      "source": [
        "Un array se crea a partir de una lista de Python, y es a fin de cuentas una matriz. La principal diferencia con otros lenguajes es que, en python, los arrays 1-D no differencian entre vectores columna y vectores filas. Si se quiere especificar, se debe crear un array 2-D donde una de esas dimensiones es 1.\n",
        "\n",
        "Por ejemplo:"
      ]
    },
    {
      "cell_type": "code",
      "execution_count": 29,
      "metadata": {
        "colab": {
          "base_uri": "https://localhost:8080/"
        },
        "id": "mFSaUtav-uae",
        "outputId": "195f5c99-4377-4e54-d3cd-061c85fec4b2"
      },
      "outputs": [
        {
          "output_type": "stream",
          "name": "stdout",
          "text": [
            "[1 2]\n",
            "[[1 2]]\n",
            "[[1]\n",
            " [2]]\n",
            "[[1 2]\n",
            " [3 4]]\n",
            "<class 'list'>\n",
            "<class 'numpy.ndarray'>\n"
          ]
        }
      ],
      "source": [
        "a = [1, 2] # lista 1-D\n",
        "b = [[1, 2]] # Lista de 1 item con una lista de 4 items contenida\n",
        "c = [[1], [2]] # Lista de 4 items, cada uno una lista de 1 item\n",
        "d = [[1,2],[3,4]] # Lista de 2 items, cada uno una lista de 2 items\n",
        "\n",
        "#Crear arrays\n",
        "A = np.array(a)\n",
        "B = np.array(b)\n",
        "C = np.array(c)\n",
        "D = np.array(d)\n",
        "\n",
        "print(A)\n",
        "print(B)\n",
        "print(C)\n",
        "print(D)\n",
        "\n",
        "# Comparar el tipo de a y A\n",
        "print(type(a))\n",
        "print(type(A))"
      ]
    },
    {
      "cell_type": "markdown",
      "metadata": {
        "id": "MjvRe7c9AB0f"
      },
      "source": [
        "Las dimensiones de los arrays se pueden verificar de la siguiente forma. Noten la diferencia entre un array 1-D contra uno 2-D. A su vez, vean que las dimensiones las da en forma de array, por lo que uno puede obtener el numero de filas y columnas por separado:"
      ]
    },
    {
      "cell_type": "code",
      "execution_count": 30,
      "metadata": {
        "colab": {
          "base_uri": "https://localhost:8080/"
        },
        "id": "kvDPYQtyAGgg",
        "outputId": "7c25e13e-8e8e-410f-c606-597e5b059e21"
      },
      "outputs": [
        {
          "output_type": "stream",
          "name": "stdout",
          "text": [
            "(2,)\n",
            "(1, 2)\n",
            "(2, 1)\n",
            "(2, 2)\n",
            "numero de columnas  1\n",
            "[1]\n",
            "[2]\n"
          ]
        }
      ],
      "source": [
        "# Dimensiones\n",
        "print(A.shape)\n",
        "print(B.shape)\n",
        "print(C.shape)\n",
        "print(D.shape)\n",
        "\n",
        "# Chequear una dimensión específica\n",
        "print('numero de columnas ', C.shape[1])\n",
        "\n",
        "#iterar por todas las filas\n",
        "for x in range(B.shape[1]): #iterar por todas las columnas de B\n",
        "  print(B[:,x])"
      ]
    },
    {
      "cell_type": "markdown",
      "metadata": {
        "id": "b-FKMmpHA36C"
      },
      "source": [
        "Numpy incluye todas las operaciones de matrices típicas, incluyendo producto matricial, prodctos elemento a elemeno, transpuesta, inversa y demás.\n",
        "\n",
        "Noten que la transpuesta de un elemento 1-D no existe, devuelve el mismo array."
      ]
    },
    {
      "cell_type": "code",
      "execution_count": 31,
      "metadata": {
        "colab": {
          "base_uri": "https://localhost:8080/"
        },
        "id": "2FNyUIBxBU8e",
        "outputId": "b12e3a23-7000-4972-91ef-0b4d03220457"
      },
      "outputs": [
        {
          "output_type": "stream",
          "name": "stdout",
          "text": [
            "[1 2]\n",
            "[[1]\n",
            " [2]]\n",
            "[[1 2]]\n",
            "[[1 3]\n",
            " [2 4]]\n",
            " \n",
            "[[1]\n",
            " [4]]\n",
            "[[ 1  4]\n",
            " [ 9 16]]\n",
            " \n",
            "[[5]]\n",
            "[[ 5]\n",
            " [11]]\n",
            "[[ 7 10]\n",
            " [15 22]]\n",
            "[[27]]\n"
          ]
        }
      ],
      "source": [
        "# Transpuesta\n",
        "print(A.T)\n",
        "print(B.T)\n",
        "print(C.T)\n",
        "print(D.T)\n",
        "\n",
        "print(' ')\n",
        "# Producto elemento a elemento\n",
        "print(B.T*C)\n",
        "print(D*D)\n",
        "\n",
        "print(' ')\n",
        "# Producto Matricial\n",
        "print(B@C)\n",
        "print(D@C)\n",
        "print(D@D)\n",
        "print(B@D@C)"
      ]
    },
    {
      "cell_type": "markdown",
      "metadata": {
        "id": "TZmtWm2qD85z"
      },
      "source": [
        "La conversión de un array 1-D a uno 2-D (o cualquier cambio de dimensiones), puede realizarse mediante la función `reshape`"
      ]
    },
    {
      "cell_type": "code",
      "execution_count": 32,
      "metadata": {
        "colab": {
          "base_uri": "https://localhost:8080/"
        },
        "id": "lNh8G0hLEFaP",
        "outputId": "88f342ff-eb12-487b-cab2-0b8e4ca3fb38"
      },
      "outputs": [
        {
          "output_type": "stream",
          "name": "stdout",
          "text": [
            "[[1]\n",
            " [2]]\n",
            " \n",
            "[[1 2]]\n"
          ]
        }
      ],
      "source": [
        "# convertir a vector columna\n",
        "Aprime = np.reshape(A,(-1,1)) # el -1 indica que queda libre (s/ necesario)\n",
        "print(Aprime)\n",
        "\n",
        "print(' ')\n",
        "# Convertir a vector fila\n",
        "Bprime = np.reshape(A,(1,-1)) # el -1 indica que queda libre (s/ necesario)\n",
        "print(Bprime)"
      ]
    },
    {
      "cell_type": "markdown",
      "metadata": {
        "id": "CT6ZnQrbCRPj"
      },
      "source": [
        "Numpy contiene además preseteadas ciertas matrices elementales, como la matriz constante, la matriz identidad y matrices de ceros:"
      ]
    },
    {
      "cell_type": "code",
      "execution_count": 33,
      "metadata": {
        "colab": {
          "base_uri": "https://localhost:8080/"
        },
        "id": "UGJsF6lkCdIq",
        "outputId": "ec0fdd34-1d98-4a77-95e3-e10639447d33"
      },
      "outputs": [
        {
          "output_type": "stream",
          "name": "stdout",
          "text": [
            "[[0. 0. 0.]\n",
            " [0. 0. 0.]]\n",
            "\n",
            "[[1. 0.]\n",
            " [0. 1.]]\n",
            " \n",
            "[[1.]\n",
            " [1.]\n",
            " [1.]\n",
            " [1.]]\n",
            " \n",
            "[ 0.   0.5  1.   1.5  2.   2.5  3.   3.5  4.   4.5  5.   5.5  6.   6.5\n",
            "  7.   7.5  8.   8.5  9.   9.5 10. ]\n",
            " \n",
            "[[0.24039346 0.52043661 0.05165004 0.48402435 0.93096341]\n",
            " [0.71123784 0.36960092 0.19052347 0.37333246 0.80511106]\n",
            " [0.81182512 0.41162579 0.37511526 0.21338679 0.03659441]]\n"
          ]
        }
      ],
      "source": [
        "# Matriz de 0's\n",
        "ZERO = np.zeros((2,3))\n",
        "print(ZERO)\n",
        "\n",
        "print('')\n",
        "# Matriz identidad\n",
        "EYE = np.eye(2)\n",
        "print(EYE)\n",
        "\n",
        "print(' ')\n",
        "# Matriz constante\n",
        "CTE = np.ones((4,1))\n",
        "print(CTE)\n",
        "\n",
        "print(' ')\n",
        "# Secuencia de numeros\n",
        "print(np.linspace(0,10,21)) # 21 numeros de 0 a 10\n",
        "\n",
        "print(' ')\n",
        "# Números random entre 0 y 1 (uniforme)\n",
        "print(np.random.random((3,5)))"
      ]
    },
    {
      "cell_type": "markdown",
      "metadata": {
        "id": "gj9xtZhBF42Y"
      },
      "source": [
        "Una ventaja de trabajar con arrays es que es muy simple filtrar datos. La indexación es igual que para listas, pero se pueden aplicar criterios booleanos para la depuración.\n",
        "\n",
        "Por ejemplo, tomemos el siguiente array y quedemosnos con todos los números menores a 0.5:"
      ]
    },
    {
      "cell_type": "code",
      "execution_count": 34,
      "metadata": {
        "colab": {
          "base_uri": "https://localhost:8080/"
        },
        "id": "FkFIIIQiGGyn",
        "outputId": "d52d8565-85dc-4834-ea46-c6d85dbdfbd1"
      },
      "outputs": [
        {
          "output_type": "stream",
          "name": "stdout",
          "text": [
            "[[0.45633686 0.34992991 0.91186901 0.91382687 0.86270093 0.18837314\n",
            "  0.30658579 0.97344055 0.50869391 0.55299987]]\n",
            "[0.45633686 0.34992991 0.18837314 0.30658579]\n"
          ]
        }
      ],
      "source": [
        "array = np.random.random((1,10))\n",
        "print(array)\n",
        "\n",
        "subset = array[array < 0.5]\n",
        "print(subset)"
      ]
    },
    {
      "cell_type": "markdown",
      "metadata": {
        "id": "waE5DK2EHMu_"
      },
      "source": [
        "#### Broadcasting\n",
        "\n",
        "Una de las grandes funcionalidades de Numpy es la capacidad de extender y generalizar operaciones sin necesidad de desarrollar loops o asegurar que todos los elementos tengan las mismas dimensiones, lo que ahorra tiempo y memoria.\n",
        "\n",
        "Por ejemplo, si a todos los elementos de un vector se les quiere sumar una constante, simplemente se puede escribir:"
      ]
    },
    {
      "cell_type": "code",
      "execution_count": 35,
      "metadata": {
        "colab": {
          "base_uri": "https://localhost:8080/"
        },
        "id": "MX_SKIhPHMas",
        "outputId": "c6aba961-7595-4030-d388-1b548c3c12e0"
      },
      "outputs": [
        {
          "output_type": "stream",
          "name": "stdout",
          "text": [
            "[2 3 4 5]\n",
            "[[ 2  4  6  8]\n",
            " [ 6  8 10 12]\n",
            " [10 12 14 16]]\n"
          ]
        }
      ],
      "source": [
        "a = np.array([1,2,3,4])\n",
        "b = np.array([[1, 2, 3, 4],[5, 6, 7, 8], [9, 10, 11, 12]])\n",
        "\n",
        "print(a+1) # Sumar una constante a un vector\n",
        "\n",
        "print(b+a) # Sumar un vector a cada fila de una matriz"
      ]
    },
    {
      "cell_type": "markdown",
      "metadata": {
        "id": "cjzIZRSzHzz0"
      },
      "source": [
        "Esta capacidad se puede utilizar para reducir enormemente el costo computacional de ciertas operaciones, como veremos más adelante"
      ]
    },
    {
      "cell_type": "markdown",
      "metadata": {
        "id": "DHLmY5-xIhqV"
      },
      "source": [
        "### Funciones\n",
        "\n",
        "A veces hay ciertas líneas de código que usamos repetidamente. En esos casos es conveniente generar un bloque función que puede ser llamado cuando sea necesario. Por ejemplo, podemos crear nuestra propia función para calcular la norma de un vector:"
      ]
    },
    {
      "cell_type": "code",
      "execution_count": 36,
      "metadata": {
        "colab": {
          "base_uri": "https://localhost:8080/"
        },
        "id": "92DZvHU9I1Sd",
        "outputId": "10dcfe09-45fb-4254-bd03-66e4647107d9"
      },
      "outputs": [
        {
          "output_type": "stream",
          "name": "stdout",
          "text": [
            "5.477225575051661 5.477225575051661\n"
          ]
        }
      ],
      "source": [
        "def norma(x):\n",
        "  temp = 0\n",
        "  for vals in x:\n",
        "    temp += vals**2\n",
        "  return np.sqrt(temp)\n",
        "\n",
        "a = np.array([1, 2, 3, 4])\n",
        "# Comparación entre nuestra función y la disponible en numpy\n",
        "print(norma(a), np.linalg.norm(a))"
      ]
    },
    {
      "cell_type": "markdown",
      "metadata": {
        "id": "NRPxLEluKmnG"
      },
      "source": [
        "## Ejercicio\n",
        "\n",
        "A modo de cierre, vamos a desarrollar 2 funciones para calcular las distancias entre puntos. Un ejemplo donde requerimos una función de este estilo sería para un modelo digital del terreno, donde la interpolación de la elevación es función de la cercanía del punto estudiado a todos los puntos con datos de altura conocidos.\n",
        "\n",
        "En este caso vamos a utilizar este mismo concepto para imágenes, para ver qué tan parecidas son dos imágenes. No es el método más eficiente o preciso, pero se puede usar para clasificar imágenes satelitales y detectar patrones (e.g. inundado vs no-indundado)."
      ]
    },
    {
      "cell_type": "markdown",
      "metadata": {
        "id": "L1INfKakLEuV"
      },
      "source": [
        "### Datos\n",
        "\n",
        "Los puntos a estudiar son imagenes de 32x32 pixeles RGB (3 valores de intensidad), que se representan a través de un array de tamaño 32x32x3. A fin de cuenta podemos pensarlo como 3072 datos distintos que definen a una imagen. En total tenemos 50000 imagenes conocidas y 10000 imagenes desconocidas, a las cuales luego clasificaremos según cuánto se parecen a las conocidas. Para estas 1000, hay que calcular las distancias con las otras 50000.\n",
        "\n",
        "Primero, descarguemos el Dataset y las funciones que capturan la data. Este tipo de códigos suele ser escrito por quien desarrolló el dataset y lo pueden encontrar en internet."
      ]
    },
    {
      "cell_type": "code",
      "execution_count": 37,
      "metadata": {
        "colab": {
          "base_uri": "https://localhost:8080/"
        },
        "id": "OQdXmMMaMKpg",
        "outputId": "6285f5a1-4f6e-4643-ce56-0be0fa8a8435"
      },
      "outputs": [
        {
          "output_type": "stream",
          "name": "stdout",
          "text": [
            "--2022-08-19 23:57:32--  http://www.cs.toronto.edu/~kriz/cifar-10-python.tar.gz\n",
            "Resolving www.cs.toronto.edu (www.cs.toronto.edu)... 128.100.3.30\n",
            "Connecting to www.cs.toronto.edu (www.cs.toronto.edu)|128.100.3.30|:80... connected.\n",
            "HTTP request sent, awaiting response... 200 OK\n",
            "Length: 170498071 (163M) [application/x-gzip]\n",
            "Saving to: ‘cifar-10-python.tar.gz’\n",
            "\n",
            "cifar-10-python.tar 100%[===================>] 162.60M  72.1MB/s    in 2.3s    \n",
            "\n",
            "2022-08-19 23:57:35 (72.1 MB/s) - ‘cifar-10-python.tar.gz’ saved [170498071/170498071]\n",
            "\n",
            "cifar-10-batches-py/\n",
            "cifar-10-batches-py/data_batch_4\n",
            "cifar-10-batches-py/readme.html\n",
            "cifar-10-batches-py/test_batch\n",
            "cifar-10-batches-py/data_batch_3\n",
            "cifar-10-batches-py/batches.meta\n",
            "cifar-10-batches-py/data_batch_2\n",
            "cifar-10-batches-py/data_batch_5\n",
            "cifar-10-batches-py/data_batch_1\n"
          ]
        }
      ],
      "source": [
        "from six.moves import cPickle as pickle\n",
        "import numpy as np\n",
        "import os\n",
        "import platform\n",
        "\n",
        "def load_pickle(f):\n",
        "    version = platform.python_version_tuple()\n",
        "    if version[0] == '2':\n",
        "        return  pickle.load(f)\n",
        "    elif version[0] == '3':\n",
        "        return  pickle.load(f, encoding='latin1')\n",
        "    raise ValueError(\"invalid python version: {}\".format(version))\n",
        "\n",
        "def load_CIFAR_batch(filename):\n",
        "  \"\"\" load single batch of cifar \"\"\"\n",
        "  with open(filename, 'rb') as f:\n",
        "    datadict = load_pickle(f)\n",
        "    X = datadict['data']\n",
        "    Y = datadict['labels']\n",
        "    X = X.reshape(10000, 3, 32, 32).transpose(0,2,3,1).astype(\"float\")\n",
        "    Y = np.array(Y)\n",
        "    return X, Y\n",
        "\n",
        "def load_CIFAR10(ROOT):\n",
        "  \"\"\" load all of cifar \"\"\"\n",
        "  xs = []\n",
        "  ys = []\n",
        "  for b in range(1,6):\n",
        "    f = os.path.join(ROOT, 'data_batch_%d' % (b, ))\n",
        "    X, Y = load_CIFAR_batch(f)\n",
        "    xs.append(X)\n",
        "    ys.append(Y)    \n",
        "  Xtr = np.concatenate(xs)\n",
        "  Ytr = np.concatenate(ys)\n",
        "  del X, Y\n",
        "  Xte, Yte = load_CIFAR_batch(os.path.join(ROOT, 'test_batch'))\n",
        "  return Xtr, Ytr, Xte, Yte\n",
        "\n",
        "# Descargar CIFAR10\n",
        "!wget http://www.cs.toronto.edu/~kriz/cifar-10-python.tar.gz\n",
        "!tar -xzvf cifar-10-python.tar.gz\n",
        "!rm cifar-10-python.tar.gz "
      ]
    },
    {
      "cell_type": "code",
      "execution_count": 38,
      "metadata": {
        "colab": {
          "base_uri": "https://localhost:8080/"
        },
        "id": "CTTh_lxNMwOu",
        "outputId": "0127a18d-70b1-4b21-9e71-c6405097f892"
      },
      "outputs": [
        {
          "output_type": "stream",
          "name": "stdout",
          "text": [
            "Training data shape:  (50000, 32, 32, 3)\n",
            "Test data shape:  (10000, 32, 32, 3)\n"
          ]
        }
      ],
      "source": [
        "# Cargar la data CIFAR-10 como viene.\n",
        "cifar10_dir = 'cifar-10-batches-py'\n",
        "\n",
        "# Borrar valores anteriores para evitar problemas de memoria\n",
        "try:\n",
        "   del X_train, y_train\n",
        "   del X_test, y_test\n",
        "   print('Clear previously loaded data.')\n",
        "except:\n",
        "   pass\n",
        "\n",
        "X_train, y_train, X_test, y_test = load_CIFAR10(cifar10_dir)\n",
        "\n",
        "# Veamos el tamaño de los datos.\n",
        "print('Training data shape: ', X_train.shape)\n",
        "print('Test data shape: ', X_test.shape)\n"
      ]
    },
    {
      "cell_type": "markdown",
      "source": [
        "Veamos algunas imágenes a ver qué descargamos!"
      ],
      "metadata": {
        "id": "EP61SOQdCIZ2"
      }
    },
    {
      "cell_type": "code",
      "source": [
        "import matplotlib.pyplot as plt\n",
        "# Visualize some examples from the dataset.\n",
        "# We show a few examples of training images from each class.\n",
        "classes = ['plane', 'car', 'bird', 'cat', 'deer', 'dog', 'frog', 'horse', 'ship', 'truck']\n",
        "num_classes = len(classes)\n",
        "samples_per_class = 7\n",
        "for y, cls in enumerate(classes):\n",
        "    idxs = np.flatnonzero(y_train == y)\n",
        "    idxs = np.random.choice(idxs, samples_per_class, replace=False)\n",
        "    for i, idx in enumerate(idxs):\n",
        "        plt_idx = i * num_classes + y + 1\n",
        "        plt.subplot(samples_per_class, num_classes, plt_idx)\n",
        "        plt.imshow(X_train[idx].astype('uint8'))\n",
        "        plt.axis('off')\n",
        "        if i == 0:\n",
        "            plt.title(cls)\n",
        "plt.show()"
      ],
      "metadata": {
        "id": "P8KpioPKCMsE",
        "outputId": "98cb5fd6-97ee-4cb2-db46-f29535ff12f2",
        "colab": {
          "base_uri": "https://localhost:8080/",
          "height": 264
        }
      },
      "execution_count": 39,
      "outputs": [
        {
          "output_type": "display_data",
          "data": {
            "text/plain": [
              "<Figure size 432x288 with 70 Axes>"
            ],
            "image/png": "[encoded data removed]"
          },
          "metadata": {
            "needs_background": "light"
          }
        }
      ]
    },
    {
      "cell_type": "markdown",
      "metadata": {
        "id": "oVHCTjh8OhMM"
      },
      "source": [
        "### Manejo de datos\n",
        "\n",
        "Lo primero que hay que hacer es reformular la data a forma de matriz, con cada fila representado una imagen y cada columna representando un valor de un pixel:"
      ]
    },
    {
      "cell_type": "code",
      "execution_count": 40,
      "metadata": {
        "colab": {
          "base_uri": "https://localhost:8080/"
        },
        "id": "rFaMBRb4OryC",
        "outputId": "352678f9-f3bd-4e97-d4aa-b36b782c2a93"
      },
      "outputs": [
        {
          "output_type": "stream",
          "name": "stdout",
          "text": [
            "(50000, 3072) (10000, 3072)\n"
          ]
        }
      ],
      "source": [
        "# Reorganizar la data en filas\n",
        "X_train = np.reshape(X_train, (X_train.shape[0], -1))\n",
        "X_test = np.reshape(X_test, (X_test.shape[0], -1))\n",
        "print(X_train.shape, X_test.shape)"
      ]
    },
    {
      "cell_type": "markdown",
      "metadata": {
        "id": "vnok1bywRB05"
      },
      "source": [
        "Como no nos va a dar la memoria RAM, reduzcamos la cantidad de datos a 5000 datos conocidos y 500 desconocidos."
      ]
    },
    {
      "cell_type": "code",
      "execution_count": 41,
      "metadata": {
        "id": "PBdRmoOWRKXs"
      },
      "outputs": [],
      "source": [
        "X_train = X_train[:5000,:]\n",
        "X_test = X_test[:500,:]"
      ]
    },
    {
      "cell_type": "markdown",
      "metadata": {
        "id": "zQ8bHYRLO-Pw"
      },
      "source": [
        "### Desarrollo de funciones\n",
        "\n",
        "Ahora vamos a crear 2 funciones para calcular las distancias, que una medida de cuánte se parecen dos imagenes. Una utilizando 2 for loops (iterando entre todos los puntos), calculando para cada punto x e y:\n",
        "\n",
        "$d(x,y) = \\sqrt{\\sum_{i=1}^{n} (x_{i}-y_{i})^{2}}$\n",
        "\n",
        "y otra aprovechando las capacidades de broadcasting de numpy. Si tenemos un vector x, y otro y, la distancia se puede calcular como:\n",
        "\n",
        "$d(x,y) = \\sqrt{ x^{T}x + y^{T}y - 2x^{T}y}$\n",
        "\n",
        "donde a su vez $x^{T}x$ es simplemente es un escalar con la suma de los cuadrados de cada variable del punto.\n",
        "\n",
        "Podemos usar broadcasting para calcular la distancia entre todos los puntos de la siguiente forma:\n",
        "\n",
        "\n",
        "1.   Generar un vector columna con la suma de cuadrados de todos los puntos x en una matriz X\n",
        "2.   Generar un vector fila con la suma de cuadrados de todos los puntos y en una matriz Y\n",
        "3.   Hacer el producto entre X y la transpuesta de Y (tendra las mismas filas de X y las mismas columnas que Y)\n",
        "4.   Sumar las matrices con los vectores, haciendo uso de las capacidades de broadcasting y aplicar la raiz cuadrada.\n",
        "\n",
        "\n",
        "¡Veamos cuanto tarda en correr cada una!"
      ]
    },
    {
      "cell_type": "code",
      "execution_count": 42,
      "metadata": {
        "id": "M3wy9xvtPOkb"
      },
      "outputs": [],
      "source": [
        "def distancias2loops(Xtrain,Xtest):\n",
        "    num_test = Xtest.shape[0]\n",
        "    num_train = Xtrain.shape[0]\n",
        "    dists = np.zeros((num_test, num_train))\n",
        "    for i in range(num_test):\n",
        "      for j in range(num_train):\n",
        "        d_vec = Xtest[i,:]-Xtrain[j,:]\n",
        "        dists[i,j] = np.sqrt(np.sum(d_vec**2))\n",
        "    return dists\n",
        "\n",
        "def distanciasnoloops(Xtrain,Xtest):\n",
        "    num_test = Xtest.shape[0]\n",
        "    num_train = Xtrain.shape[0]\n",
        "    dists = np.zeros((num_test, num_train)) \n",
        "    d_x = Xtest\n",
        "    d_y = np.transpose(Xtrain)\n",
        "    dists = (np.sqrt(np.transpose(np.sum(d_x**2,1)+\n",
        "                                  np.transpose(np.transpose(np.sum(d_y**2,0))\n",
        "                                  -2*np.matmul(d_x,d_y)))))\n",
        "    return dists"
      ]
    },
    {
      "cell_type": "code",
      "execution_count": 43,
      "metadata": {
        "id": "GpraFI26QM2H"
      },
      "outputs": [],
      "source": [
        "def time_function(f, *args):\n",
        "    \"\"\"\n",
        "    Call a function f with args and return the time (in seconds) that it took to execute.\n",
        "    \"\"\"\n",
        "    import time\n",
        "    tic = time.time()\n",
        "    f(*args)\n",
        "    toc = time.time()\n",
        "    return toc - tic"
      ]
    },
    {
      "cell_type": "code",
      "execution_count": 44,
      "metadata": {
        "colab": {
          "base_uri": "https://localhost:8080/"
        },
        "id": "iVSxb8EBQeK6",
        "outputId": "f0524a7f-6730-425e-a4bf-0e0b54ecb808"
      },
      "outputs": [
        {
          "output_type": "stream",
          "name": "stdout",
          "text": [
            "2 loops tarda 44.270763 seconds\n",
            "Sin loops tarda 0.752138 seconds\n"
          ]
        }
      ],
      "source": [
        "two_loop_time = time_function(distancias2loops, X_train,X_test)\n",
        "print('2 loops tarda %f seconds' % two_loop_time)\n",
        "\n",
        "no_loop_time = time_function(distanciasnoloops, X_train,X_test)\n",
        "print('Sin loops tarda %f seconds' % no_loop_time)\n"
      ]
    },
    {
      "cell_type": "markdown",
      "metadata": {
        "id": "OlbH27jSS8mU"
      },
      "source": [
        "Miren la diferencia!"
      ]
    },
    {
      "cell_type": "markdown",
      "metadata": {
        "id": "3BY0Ad4gUFX1"
      },
      "source": [
        "### Verificación\n",
        "\n",
        "Por último, asegurémosnos que las matrices sean iguales y que está todo OK."
      ]
    },
    {
      "cell_type": "code",
      "execution_count": 45,
      "metadata": {
        "colab": {
          "base_uri": "https://localhost:8080/"
        },
        "id": "6nugs-_YTC2H",
        "outputId": "7682c5bb-1771-497e-e707-d57a1065cca5"
      },
      "outputs": [
        {
          "output_type": "stream",
          "name": "stdout",
          "text": [
            "Difference was: 0.000000\n",
            "TODO OK!\n"
          ]
        }
      ],
      "source": [
        "dists = distanciasnoloops(X_train,X_test)\n",
        "dists_two = distancias2loops(X_train,X_test)\n",
        "\n",
        "# Norma de orden 2\n",
        "diferencia = np.linalg.norm(dists - dists_two, ord='fro')\n",
        "print('Difference was: %f' % (diferencia, ))\n",
        "if diferencia < 0.001:\n",
        "    print('TODO OK!')\n",
        "else:\n",
        "    print('OOF, ¿Dónde me equivoqué?')"
      ]
    }
  ],
  "metadata": {
    "colab": {
      "name": "practica_0.ipynb",
      "provenance": [],
      "toc_visible": true,
      "include_colab_link": true
    },
    "kernelspec": {
      "display_name": "Python 3.7.7 64-bit",
      "language": "python",
      "name": "python3"
    },
    "language_info": {
      "name": "python",
      "version": "3.7.7"
    },
    "vscode": {
      "interpreter": {
        "hash": "51fa0a07f6fd5e060b837a66c96d41582ff23df34b38f2e72cb4e3ebfbe13406"
      }
    },
    "gpuClass": "standard"
  },
  "nbformat": 4,
  "nbformat_minor": 0
}