{
  "cells": [
    {
      "cell_type": "markdown",
      "metadata": {
        "colab_type": "text",
        "id": "view-in-github"
      },
      "source": [
        "<a href=\"https://colab.research.google.com/github/mbalbi/ciencia_de_datos/blob/main/notebooks/practica_2.ipynb\" target=\"_parent\"><img src=\"https://colab.research.google.com/assets/colab-badge.svg\" alt=\"Open In Colab\"/></a>"
      ]
    },
    {
      "cell_type": "markdown",
      "metadata": {
        "id": "3Mthz2wgMWM8"
      },
      "source": [
        "<!--NAVIGATION-->\n",
        "< [Intro a Python y Google Colab](../practica_1.ipynb) | [Tabla de contenidos](../README.md) | [Probabilidad y Variables Aleatorias](practica_3.ipynb) >"
      ]
    },
    {
      "cell_type": "markdown",
      "metadata": {
        "id": "VVEKzPeDMhIk"
      },
      "source": [
        "# Probabilidad y Variables Aleatorias\n",
        "\n",
        "En este notebook...xxx\n",
        "\n",
        "En este notebook se usarán las siguientes librerías:"
      ]
    },
    {
      "cell_type": "code",
      "execution_count": null,
      "metadata": {
        "id": "KhdXynPrMVnb"
      },
      "outputs": [],
      "source": [
        "import numpy as np\n",
        "import matplotlib.pyplot as plt"
      ]
    }
  ],
  "metadata": {
    "colab": {
      "include_colab_link": true,
      "name": "practica_1.ipynb",
      "provenance": []
    },
    "kernelspec": {
      "display_name": "Python 3.7.7 64-bit",
      "language": "python",
      "name": "python3"
    },
    "language_info": {
      "name": "python",
      "version": "3.7.7"
    },
    "vscode": {
      "interpreter": {
        "hash": "51fa0a07f6fd5e060b837a66c96d41582ff23df34b38f2e72cb4e3ebfbe13406"
      }
    }
  },
  "nbformat": 4,
  "nbformat_minor": 0
}
