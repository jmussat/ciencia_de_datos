{
  "nbformat": 4,
  "nbformat_minor": 0,
  "metadata": {
    "colab": {
      "name": "practica_0.ipynb",
      "provenance": [],
      "toc_visible": true,
      "include_colab_link": true
    },
    "kernelspec": {
      "name": "python3",
      "display_name": "Python 3"
    },
    "language_info": {
      "name": "python"
    }
  },
  "cells": [
    {
      "cell_type": "markdown",
      "metadata": {
        "id": "view-in-github",
        "colab_type": "text"
      },
      "source": [
        "<a href=\"https://colab.research.google.com/github/mbalbi/ciencia_de_datos/blob/main/notebooks/practica_0.ipynb\" target=\"_parent\"><img src=\"https://colab.research.google.com/assets/colab-badge.svg\" alt=\"Open In Colab\"/></a>"
      ]
    },
    {
      "cell_type": "markdown",
      "source": [
        "<!--NAVIGATION-->\n",
        "| [Tabla de contenidos](../README.md) | [Probabilidad y Variables Aleatorias](practica_1.ipynb) >"
      ],
      "metadata": {
        "id": "XfJ1dOxFMB55"
      }
    },
    {
      "cell_type": "markdown",
      "source": [
        "# Introducción a Python y Google Colab\n",
        "\n",
        "En este notebook...\n",
        "\n",
        "En este notebook se usarán las siguientes librerías:"
      ],
      "metadata": {
        "id": "tDIdgfOvL5sG"
      }
    },
    {
      "cell_type": "code",
      "source": [
        "asdf=123"
      ],
      "metadata": {
        "id": "mNWyi8Pq73KM"
      },
      "execution_count": null,
      "outputs": []
    }
  ]
}